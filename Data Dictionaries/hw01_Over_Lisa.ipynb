{
 "cells": [
  {
   "cell_type": "markdown",
   "metadata": {},
   "source": [
    "#### Lisa Over\n",
    "CMPINF 2110<br>\n",
    "Homework 1<br>\n",
    "January 26, 2021"
   ]
  },
  {
   "cell_type": "code",
   "execution_count": 2,
   "metadata": {},
   "outputs": [
    {
     "name": "stdout",
     "output_type": "stream",
     "text": [
      "/opt/anaconda3/envs/cmpinf_2110/bin/python\n"
     ]
    }
   ],
   "source": [
    "import sys\n",
    "print(sys.executable)"
   ]
  },
  {
   "cell_type": "code",
   "execution_count": 3,
   "metadata": {},
   "outputs": [],
   "source": [
    "import pandas as pd"
   ]
  },
  {
   "cell_type": "markdown",
   "metadata": {},
   "source": [
    "## Women of 2020\n",
    "This dataset contains information about 100 inspiring and influential women from all over the world who won an award in 2020. A data dictionary exists and provides the name of the six variables in the dataset, the data type of each variable (which are all character), and a description of each variable. I would feel comfortable accessing and using this dataset. Each record is one woman, and one of the variables is a description of that woman. I think it would be interesting to create a word map or to do a topic analysis with graphs to visualize the different achievements made by these women as described in the description column."
   ]
  },
  {
   "cell_type": "markdown",
   "metadata": {},
   "source": [
    "#### women.csv \n",
    "Read the raw data in from tidytuesday site."
   ]
  },
  {
   "cell_type": "code",
   "execution_count": 4,
   "metadata": {},
   "outputs": [],
   "source": [
    "data_url = 'https://raw.githubusercontent.com/rfordatascience/tidytuesday/master/data/2020/2020-12-08/women.csv'"
   ]
  },
  {
   "cell_type": "code",
   "execution_count": 5,
   "metadata": {},
   "outputs": [],
   "source": [
    "women_df = pd.read_csv(data_url)"
   ]
  },
  {
   "cell_type": "markdown",
   "metadata": {},
   "source": [
    "#### Data description\n",
    "There are 100 rows, one for each woman, and six variables: name, img (link to image), category, country, role, and description. The variables are consistent with the Data Dictionary. All variables are pandas strings: Dtype object or dtype('O'). There are no missing values in this dataset. "
   ]
  },
  {
   "cell_type": "code",
   "execution_count": 6,
   "metadata": {},
   "outputs": [
    {
     "data": {
      "text/plain": [
       "(100, 6)"
      ]
     },
     "execution_count": 6,
     "metadata": {},
     "output_type": "execute_result"
    }
   ],
   "source": [
    "women_df.shape"
   ]
  },
  {
   "cell_type": "code",
   "execution_count": 7,
   "metadata": {},
   "outputs": [
    {
     "data": {
      "text/html": [
       "<div>\n",
       "<style scoped>\n",
       "    .dataframe tbody tr th:only-of-type {\n",
       "        vertical-align: middle;\n",
       "    }\n",
       "\n",
       "    .dataframe tbody tr th {\n",
       "        vertical-align: top;\n",
       "    }\n",
       "\n",
       "    .dataframe thead th {\n",
       "        text-align: right;\n",
       "    }\n",
       "</style>\n",
       "<table border=\"1\" class=\"dataframe\">\n",
       "  <thead>\n",
       "    <tr style=\"text-align: right;\">\n",
       "      <th></th>\n",
       "      <th>name</th>\n",
       "      <th>img</th>\n",
       "      <th>category</th>\n",
       "      <th>country</th>\n",
       "      <th>role</th>\n",
       "      <th>description</th>\n",
       "    </tr>\n",
       "  </thead>\n",
       "  <tbody>\n",
       "    <tr>\n",
       "      <th>0</th>\n",
       "      <td>Unsung hero</td>\n",
       "      <td>https://ichef.bbci.co.uk/news/300/cpsprodpb/F2...</td>\n",
       "      <td>All</td>\n",
       "      <td>Worldwide</td>\n",
       "      <td>Making a difference</td>\n",
       "      <td>In an extraordinary year, when countless women...</td>\n",
       "    </tr>\n",
       "    <tr>\n",
       "      <th>1</th>\n",
       "      <td>Loza Abera Geinore</td>\n",
       "      <td>https://ichef.bbci.co.uk/news/300/cpsprodpb/15...</td>\n",
       "      <td>Leadership</td>\n",
       "      <td>Ethiopia</td>\n",
       "      <td>Footballer</td>\n",
       "      <td>Loza Abera Geinore was born and raised in a sm...</td>\n",
       "    </tr>\n",
       "    <tr>\n",
       "      <th>2</th>\n",
       "      <td>Houda Abouz</td>\n",
       "      <td>https://ichef.bbci.co.uk/news/300/cpsprodpb/14...</td>\n",
       "      <td>Creativity</td>\n",
       "      <td>Morocco</td>\n",
       "      <td>Rapper</td>\n",
       "      <td>Houda Abouz, aka Khtek, is a Moroccan rapper k...</td>\n",
       "    </tr>\n",
       "    <tr>\n",
       "      <th>3</th>\n",
       "      <td>Christina Adane</td>\n",
       "      <td>https://ichef.bbci.co.uk/news/300/cpsprodpb/4A...</td>\n",
       "      <td>Leadership</td>\n",
       "      <td>Netherlands</td>\n",
       "      <td>Campaigner</td>\n",
       "      <td>Christina was behind the UK petition for free ...</td>\n",
       "    </tr>\n",
       "    <tr>\n",
       "      <th>4</th>\n",
       "      <td>Yvonne Aki-Sawyerr</td>\n",
       "      <td>https://ichef.bbci.co.uk/news/300/cpsprodpb/13...</td>\n",
       "      <td>Leadership</td>\n",
       "      <td>Sierra Leone</td>\n",
       "      <td>Mayor</td>\n",
       "      <td>Mayor Yvonne Aki-Sawyerr OBE is best known for...</td>\n",
       "    </tr>\n",
       "  </tbody>\n",
       "</table>\n",
       "</div>"
      ],
      "text/plain": [
       "                 name                                                img  \\\n",
       "0         Unsung hero  https://ichef.bbci.co.uk/news/300/cpsprodpb/F2...   \n",
       "1  Loza Abera Geinore  https://ichef.bbci.co.uk/news/300/cpsprodpb/15...   \n",
       "2         Houda Abouz  https://ichef.bbci.co.uk/news/300/cpsprodpb/14...   \n",
       "3     Christina Adane  https://ichef.bbci.co.uk/news/300/cpsprodpb/4A...   \n",
       "4  Yvonne Aki-Sawyerr  https://ichef.bbci.co.uk/news/300/cpsprodpb/13...   \n",
       "\n",
       "     category       country                 role  \\\n",
       "0         All     Worldwide  Making a difference   \n",
       "1  Leadership      Ethiopia           Footballer   \n",
       "2  Creativity       Morocco               Rapper   \n",
       "3  Leadership   Netherlands           Campaigner   \n",
       "4  Leadership  Sierra Leone                Mayor   \n",
       "\n",
       "                                         description  \n",
       "0  In an extraordinary year, when countless women...  \n",
       "1  Loza Abera Geinore was born and raised in a sm...  \n",
       "2  Houda Abouz, aka Khtek, is a Moroccan rapper k...  \n",
       "3  Christina was behind the UK petition for free ...  \n",
       "4  Mayor Yvonne Aki-Sawyerr OBE is best known for...  "
      ]
     },
     "execution_count": 7,
     "metadata": {},
     "output_type": "execute_result"
    }
   ],
   "source": [
    "women_df.head()"
   ]
  },
  {
   "cell_type": "markdown",
   "metadata": {},
   "source": [
    "Display missing observations and data types for each variable."
   ]
  },
  {
   "cell_type": "code",
   "execution_count": 8,
   "metadata": {},
   "outputs": [
    {
     "name": "stdout",
     "output_type": "stream",
     "text": [
      "<class 'pandas.core.frame.DataFrame'>\n",
      "RangeIndex: 100 entries, 0 to 99\n",
      "Data columns (total 6 columns):\n",
      " #   Column       Non-Null Count  Dtype \n",
      "---  ------       --------------  ----- \n",
      " 0   name         100 non-null    object\n",
      " 1   img          100 non-null    object\n",
      " 2   category     100 non-null    object\n",
      " 3   country      100 non-null    object\n",
      " 4   role         100 non-null    object\n",
      " 5   description  100 non-null    object\n",
      "dtypes: object(6)\n",
      "memory usage: 4.8+ KB\n"
     ]
    }
   ],
   "source": [
    "women_df.info()"
   ]
  },
  {
   "cell_type": "code",
   "execution_count": 9,
   "metadata": {},
   "outputs": [
    {
     "name": "stdout",
     "output_type": "stream",
     "text": [
      "<class 'str'>\n"
     ]
    }
   ],
   "source": [
    "print(type(women_df.name[0]))"
   ]
  },
  {
   "cell_type": "code",
   "execution_count": 10,
   "metadata": {},
   "outputs": [
    {
     "data": {
      "text/plain": [
       "dtype('O')"
      ]
     },
     "execution_count": 10,
     "metadata": {},
     "output_type": "execute_result"
    }
   ],
   "source": [
    "women_df.name.dtype"
   ]
  },
  {
   "cell_type": "markdown",
   "metadata": {},
   "source": [
    "Display number of unique observations per variable and display value counts for certain variables."
   ]
  },
  {
   "cell_type": "code",
   "execution_count": 11,
   "metadata": {},
   "outputs": [
    {
     "data": {
      "text/plain": [
       "name           100\n",
       "img            100\n",
       "category         5\n",
       "country         67\n",
       "role            75\n",
       "description    100\n",
       "dtype: int64"
      ]
     },
     "execution_count": 11,
     "metadata": {},
     "output_type": "execute_result"
    }
   ],
   "source": [
    "women_df.nunique()"
   ]
  },
  {
   "cell_type": "code",
   "execution_count": 12,
   "metadata": {},
   "outputs": [
    {
     "data": {
      "text/plain": [
       "Knowledge     32\n",
       "Leadership    29\n",
       "Creativity    21\n",
       "Identity      17\n",
       "All            1\n",
       "Name: category, dtype: int64"
      ]
     },
     "execution_count": 12,
     "metadata": {},
     "output_type": "execute_result"
    }
   ],
   "source": [
    "women_df.category.value_counts()"
   ]
  },
  {
   "cell_type": "code",
   "execution_count": 13,
   "metadata": {},
   "outputs": [
    {
     "data": {
      "text/plain": [
       "US          9\n",
       "UK          6\n",
       "Thailand    3\n",
       "India       3\n",
       "Nigeria     2\n",
       "           ..\n",
       "Nepal       1\n",
       "India       1\n",
       "Ecuador     1\n",
       "Mexico      1\n",
       "Belarus     1\n",
       "Name: country, Length: 67, dtype: int64"
      ]
     },
     "execution_count": 13,
     "metadata": {},
     "output_type": "execute_result"
    }
   ],
   "source": [
    "women_df.country.value_counts()"
   ]
  },
  {
   "cell_type": "code",
   "execution_count": 14,
   "metadata": {},
   "outputs": [
    {
     "data": {
      "text/plain": [
       "Activist                6\n",
       "Disability activist     4\n",
       "Campaigner              4\n",
       "Scientist               3\n",
       "Musician                3\n",
       "                       ..\n",
       "Union leader            1\n",
       "Rapper                  1\n",
       "Global health leader    1\n",
       "Archaeologist           1\n",
       "Waorani leader          1\n",
       "Name: role, Length: 75, dtype: int64"
      ]
     },
     "execution_count": 14,
     "metadata": {},
     "output_type": "execute_result"
    }
   ],
   "source": [
    "women_df.role.value_counts()"
   ]
  },
  {
   "cell_type": "markdown",
   "metadata": {},
   "source": [
    "## European energy\n",
    "This entry contains two files that provide information about energy use in Europe: energy_types and country_totals. There is a data dictionary for each dataset, but there is no difference between the variables and variable descriptions. They each specify the same seven variables with the same datatypes and descriptions. The only difference is that each file has a different statement before the data dictionary table. I feel comfortable accessing this data and actually am interested in finding out what is in each file and how the files relate to each other, if at all. "
   ]
  },
  {
   "cell_type": "markdown",
   "metadata": {},
   "source": [
    "#### energy_types.csv \n",
    "Read the raw data in from tidytuesday site."
   ]
  },
  {
   "cell_type": "code",
   "execution_count": 15,
   "metadata": {},
   "outputs": [],
   "source": [
    "data_url = 'https://raw.githubusercontent.com/rfordatascience/tidytuesday/master/data/2020/2020-08-04/energy_types.csv'"
   ]
  },
  {
   "cell_type": "code",
   "execution_count": 16,
   "metadata": {},
   "outputs": [],
   "source": [
    "energy_df = pd.read_csv(data_url)"
   ]
  },
  {
   "cell_type": "markdown",
   "metadata": {},
   "source": [
    "#### Data description\n",
    "There are 296 rows and seven variables: country (2-character abbreviation), country_name, type, level, 2016, 2017, 2018. Country, country_name, and type are pandas strings, and the year columns are float.\n",
    "\n",
    "The statement in the data dictionary for this file is, \"Limited to Level 1 or 2 production by type - either conventional thermal (fossil fuels), nuclear, hydro, wind, solar, geothermal, or other.\" After looking at the file, this statement is referring to the type column, which indicates the energy type as one of eight types: solar, conventional thermal, wind, pumped hydro power, other, hydro, geothermal, and nuclear. This data has country totals for the eight energy types for three years from 2016 to 2018. I would rename this file to be country_totals_by_energy_type. I would also move the information from the note into the table. The description of the level variable already specifies level 1 or 2, but the description of the type variable could specify that it is a type of energy and list the possible energy type values.\n",
    "\n",
    "There are only eight missing values in this dataset, all in the country_name column, which could probably be filled in easily because the country field is not missing.  "
   ]
  },
  {
   "cell_type": "code",
   "execution_count": 17,
   "metadata": {},
   "outputs": [
    {
     "data": {
      "text/plain": [
       "(296, 7)"
      ]
     },
     "execution_count": 17,
     "metadata": {},
     "output_type": "execute_result"
    }
   ],
   "source": [
    "energy_df.shape"
   ]
  },
  {
   "cell_type": "code",
   "execution_count": 18,
   "metadata": {},
   "outputs": [
    {
     "data": {
      "text/html": [
       "<div>\n",
       "<style scoped>\n",
       "    .dataframe tbody tr th:only-of-type {\n",
       "        vertical-align: middle;\n",
       "    }\n",
       "\n",
       "    .dataframe tbody tr th {\n",
       "        vertical-align: top;\n",
       "    }\n",
       "\n",
       "    .dataframe thead th {\n",
       "        text-align: right;\n",
       "    }\n",
       "</style>\n",
       "<table border=\"1\" class=\"dataframe\">\n",
       "  <thead>\n",
       "    <tr style=\"text-align: right;\">\n",
       "      <th></th>\n",
       "      <th>country</th>\n",
       "      <th>country_name</th>\n",
       "      <th>type</th>\n",
       "      <th>level</th>\n",
       "      <th>2016</th>\n",
       "      <th>2017</th>\n",
       "      <th>2018</th>\n",
       "    </tr>\n",
       "  </thead>\n",
       "  <tbody>\n",
       "    <tr>\n",
       "      <th>0</th>\n",
       "      <td>BE</td>\n",
       "      <td>Belgium</td>\n",
       "      <td>Conventional thermal</td>\n",
       "      <td>Level 1</td>\n",
       "      <td>30728.0</td>\n",
       "      <td>31316.0</td>\n",
       "      <td>30092.635</td>\n",
       "    </tr>\n",
       "    <tr>\n",
       "      <th>1</th>\n",
       "      <td>BE</td>\n",
       "      <td>Belgium</td>\n",
       "      <td>Nuclear</td>\n",
       "      <td>Level 1</td>\n",
       "      <td>41430.0</td>\n",
       "      <td>40128.5</td>\n",
       "      <td>26995.628</td>\n",
       "    </tr>\n",
       "    <tr>\n",
       "      <th>2</th>\n",
       "      <td>BE</td>\n",
       "      <td>Belgium</td>\n",
       "      <td>Hydro</td>\n",
       "      <td>Level 1</td>\n",
       "      <td>1476.0</td>\n",
       "      <td>1360.9</td>\n",
       "      <td>1239.248</td>\n",
       "    </tr>\n",
       "    <tr>\n",
       "      <th>3</th>\n",
       "      <td>BE</td>\n",
       "      <td>Belgium</td>\n",
       "      <td>Pumped hydro power</td>\n",
       "      <td>Level 2</td>\n",
       "      <td>1110.0</td>\n",
       "      <td>1093.2</td>\n",
       "      <td>983.190</td>\n",
       "    </tr>\n",
       "    <tr>\n",
       "      <th>4</th>\n",
       "      <td>BE</td>\n",
       "      <td>Belgium</td>\n",
       "      <td>Wind</td>\n",
       "      <td>Level 1</td>\n",
       "      <td>5340.0</td>\n",
       "      <td>6387.9</td>\n",
       "      <td>7177.346</td>\n",
       "    </tr>\n",
       "  </tbody>\n",
       "</table>\n",
       "</div>"
      ],
      "text/plain": [
       "  country country_name                  type    level     2016     2017  \\\n",
       "0      BE      Belgium  Conventional thermal  Level 1  30728.0  31316.0   \n",
       "1      BE      Belgium               Nuclear  Level 1  41430.0  40128.5   \n",
       "2      BE      Belgium                 Hydro  Level 1   1476.0   1360.9   \n",
       "3      BE      Belgium    Pumped hydro power  Level 2   1110.0   1093.2   \n",
       "4      BE      Belgium                  Wind  Level 1   5340.0   6387.9   \n",
       "\n",
       "        2018  \n",
       "0  30092.635  \n",
       "1  26995.628  \n",
       "2   1239.248  \n",
       "3    983.190  \n",
       "4   7177.346  "
      ]
     },
     "execution_count": 18,
     "metadata": {},
     "output_type": "execute_result"
    }
   ],
   "source": [
    "energy_df.head()"
   ]
  },
  {
   "cell_type": "markdown",
   "metadata": {},
   "source": [
    "Display missing observations and data types for each variable."
   ]
  },
  {
   "cell_type": "code",
   "execution_count": 19,
   "metadata": {},
   "outputs": [
    {
     "name": "stdout",
     "output_type": "stream",
     "text": [
      "<class 'pandas.core.frame.DataFrame'>\n",
      "RangeIndex: 296 entries, 0 to 295\n",
      "Data columns (total 7 columns):\n",
      " #   Column        Non-Null Count  Dtype  \n",
      "---  ------        --------------  -----  \n",
      " 0   country       296 non-null    object \n",
      " 1   country_name  288 non-null    object \n",
      " 2   type          296 non-null    object \n",
      " 3   level         296 non-null    object \n",
      " 4   2016          296 non-null    float64\n",
      " 5   2017          296 non-null    float64\n",
      " 6   2018          296 non-null    float64\n",
      "dtypes: float64(3), object(4)\n",
      "memory usage: 16.3+ KB\n"
     ]
    }
   ],
   "source": [
    "energy_df.info()"
   ]
  },
  {
   "cell_type": "code",
   "execution_count": 20,
   "metadata": {},
   "outputs": [
    {
     "name": "stdout",
     "output_type": "stream",
     "text": [
      "country         0\n",
      "country_name    8\n",
      "type            0\n",
      "level           0\n",
      "2016            0\n",
      "2017            0\n",
      "2018            0\n",
      "dtype: int64\n"
     ]
    }
   ],
   "source": [
    "print(energy_df.isna().sum())"
   ]
  },
  {
   "cell_type": "code",
   "execution_count": 34,
   "metadata": {},
   "outputs": [
    {
     "data": {
      "text/html": [
       "<div>\n",
       "<style scoped>\n",
       "    .dataframe tbody tr th:only-of-type {\n",
       "        vertical-align: middle;\n",
       "    }\n",
       "\n",
       "    .dataframe tbody tr th {\n",
       "        vertical-align: top;\n",
       "    }\n",
       "\n",
       "    .dataframe thead th {\n",
       "        text-align: right;\n",
       "    }\n",
       "</style>\n",
       "<table border=\"1\" class=\"dataframe\">\n",
       "  <thead>\n",
       "    <tr style=\"text-align: right;\">\n",
       "      <th></th>\n",
       "      <th>country</th>\n",
       "      <th>country_name</th>\n",
       "      <th>type</th>\n",
       "      <th>level</th>\n",
       "      <th>2016</th>\n",
       "      <th>2017</th>\n",
       "      <th>2018</th>\n",
       "    </tr>\n",
       "  </thead>\n",
       "  <tbody>\n",
       "    <tr>\n",
       "      <th>216</th>\n",
       "      <td>UK</td>\n",
       "      <td>NaN</td>\n",
       "      <td>Conventional thermal</td>\n",
       "      <td>Level 1</td>\n",
       "      <td>203165.188</td>\n",
       "      <td>189296.528</td>\n",
       "      <td>180837.905</td>\n",
       "    </tr>\n",
       "    <tr>\n",
       "      <th>217</th>\n",
       "      <td>UK</td>\n",
       "      <td>NaN</td>\n",
       "      <td>Nuclear</td>\n",
       "      <td>Level 1</td>\n",
       "      <td>65149.080</td>\n",
       "      <td>63886.860</td>\n",
       "      <td>59097.753</td>\n",
       "    </tr>\n",
       "    <tr>\n",
       "      <th>218</th>\n",
       "      <td>UK</td>\n",
       "      <td>NaN</td>\n",
       "      <td>Hydro</td>\n",
       "      <td>Level 1</td>\n",
       "      <td>8286.510</td>\n",
       "      <td>8723.430</td>\n",
       "      <td>7678.659</td>\n",
       "    </tr>\n",
       "    <tr>\n",
       "      <th>219</th>\n",
       "      <td>UK</td>\n",
       "      <td>NaN</td>\n",
       "      <td>Pumped hydro power</td>\n",
       "      <td>Level 2</td>\n",
       "      <td>2948.890</td>\n",
       "      <td>2862.010</td>\n",
       "      <td>2515.998</td>\n",
       "    </tr>\n",
       "    <tr>\n",
       "      <th>220</th>\n",
       "      <td>UK</td>\n",
       "      <td>NaN</td>\n",
       "      <td>Wind</td>\n",
       "      <td>Level 1</td>\n",
       "      <td>37262.699</td>\n",
       "      <td>50003.654</td>\n",
       "      <td>56903.961</td>\n",
       "    </tr>\n",
       "    <tr>\n",
       "      <th>221</th>\n",
       "      <td>UK</td>\n",
       "      <td>NaN</td>\n",
       "      <td>Solar</td>\n",
       "      <td>Level 1</td>\n",
       "      <td>10410.948</td>\n",
       "      <td>11524.870</td>\n",
       "      <td>12857.349</td>\n",
       "    </tr>\n",
       "    <tr>\n",
       "      <th>222</th>\n",
       "      <td>UK</td>\n",
       "      <td>NaN</td>\n",
       "      <td>Geothermal</td>\n",
       "      <td>Level 1</td>\n",
       "      <td>0.000</td>\n",
       "      <td>0.000</td>\n",
       "      <td>0.000</td>\n",
       "    </tr>\n",
       "    <tr>\n",
       "      <th>223</th>\n",
       "      <td>UK</td>\n",
       "      <td>NaN</td>\n",
       "      <td>Other</td>\n",
       "      <td>Level 1</td>\n",
       "      <td>0.000</td>\n",
       "      <td>0.000</td>\n",
       "      <td>0.000</td>\n",
       "    </tr>\n",
       "  </tbody>\n",
       "</table>\n",
       "</div>"
      ],
      "text/plain": [
       "    country country_name                  type    level        2016  \\\n",
       "216      UK          NaN  Conventional thermal  Level 1  203165.188   \n",
       "217      UK          NaN               Nuclear  Level 1   65149.080   \n",
       "218      UK          NaN                 Hydro  Level 1    8286.510   \n",
       "219      UK          NaN    Pumped hydro power  Level 2    2948.890   \n",
       "220      UK          NaN                  Wind  Level 1   37262.699   \n",
       "221      UK          NaN                 Solar  Level 1   10410.948   \n",
       "222      UK          NaN            Geothermal  Level 1       0.000   \n",
       "223      UK          NaN                 Other  Level 1       0.000   \n",
       "\n",
       "           2017        2018  \n",
       "216  189296.528  180837.905  \n",
       "217   63886.860   59097.753  \n",
       "218    8723.430    7678.659  \n",
       "219    2862.010    2515.998  \n",
       "220   50003.654   56903.961  \n",
       "221   11524.870   12857.349  \n",
       "222       0.000       0.000  \n",
       "223       0.000       0.000  "
      ]
     },
     "execution_count": 34,
     "metadata": {},
     "output_type": "execute_result"
    }
   ],
   "source": [
    "missing_df = energy_df.loc[energy_df['country_name'].isna()]\n",
    "missing_df"
   ]
  },
  {
   "cell_type": "markdown",
   "metadata": {},
   "source": [
    "Display number of unique observations per variable and display value counts for certain variables."
   ]
  },
  {
   "cell_type": "code",
   "execution_count": 35,
   "metadata": {},
   "outputs": [
    {
     "data": {
      "text/plain": [
       "country          37\n",
       "country_name     36\n",
       "type              8\n",
       "level             2\n",
       "2016            194\n",
       "2017            203\n",
       "2018            184\n",
       "dtype: int64"
      ]
     },
     "execution_count": 35,
     "metadata": {},
     "output_type": "execute_result"
    }
   ],
   "source": [
    "energy_df.nunique()"
   ]
  },
  {
   "cell_type": "code",
   "execution_count": 36,
   "metadata": {},
   "outputs": [
    {
     "data": {
      "text/plain": [
       "Nuclear                 37\n",
       "Conventional thermal    37\n",
       "Solar                   37\n",
       "Geothermal              37\n",
       "Hydro                   37\n",
       "Wind                    37\n",
       "Pumped hydro power      37\n",
       "Other                   37\n",
       "Name: type, dtype: int64"
      ]
     },
     "execution_count": 36,
     "metadata": {},
     "output_type": "execute_result"
    }
   ],
   "source": [
    "energy_df.type.value_counts()"
   ]
  },
  {
   "cell_type": "markdown",
   "metadata": {},
   "source": [
    "#### country_totals .csv\n",
    "Read the raw data in from tidytuesday site."
   ]
  },
  {
   "cell_type": "code",
   "execution_count": 37,
   "metadata": {},
   "outputs": [],
   "source": [
    "data_url = 'https://raw.githubusercontent.com/rfordatascience/tidytuesday/master/data/2020/2020-08-04/country_totals.csv'"
   ]
  },
  {
   "cell_type": "code",
   "execution_count": 38,
   "metadata": {},
   "outputs": [],
   "source": [
    "country_df = pd.read_csv(data_url)"
   ]
  },
  {
   "cell_type": "markdown",
   "metadata": {},
   "source": [
    "#### Data description\n",
    "There are 185 rows and seven variables: country (2-character abbreviation), country_name, type, level, 2016, 2017, 2018. Country, country_name, and type are pandas strings, and the year columns are float.\n",
    "\n",
    "The statement in the data dictionary for this file is, \"Limited to total net production, along with imports, exports, energy lost, and energy supplied (net + import - export - energy absorbed by pumping).\" This statement is referring to the type column, which indicates the energy production type with the following values: energy absorbed by pumping, total net production, exports, energy supplied, and imports. This data has country totals for the eight energy production types for three years from 2016 to 2018. I would have named this file country_totals_by_production_type. I would also move the information from the note into the table. The description of the level variable already specifies level 1 or 2, but the description of the type variable could specify that it is energy production type and list the possible energy production values.\n",
    "\n",
    "There are six missing values in this dataset, five in the country_name column and one in the 2016 column. It is probably possible to fill in the missing country_name values because the country field has no missing values. And, because energy gain (total net production + imports) minus energy loss (exports + energy absorbed by pumping) equals the total net production gain, I think the missing 2016 value could be calculated from the other values for that country.  "
   ]
  },
  {
   "cell_type": "code",
   "execution_count": 39,
   "metadata": {},
   "outputs": [
    {
     "data": {
      "text/plain": [
       "(185, 7)"
      ]
     },
     "execution_count": 39,
     "metadata": {},
     "output_type": "execute_result"
    }
   ],
   "source": [
    "country_df.shape"
   ]
  },
  {
   "cell_type": "code",
   "execution_count": 40,
   "metadata": {},
   "outputs": [
    {
     "data": {
      "text/html": [
       "<div>\n",
       "<style scoped>\n",
       "    .dataframe tbody tr th:only-of-type {\n",
       "        vertical-align: middle;\n",
       "    }\n",
       "\n",
       "    .dataframe tbody tr th {\n",
       "        vertical-align: top;\n",
       "    }\n",
       "\n",
       "    .dataframe thead th {\n",
       "        text-align: right;\n",
       "    }\n",
       "</style>\n",
       "<table border=\"1\" class=\"dataframe\">\n",
       "  <thead>\n",
       "    <tr style=\"text-align: right;\">\n",
       "      <th></th>\n",
       "      <th>country</th>\n",
       "      <th>country_name</th>\n",
       "      <th>type</th>\n",
       "      <th>level</th>\n",
       "      <th>2016</th>\n",
       "      <th>2017</th>\n",
       "      <th>2018</th>\n",
       "    </tr>\n",
       "  </thead>\n",
       "  <tbody>\n",
       "    <tr>\n",
       "      <th>0</th>\n",
       "      <td>BE</td>\n",
       "      <td>Belgium</td>\n",
       "      <td>Total net production</td>\n",
       "      <td>Total</td>\n",
       "      <td>82520.0</td>\n",
       "      <td>82948.5</td>\n",
       "      <td>69212.347</td>\n",
       "    </tr>\n",
       "    <tr>\n",
       "      <th>1</th>\n",
       "      <td>BE</td>\n",
       "      <td>Belgium</td>\n",
       "      <td>Imports</td>\n",
       "      <td>Total</td>\n",
       "      <td>14648.0</td>\n",
       "      <td>14189.4</td>\n",
       "      <td>21635.908</td>\n",
       "    </tr>\n",
       "    <tr>\n",
       "      <th>2</th>\n",
       "      <td>BE</td>\n",
       "      <td>Belgium</td>\n",
       "      <td>Exports</td>\n",
       "      <td>Total</td>\n",
       "      <td>8465.0</td>\n",
       "      <td>8167.8</td>\n",
       "      <td>4308.347</td>\n",
       "    </tr>\n",
       "    <tr>\n",
       "      <th>3</th>\n",
       "      <td>BE</td>\n",
       "      <td>Belgium</td>\n",
       "      <td>Energy absorbed by pumping</td>\n",
       "      <td>Total</td>\n",
       "      <td>1475.0</td>\n",
       "      <td>1485.4</td>\n",
       "      <td>1347.901</td>\n",
       "    </tr>\n",
       "    <tr>\n",
       "      <th>4</th>\n",
       "      <td>BE</td>\n",
       "      <td>Belgium</td>\n",
       "      <td>Energy supplied</td>\n",
       "      <td>Total</td>\n",
       "      <td>87228.0</td>\n",
       "      <td>87484.7</td>\n",
       "      <td>85192.007</td>\n",
       "    </tr>\n",
       "  </tbody>\n",
       "</table>\n",
       "</div>"
      ],
      "text/plain": [
       "  country country_name                        type  level     2016     2017  \\\n",
       "0      BE      Belgium        Total net production  Total  82520.0  82948.5   \n",
       "1      BE      Belgium                     Imports  Total  14648.0  14189.4   \n",
       "2      BE      Belgium                     Exports  Total   8465.0   8167.8   \n",
       "3      BE      Belgium  Energy absorbed by pumping  Total   1475.0   1485.4   \n",
       "4      BE      Belgium             Energy supplied  Total  87228.0  87484.7   \n",
       "\n",
       "        2018  \n",
       "0  69212.347  \n",
       "1  21635.908  \n",
       "2   4308.347  \n",
       "3   1347.901  \n",
       "4  85192.007  "
      ]
     },
     "execution_count": 40,
     "metadata": {},
     "output_type": "execute_result"
    }
   ],
   "source": [
    "country_df.head()"
   ]
  },
  {
   "cell_type": "markdown",
   "metadata": {},
   "source": [
    "Display missing observations and data types for each variable."
   ]
  },
  {
   "cell_type": "code",
   "execution_count": 41,
   "metadata": {},
   "outputs": [
    {
     "name": "stdout",
     "output_type": "stream",
     "text": [
      "<class 'pandas.core.frame.DataFrame'>\n",
      "RangeIndex: 185 entries, 0 to 184\n",
      "Data columns (total 7 columns):\n",
      " #   Column        Non-Null Count  Dtype  \n",
      "---  ------        --------------  -----  \n",
      " 0   country       185 non-null    object \n",
      " 1   country_name  180 non-null    object \n",
      " 2   type          185 non-null    object \n",
      " 3   level         185 non-null    object \n",
      " 4   2016          184 non-null    float64\n",
      " 5   2017          185 non-null    float64\n",
      " 6   2018          185 non-null    float64\n",
      "dtypes: float64(3), object(4)\n",
      "memory usage: 10.2+ KB\n"
     ]
    }
   ],
   "source": [
    "country_df.info()"
   ]
  },
  {
   "cell_type": "code",
   "execution_count": 42,
   "metadata": {},
   "outputs": [
    {
     "name": "stdout",
     "output_type": "stream",
     "text": [
      "country         0\n",
      "country_name    5\n",
      "type            0\n",
      "level           0\n",
      "2016            1\n",
      "2017            0\n",
      "2018            0\n",
      "dtype: int64\n"
     ]
    }
   ],
   "source": [
    "print(country_df.isna().sum())"
   ]
  },
  {
   "cell_type": "code",
   "execution_count": 47,
   "metadata": {},
   "outputs": [
    {
     "data": {
      "text/html": [
       "<div>\n",
       "<style scoped>\n",
       "    .dataframe tbody tr th:only-of-type {\n",
       "        vertical-align: middle;\n",
       "    }\n",
       "\n",
       "    .dataframe tbody tr th {\n",
       "        vertical-align: top;\n",
       "    }\n",
       "\n",
       "    .dataframe thead th {\n",
       "        text-align: right;\n",
       "    }\n",
       "</style>\n",
       "<table border=\"1\" class=\"dataframe\">\n",
       "  <thead>\n",
       "    <tr style=\"text-align: right;\">\n",
       "      <th></th>\n",
       "      <th>country</th>\n",
       "      <th>country_name</th>\n",
       "      <th>type</th>\n",
       "      <th>level</th>\n",
       "      <th>2016</th>\n",
       "      <th>2017</th>\n",
       "      <th>2018</th>\n",
       "    </tr>\n",
       "  </thead>\n",
       "  <tbody>\n",
       "    <tr>\n",
       "      <th>135</th>\n",
       "      <td>UK</td>\n",
       "      <td>NaN</td>\n",
       "      <td>Total net production</td>\n",
       "      <td>Total</td>\n",
       "      <td>324274.434</td>\n",
       "      <td>323439.536</td>\n",
       "      <td>317375.629</td>\n",
       "    </tr>\n",
       "    <tr>\n",
       "      <th>136</th>\n",
       "      <td>UK</td>\n",
       "      <td>NaN</td>\n",
       "      <td>Imports</td>\n",
       "      <td>Total</td>\n",
       "      <td>20017.923</td>\n",
       "      <td>18166.980</td>\n",
       "      <td>21332.415</td>\n",
       "    </tr>\n",
       "    <tr>\n",
       "      <th>137</th>\n",
       "      <td>UK</td>\n",
       "      <td>NaN</td>\n",
       "      <td>Exports</td>\n",
       "      <td>Total</td>\n",
       "      <td>2272.866</td>\n",
       "      <td>3407.049</td>\n",
       "      <td>2224.764</td>\n",
       "    </tr>\n",
       "    <tr>\n",
       "      <th>138</th>\n",
       "      <td>UK</td>\n",
       "      <td>NaN</td>\n",
       "      <td>Energy absorbed by pumping</td>\n",
       "      <td>Total</td>\n",
       "      <td>4014.340</td>\n",
       "      <td>3859.190</td>\n",
       "      <td>3390.866</td>\n",
       "    </tr>\n",
       "    <tr>\n",
       "      <th>139</th>\n",
       "      <td>UK</td>\n",
       "      <td>NaN</td>\n",
       "      <td>Energy supplied</td>\n",
       "      <td>Total</td>\n",
       "      <td>338005.151</td>\n",
       "      <td>334340.277</td>\n",
       "      <td>333092.414</td>\n",
       "    </tr>\n",
       "  </tbody>\n",
       "</table>\n",
       "</div>"
      ],
      "text/plain": [
       "    country country_name                        type  level        2016  \\\n",
       "135      UK          NaN        Total net production  Total  324274.434   \n",
       "136      UK          NaN                     Imports  Total   20017.923   \n",
       "137      UK          NaN                     Exports  Total    2272.866   \n",
       "138      UK          NaN  Energy absorbed by pumping  Total    4014.340   \n",
       "139      UK          NaN             Energy supplied  Total  338005.151   \n",
       "\n",
       "           2017        2018  \n",
       "135  323439.536  317375.629  \n",
       "136   18166.980   21332.415  \n",
       "137    3407.049    2224.764  \n",
       "138    3859.190    3390.866  \n",
       "139  334340.277  333092.414  "
      ]
     },
     "execution_count": 47,
     "metadata": {},
     "output_type": "execute_result"
    }
   ],
   "source": [
    "missing_df = country_df.loc[country_df['country_name'].isna()]\n",
    "missing_df"
   ]
  },
  {
   "cell_type": "markdown",
   "metadata": {},
   "source": [
    "Display number of unique observations per variable and display value counts for certain variables."
   ]
  },
  {
   "cell_type": "code",
   "execution_count": 48,
   "metadata": {},
   "outputs": [
    {
     "data": {
      "text/plain": [
       "country          37\n",
       "country_name     36\n",
       "type              5\n",
       "level             1\n",
       "2016            167\n",
       "2017            169\n",
       "2018            169\n",
       "dtype: int64"
      ]
     },
     "execution_count": 48,
     "metadata": {},
     "output_type": "execute_result"
    }
   ],
   "source": [
    "country_df.nunique()"
   ]
  },
  {
   "cell_type": "code",
   "execution_count": 49,
   "metadata": {},
   "outputs": [
    {
     "data": {
      "text/plain": [
       "Energy absorbed by pumping    37\n",
       "Energy supplied               37\n",
       "Total net production          37\n",
       "Imports                       37\n",
       "Exports                       37\n",
       "Name: type, dtype: int64"
      ]
     },
     "execution_count": 49,
     "metadata": {},
     "output_type": "execute_result"
    }
   ],
   "source": [
    "country_df.type.value_counts()"
   ]
  },
  {
   "cell_type": "markdown",
   "metadata": {},
   "source": [
    "## Traumatic Brain Injury\n",
    "This entry contains four files about traumatic brain injuries sustained by civilians and military personnel. Three of the files, tbi_age.csv, tbi_military.csv, and tbi_year.csv, each have a data dictionary that specifies the variable name, data type, and description. Each of these files has five variables, three character and two double. The file dod_tbi_2006.csv does not have a data dictionary. I feel compfortable accessing this data."
   ]
  },
  {
   "cell_type": "markdown",
   "metadata": {},
   "source": [
    "#### tbi_age.csv \n",
    "Read the raw data in from tidytuesday site."
   ]
  },
  {
   "cell_type": "code",
   "execution_count": 50,
   "metadata": {},
   "outputs": [],
   "source": [
    "data_url = 'https://raw.githubusercontent.com/rfordatascience/tidytuesday/master/data/2020/2020-03-24/tbi_age.csv'"
   ]
  },
  {
   "cell_type": "code",
   "execution_count": 51,
   "metadata": {},
   "outputs": [],
   "source": [
    "age_df = pd.read_csv(data_url)"
   ]
  },
  {
   "cell_type": "markdown",
   "metadata": {},
   "source": [
    "#### Data description\n",
    "This file specifies the number of TBIs and the rate per 100,000 by age group, type of measure, and injury mechanism. There are 231 observations and five variables: age_group, type (type of measure), injury_mechanism, number_est, and rate_est. The variable descriptions for number_est and rate_est in the data dictionary indicate that this data is from 2014.\n",
    "\n",
    "There are 11 missing values for number_est and 11 missing values for rate_est. These missing values occur in the same rows, i.e., number_est is missing in the same rows that rate_est is missing, and only in rows where the injury mechanism is 'Intentional self-harm.'"
   ]
  },
  {
   "cell_type": "code",
   "execution_count": 52,
   "metadata": {},
   "outputs": [
    {
     "data": {
      "text/plain": [
       "(231, 5)"
      ]
     },
     "execution_count": 52,
     "metadata": {},
     "output_type": "execute_result"
    }
   ],
   "source": [
    "age_df.shape"
   ]
  },
  {
   "cell_type": "code",
   "execution_count": 53,
   "metadata": {},
   "outputs": [
    {
     "data": {
      "text/html": [
       "<div>\n",
       "<style scoped>\n",
       "    .dataframe tbody tr th:only-of-type {\n",
       "        vertical-align: middle;\n",
       "    }\n",
       "\n",
       "    .dataframe tbody tr th {\n",
       "        vertical-align: top;\n",
       "    }\n",
       "\n",
       "    .dataframe thead th {\n",
       "        text-align: right;\n",
       "    }\n",
       "</style>\n",
       "<table border=\"1\" class=\"dataframe\">\n",
       "  <thead>\n",
       "    <tr style=\"text-align: right;\">\n",
       "      <th></th>\n",
       "      <th>age_group</th>\n",
       "      <th>type</th>\n",
       "      <th>injury_mechanism</th>\n",
       "      <th>number_est</th>\n",
       "      <th>rate_est</th>\n",
       "    </tr>\n",
       "  </thead>\n",
       "  <tbody>\n",
       "    <tr>\n",
       "      <th>0</th>\n",
       "      <td>0-17</td>\n",
       "      <td>Emergency Department Visit</td>\n",
       "      <td>Motor Vehicle Crashes</td>\n",
       "      <td>47138.0</td>\n",
       "      <td>64.1</td>\n",
       "    </tr>\n",
       "    <tr>\n",
       "      <th>1</th>\n",
       "      <td>0-17</td>\n",
       "      <td>Emergency Department Visit</td>\n",
       "      <td>Unintentional Falls</td>\n",
       "      <td>397190.0</td>\n",
       "      <td>539.8</td>\n",
       "    </tr>\n",
       "    <tr>\n",
       "      <th>2</th>\n",
       "      <td>0-17</td>\n",
       "      <td>Emergency Department Visit</td>\n",
       "      <td>Unintentionally struck by or against an object</td>\n",
       "      <td>229236.0</td>\n",
       "      <td>311.6</td>\n",
       "    </tr>\n",
       "    <tr>\n",
       "      <th>3</th>\n",
       "      <td>0-17</td>\n",
       "      <td>Emergency Department Visit</td>\n",
       "      <td>Other unintentional injury, mechanism unspecified</td>\n",
       "      <td>55785.0</td>\n",
       "      <td>75.8</td>\n",
       "    </tr>\n",
       "    <tr>\n",
       "      <th>4</th>\n",
       "      <td>0-17</td>\n",
       "      <td>Emergency Department Visit</td>\n",
       "      <td>Intentional self-harm</td>\n",
       "      <td>NaN</td>\n",
       "      <td>NaN</td>\n",
       "    </tr>\n",
       "    <tr>\n",
       "      <th>5</th>\n",
       "      <td>0-17</td>\n",
       "      <td>Emergency Department Visit</td>\n",
       "      <td>Assault</td>\n",
       "      <td>24360.0</td>\n",
       "      <td>33.1</td>\n",
       "    </tr>\n",
       "    <tr>\n",
       "      <th>6</th>\n",
       "      <td>0-17</td>\n",
       "      <td>Emergency Department Visit</td>\n",
       "      <td>Other or no mechanism specified</td>\n",
       "      <td>57983.0</td>\n",
       "      <td>78.8</td>\n",
       "    </tr>\n",
       "    <tr>\n",
       "      <th>7</th>\n",
       "      <td>0-4</td>\n",
       "      <td>Emergency Department Visit</td>\n",
       "      <td>Motor Vehicle Crashes</td>\n",
       "      <td>5464.0</td>\n",
       "      <td>27.5</td>\n",
       "    </tr>\n",
       "    <tr>\n",
       "      <th>8</th>\n",
       "      <td>0-4</td>\n",
       "      <td>Emergency Department Visit</td>\n",
       "      <td>Unintentional Falls</td>\n",
       "      <td>230776.0</td>\n",
       "      <td>1161.0</td>\n",
       "    </tr>\n",
       "    <tr>\n",
       "      <th>9</th>\n",
       "      <td>0-4</td>\n",
       "      <td>Emergency Department Visit</td>\n",
       "      <td>Unintentionally struck by or against an object</td>\n",
       "      <td>53436.0</td>\n",
       "      <td>268.8</td>\n",
       "    </tr>\n",
       "    <tr>\n",
       "      <th>10</th>\n",
       "      <td>0-4</td>\n",
       "      <td>Emergency Department Visit</td>\n",
       "      <td>Other unintentional injury, mechanism unspecified</td>\n",
       "      <td>12007.0</td>\n",
       "      <td>60.4</td>\n",
       "    </tr>\n",
       "    <tr>\n",
       "      <th>11</th>\n",
       "      <td>0-4</td>\n",
       "      <td>Emergency Department Visit</td>\n",
       "      <td>Intentional self-harm</td>\n",
       "      <td>NaN</td>\n",
       "      <td>NaN</td>\n",
       "    </tr>\n",
       "    <tr>\n",
       "      <th>12</th>\n",
       "      <td>0-4</td>\n",
       "      <td>Emergency Department Visit</td>\n",
       "      <td>Assault</td>\n",
       "      <td>674.0</td>\n",
       "      <td>3.4</td>\n",
       "    </tr>\n",
       "    <tr>\n",
       "      <th>13</th>\n",
       "      <td>0-4</td>\n",
       "      <td>Emergency Department Visit</td>\n",
       "      <td>Other or no mechanism specified</td>\n",
       "      <td>19360.0</td>\n",
       "      <td>97.4</td>\n",
       "    </tr>\n",
       "    <tr>\n",
       "      <th>14</th>\n",
       "      <td>5-14</td>\n",
       "      <td>Emergency Department Visit</td>\n",
       "      <td>Motor Vehicle Crashes</td>\n",
       "      <td>19785.0</td>\n",
       "      <td>48.0</td>\n",
       "    </tr>\n",
       "    <tr>\n",
       "      <th>15</th>\n",
       "      <td>5-14</td>\n",
       "      <td>Emergency Department Visit</td>\n",
       "      <td>Unintentional Falls</td>\n",
       "      <td>133084.0</td>\n",
       "      <td>323.1</td>\n",
       "    </tr>\n",
       "    <tr>\n",
       "      <th>16</th>\n",
       "      <td>5-14</td>\n",
       "      <td>Emergency Department Visit</td>\n",
       "      <td>Unintentionally struck by or against an object</td>\n",
       "      <td>120839.0</td>\n",
       "      <td>293.4</td>\n",
       "    </tr>\n",
       "    <tr>\n",
       "      <th>17</th>\n",
       "      <td>5-14</td>\n",
       "      <td>Emergency Department Visit</td>\n",
       "      <td>Other unintentional injury, mechanism unspecified</td>\n",
       "      <td>30656.0</td>\n",
       "      <td>74.4</td>\n",
       "    </tr>\n",
       "    <tr>\n",
       "      <th>18</th>\n",
       "      <td>5-14</td>\n",
       "      <td>Emergency Department Visit</td>\n",
       "      <td>Intentional self-harm</td>\n",
       "      <td>NaN</td>\n",
       "      <td>NaN</td>\n",
       "    </tr>\n",
       "    <tr>\n",
       "      <th>19</th>\n",
       "      <td>5-14</td>\n",
       "      <td>Emergency Department Visit</td>\n",
       "      <td>Assault</td>\n",
       "      <td>9690.0</td>\n",
       "      <td>23.5</td>\n",
       "    </tr>\n",
       "  </tbody>\n",
       "</table>\n",
       "</div>"
      ],
      "text/plain": [
       "   age_group                        type  \\\n",
       "0       0-17  Emergency Department Visit   \n",
       "1       0-17  Emergency Department Visit   \n",
       "2       0-17  Emergency Department Visit   \n",
       "3       0-17  Emergency Department Visit   \n",
       "4       0-17  Emergency Department Visit   \n",
       "5       0-17  Emergency Department Visit   \n",
       "6       0-17  Emergency Department Visit   \n",
       "7        0-4  Emergency Department Visit   \n",
       "8        0-4  Emergency Department Visit   \n",
       "9        0-4  Emergency Department Visit   \n",
       "10       0-4  Emergency Department Visit   \n",
       "11       0-4  Emergency Department Visit   \n",
       "12       0-4  Emergency Department Visit   \n",
       "13       0-4  Emergency Department Visit   \n",
       "14      5-14  Emergency Department Visit   \n",
       "15      5-14  Emergency Department Visit   \n",
       "16      5-14  Emergency Department Visit   \n",
       "17      5-14  Emergency Department Visit   \n",
       "18      5-14  Emergency Department Visit   \n",
       "19      5-14  Emergency Department Visit   \n",
       "\n",
       "                                     injury_mechanism  number_est  rate_est  \n",
       "0                               Motor Vehicle Crashes     47138.0      64.1  \n",
       "1                                 Unintentional Falls    397190.0     539.8  \n",
       "2      Unintentionally struck by or against an object    229236.0     311.6  \n",
       "3   Other unintentional injury, mechanism unspecified     55785.0      75.8  \n",
       "4                               Intentional self-harm         NaN       NaN  \n",
       "5                                             Assault     24360.0      33.1  \n",
       "6                     Other or no mechanism specified     57983.0      78.8  \n",
       "7                               Motor Vehicle Crashes      5464.0      27.5  \n",
       "8                                 Unintentional Falls    230776.0    1161.0  \n",
       "9      Unintentionally struck by or against an object     53436.0     268.8  \n",
       "10  Other unintentional injury, mechanism unspecified     12007.0      60.4  \n",
       "11                              Intentional self-harm         NaN       NaN  \n",
       "12                                            Assault       674.0       3.4  \n",
       "13                    Other or no mechanism specified     19360.0      97.4  \n",
       "14                              Motor Vehicle Crashes     19785.0      48.0  \n",
       "15                                Unintentional Falls    133084.0     323.1  \n",
       "16     Unintentionally struck by or against an object    120839.0     293.4  \n",
       "17  Other unintentional injury, mechanism unspecified     30656.0      74.4  \n",
       "18                              Intentional self-harm         NaN       NaN  \n",
       "19                                            Assault      9690.0      23.5  "
      ]
     },
     "execution_count": 53,
     "metadata": {},
     "output_type": "execute_result"
    }
   ],
   "source": [
    "age_df.head(20)"
   ]
  },
  {
   "cell_type": "markdown",
   "metadata": {},
   "source": [
    "Display missing observations and data types for each variable."
   ]
  },
  {
   "cell_type": "code",
   "execution_count": 54,
   "metadata": {},
   "outputs": [
    {
     "name": "stdout",
     "output_type": "stream",
     "text": [
      "<class 'pandas.core.frame.DataFrame'>\n",
      "RangeIndex: 231 entries, 0 to 230\n",
      "Data columns (total 5 columns):\n",
      " #   Column            Non-Null Count  Dtype  \n",
      "---  ------            --------------  -----  \n",
      " 0   age_group         231 non-null    object \n",
      " 1   type              231 non-null    object \n",
      " 2   injury_mechanism  231 non-null    object \n",
      " 3   number_est        220 non-null    float64\n",
      " 4   rate_est          220 non-null    float64\n",
      "dtypes: float64(2), object(3)\n",
      "memory usage: 9.1+ KB\n"
     ]
    }
   ],
   "source": [
    "age_df.info()"
   ]
  },
  {
   "cell_type": "code",
   "execution_count": 55,
   "metadata": {},
   "outputs": [
    {
     "name": "stdout",
     "output_type": "stream",
     "text": [
      "age_group            0\n",
      "type                 0\n",
      "injury_mechanism     0\n",
      "number_est          11\n",
      "rate_est            11\n",
      "dtype: int64\n"
     ]
    }
   ],
   "source": [
    "print(age_df.isna().sum())"
   ]
  },
  {
   "cell_type": "markdown",
   "metadata": {},
   "source": [
    "Display number of unique observations per variable and display value counts for certain variables."
   ]
  },
  {
   "cell_type": "code",
   "execution_count": 56,
   "metadata": {},
   "outputs": [
    {
     "data": {
      "text/plain": [
       "age_group            11\n",
       "type                  3\n",
       "injury_mechanism      7\n",
       "number_est          216\n",
       "rate_est            148\n",
       "dtype: int64"
      ]
     },
     "execution_count": 56,
     "metadata": {},
     "output_type": "execute_result"
    }
   ],
   "source": [
    "age_df.nunique()"
   ]
  },
  {
   "cell_type": "code",
   "execution_count": 57,
   "metadata": {},
   "outputs": [
    {
     "data": {
      "text/plain": [
       "25-34    21\n",
       "5-14     21\n",
       "55-64    21\n",
       "65-74    21\n",
       "15-24    21\n",
       "0-17     21\n",
       "Total    21\n",
       "75+      21\n",
       "0-4      21\n",
       "45-54    21\n",
       "35-44    21\n",
       "Name: age_group, dtype: int64"
      ]
     },
     "execution_count": 57,
     "metadata": {},
     "output_type": "execute_result"
    }
   ],
   "source": [
    "age_df.age_group.value_counts()"
   ]
  },
  {
   "cell_type": "markdown",
   "metadata": {},
   "source": [
    "Look at rows for one age group to verify age data is provided by age, type, and injury mechanism."
   ]
  },
  {
   "cell_type": "code",
   "execution_count": 58,
   "metadata": {},
   "outputs": [],
   "source": [
    "age0_17_df = age_df.loc[age_df['age_group'] == '0-17']"
   ]
  },
  {
   "cell_type": "code",
   "execution_count": 59,
   "metadata": {},
   "outputs": [
    {
     "data": {
      "text/plain": [
       "(21, 5)"
      ]
     },
     "execution_count": 59,
     "metadata": {},
     "output_type": "execute_result"
    }
   ],
   "source": [
    "age0_17_df.shape"
   ]
  },
  {
   "cell_type": "code",
   "execution_count": 60,
   "metadata": {},
   "outputs": [
    {
     "data": {
      "text/html": [
       "<div>\n",
       "<style scoped>\n",
       "    .dataframe tbody tr th:only-of-type {\n",
       "        vertical-align: middle;\n",
       "    }\n",
       "\n",
       "    .dataframe tbody tr th {\n",
       "        vertical-align: top;\n",
       "    }\n",
       "\n",
       "    .dataframe thead th {\n",
       "        text-align: right;\n",
       "    }\n",
       "</style>\n",
       "<table border=\"1\" class=\"dataframe\">\n",
       "  <thead>\n",
       "    <tr style=\"text-align: right;\">\n",
       "      <th></th>\n",
       "      <th>age_group</th>\n",
       "      <th>type</th>\n",
       "      <th>injury_mechanism</th>\n",
       "      <th>number_est</th>\n",
       "      <th>rate_est</th>\n",
       "    </tr>\n",
       "  </thead>\n",
       "  <tbody>\n",
       "    <tr>\n",
       "      <th>0</th>\n",
       "      <td>0-17</td>\n",
       "      <td>Emergency Department Visit</td>\n",
       "      <td>Motor Vehicle Crashes</td>\n",
       "      <td>47138.0</td>\n",
       "      <td>64.1</td>\n",
       "    </tr>\n",
       "    <tr>\n",
       "      <th>1</th>\n",
       "      <td>0-17</td>\n",
       "      <td>Emergency Department Visit</td>\n",
       "      <td>Unintentional Falls</td>\n",
       "      <td>397190.0</td>\n",
       "      <td>539.8</td>\n",
       "    </tr>\n",
       "    <tr>\n",
       "      <th>2</th>\n",
       "      <td>0-17</td>\n",
       "      <td>Emergency Department Visit</td>\n",
       "      <td>Unintentionally struck by or against an object</td>\n",
       "      <td>229236.0</td>\n",
       "      <td>311.6</td>\n",
       "    </tr>\n",
       "    <tr>\n",
       "      <th>3</th>\n",
       "      <td>0-17</td>\n",
       "      <td>Emergency Department Visit</td>\n",
       "      <td>Other unintentional injury, mechanism unspecified</td>\n",
       "      <td>55785.0</td>\n",
       "      <td>75.8</td>\n",
       "    </tr>\n",
       "    <tr>\n",
       "      <th>4</th>\n",
       "      <td>0-17</td>\n",
       "      <td>Emergency Department Visit</td>\n",
       "      <td>Intentional self-harm</td>\n",
       "      <td>NaN</td>\n",
       "      <td>NaN</td>\n",
       "    </tr>\n",
       "    <tr>\n",
       "      <th>5</th>\n",
       "      <td>0-17</td>\n",
       "      <td>Emergency Department Visit</td>\n",
       "      <td>Assault</td>\n",
       "      <td>24360.0</td>\n",
       "      <td>33.1</td>\n",
       "    </tr>\n",
       "    <tr>\n",
       "      <th>6</th>\n",
       "      <td>0-17</td>\n",
       "      <td>Emergency Department Visit</td>\n",
       "      <td>Other or no mechanism specified</td>\n",
       "      <td>57983.0</td>\n",
       "      <td>78.8</td>\n",
       "    </tr>\n",
       "    <tr>\n",
       "      <th>77</th>\n",
       "      <td>0-17</td>\n",
       "      <td>Hospitalizations</td>\n",
       "      <td>Motor Vehicle Crashes</td>\n",
       "      <td>5830.0</td>\n",
       "      <td>7.9</td>\n",
       "    </tr>\n",
       "    <tr>\n",
       "      <th>78</th>\n",
       "      <td>0-17</td>\n",
       "      <td>Hospitalizations</td>\n",
       "      <td>Unintentional Falls</td>\n",
       "      <td>7935.0</td>\n",
       "      <td>10.8</td>\n",
       "    </tr>\n",
       "    <tr>\n",
       "      <th>79</th>\n",
       "      <td>0-17</td>\n",
       "      <td>Hospitalizations</td>\n",
       "      <td>Unintentionally struck by or against an object</td>\n",
       "      <td>1985.0</td>\n",
       "      <td>2.7</td>\n",
       "    </tr>\n",
       "    <tr>\n",
       "      <th>80</th>\n",
       "      <td>0-17</td>\n",
       "      <td>Hospitalizations</td>\n",
       "      <td>Other unintentional injury, mechanism unspecified</td>\n",
       "      <td>3135.0</td>\n",
       "      <td>4.3</td>\n",
       "    </tr>\n",
       "    <tr>\n",
       "      <th>81</th>\n",
       "      <td>0-17</td>\n",
       "      <td>Hospitalizations</td>\n",
       "      <td>Intentional self-harm</td>\n",
       "      <td>NaN</td>\n",
       "      <td>NaN</td>\n",
       "    </tr>\n",
       "    <tr>\n",
       "      <th>82</th>\n",
       "      <td>0-17</td>\n",
       "      <td>Hospitalizations</td>\n",
       "      <td>Assault</td>\n",
       "      <td>1535.0</td>\n",
       "      <td>2.1</td>\n",
       "    </tr>\n",
       "    <tr>\n",
       "      <th>83</th>\n",
       "      <td>0-17</td>\n",
       "      <td>Hospitalizations</td>\n",
       "      <td>Other or no mechanism specified</td>\n",
       "      <td>2595.0</td>\n",
       "      <td>3.5</td>\n",
       "    </tr>\n",
       "    <tr>\n",
       "      <th>154</th>\n",
       "      <td>0-17</td>\n",
       "      <td>Deaths</td>\n",
       "      <td>Motor Vehicle Crashes</td>\n",
       "      <td>931.0</td>\n",
       "      <td>1.3</td>\n",
       "    </tr>\n",
       "    <tr>\n",
       "      <th>155</th>\n",
       "      <td>0-17</td>\n",
       "      <td>Deaths</td>\n",
       "      <td>Unintentional Falls</td>\n",
       "      <td>48.0</td>\n",
       "      <td>0.1</td>\n",
       "    </tr>\n",
       "    <tr>\n",
       "      <th>156</th>\n",
       "      <td>0-17</td>\n",
       "      <td>Deaths</td>\n",
       "      <td>Unintentionally struck by or against an object</td>\n",
       "      <td>52.0</td>\n",
       "      <td>0.1</td>\n",
       "    </tr>\n",
       "    <tr>\n",
       "      <th>157</th>\n",
       "      <td>0-17</td>\n",
       "      <td>Deaths</td>\n",
       "      <td>Other unintentional injury, mechanism unspecified</td>\n",
       "      <td>308.0</td>\n",
       "      <td>0.4</td>\n",
       "    </tr>\n",
       "    <tr>\n",
       "      <th>158</th>\n",
       "      <td>0-17</td>\n",
       "      <td>Deaths</td>\n",
       "      <td>Intentional self-harm</td>\n",
       "      <td>NaN</td>\n",
       "      <td>NaN</td>\n",
       "    </tr>\n",
       "    <tr>\n",
       "      <th>159</th>\n",
       "      <td>0-17</td>\n",
       "      <td>Deaths</td>\n",
       "      <td>Assault</td>\n",
       "      <td>611.0</td>\n",
       "      <td>0.8</td>\n",
       "    </tr>\n",
       "    <tr>\n",
       "      <th>160</th>\n",
       "      <td>0-17</td>\n",
       "      <td>Deaths</td>\n",
       "      <td>Other or no mechanism specified</td>\n",
       "      <td>61.0</td>\n",
       "      <td>0.1</td>\n",
       "    </tr>\n",
       "  </tbody>\n",
       "</table>\n",
       "</div>"
      ],
      "text/plain": [
       "    age_group                        type  \\\n",
       "0        0-17  Emergency Department Visit   \n",
       "1        0-17  Emergency Department Visit   \n",
       "2        0-17  Emergency Department Visit   \n",
       "3        0-17  Emergency Department Visit   \n",
       "4        0-17  Emergency Department Visit   \n",
       "5        0-17  Emergency Department Visit   \n",
       "6        0-17  Emergency Department Visit   \n",
       "77       0-17            Hospitalizations   \n",
       "78       0-17            Hospitalizations   \n",
       "79       0-17            Hospitalizations   \n",
       "80       0-17            Hospitalizations   \n",
       "81       0-17            Hospitalizations   \n",
       "82       0-17            Hospitalizations   \n",
       "83       0-17            Hospitalizations   \n",
       "154      0-17                      Deaths   \n",
       "155      0-17                      Deaths   \n",
       "156      0-17                      Deaths   \n",
       "157      0-17                      Deaths   \n",
       "158      0-17                      Deaths   \n",
       "159      0-17                      Deaths   \n",
       "160      0-17                      Deaths   \n",
       "\n",
       "                                      injury_mechanism  number_est  rate_est  \n",
       "0                                Motor Vehicle Crashes     47138.0      64.1  \n",
       "1                                  Unintentional Falls    397190.0     539.8  \n",
       "2       Unintentionally struck by or against an object    229236.0     311.6  \n",
       "3    Other unintentional injury, mechanism unspecified     55785.0      75.8  \n",
       "4                                Intentional self-harm         NaN       NaN  \n",
       "5                                              Assault     24360.0      33.1  \n",
       "6                      Other or no mechanism specified     57983.0      78.8  \n",
       "77                               Motor Vehicle Crashes      5830.0       7.9  \n",
       "78                                 Unintentional Falls      7935.0      10.8  \n",
       "79      Unintentionally struck by or against an object      1985.0       2.7  \n",
       "80   Other unintentional injury, mechanism unspecified      3135.0       4.3  \n",
       "81                               Intentional self-harm         NaN       NaN  \n",
       "82                                             Assault      1535.0       2.1  \n",
       "83                     Other or no mechanism specified      2595.0       3.5  \n",
       "154                              Motor Vehicle Crashes       931.0       1.3  \n",
       "155                                Unintentional Falls        48.0       0.1  \n",
       "156     Unintentionally struck by or against an object        52.0       0.1  \n",
       "157  Other unintentional injury, mechanism unspecified       308.0       0.4  \n",
       "158                              Intentional self-harm         NaN       NaN  \n",
       "159                                            Assault       611.0       0.8  \n",
       "160                    Other or no mechanism specified        61.0       0.1  "
      ]
     },
     "execution_count": 60,
     "metadata": {},
     "output_type": "execute_result"
    }
   ],
   "source": [
    "age0_17_df.head(21)"
   ]
  },
  {
   "cell_type": "markdown",
   "metadata": {},
   "source": [
    "Look at missing values to determine if there is a pattern."
   ]
  },
  {
   "cell_type": "code",
   "execution_count": 62,
   "metadata": {},
   "outputs": [],
   "source": [
    "missing_df = age_df.loc[age_df['number_est'].isna()]"
   ]
  },
  {
   "cell_type": "code",
   "execution_count": 63,
   "metadata": {},
   "outputs": [
    {
     "data": {
      "text/html": [
       "<div>\n",
       "<style scoped>\n",
       "    .dataframe tbody tr th:only-of-type {\n",
       "        vertical-align: middle;\n",
       "    }\n",
       "\n",
       "    .dataframe tbody tr th {\n",
       "        vertical-align: top;\n",
       "    }\n",
       "\n",
       "    .dataframe thead th {\n",
       "        text-align: right;\n",
       "    }\n",
       "</style>\n",
       "<table border=\"1\" class=\"dataframe\">\n",
       "  <thead>\n",
       "    <tr style=\"text-align: right;\">\n",
       "      <th></th>\n",
       "      <th>age_group</th>\n",
       "      <th>type</th>\n",
       "      <th>injury_mechanism</th>\n",
       "      <th>number_est</th>\n",
       "      <th>rate_est</th>\n",
       "    </tr>\n",
       "  </thead>\n",
       "  <tbody>\n",
       "    <tr>\n",
       "      <th>4</th>\n",
       "      <td>0-17</td>\n",
       "      <td>Emergency Department Visit</td>\n",
       "      <td>Intentional self-harm</td>\n",
       "      <td>NaN</td>\n",
       "      <td>NaN</td>\n",
       "    </tr>\n",
       "    <tr>\n",
       "      <th>11</th>\n",
       "      <td>0-4</td>\n",
       "      <td>Emergency Department Visit</td>\n",
       "      <td>Intentional self-harm</td>\n",
       "      <td>NaN</td>\n",
       "      <td>NaN</td>\n",
       "    </tr>\n",
       "    <tr>\n",
       "      <th>18</th>\n",
       "      <td>5-14</td>\n",
       "      <td>Emergency Department Visit</td>\n",
       "      <td>Intentional self-harm</td>\n",
       "      <td>NaN</td>\n",
       "      <td>NaN</td>\n",
       "    </tr>\n",
       "    <tr>\n",
       "      <th>60</th>\n",
       "      <td>65-74</td>\n",
       "      <td>Emergency Department Visit</td>\n",
       "      <td>Intentional self-harm</td>\n",
       "      <td>NaN</td>\n",
       "      <td>NaN</td>\n",
       "    </tr>\n",
       "    <tr>\n",
       "      <th>67</th>\n",
       "      <td>75+</td>\n",
       "      <td>Emergency Department Visit</td>\n",
       "      <td>Intentional self-harm</td>\n",
       "      <td>NaN</td>\n",
       "      <td>NaN</td>\n",
       "    </tr>\n",
       "    <tr>\n",
       "      <th>81</th>\n",
       "      <td>0-17</td>\n",
       "      <td>Hospitalizations</td>\n",
       "      <td>Intentional self-harm</td>\n",
       "      <td>NaN</td>\n",
       "      <td>NaN</td>\n",
       "    </tr>\n",
       "    <tr>\n",
       "      <th>88</th>\n",
       "      <td>0-4</td>\n",
       "      <td>Hospitalizations</td>\n",
       "      <td>Intentional self-harm</td>\n",
       "      <td>NaN</td>\n",
       "      <td>NaN</td>\n",
       "    </tr>\n",
       "    <tr>\n",
       "      <th>95</th>\n",
       "      <td>5-14</td>\n",
       "      <td>Hospitalizations</td>\n",
       "      <td>Intentional self-harm</td>\n",
       "      <td>NaN</td>\n",
       "      <td>NaN</td>\n",
       "    </tr>\n",
       "    <tr>\n",
       "      <th>158</th>\n",
       "      <td>0-17</td>\n",
       "      <td>Deaths</td>\n",
       "      <td>Intentional self-harm</td>\n",
       "      <td>NaN</td>\n",
       "      <td>NaN</td>\n",
       "    </tr>\n",
       "    <tr>\n",
       "      <th>165</th>\n",
       "      <td>0-4</td>\n",
       "      <td>Deaths</td>\n",
       "      <td>Intentional self-harm</td>\n",
       "      <td>NaN</td>\n",
       "      <td>NaN</td>\n",
       "    </tr>\n",
       "    <tr>\n",
       "      <th>172</th>\n",
       "      <td>5-14</td>\n",
       "      <td>Deaths</td>\n",
       "      <td>Intentional self-harm</td>\n",
       "      <td>NaN</td>\n",
       "      <td>NaN</td>\n",
       "    </tr>\n",
       "  </tbody>\n",
       "</table>\n",
       "</div>"
      ],
      "text/plain": [
       "    age_group                        type       injury_mechanism  number_est  \\\n",
       "4        0-17  Emergency Department Visit  Intentional self-harm         NaN   \n",
       "11        0-4  Emergency Department Visit  Intentional self-harm         NaN   \n",
       "18       5-14  Emergency Department Visit  Intentional self-harm         NaN   \n",
       "60      65-74  Emergency Department Visit  Intentional self-harm         NaN   \n",
       "67        75+  Emergency Department Visit  Intentional self-harm         NaN   \n",
       "81       0-17            Hospitalizations  Intentional self-harm         NaN   \n",
       "88        0-4            Hospitalizations  Intentional self-harm         NaN   \n",
       "95       5-14            Hospitalizations  Intentional self-harm         NaN   \n",
       "158      0-17                      Deaths  Intentional self-harm         NaN   \n",
       "165       0-4                      Deaths  Intentional self-harm         NaN   \n",
       "172      5-14                      Deaths  Intentional self-harm         NaN   \n",
       "\n",
       "     rate_est  \n",
       "4         NaN  \n",
       "11        NaN  \n",
       "18        NaN  \n",
       "60        NaN  \n",
       "67        NaN  \n",
       "81        NaN  \n",
       "88        NaN  \n",
       "95        NaN  \n",
       "158       NaN  \n",
       "165       NaN  \n",
       "172       NaN  "
      ]
     },
     "execution_count": 63,
     "metadata": {},
     "output_type": "execute_result"
    }
   ],
   "source": [
    "missing_df"
   ]
  },
  {
   "cell_type": "markdown",
   "metadata": {},
   "source": [
    "#### tbi_year.csv \n",
    "Read the raw data in from tidytuesday site."
   ]
  },
  {
   "cell_type": "code",
   "execution_count": 64,
   "metadata": {},
   "outputs": [],
   "source": [
    "data_url = 'https://raw.githubusercontent.com/rfordatascience/tidytuesday/master/data/2020/2020-03-24/tbi_year.csv'"
   ]
  },
  {
   "cell_type": "code",
   "execution_count": 65,
   "metadata": {},
   "outputs": [],
   "source": [
    "year_df = pd.read_csv(data_url)"
   ]
  },
  {
   "cell_type": "markdown",
   "metadata": {},
   "source": [
    "#### Data description\n",
    "This file specifies the number of TBIs and the rate per 100,000 by year, type of measure, injury mechanism from 2006 to 2014. There are 216 observations and five variables: injury_mechanism, type (type of measure), year, number_est, and rate_est. The Class for year in the data dictionary is incorrect - year is of type integer not character. The description for number_est in the data dictionary is incorrect - it should say 'Rate/100,000 in the specified year.' \n",
    "\n",
    "There are 27 missing values in the number_est column. These missing values occur where injury_mechanism equals 'Total' for each of the three types of measures: emergency dept, hospital, and deaths. I am thinking this value is the sum of all TBIs by any injury mechanism for the given year, and these missing values could be calculated from the data."
   ]
  },
  {
   "cell_type": "code",
   "execution_count": 66,
   "metadata": {},
   "outputs": [
    {
     "data": {
      "text/plain": [
       "(216, 5)"
      ]
     },
     "execution_count": 66,
     "metadata": {},
     "output_type": "execute_result"
    }
   ],
   "source": [
    "year_df.shape"
   ]
  },
  {
   "cell_type": "code",
   "execution_count": 67,
   "metadata": {},
   "outputs": [
    {
     "data": {
      "text/html": [
       "<div>\n",
       "<style scoped>\n",
       "    .dataframe tbody tr th:only-of-type {\n",
       "        vertical-align: middle;\n",
       "    }\n",
       "\n",
       "    .dataframe tbody tr th {\n",
       "        vertical-align: top;\n",
       "    }\n",
       "\n",
       "    .dataframe thead th {\n",
       "        text-align: right;\n",
       "    }\n",
       "</style>\n",
       "<table border=\"1\" class=\"dataframe\">\n",
       "  <thead>\n",
       "    <tr style=\"text-align: right;\">\n",
       "      <th></th>\n",
       "      <th>injury_mechanism</th>\n",
       "      <th>type</th>\n",
       "      <th>year</th>\n",
       "      <th>rate_est</th>\n",
       "      <th>number_est</th>\n",
       "    </tr>\n",
       "  </thead>\n",
       "  <tbody>\n",
       "    <tr>\n",
       "      <th>0</th>\n",
       "      <td>Motor vehicle crashes</td>\n",
       "      <td>Emergency Department Visit</td>\n",
       "      <td>2006</td>\n",
       "      <td>85.3</td>\n",
       "      <td>254793.0</td>\n",
       "    </tr>\n",
       "    <tr>\n",
       "      <th>1</th>\n",
       "      <td>Motor vehicle crashes</td>\n",
       "      <td>Emergency Department Visit</td>\n",
       "      <td>2007</td>\n",
       "      <td>83.8</td>\n",
       "      <td>252459.0</td>\n",
       "    </tr>\n",
       "    <tr>\n",
       "      <th>2</th>\n",
       "      <td>Motor vehicle crashes</td>\n",
       "      <td>Emergency Department Visit</td>\n",
       "      <td>2008</td>\n",
       "      <td>83.9</td>\n",
       "      <td>254391.0</td>\n",
       "    </tr>\n",
       "    <tr>\n",
       "      <th>3</th>\n",
       "      <td>Motor vehicle crashes</td>\n",
       "      <td>Emergency Department Visit</td>\n",
       "      <td>2009</td>\n",
       "      <td>88.7</td>\n",
       "      <td>270240.0</td>\n",
       "    </tr>\n",
       "    <tr>\n",
       "      <th>4</th>\n",
       "      <td>Motor vehicle crashes</td>\n",
       "      <td>Emergency Department Visit</td>\n",
       "      <td>2010</td>\n",
       "      <td>95.3</td>\n",
       "      <td>292942.0</td>\n",
       "    </tr>\n",
       "    <tr>\n",
       "      <th>5</th>\n",
       "      <td>Motor vehicle crashes</td>\n",
       "      <td>Emergency Department Visit</td>\n",
       "      <td>2011</td>\n",
       "      <td>98.7</td>\n",
       "      <td>305694.0</td>\n",
       "    </tr>\n",
       "    <tr>\n",
       "      <th>6</th>\n",
       "      <td>Motor vehicle crashes</td>\n",
       "      <td>Emergency Department Visit</td>\n",
       "      <td>2012</td>\n",
       "      <td>99.9</td>\n",
       "      <td>311271.0</td>\n",
       "    </tr>\n",
       "    <tr>\n",
       "      <th>7</th>\n",
       "      <td>Motor vehicle crashes</td>\n",
       "      <td>Emergency Department Visit</td>\n",
       "      <td>2013</td>\n",
       "      <td>99.6</td>\n",
       "      <td>312048.0</td>\n",
       "    </tr>\n",
       "    <tr>\n",
       "      <th>8</th>\n",
       "      <td>Motor vehicle crashes</td>\n",
       "      <td>Emergency Department Visit</td>\n",
       "      <td>2014</td>\n",
       "      <td>106.0</td>\n",
       "      <td>334144.0</td>\n",
       "    </tr>\n",
       "    <tr>\n",
       "      <th>9</th>\n",
       "      <td>Unintentional falls</td>\n",
       "      <td>Emergency Department Visit</td>\n",
       "      <td>2006</td>\n",
       "      <td>208.8</td>\n",
       "      <td>625098.0</td>\n",
       "    </tr>\n",
       "    <tr>\n",
       "      <th>10</th>\n",
       "      <td>Unintentional falls</td>\n",
       "      <td>Emergency Department Visit</td>\n",
       "      <td>2007</td>\n",
       "      <td>221.7</td>\n",
       "      <td>672504.0</td>\n",
       "    </tr>\n",
       "    <tr>\n",
       "      <th>11</th>\n",
       "      <td>Unintentional falls</td>\n",
       "      <td>Emergency Department Visit</td>\n",
       "      <td>2008</td>\n",
       "      <td>240.9</td>\n",
       "      <td>740528.0</td>\n",
       "    </tr>\n",
       "    <tr>\n",
       "      <th>12</th>\n",
       "      <td>Unintentional falls</td>\n",
       "      <td>Emergency Department Visit</td>\n",
       "      <td>2009</td>\n",
       "      <td>298.8</td>\n",
       "      <td>928049.0</td>\n",
       "    </tr>\n",
       "    <tr>\n",
       "      <th>13</th>\n",
       "      <td>Unintentional falls</td>\n",
       "      <td>Emergency Department Visit</td>\n",
       "      <td>2010</td>\n",
       "      <td>316.3</td>\n",
       "      <td>980245.0</td>\n",
       "    </tr>\n",
       "    <tr>\n",
       "      <th>14</th>\n",
       "      <td>Unintentional falls</td>\n",
       "      <td>Emergency Department Visit</td>\n",
       "      <td>2011</td>\n",
       "      <td>348.7</td>\n",
       "      <td>1090575.0</td>\n",
       "    </tr>\n",
       "    <tr>\n",
       "      <th>15</th>\n",
       "      <td>Unintentional falls</td>\n",
       "      <td>Emergency Department Visit</td>\n",
       "      <td>2012</td>\n",
       "      <td>355.9</td>\n",
       "      <td>1120041.0</td>\n",
       "    </tr>\n",
       "    <tr>\n",
       "      <th>16</th>\n",
       "      <td>Unintentional falls</td>\n",
       "      <td>Emergency Department Visit</td>\n",
       "      <td>2013</td>\n",
       "      <td>362.9</td>\n",
       "      <td>1163473.0</td>\n",
       "    </tr>\n",
       "    <tr>\n",
       "      <th>17</th>\n",
       "      <td>Unintentional falls</td>\n",
       "      <td>Emergency Department Visit</td>\n",
       "      <td>2014</td>\n",
       "      <td>374.9</td>\n",
       "      <td>1213476.0</td>\n",
       "    </tr>\n",
       "    <tr>\n",
       "      <th>18</th>\n",
       "      <td>Unintentionally struck by or against an object</td>\n",
       "      <td>Emergency Department Visit</td>\n",
       "      <td>2006</td>\n",
       "      <td>90.8</td>\n",
       "      <td>266268.0</td>\n",
       "    </tr>\n",
       "    <tr>\n",
       "      <th>19</th>\n",
       "      <td>Unintentionally struck by or against an object</td>\n",
       "      <td>Emergency Department Visit</td>\n",
       "      <td>2007</td>\n",
       "      <td>90.6</td>\n",
       "      <td>267175.0</td>\n",
       "    </tr>\n",
       "    <tr>\n",
       "      <th>20</th>\n",
       "      <td>Unintentionally struck by or against an object</td>\n",
       "      <td>Emergency Department Visit</td>\n",
       "      <td>2008</td>\n",
       "      <td>95.8</td>\n",
       "      <td>284297.0</td>\n",
       "    </tr>\n",
       "    <tr>\n",
       "      <th>21</th>\n",
       "      <td>Unintentionally struck by or against an object</td>\n",
       "      <td>Emergency Department Visit</td>\n",
       "      <td>2009</td>\n",
       "      <td>123.9</td>\n",
       "      <td>369348.0</td>\n",
       "    </tr>\n",
       "    <tr>\n",
       "      <th>22</th>\n",
       "      <td>Unintentionally struck by or against an object</td>\n",
       "      <td>Emergency Department Visit</td>\n",
       "      <td>2010</td>\n",
       "      <td>127.0</td>\n",
       "      <td>379601.0</td>\n",
       "    </tr>\n",
       "    <tr>\n",
       "      <th>23</th>\n",
       "      <td>Unintentionally struck by or against an object</td>\n",
       "      <td>Emergency Department Visit</td>\n",
       "      <td>2011</td>\n",
       "      <td>138.8</td>\n",
       "      <td>415408.0</td>\n",
       "    </tr>\n",
       "    <tr>\n",
       "      <th>24</th>\n",
       "      <td>Unintentionally struck by or against an object</td>\n",
       "      <td>Emergency Department Visit</td>\n",
       "      <td>2012</td>\n",
       "      <td>149.8</td>\n",
       "      <td>447591.0</td>\n",
       "    </tr>\n",
       "    <tr>\n",
       "      <th>25</th>\n",
       "      <td>Unintentionally struck by or against an object</td>\n",
       "      <td>Emergency Department Visit</td>\n",
       "      <td>2013</td>\n",
       "      <td>141.0</td>\n",
       "      <td>423477.0</td>\n",
       "    </tr>\n",
       "    <tr>\n",
       "      <th>26</th>\n",
       "      <td>Unintentionally struck by or against an object</td>\n",
       "      <td>Emergency Department Visit</td>\n",
       "      <td>2014</td>\n",
       "      <td>143.9</td>\n",
       "      <td>433951.0</td>\n",
       "    </tr>\n",
       "    <tr>\n",
       "      <th>27</th>\n",
       "      <td>Other unintentional injury, mechanism unspecified</td>\n",
       "      <td>Emergency Department Visit</td>\n",
       "      <td>2006</td>\n",
       "      <td>40.4</td>\n",
       "      <td>118834.0</td>\n",
       "    </tr>\n",
       "    <tr>\n",
       "      <th>28</th>\n",
       "      <td>Other unintentional injury, mechanism unspecified</td>\n",
       "      <td>Emergency Department Visit</td>\n",
       "      <td>2007</td>\n",
       "      <td>42.7</td>\n",
       "      <td>126635.0</td>\n",
       "    </tr>\n",
       "    <tr>\n",
       "      <th>29</th>\n",
       "      <td>Other unintentional injury, mechanism unspecified</td>\n",
       "      <td>Emergency Department Visit</td>\n",
       "      <td>2008</td>\n",
       "      <td>43.1</td>\n",
       "      <td>129046.0</td>\n",
       "    </tr>\n",
       "  </tbody>\n",
       "</table>\n",
       "</div>"
      ],
      "text/plain": [
       "                                     injury_mechanism  \\\n",
       "0                               Motor vehicle crashes   \n",
       "1                               Motor vehicle crashes   \n",
       "2                               Motor vehicle crashes   \n",
       "3                               Motor vehicle crashes   \n",
       "4                               Motor vehicle crashes   \n",
       "5                               Motor vehicle crashes   \n",
       "6                               Motor vehicle crashes   \n",
       "7                               Motor vehicle crashes   \n",
       "8                               Motor vehicle crashes   \n",
       "9                                 Unintentional falls   \n",
       "10                                Unintentional falls   \n",
       "11                                Unintentional falls   \n",
       "12                                Unintentional falls   \n",
       "13                                Unintentional falls   \n",
       "14                                Unintentional falls   \n",
       "15                                Unintentional falls   \n",
       "16                                Unintentional falls   \n",
       "17                                Unintentional falls   \n",
       "18     Unintentionally struck by or against an object   \n",
       "19     Unintentionally struck by or against an object   \n",
       "20     Unintentionally struck by or against an object   \n",
       "21     Unintentionally struck by or against an object   \n",
       "22     Unintentionally struck by or against an object   \n",
       "23     Unintentionally struck by or against an object   \n",
       "24     Unintentionally struck by or against an object   \n",
       "25     Unintentionally struck by or against an object   \n",
       "26     Unintentionally struck by or against an object   \n",
       "27  Other unintentional injury, mechanism unspecified   \n",
       "28  Other unintentional injury, mechanism unspecified   \n",
       "29  Other unintentional injury, mechanism unspecified   \n",
       "\n",
       "                          type  year  rate_est  number_est  \n",
       "0   Emergency Department Visit  2006      85.3    254793.0  \n",
       "1   Emergency Department Visit  2007      83.8    252459.0  \n",
       "2   Emergency Department Visit  2008      83.9    254391.0  \n",
       "3   Emergency Department Visit  2009      88.7    270240.0  \n",
       "4   Emergency Department Visit  2010      95.3    292942.0  \n",
       "5   Emergency Department Visit  2011      98.7    305694.0  \n",
       "6   Emergency Department Visit  2012      99.9    311271.0  \n",
       "7   Emergency Department Visit  2013      99.6    312048.0  \n",
       "8   Emergency Department Visit  2014     106.0    334144.0  \n",
       "9   Emergency Department Visit  2006     208.8    625098.0  \n",
       "10  Emergency Department Visit  2007     221.7    672504.0  \n",
       "11  Emergency Department Visit  2008     240.9    740528.0  \n",
       "12  Emergency Department Visit  2009     298.8    928049.0  \n",
       "13  Emergency Department Visit  2010     316.3    980245.0  \n",
       "14  Emergency Department Visit  2011     348.7   1090575.0  \n",
       "15  Emergency Department Visit  2012     355.9   1120041.0  \n",
       "16  Emergency Department Visit  2013     362.9   1163473.0  \n",
       "17  Emergency Department Visit  2014     374.9   1213476.0  \n",
       "18  Emergency Department Visit  2006      90.8    266268.0  \n",
       "19  Emergency Department Visit  2007      90.6    267175.0  \n",
       "20  Emergency Department Visit  2008      95.8    284297.0  \n",
       "21  Emergency Department Visit  2009     123.9    369348.0  \n",
       "22  Emergency Department Visit  2010     127.0    379601.0  \n",
       "23  Emergency Department Visit  2011     138.8    415408.0  \n",
       "24  Emergency Department Visit  2012     149.8    447591.0  \n",
       "25  Emergency Department Visit  2013     141.0    423477.0  \n",
       "26  Emergency Department Visit  2014     143.9    433951.0  \n",
       "27  Emergency Department Visit  2006      40.4    118834.0  \n",
       "28  Emergency Department Visit  2007      42.7    126635.0  \n",
       "29  Emergency Department Visit  2008      43.1    129046.0  "
      ]
     },
     "execution_count": 67,
     "metadata": {},
     "output_type": "execute_result"
    }
   ],
   "source": [
    "year_df.head(30)"
   ]
  },
  {
   "cell_type": "markdown",
   "metadata": {},
   "source": [
    "Display missing observations and data types for each variable."
   ]
  },
  {
   "cell_type": "code",
   "execution_count": 68,
   "metadata": {},
   "outputs": [
    {
     "name": "stdout",
     "output_type": "stream",
     "text": [
      "<class 'pandas.core.frame.DataFrame'>\n",
      "RangeIndex: 216 entries, 0 to 215\n",
      "Data columns (total 5 columns):\n",
      " #   Column            Non-Null Count  Dtype  \n",
      "---  ------            --------------  -----  \n",
      " 0   injury_mechanism  216 non-null    object \n",
      " 1   type              216 non-null    object \n",
      " 2   year              216 non-null    int64  \n",
      " 3   rate_est          216 non-null    float64\n",
      " 4   number_est        189 non-null    float64\n",
      "dtypes: float64(2), int64(1), object(2)\n",
      "memory usage: 8.6+ KB\n"
     ]
    }
   ],
   "source": [
    "year_df.info()"
   ]
  },
  {
   "cell_type": "code",
   "execution_count": 69,
   "metadata": {},
   "outputs": [
    {
     "name": "stdout",
     "output_type": "stream",
     "text": [
      "injury_mechanism     0\n",
      "type                 0\n",
      "year                 0\n",
      "rate_est             0\n",
      "number_est          27\n",
      "dtype: int64\n"
     ]
    }
   ],
   "source": [
    "print(year_df.isna().sum())"
   ]
  },
  {
   "cell_type": "markdown",
   "metadata": {},
   "source": [
    "Display number of unique observations per variable and display value counts for certain variables."
   ]
  },
  {
   "cell_type": "code",
   "execution_count": 70,
   "metadata": {},
   "outputs": [
    {
     "data": {
      "text/plain": [
       "injury_mechanism      8\n",
       "type                  3\n",
       "year                  9\n",
       "rate_est            159\n",
       "number_est          188\n",
       "dtype: int64"
      ]
     },
     "execution_count": 70,
     "metadata": {},
     "output_type": "execute_result"
    }
   ],
   "source": [
    "year_df.nunique()"
   ]
  },
  {
   "cell_type": "code",
   "execution_count": 71,
   "metadata": {},
   "outputs": [
    {
     "data": {
      "text/plain": [
       "Deaths                        72\n",
       "Hospitalizations              72\n",
       "Emergency Department Visit    72\n",
       "Name: type, dtype: int64"
      ]
     },
     "execution_count": 71,
     "metadata": {},
     "output_type": "execute_result"
    }
   ],
   "source": [
    "year_df.type.value_counts()"
   ]
  },
  {
   "cell_type": "code",
   "execution_count": 75,
   "metadata": {},
   "outputs": [
    {
     "data": {
      "text/plain": [
       "2006    24\n",
       "2007    24\n",
       "2008    24\n",
       "2009    24\n",
       "2010    24\n",
       "2011    24\n",
       "2012    24\n",
       "2013    24\n",
       "2014    24\n",
       "Name: year, dtype: int64"
      ]
     },
     "execution_count": 75,
     "metadata": {},
     "output_type": "execute_result"
    }
   ],
   "source": [
    "year_df.year.value_counts()"
   ]
  },
  {
   "cell_type": "markdown",
   "metadata": {},
   "source": [
    "Look at missing data to determine if there is a pattern."
   ]
  },
  {
   "cell_type": "code",
   "execution_count": 76,
   "metadata": {},
   "outputs": [],
   "source": [
    "missing_df = year_df.loc[year_df['number_est'].isna()]"
   ]
  },
  {
   "cell_type": "code",
   "execution_count": 77,
   "metadata": {},
   "outputs": [
    {
     "data": {
      "text/html": [
       "<div>\n",
       "<style scoped>\n",
       "    .dataframe tbody tr th:only-of-type {\n",
       "        vertical-align: middle;\n",
       "    }\n",
       "\n",
       "    .dataframe tbody tr th {\n",
       "        vertical-align: top;\n",
       "    }\n",
       "\n",
       "    .dataframe thead th {\n",
       "        text-align: right;\n",
       "    }\n",
       "</style>\n",
       "<table border=\"1\" class=\"dataframe\">\n",
       "  <thead>\n",
       "    <tr style=\"text-align: right;\">\n",
       "      <th></th>\n",
       "      <th>injury_mechanism</th>\n",
       "      <th>type</th>\n",
       "      <th>year</th>\n",
       "      <th>rate_est</th>\n",
       "      <th>number_est</th>\n",
       "    </tr>\n",
       "  </thead>\n",
       "  <tbody>\n",
       "    <tr>\n",
       "      <th>63</th>\n",
       "      <td>Total</td>\n",
       "      <td>Emergency Department Visit</td>\n",
       "      <td>2006</td>\n",
       "      <td>521.6</td>\n",
       "      <td>NaN</td>\n",
       "    </tr>\n",
       "    <tr>\n",
       "      <th>64</th>\n",
       "      <td>Total</td>\n",
       "      <td>Emergency Department Visit</td>\n",
       "      <td>2007</td>\n",
       "      <td>533.8</td>\n",
       "      <td>NaN</td>\n",
       "    </tr>\n",
       "    <tr>\n",
       "      <th>65</th>\n",
       "      <td>Total</td>\n",
       "      <td>Emergency Department Visit</td>\n",
       "      <td>2008</td>\n",
       "      <td>559.8</td>\n",
       "      <td>NaN</td>\n",
       "    </tr>\n",
       "    <tr>\n",
       "      <th>66</th>\n",
       "      <td>Total</td>\n",
       "      <td>Emergency Department Visit</td>\n",
       "      <td>2009</td>\n",
       "      <td>670.2</td>\n",
       "      <td>NaN</td>\n",
       "    </tr>\n",
       "    <tr>\n",
       "      <th>67</th>\n",
       "      <td>Total</td>\n",
       "      <td>Emergency Department Visit</td>\n",
       "      <td>2010</td>\n",
       "      <td>699.5</td>\n",
       "      <td>NaN</td>\n",
       "    </tr>\n",
       "    <tr>\n",
       "      <th>68</th>\n",
       "      <td>Total</td>\n",
       "      <td>Emergency Department Visit</td>\n",
       "      <td>2011</td>\n",
       "      <td>756.3</td>\n",
       "      <td>NaN</td>\n",
       "    </tr>\n",
       "    <tr>\n",
       "      <th>69</th>\n",
       "      <td>Total</td>\n",
       "      <td>Emergency Department Visit</td>\n",
       "      <td>2012</td>\n",
       "      <td>771.9</td>\n",
       "      <td>NaN</td>\n",
       "    </tr>\n",
       "    <tr>\n",
       "      <th>70</th>\n",
       "      <td>Total</td>\n",
       "      <td>Emergency Department Visit</td>\n",
       "      <td>2013</td>\n",
       "      <td>784.6</td>\n",
       "      <td>NaN</td>\n",
       "    </tr>\n",
       "    <tr>\n",
       "      <th>71</th>\n",
       "      <td>Total</td>\n",
       "      <td>Emergency Department Visit</td>\n",
       "      <td>2014</td>\n",
       "      <td>801.9</td>\n",
       "      <td>NaN</td>\n",
       "    </tr>\n",
       "    <tr>\n",
       "      <th>135</th>\n",
       "      <td>Total</td>\n",
       "      <td>Hospitalizations</td>\n",
       "      <td>2006</td>\n",
       "      <td>92.2</td>\n",
       "      <td>NaN</td>\n",
       "    </tr>\n",
       "    <tr>\n",
       "      <th>136</th>\n",
       "      <td>Total</td>\n",
       "      <td>Hospitalizations</td>\n",
       "      <td>2007</td>\n",
       "      <td>87.2</td>\n",
       "      <td>NaN</td>\n",
       "    </tr>\n",
       "    <tr>\n",
       "      <th>137</th>\n",
       "      <td>Total</td>\n",
       "      <td>Hospitalizations</td>\n",
       "      <td>2008</td>\n",
       "      <td>85.8</td>\n",
       "      <td>NaN</td>\n",
       "    </tr>\n",
       "    <tr>\n",
       "      <th>138</th>\n",
       "      <td>Total</td>\n",
       "      <td>Hospitalizations</td>\n",
       "      <td>2009</td>\n",
       "      <td>87.9</td>\n",
       "      <td>NaN</td>\n",
       "    </tr>\n",
       "    <tr>\n",
       "      <th>139</th>\n",
       "      <td>Total</td>\n",
       "      <td>Hospitalizations</td>\n",
       "      <td>2010</td>\n",
       "      <td>102.5</td>\n",
       "      <td>NaN</td>\n",
       "    </tr>\n",
       "    <tr>\n",
       "      <th>140</th>\n",
       "      <td>Total</td>\n",
       "      <td>Hospitalizations</td>\n",
       "      <td>2011</td>\n",
       "      <td>82.5</td>\n",
       "      <td>NaN</td>\n",
       "    </tr>\n",
       "    <tr>\n",
       "      <th>141</th>\n",
       "      <td>Total</td>\n",
       "      <td>Hospitalizations</td>\n",
       "      <td>2012</td>\n",
       "      <td>88.4</td>\n",
       "      <td>NaN</td>\n",
       "    </tr>\n",
       "    <tr>\n",
       "      <th>142</th>\n",
       "      <td>Total</td>\n",
       "      <td>Hospitalizations</td>\n",
       "      <td>2013</td>\n",
       "      <td>84.2</td>\n",
       "      <td>NaN</td>\n",
       "    </tr>\n",
       "    <tr>\n",
       "      <th>143</th>\n",
       "      <td>Total</td>\n",
       "      <td>Hospitalizations</td>\n",
       "      <td>2014</td>\n",
       "      <td>84.9</td>\n",
       "      <td>NaN</td>\n",
       "    </tr>\n",
       "    <tr>\n",
       "      <th>207</th>\n",
       "      <td>Total</td>\n",
       "      <td>Deaths</td>\n",
       "      <td>2006</td>\n",
       "      <td>17.9</td>\n",
       "      <td>NaN</td>\n",
       "    </tr>\n",
       "    <tr>\n",
       "      <th>208</th>\n",
       "      <td>Total</td>\n",
       "      <td>Deaths</td>\n",
       "      <td>2007</td>\n",
       "      <td>17.8</td>\n",
       "      <td>NaN</td>\n",
       "    </tr>\n",
       "    <tr>\n",
       "      <th>209</th>\n",
       "      <td>Total</td>\n",
       "      <td>Deaths</td>\n",
       "      <td>2008</td>\n",
       "      <td>17.2</td>\n",
       "      <td>NaN</td>\n",
       "    </tr>\n",
       "    <tr>\n",
       "      <th>210</th>\n",
       "      <td>Total</td>\n",
       "      <td>Deaths</td>\n",
       "      <td>2009</td>\n",
       "      <td>16.6</td>\n",
       "      <td>NaN</td>\n",
       "    </tr>\n",
       "    <tr>\n",
       "      <th>211</th>\n",
       "      <td>Total</td>\n",
       "      <td>Deaths</td>\n",
       "      <td>2010</td>\n",
       "      <td>16.5</td>\n",
       "      <td>NaN</td>\n",
       "    </tr>\n",
       "    <tr>\n",
       "      <th>212</th>\n",
       "      <td>Total</td>\n",
       "      <td>Deaths</td>\n",
       "      <td>2011</td>\n",
       "      <td>16.6</td>\n",
       "      <td>NaN</td>\n",
       "    </tr>\n",
       "    <tr>\n",
       "      <th>213</th>\n",
       "      <td>Total</td>\n",
       "      <td>Deaths</td>\n",
       "      <td>2012</td>\n",
       "      <td>16.8</td>\n",
       "      <td>NaN</td>\n",
       "    </tr>\n",
       "    <tr>\n",
       "      <th>214</th>\n",
       "      <td>Total</td>\n",
       "      <td>Deaths</td>\n",
       "      <td>2013</td>\n",
       "      <td>16.8</td>\n",
       "      <td>NaN</td>\n",
       "    </tr>\n",
       "    <tr>\n",
       "      <th>215</th>\n",
       "      <td>Total</td>\n",
       "      <td>Deaths</td>\n",
       "      <td>2014</td>\n",
       "      <td>16.8</td>\n",
       "      <td>NaN</td>\n",
       "    </tr>\n",
       "  </tbody>\n",
       "</table>\n",
       "</div>"
      ],
      "text/plain": [
       "    injury_mechanism                        type  year  rate_est  number_est\n",
       "63             Total  Emergency Department Visit  2006     521.6         NaN\n",
       "64             Total  Emergency Department Visit  2007     533.8         NaN\n",
       "65             Total  Emergency Department Visit  2008     559.8         NaN\n",
       "66             Total  Emergency Department Visit  2009     670.2         NaN\n",
       "67             Total  Emergency Department Visit  2010     699.5         NaN\n",
       "68             Total  Emergency Department Visit  2011     756.3         NaN\n",
       "69             Total  Emergency Department Visit  2012     771.9         NaN\n",
       "70             Total  Emergency Department Visit  2013     784.6         NaN\n",
       "71             Total  Emergency Department Visit  2014     801.9         NaN\n",
       "135            Total            Hospitalizations  2006      92.2         NaN\n",
       "136            Total            Hospitalizations  2007      87.2         NaN\n",
       "137            Total            Hospitalizations  2008      85.8         NaN\n",
       "138            Total            Hospitalizations  2009      87.9         NaN\n",
       "139            Total            Hospitalizations  2010     102.5         NaN\n",
       "140            Total            Hospitalizations  2011      82.5         NaN\n",
       "141            Total            Hospitalizations  2012      88.4         NaN\n",
       "142            Total            Hospitalizations  2013      84.2         NaN\n",
       "143            Total            Hospitalizations  2014      84.9         NaN\n",
       "207            Total                      Deaths  2006      17.9         NaN\n",
       "208            Total                      Deaths  2007      17.8         NaN\n",
       "209            Total                      Deaths  2008      17.2         NaN\n",
       "210            Total                      Deaths  2009      16.6         NaN\n",
       "211            Total                      Deaths  2010      16.5         NaN\n",
       "212            Total                      Deaths  2011      16.6         NaN\n",
       "213            Total                      Deaths  2012      16.8         NaN\n",
       "214            Total                      Deaths  2013      16.8         NaN\n",
       "215            Total                      Deaths  2014      16.8         NaN"
      ]
     },
     "execution_count": 77,
     "metadata": {},
     "output_type": "execute_result"
    }
   ],
   "source": [
    "missing_df.head(27)"
   ]
  },
  {
   "cell_type": "markdown",
   "metadata": {},
   "source": [
    "#### tbi_military.csv \n",
    "Read the raw data in from tidytuesday site."
   ]
  },
  {
   "cell_type": "code",
   "execution_count": 78,
   "metadata": {},
   "outputs": [],
   "source": [
    "data_url = 'https://raw.githubusercontent.com/rfordatascience/tidytuesday/master/data/2020/2020-03-24/tbi_military.csv'"
   ]
  },
  {
   "cell_type": "code",
   "execution_count": 79,
   "metadata": {},
   "outputs": [],
   "source": [
    "military_df = pd.read_csv(data_url)"
   ]
  },
  {
   "cell_type": "markdown",
   "metadata": {},
   "source": [
    "## Data description\n",
    "This file specifies the number of TBIs sustained by military personnel and the rate per 100,000 by service, component, severity, and year from 2006 to 2014. There are 450 observations and five variables: service (branch), component (duty type), severity, diagnosed, and year. \n",
    "\n",
    "There are 12 missing values in the diagnosed column. There is no pattern to the missing values."
   ]
  },
  {
   "cell_type": "code",
   "execution_count": 80,
   "metadata": {},
   "outputs": [
    {
     "data": {
      "text/plain": [
       "(450, 5)"
      ]
     },
     "execution_count": 80,
     "metadata": {},
     "output_type": "execute_result"
    }
   ],
   "source": [
    "military_df.shape"
   ]
  },
  {
   "cell_type": "code",
   "execution_count": 81,
   "metadata": {},
   "outputs": [
    {
     "data": {
      "text/html": [
       "<div>\n",
       "<style scoped>\n",
       "    .dataframe tbody tr th:only-of-type {\n",
       "        vertical-align: middle;\n",
       "    }\n",
       "\n",
       "    .dataframe tbody tr th {\n",
       "        vertical-align: top;\n",
       "    }\n",
       "\n",
       "    .dataframe thead th {\n",
       "        text-align: right;\n",
       "    }\n",
       "</style>\n",
       "<table border=\"1\" class=\"dataframe\">\n",
       "  <thead>\n",
       "    <tr style=\"text-align: right;\">\n",
       "      <th></th>\n",
       "      <th>service</th>\n",
       "      <th>component</th>\n",
       "      <th>severity</th>\n",
       "      <th>diagnosed</th>\n",
       "      <th>year</th>\n",
       "    </tr>\n",
       "  </thead>\n",
       "  <tbody>\n",
       "    <tr>\n",
       "      <th>0</th>\n",
       "      <td>Army</td>\n",
       "      <td>Active</td>\n",
       "      <td>Penetrating</td>\n",
       "      <td>189.0</td>\n",
       "      <td>2006</td>\n",
       "    </tr>\n",
       "    <tr>\n",
       "      <th>1</th>\n",
       "      <td>Army</td>\n",
       "      <td>Active</td>\n",
       "      <td>Severe</td>\n",
       "      <td>102.0</td>\n",
       "      <td>2006</td>\n",
       "    </tr>\n",
       "    <tr>\n",
       "      <th>2</th>\n",
       "      <td>Army</td>\n",
       "      <td>Active</td>\n",
       "      <td>Moderate</td>\n",
       "      <td>709.0</td>\n",
       "      <td>2006</td>\n",
       "    </tr>\n",
       "    <tr>\n",
       "      <th>3</th>\n",
       "      <td>Army</td>\n",
       "      <td>Active</td>\n",
       "      <td>Mild</td>\n",
       "      <td>5896.0</td>\n",
       "      <td>2006</td>\n",
       "    </tr>\n",
       "    <tr>\n",
       "      <th>4</th>\n",
       "      <td>Army</td>\n",
       "      <td>Active</td>\n",
       "      <td>Not Classifiable</td>\n",
       "      <td>122.0</td>\n",
       "      <td>2006</td>\n",
       "    </tr>\n",
       "    <tr>\n",
       "      <th>5</th>\n",
       "      <td>Army</td>\n",
       "      <td>Guard</td>\n",
       "      <td>Penetrating</td>\n",
       "      <td>33.0</td>\n",
       "      <td>2006</td>\n",
       "    </tr>\n",
       "    <tr>\n",
       "      <th>6</th>\n",
       "      <td>Army</td>\n",
       "      <td>Guard</td>\n",
       "      <td>Severe</td>\n",
       "      <td>26.0</td>\n",
       "      <td>2006</td>\n",
       "    </tr>\n",
       "    <tr>\n",
       "      <th>7</th>\n",
       "      <td>Army</td>\n",
       "      <td>Guard</td>\n",
       "      <td>Moderate</td>\n",
       "      <td>177.0</td>\n",
       "      <td>2006</td>\n",
       "    </tr>\n",
       "    <tr>\n",
       "      <th>8</th>\n",
       "      <td>Army</td>\n",
       "      <td>Guard</td>\n",
       "      <td>Mild</td>\n",
       "      <td>1332.0</td>\n",
       "      <td>2006</td>\n",
       "    </tr>\n",
       "    <tr>\n",
       "      <th>9</th>\n",
       "      <td>Army</td>\n",
       "      <td>Guard</td>\n",
       "      <td>Not Classifiable</td>\n",
       "      <td>29.0</td>\n",
       "      <td>2006</td>\n",
       "    </tr>\n",
       "    <tr>\n",
       "      <th>10</th>\n",
       "      <td>Army</td>\n",
       "      <td>Reserve</td>\n",
       "      <td>Penetrating</td>\n",
       "      <td>12.0</td>\n",
       "      <td>2006</td>\n",
       "    </tr>\n",
       "    <tr>\n",
       "      <th>11</th>\n",
       "      <td>Army</td>\n",
       "      <td>Reserve</td>\n",
       "      <td>Severe</td>\n",
       "      <td>11.0</td>\n",
       "      <td>2006</td>\n",
       "    </tr>\n",
       "    <tr>\n",
       "      <th>12</th>\n",
       "      <td>Army</td>\n",
       "      <td>Reserve</td>\n",
       "      <td>Moderate</td>\n",
       "      <td>63.0</td>\n",
       "      <td>2006</td>\n",
       "    </tr>\n",
       "    <tr>\n",
       "      <th>13</th>\n",
       "      <td>Army</td>\n",
       "      <td>Reserve</td>\n",
       "      <td>Mild</td>\n",
       "      <td>541.0</td>\n",
       "      <td>2006</td>\n",
       "    </tr>\n",
       "    <tr>\n",
       "      <th>14</th>\n",
       "      <td>Army</td>\n",
       "      <td>Reserve</td>\n",
       "      <td>Not Classifiable</td>\n",
       "      <td>12.0</td>\n",
       "      <td>2006</td>\n",
       "    </tr>\n",
       "    <tr>\n",
       "      <th>15</th>\n",
       "      <td>Navy</td>\n",
       "      <td>Active</td>\n",
       "      <td>Penetrating</td>\n",
       "      <td>29.0</td>\n",
       "      <td>2006</td>\n",
       "    </tr>\n",
       "    <tr>\n",
       "      <th>16</th>\n",
       "      <td>Navy</td>\n",
       "      <td>Active</td>\n",
       "      <td>Severe</td>\n",
       "      <td>28.0</td>\n",
       "      <td>2006</td>\n",
       "    </tr>\n",
       "    <tr>\n",
       "      <th>17</th>\n",
       "      <td>Navy</td>\n",
       "      <td>Active</td>\n",
       "      <td>Moderate</td>\n",
       "      <td>217.0</td>\n",
       "      <td>2006</td>\n",
       "    </tr>\n",
       "    <tr>\n",
       "      <th>18</th>\n",
       "      <td>Navy</td>\n",
       "      <td>Active</td>\n",
       "      <td>Mild</td>\n",
       "      <td>2143.0</td>\n",
       "      <td>2006</td>\n",
       "    </tr>\n",
       "    <tr>\n",
       "      <th>19</th>\n",
       "      <td>Navy</td>\n",
       "      <td>Active</td>\n",
       "      <td>Not Classifiable</td>\n",
       "      <td>56.0</td>\n",
       "      <td>2006</td>\n",
       "    </tr>\n",
       "  </tbody>\n",
       "</table>\n",
       "</div>"
      ],
      "text/plain": [
       "   service component          severity  diagnosed  year\n",
       "0     Army    Active       Penetrating      189.0  2006\n",
       "1     Army    Active            Severe      102.0  2006\n",
       "2     Army    Active          Moderate      709.0  2006\n",
       "3     Army    Active              Mild     5896.0  2006\n",
       "4     Army    Active  Not Classifiable      122.0  2006\n",
       "5     Army     Guard       Penetrating       33.0  2006\n",
       "6     Army     Guard            Severe       26.0  2006\n",
       "7     Army     Guard          Moderate      177.0  2006\n",
       "8     Army     Guard              Mild     1332.0  2006\n",
       "9     Army     Guard  Not Classifiable       29.0  2006\n",
       "10    Army   Reserve       Penetrating       12.0  2006\n",
       "11    Army   Reserve            Severe       11.0  2006\n",
       "12    Army   Reserve          Moderate       63.0  2006\n",
       "13    Army   Reserve              Mild      541.0  2006\n",
       "14    Army   Reserve  Not Classifiable       12.0  2006\n",
       "15    Navy    Active       Penetrating       29.0  2006\n",
       "16    Navy    Active            Severe       28.0  2006\n",
       "17    Navy    Active          Moderate      217.0  2006\n",
       "18    Navy    Active              Mild     2143.0  2006\n",
       "19    Navy    Active  Not Classifiable       56.0  2006"
      ]
     },
     "execution_count": 81,
     "metadata": {},
     "output_type": "execute_result"
    }
   ],
   "source": [
    "military_df.head(20)"
   ]
  },
  {
   "cell_type": "markdown",
   "metadata": {},
   "source": [
    "Display missing observations and data types for each variable."
   ]
  },
  {
   "cell_type": "code",
   "execution_count": 82,
   "metadata": {},
   "outputs": [
    {
     "name": "stdout",
     "output_type": "stream",
     "text": [
      "<class 'pandas.core.frame.DataFrame'>\n",
      "RangeIndex: 450 entries, 0 to 449\n",
      "Data columns (total 5 columns):\n",
      " #   Column     Non-Null Count  Dtype  \n",
      "---  ------     --------------  -----  \n",
      " 0   service    450 non-null    object \n",
      " 1   component  450 non-null    object \n",
      " 2   severity   450 non-null    object \n",
      " 3   diagnosed  438 non-null    float64\n",
      " 4   year       450 non-null    int64  \n",
      "dtypes: float64(1), int64(1), object(3)\n",
      "memory usage: 17.7+ KB\n"
     ]
    }
   ],
   "source": [
    "military_df.info()"
   ]
  },
  {
   "cell_type": "code",
   "execution_count": 83,
   "metadata": {},
   "outputs": [
    {
     "name": "stdout",
     "output_type": "stream",
     "text": [
      "service       0\n",
      "component     0\n",
      "severity      0\n",
      "diagnosed    12\n",
      "year          0\n",
      "dtype: int64\n"
     ]
    }
   ],
   "source": [
    "print(military_df.isna().sum())"
   ]
  },
  {
   "cell_type": "markdown",
   "metadata": {},
   "source": [
    "Display number of unique observations per variable and display value counts for certain variables."
   ]
  },
  {
   "cell_type": "code",
   "execution_count": 84,
   "metadata": {},
   "outputs": [
    {
     "data": {
      "text/plain": [
       "service        4\n",
       "component      3\n",
       "severity       5\n",
       "diagnosed    229\n",
       "year           9\n",
       "dtype: int64"
      ]
     },
     "execution_count": 84,
     "metadata": {},
     "output_type": "execute_result"
    }
   ],
   "source": [
    "military_df.nunique()"
   ]
  },
  {
   "cell_type": "code",
   "execution_count": 85,
   "metadata": {},
   "outputs": [
    {
     "data": {
      "text/plain": [
       "2006    50\n",
       "2007    50\n",
       "2008    50\n",
       "2009    50\n",
       "2010    50\n",
       "2011    50\n",
       "2012    50\n",
       "2013    50\n",
       "2014    50\n",
       "Name: year, dtype: int64"
      ]
     },
     "execution_count": 85,
     "metadata": {},
     "output_type": "execute_result"
    }
   ],
   "source": [
    "military_df.year.value_counts()"
   ]
  },
  {
   "cell_type": "code",
   "execution_count": 86,
   "metadata": {},
   "outputs": [
    {
     "data": {
      "text/plain": [
       "Mild                90\n",
       "Severe              90\n",
       "Not Classifiable    90\n",
       "Penetrating         90\n",
       "Moderate            90\n",
       "Name: severity, dtype: int64"
      ]
     },
     "execution_count": 86,
     "metadata": {},
     "output_type": "execute_result"
    }
   ],
   "source": [
    "military_df.severity.value_counts()"
   ]
  },
  {
   "cell_type": "markdown",
   "metadata": {},
   "source": [
    "Look at rows for one severity level and one year to verify military data is provided by service, component, severity, and year."
   ]
  },
  {
   "cell_type": "code",
   "execution_count": 87,
   "metadata": {},
   "outputs": [],
   "source": [
    "pen_df = military_df.loc[(military_df['severity'] == 'Penetrating') & (military_df['year'] == 2009)]"
   ]
  },
  {
   "cell_type": "code",
   "execution_count": 88,
   "metadata": {},
   "outputs": [
    {
     "data": {
      "text/plain": [
       "(10, 5)"
      ]
     },
     "execution_count": 88,
     "metadata": {},
     "output_type": "execute_result"
    }
   ],
   "source": [
    "pen_df.shape"
   ]
  },
  {
   "cell_type": "code",
   "execution_count": 89,
   "metadata": {},
   "outputs": [
    {
     "data": {
      "text/html": [
       "<div>\n",
       "<style scoped>\n",
       "    .dataframe tbody tr th:only-of-type {\n",
       "        vertical-align: middle;\n",
       "    }\n",
       "\n",
       "    .dataframe tbody tr th {\n",
       "        vertical-align: top;\n",
       "    }\n",
       "\n",
       "    .dataframe thead th {\n",
       "        text-align: right;\n",
       "    }\n",
       "</style>\n",
       "<table border=\"1\" class=\"dataframe\">\n",
       "  <thead>\n",
       "    <tr style=\"text-align: right;\">\n",
       "      <th></th>\n",
       "      <th>service</th>\n",
       "      <th>component</th>\n",
       "      <th>severity</th>\n",
       "      <th>diagnosed</th>\n",
       "      <th>year</th>\n",
       "    </tr>\n",
       "  </thead>\n",
       "  <tbody>\n",
       "    <tr>\n",
       "      <th>150</th>\n",
       "      <td>Army</td>\n",
       "      <td>Active</td>\n",
       "      <td>Penetrating</td>\n",
       "      <td>333.0</td>\n",
       "      <td>2009</td>\n",
       "    </tr>\n",
       "    <tr>\n",
       "      <th>155</th>\n",
       "      <td>Army</td>\n",
       "      <td>Guard</td>\n",
       "      <td>Penetrating</td>\n",
       "      <td>67.0</td>\n",
       "      <td>2009</td>\n",
       "    </tr>\n",
       "    <tr>\n",
       "      <th>160</th>\n",
       "      <td>Army</td>\n",
       "      <td>Reserve</td>\n",
       "      <td>Penetrating</td>\n",
       "      <td>17.0</td>\n",
       "      <td>2009</td>\n",
       "    </tr>\n",
       "    <tr>\n",
       "      <th>165</th>\n",
       "      <td>Navy</td>\n",
       "      <td>Active</td>\n",
       "      <td>Penetrating</td>\n",
       "      <td>25.0</td>\n",
       "      <td>2009</td>\n",
       "    </tr>\n",
       "    <tr>\n",
       "      <th>170</th>\n",
       "      <td>Navy</td>\n",
       "      <td>Reserve</td>\n",
       "      <td>Penetrating</td>\n",
       "      <td>3.0</td>\n",
       "      <td>2009</td>\n",
       "    </tr>\n",
       "    <tr>\n",
       "      <th>175</th>\n",
       "      <td>Air Force</td>\n",
       "      <td>Active</td>\n",
       "      <td>Penetrating</td>\n",
       "      <td>25.0</td>\n",
       "      <td>2009</td>\n",
       "    </tr>\n",
       "    <tr>\n",
       "      <th>180</th>\n",
       "      <td>Air Force</td>\n",
       "      <td>Guard</td>\n",
       "      <td>Penetrating</td>\n",
       "      <td>2.0</td>\n",
       "      <td>2009</td>\n",
       "    </tr>\n",
       "    <tr>\n",
       "      <th>185</th>\n",
       "      <td>Air Force</td>\n",
       "      <td>Reserve</td>\n",
       "      <td>Penetrating</td>\n",
       "      <td>2.0</td>\n",
       "      <td>2009</td>\n",
       "    </tr>\n",
       "    <tr>\n",
       "      <th>190</th>\n",
       "      <td>Marines</td>\n",
       "      <td>Active</td>\n",
       "      <td>Penetrating</td>\n",
       "      <td>42.0</td>\n",
       "      <td>2009</td>\n",
       "    </tr>\n",
       "    <tr>\n",
       "      <th>195</th>\n",
       "      <td>Marines</td>\n",
       "      <td>Reserve</td>\n",
       "      <td>Penetrating</td>\n",
       "      <td>2.0</td>\n",
       "      <td>2009</td>\n",
       "    </tr>\n",
       "  </tbody>\n",
       "</table>\n",
       "</div>"
      ],
      "text/plain": [
       "       service component     severity  diagnosed  year\n",
       "150       Army    Active  Penetrating      333.0  2009\n",
       "155       Army     Guard  Penetrating       67.0  2009\n",
       "160       Army   Reserve  Penetrating       17.0  2009\n",
       "165       Navy    Active  Penetrating       25.0  2009\n",
       "170       Navy   Reserve  Penetrating        3.0  2009\n",
       "175  Air Force    Active  Penetrating       25.0  2009\n",
       "180  Air Force     Guard  Penetrating        2.0  2009\n",
       "185  Air Force   Reserve  Penetrating        2.0  2009\n",
       "190    Marines    Active  Penetrating       42.0  2009\n",
       "195    Marines   Reserve  Penetrating        2.0  2009"
      ]
     },
     "execution_count": 89,
     "metadata": {},
     "output_type": "execute_result"
    }
   ],
   "source": [
    "pen_df.head(10)"
   ]
  },
  {
   "cell_type": "code",
   "execution_count": 90,
   "metadata": {},
   "outputs": [],
   "source": [
    "missing_df = military_df.loc[military_df['diagnosed'].isna()]"
   ]
  },
  {
   "cell_type": "code",
   "execution_count": 91,
   "metadata": {},
   "outputs": [
    {
     "data": {
      "text/html": [
       "<div>\n",
       "<style scoped>\n",
       "    .dataframe tbody tr th:only-of-type {\n",
       "        vertical-align: middle;\n",
       "    }\n",
       "\n",
       "    .dataframe tbody tr th {\n",
       "        vertical-align: top;\n",
       "    }\n",
       "\n",
       "    .dataframe thead th {\n",
       "        text-align: right;\n",
       "    }\n",
       "</style>\n",
       "<table border=\"1\" class=\"dataframe\">\n",
       "  <thead>\n",
       "    <tr style=\"text-align: right;\">\n",
       "      <th></th>\n",
       "      <th>service</th>\n",
       "      <th>component</th>\n",
       "      <th>severity</th>\n",
       "      <th>diagnosed</th>\n",
       "      <th>year</th>\n",
       "    </tr>\n",
       "  </thead>\n",
       "  <tbody>\n",
       "    <tr>\n",
       "      <th>20</th>\n",
       "      <td>Navy</td>\n",
       "      <td>Reserve</td>\n",
       "      <td>Penetrating</td>\n",
       "      <td>NaN</td>\n",
       "      <td>2006</td>\n",
       "    </tr>\n",
       "    <tr>\n",
       "      <th>35</th>\n",
       "      <td>Air Force</td>\n",
       "      <td>Reserve</td>\n",
       "      <td>Penetrating</td>\n",
       "      <td>NaN</td>\n",
       "      <td>2006</td>\n",
       "    </tr>\n",
       "    <tr>\n",
       "      <th>85</th>\n",
       "      <td>Air Force</td>\n",
       "      <td>Reserve</td>\n",
       "      <td>Penetrating</td>\n",
       "      <td>NaN</td>\n",
       "      <td>2007</td>\n",
       "    </tr>\n",
       "    <tr>\n",
       "      <th>86</th>\n",
       "      <td>Air Force</td>\n",
       "      <td>Reserve</td>\n",
       "      <td>Severe</td>\n",
       "      <td>NaN</td>\n",
       "      <td>2007</td>\n",
       "    </tr>\n",
       "    <tr>\n",
       "      <th>95</th>\n",
       "      <td>Marines</td>\n",
       "      <td>Reserve</td>\n",
       "      <td>Penetrating</td>\n",
       "      <td>NaN</td>\n",
       "      <td>2007</td>\n",
       "    </tr>\n",
       "    <tr>\n",
       "      <th>131</th>\n",
       "      <td>Air Force</td>\n",
       "      <td>Guard</td>\n",
       "      <td>Severe</td>\n",
       "      <td>NaN</td>\n",
       "      <td>2008</td>\n",
       "    </tr>\n",
       "    <tr>\n",
       "      <th>135</th>\n",
       "      <td>Air Force</td>\n",
       "      <td>Reserve</td>\n",
       "      <td>Penetrating</td>\n",
       "      <td>NaN</td>\n",
       "      <td>2008</td>\n",
       "    </tr>\n",
       "    <tr>\n",
       "      <th>281</th>\n",
       "      <td>Air Force</td>\n",
       "      <td>Guard</td>\n",
       "      <td>Severe</td>\n",
       "      <td>NaN</td>\n",
       "      <td>2011</td>\n",
       "    </tr>\n",
       "    <tr>\n",
       "      <th>321</th>\n",
       "      <td>Navy</td>\n",
       "      <td>Reserve</td>\n",
       "      <td>Severe</td>\n",
       "      <td>NaN</td>\n",
       "      <td>2012</td>\n",
       "    </tr>\n",
       "    <tr>\n",
       "      <th>336</th>\n",
       "      <td>Air Force</td>\n",
       "      <td>Reserve</td>\n",
       "      <td>Severe</td>\n",
       "      <td>NaN</td>\n",
       "      <td>2012</td>\n",
       "    </tr>\n",
       "    <tr>\n",
       "      <th>370</th>\n",
       "      <td>Navy</td>\n",
       "      <td>Reserve</td>\n",
       "      <td>Penetrating</td>\n",
       "      <td>NaN</td>\n",
       "      <td>2013</td>\n",
       "    </tr>\n",
       "    <tr>\n",
       "      <th>386</th>\n",
       "      <td>Air Force</td>\n",
       "      <td>Reserve</td>\n",
       "      <td>Severe</td>\n",
       "      <td>NaN</td>\n",
       "      <td>2013</td>\n",
       "    </tr>\n",
       "  </tbody>\n",
       "</table>\n",
       "</div>"
      ],
      "text/plain": [
       "       service component     severity  diagnosed  year\n",
       "20        Navy   Reserve  Penetrating        NaN  2006\n",
       "35   Air Force   Reserve  Penetrating        NaN  2006\n",
       "85   Air Force   Reserve  Penetrating        NaN  2007\n",
       "86   Air Force   Reserve       Severe        NaN  2007\n",
       "95     Marines   Reserve  Penetrating        NaN  2007\n",
       "131  Air Force     Guard       Severe        NaN  2008\n",
       "135  Air Force   Reserve  Penetrating        NaN  2008\n",
       "281  Air Force     Guard       Severe        NaN  2011\n",
       "321       Navy   Reserve       Severe        NaN  2012\n",
       "336  Air Force   Reserve       Severe        NaN  2012\n",
       "370       Navy   Reserve  Penetrating        NaN  2013\n",
       "386  Air Force   Reserve       Severe        NaN  2013"
      ]
     },
     "execution_count": 91,
     "metadata": {},
     "output_type": "execute_result"
    }
   ],
   "source": [
    "missing_df.head(12)"
   ]
  },
  {
   "cell_type": "markdown",
   "metadata": {},
   "source": [
    "#### dod_tbi_2006.csv \n",
    "Read the raw data in from tidytuesday site.\n",
    "\n",
    "I could not figure out how to access this file without downloading it and opening it up with Excel and TextEdit. When I did this, I found a lot of non-alpha-numeric characters. There were some lines in the file that looked like tab separated data, but there were no headings and there were not many lines of this data compared to the number of lines of unreadable characters. I do not think this file was meant to be accessed for anything - perhaps it has a very specific purpose only known to the creators."
   ]
  },
  {
   "cell_type": "code",
   "execution_count": 94,
   "metadata": {},
   "outputs": [],
   "source": [
    "data_url = 'dod_tbi_2006.csv'"
   ]
  },
  {
   "cell_type": "code",
   "execution_count": 95,
   "metadata": {},
   "outputs": [
    {
     "ename": "FileNotFoundError",
     "evalue": "[Errno 2] No such file or directory: 'dod_tbi_2006.csv'",
     "output_type": "error",
     "traceback": [
      "\u001b[0;31m---------------------------------------------------------------------------\u001b[0m",
      "\u001b[0;31mFileNotFoundError\u001b[0m                         Traceback (most recent call last)",
      "\u001b[0;32m<ipython-input-95-915866f7317f>\u001b[0m in \u001b[0;36m<module>\u001b[0;34m\u001b[0m\n\u001b[0;32m----> 1\u001b[0;31m \u001b[0mdod_2006_df\u001b[0m \u001b[0;34m=\u001b[0m \u001b[0mpd\u001b[0m\u001b[0;34m.\u001b[0m\u001b[0mread_csv\u001b[0m\u001b[0;34m(\u001b[0m\u001b[0mdata_url\u001b[0m\u001b[0;34m)\u001b[0m\u001b[0;34m\u001b[0m\u001b[0;34m\u001b[0m\u001b[0m\n\u001b[0m",
      "\u001b[0;32m/opt/anaconda3/envs/cmpinf_2110/lib/python3.8/site-packages/pandas/io/parsers.py\u001b[0m in \u001b[0;36mread_csv\u001b[0;34m(filepath_or_buffer, sep, delimiter, header, names, index_col, usecols, squeeze, prefix, mangle_dupe_cols, dtype, engine, converters, true_values, false_values, skipinitialspace, skiprows, skipfooter, nrows, na_values, keep_default_na, na_filter, verbose, skip_blank_lines, parse_dates, infer_datetime_format, keep_date_col, date_parser, dayfirst, cache_dates, iterator, chunksize, compression, thousands, decimal, lineterminator, quotechar, quoting, doublequote, escapechar, comment, encoding, dialect, error_bad_lines, warn_bad_lines, delim_whitespace, low_memory, memory_map, float_precision, storage_options)\u001b[0m\n\u001b[1;32m    603\u001b[0m     \u001b[0mkwds\u001b[0m\u001b[0;34m.\u001b[0m\u001b[0mupdate\u001b[0m\u001b[0;34m(\u001b[0m\u001b[0mkwds_defaults\u001b[0m\u001b[0;34m)\u001b[0m\u001b[0;34m\u001b[0m\u001b[0;34m\u001b[0m\u001b[0m\n\u001b[1;32m    604\u001b[0m \u001b[0;34m\u001b[0m\u001b[0m\n\u001b[0;32m--> 605\u001b[0;31m     \u001b[0;32mreturn\u001b[0m \u001b[0m_read\u001b[0m\u001b[0;34m(\u001b[0m\u001b[0mfilepath_or_buffer\u001b[0m\u001b[0;34m,\u001b[0m \u001b[0mkwds\u001b[0m\u001b[0;34m)\u001b[0m\u001b[0;34m\u001b[0m\u001b[0;34m\u001b[0m\u001b[0m\n\u001b[0m\u001b[1;32m    606\u001b[0m \u001b[0;34m\u001b[0m\u001b[0m\n\u001b[1;32m    607\u001b[0m \u001b[0;34m\u001b[0m\u001b[0m\n",
      "\u001b[0;32m/opt/anaconda3/envs/cmpinf_2110/lib/python3.8/site-packages/pandas/io/parsers.py\u001b[0m in \u001b[0;36m_read\u001b[0;34m(filepath_or_buffer, kwds)\u001b[0m\n\u001b[1;32m    455\u001b[0m \u001b[0;34m\u001b[0m\u001b[0m\n\u001b[1;32m    456\u001b[0m     \u001b[0;31m# Create the parser.\u001b[0m\u001b[0;34m\u001b[0m\u001b[0;34m\u001b[0m\u001b[0;34m\u001b[0m\u001b[0m\n\u001b[0;32m--> 457\u001b[0;31m     \u001b[0mparser\u001b[0m \u001b[0;34m=\u001b[0m \u001b[0mTextFileReader\u001b[0m\u001b[0;34m(\u001b[0m\u001b[0mfilepath_or_buffer\u001b[0m\u001b[0;34m,\u001b[0m \u001b[0;34m**\u001b[0m\u001b[0mkwds\u001b[0m\u001b[0;34m)\u001b[0m\u001b[0;34m\u001b[0m\u001b[0;34m\u001b[0m\u001b[0m\n\u001b[0m\u001b[1;32m    458\u001b[0m \u001b[0;34m\u001b[0m\u001b[0m\n\u001b[1;32m    459\u001b[0m     \u001b[0;32mif\u001b[0m \u001b[0mchunksize\u001b[0m \u001b[0;32mor\u001b[0m \u001b[0miterator\u001b[0m\u001b[0;34m:\u001b[0m\u001b[0;34m\u001b[0m\u001b[0;34m\u001b[0m\u001b[0m\n",
      "\u001b[0;32m/opt/anaconda3/envs/cmpinf_2110/lib/python3.8/site-packages/pandas/io/parsers.py\u001b[0m in \u001b[0;36m__init__\u001b[0;34m(self, f, engine, **kwds)\u001b[0m\n\u001b[1;32m    812\u001b[0m             \u001b[0mself\u001b[0m\u001b[0;34m.\u001b[0m\u001b[0moptions\u001b[0m\u001b[0;34m[\u001b[0m\u001b[0;34m\"has_index_names\"\u001b[0m\u001b[0;34m]\u001b[0m \u001b[0;34m=\u001b[0m \u001b[0mkwds\u001b[0m\u001b[0;34m[\u001b[0m\u001b[0;34m\"has_index_names\"\u001b[0m\u001b[0;34m]\u001b[0m\u001b[0;34m\u001b[0m\u001b[0;34m\u001b[0m\u001b[0m\n\u001b[1;32m    813\u001b[0m \u001b[0;34m\u001b[0m\u001b[0m\n\u001b[0;32m--> 814\u001b[0;31m         \u001b[0mself\u001b[0m\u001b[0;34m.\u001b[0m\u001b[0m_engine\u001b[0m \u001b[0;34m=\u001b[0m \u001b[0mself\u001b[0m\u001b[0;34m.\u001b[0m\u001b[0m_make_engine\u001b[0m\u001b[0;34m(\u001b[0m\u001b[0mself\u001b[0m\u001b[0;34m.\u001b[0m\u001b[0mengine\u001b[0m\u001b[0;34m)\u001b[0m\u001b[0;34m\u001b[0m\u001b[0;34m\u001b[0m\u001b[0m\n\u001b[0m\u001b[1;32m    815\u001b[0m \u001b[0;34m\u001b[0m\u001b[0m\n\u001b[1;32m    816\u001b[0m     \u001b[0;32mdef\u001b[0m \u001b[0mclose\u001b[0m\u001b[0;34m(\u001b[0m\u001b[0mself\u001b[0m\u001b[0;34m)\u001b[0m\u001b[0;34m:\u001b[0m\u001b[0;34m\u001b[0m\u001b[0;34m\u001b[0m\u001b[0m\n",
      "\u001b[0;32m/opt/anaconda3/envs/cmpinf_2110/lib/python3.8/site-packages/pandas/io/parsers.py\u001b[0m in \u001b[0;36m_make_engine\u001b[0;34m(self, engine)\u001b[0m\n\u001b[1;32m   1043\u001b[0m             )\n\u001b[1;32m   1044\u001b[0m         \u001b[0;31m# error: Too many arguments for \"ParserBase\"\u001b[0m\u001b[0;34m\u001b[0m\u001b[0;34m\u001b[0m\u001b[0;34m\u001b[0m\u001b[0m\n\u001b[0;32m-> 1045\u001b[0;31m         \u001b[0;32mreturn\u001b[0m \u001b[0mmapping\u001b[0m\u001b[0;34m[\u001b[0m\u001b[0mengine\u001b[0m\u001b[0;34m]\u001b[0m\u001b[0;34m(\u001b[0m\u001b[0mself\u001b[0m\u001b[0;34m.\u001b[0m\u001b[0mf\u001b[0m\u001b[0;34m,\u001b[0m \u001b[0;34m**\u001b[0m\u001b[0mself\u001b[0m\u001b[0;34m.\u001b[0m\u001b[0moptions\u001b[0m\u001b[0;34m)\u001b[0m  \u001b[0;31m# type: ignore[call-arg]\u001b[0m\u001b[0;34m\u001b[0m\u001b[0;34m\u001b[0m\u001b[0m\n\u001b[0m\u001b[1;32m   1046\u001b[0m \u001b[0;34m\u001b[0m\u001b[0m\n\u001b[1;32m   1047\u001b[0m     \u001b[0;32mdef\u001b[0m \u001b[0m_failover_to_python\u001b[0m\u001b[0;34m(\u001b[0m\u001b[0mself\u001b[0m\u001b[0;34m)\u001b[0m\u001b[0;34m:\u001b[0m\u001b[0;34m\u001b[0m\u001b[0;34m\u001b[0m\u001b[0m\n",
      "\u001b[0;32m/opt/anaconda3/envs/cmpinf_2110/lib/python3.8/site-packages/pandas/io/parsers.py\u001b[0m in \u001b[0;36m__init__\u001b[0;34m(self, src, **kwds)\u001b[0m\n\u001b[1;32m   1860\u001b[0m \u001b[0;34m\u001b[0m\u001b[0m\n\u001b[1;32m   1861\u001b[0m         \u001b[0;31m# open handles\u001b[0m\u001b[0;34m\u001b[0m\u001b[0;34m\u001b[0m\u001b[0;34m\u001b[0m\u001b[0m\n\u001b[0;32m-> 1862\u001b[0;31m         \u001b[0mself\u001b[0m\u001b[0;34m.\u001b[0m\u001b[0m_open_handles\u001b[0m\u001b[0;34m(\u001b[0m\u001b[0msrc\u001b[0m\u001b[0;34m,\u001b[0m \u001b[0mkwds\u001b[0m\u001b[0;34m)\u001b[0m\u001b[0;34m\u001b[0m\u001b[0;34m\u001b[0m\u001b[0m\n\u001b[0m\u001b[1;32m   1863\u001b[0m         \u001b[0;32massert\u001b[0m \u001b[0mself\u001b[0m\u001b[0;34m.\u001b[0m\u001b[0mhandles\u001b[0m \u001b[0;32mis\u001b[0m \u001b[0;32mnot\u001b[0m \u001b[0;32mNone\u001b[0m\u001b[0;34m\u001b[0m\u001b[0;34m\u001b[0m\u001b[0m\n\u001b[1;32m   1864\u001b[0m         \u001b[0;32mfor\u001b[0m \u001b[0mkey\u001b[0m \u001b[0;32min\u001b[0m \u001b[0;34m(\u001b[0m\u001b[0;34m\"storage_options\"\u001b[0m\u001b[0;34m,\u001b[0m \u001b[0;34m\"encoding\"\u001b[0m\u001b[0;34m,\u001b[0m \u001b[0;34m\"memory_map\"\u001b[0m\u001b[0;34m,\u001b[0m \u001b[0;34m\"compression\"\u001b[0m\u001b[0;34m)\u001b[0m\u001b[0;34m:\u001b[0m\u001b[0;34m\u001b[0m\u001b[0;34m\u001b[0m\u001b[0m\n",
      "\u001b[0;32m/opt/anaconda3/envs/cmpinf_2110/lib/python3.8/site-packages/pandas/io/parsers.py\u001b[0m in \u001b[0;36m_open_handles\u001b[0;34m(self, src, kwds)\u001b[0m\n\u001b[1;32m   1355\u001b[0m         \u001b[0mLet\u001b[0m \u001b[0mthe\u001b[0m \u001b[0mreaders\u001b[0m \u001b[0mopen\u001b[0m \u001b[0mIOHanldes\u001b[0m \u001b[0mafter\u001b[0m \u001b[0mthey\u001b[0m \u001b[0mare\u001b[0m \u001b[0mdone\u001b[0m \u001b[0;32mwith\u001b[0m \u001b[0mtheir\u001b[0m \u001b[0mpotential\u001b[0m \u001b[0mraises\u001b[0m\u001b[0;34m.\u001b[0m\u001b[0;34m\u001b[0m\u001b[0;34m\u001b[0m\u001b[0m\n\u001b[1;32m   1356\u001b[0m         \"\"\"\n\u001b[0;32m-> 1357\u001b[0;31m         self.handles = get_handle(\n\u001b[0m\u001b[1;32m   1358\u001b[0m             \u001b[0msrc\u001b[0m\u001b[0;34m,\u001b[0m\u001b[0;34m\u001b[0m\u001b[0;34m\u001b[0m\u001b[0m\n\u001b[1;32m   1359\u001b[0m             \u001b[0;34m\"r\"\u001b[0m\u001b[0;34m,\u001b[0m\u001b[0;34m\u001b[0m\u001b[0;34m\u001b[0m\u001b[0m\n",
      "\u001b[0;32m/opt/anaconda3/envs/cmpinf_2110/lib/python3.8/site-packages/pandas/io/common.py\u001b[0m in \u001b[0;36mget_handle\u001b[0;34m(path_or_buf, mode, encoding, compression, memory_map, is_text, errors, storage_options)\u001b[0m\n\u001b[1;32m    640\u001b[0m                 \u001b[0merrors\u001b[0m \u001b[0;34m=\u001b[0m \u001b[0;34m\"replace\"\u001b[0m\u001b[0;34m\u001b[0m\u001b[0;34m\u001b[0m\u001b[0m\n\u001b[1;32m    641\u001b[0m             \u001b[0;31m# Encoding\u001b[0m\u001b[0;34m\u001b[0m\u001b[0;34m\u001b[0m\u001b[0;34m\u001b[0m\u001b[0m\n\u001b[0;32m--> 642\u001b[0;31m             handle = open(\n\u001b[0m\u001b[1;32m    643\u001b[0m                 \u001b[0mhandle\u001b[0m\u001b[0;34m,\u001b[0m\u001b[0;34m\u001b[0m\u001b[0;34m\u001b[0m\u001b[0m\n\u001b[1;32m    644\u001b[0m                 \u001b[0mioargs\u001b[0m\u001b[0;34m.\u001b[0m\u001b[0mmode\u001b[0m\u001b[0;34m,\u001b[0m\u001b[0;34m\u001b[0m\u001b[0;34m\u001b[0m\u001b[0m\n",
      "\u001b[0;31mFileNotFoundError\u001b[0m: [Errno 2] No such file or directory: 'dod_tbi_2006.csv'"
     ]
    }
   ],
   "source": [
    "dod_2006_df = pd.read_csv(data_url)"
   ]
  },
  {
   "cell_type": "code",
   "execution_count": null,
   "metadata": {},
   "outputs": [],
   "source": []
  }
 ],
 "metadata": {
  "kernelspec": {
   "display_name": "Python 3",
   "language": "python",
   "name": "python3"
  },
  "language_info": {
   "codemirror_mode": {
    "name": "ipython",
    "version": 3
   },
   "file_extension": ".py",
   "mimetype": "text/x-python",
   "name": "python",
   "nbconvert_exporter": "python",
   "pygments_lexer": "ipython3",
   "version": "3.8.5"
  }
 },
 "nbformat": 4,
 "nbformat_minor": 2
}
