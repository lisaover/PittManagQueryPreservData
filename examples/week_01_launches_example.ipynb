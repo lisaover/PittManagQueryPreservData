{
 "cells": [
  {
   "cell_type": "markdown",
   "id": "enormous-designer",
   "metadata": {},
   "source": [
    "## Read in the launches CSV file from TidyTuesday"
   ]
  },
  {
   "cell_type": "code",
   "execution_count": 1,
   "id": "tracked-theme",
   "metadata": {},
   "outputs": [],
   "source": [
    "import pandas as pd"
   ]
  },
  {
   "cell_type": "code",
   "execution_count": 2,
   "id": "relevant-blind",
   "metadata": {},
   "outputs": [],
   "source": [
    "data_url = 'https://raw.githubusercontent.com/rfordatascience/tidytuesday/master/data/2019/2019-01-15/launches.csv'"
   ]
  },
  {
   "cell_type": "code",
   "execution_count": 3,
   "id": "corporate-accident",
   "metadata": {},
   "outputs": [],
   "source": [
    "df = pd.read_csv( data_url )"
   ]
  },
  {
   "cell_type": "code",
   "execution_count": 4,
   "id": "organized-religious",
   "metadata": {},
   "outputs": [
    {
     "name": "stdout",
     "output_type": "stream",
     "text": [
      "<class 'pandas.core.frame.DataFrame'>\n",
      "RangeIndex: 5726 entries, 0 to 5725\n",
      "Data columns (total 11 columns):\n",
      " #   Column       Non-Null Count  Dtype  \n",
      "---  ------       --------------  -----  \n",
      " 0   tag          5726 non-null   object \n",
      " 1   JD           5726 non-null   float64\n",
      " 2   launch_date  5713 non-null   object \n",
      " 3   launch_year  5726 non-null   int64  \n",
      " 4   type         5726 non-null   object \n",
      " 5   variant      745 non-null    object \n",
      " 6   mission      5705 non-null   object \n",
      " 7   agency       3282 non-null   object \n",
      " 8   state_code   5726 non-null   object \n",
      " 9   category     5726 non-null   object \n",
      " 10  agency_type  5726 non-null   object \n",
      "dtypes: float64(1), int64(1), object(9)\n",
      "memory usage: 492.2+ KB\n"
     ]
    }
   ],
   "source": [
    "df.info()"
   ]
  },
  {
   "cell_type": "code",
   "execution_count": 5,
   "id": "trying-contrary",
   "metadata": {},
   "outputs": [
    {
     "data": {
      "text/plain": [
       "tag               0\n",
       "JD                0\n",
       "launch_date      13\n",
       "launch_year       0\n",
       "type              0\n",
       "variant        4981\n",
       "mission          21\n",
       "agency         2444\n",
       "state_code        0\n",
       "category          0\n",
       "agency_type       0\n",
       "dtype: int64"
      ]
     },
     "execution_count": 5,
     "metadata": {},
     "output_type": "execute_result"
    }
   ],
   "source": [
    "df.isna().sum()"
   ]
  },
  {
   "cell_type": "code",
   "execution_count": 6,
   "id": "retired-australian",
   "metadata": {},
   "outputs": [
    {
     "data": {
      "text/plain": [
       "tag            5726\n",
       "JD             5720\n",
       "launch_date    5048\n",
       "launch_year      62\n",
       "type            366\n",
       "variant          72\n",
       "mission        4244\n",
       "agency           40\n",
       "state_code       17\n",
       "category          2\n",
       "agency_type       3\n",
       "dtype: int64"
      ]
     },
     "execution_count": 6,
     "metadata": {},
     "output_type": "execute_result"
    }
   ],
   "source": [
    "df.nunique()"
   ]
  },
  {
   "cell_type": "code",
   "execution_count": 7,
   "id": "indian-springer",
   "metadata": {},
   "outputs": [
    {
     "data": {
      "text/plain": [
       "O    5384\n",
       "F     342\n",
       "Name: category, dtype: int64"
      ]
     },
     "execution_count": 7,
     "metadata": {},
     "output_type": "execute_result"
    }
   ],
   "source": [
    "df.category.value_counts()"
   ]
  },
  {
   "cell_type": "code",
   "execution_count": 8,
   "id": "expanded-bahamas",
   "metadata": {},
   "outputs": [
    {
     "data": {
      "text/plain": [
       "2441076.82    2\n",
       "2443403.10    2\n",
       "2440933.04    2\n",
       "2437165.33    2\n",
       "2441550.94    2\n",
       "             ..\n",
       "2446411.11    1\n",
       "2445908.87    1\n",
       "2445220.93    1\n",
       "2446729.15    1\n",
       "2445448.10    1\n",
       "Name: JD, Length: 5720, dtype: int64"
      ]
     },
     "execution_count": 8,
     "metadata": {},
     "output_type": "execute_result"
    }
   ],
   "source": [
    "df.JD.value_counts()"
   ]
  },
  {
   "cell_type": "code",
   "execution_count": 9,
   "id": "damaged-utility",
   "metadata": {},
   "outputs": [
    {
     "data": {
      "text/html": [
       "<div>\n",
       "<style scoped>\n",
       "    .dataframe tbody tr th:only-of-type {\n",
       "        vertical-align: middle;\n",
       "    }\n",
       "\n",
       "    .dataframe tbody tr th {\n",
       "        vertical-align: top;\n",
       "    }\n",
       "\n",
       "    .dataframe thead th {\n",
       "        text-align: right;\n",
       "    }\n",
       "</style>\n",
       "<table border=\"1\" class=\"dataframe\">\n",
       "  <thead>\n",
       "    <tr style=\"text-align: right;\">\n",
       "      <th></th>\n",
       "      <th>tag</th>\n",
       "      <th>JD</th>\n",
       "      <th>launch_date</th>\n",
       "      <th>launch_year</th>\n",
       "      <th>type</th>\n",
       "      <th>variant</th>\n",
       "      <th>mission</th>\n",
       "      <th>agency</th>\n",
       "      <th>state_code</th>\n",
       "      <th>category</th>\n",
       "      <th>agency_type</th>\n",
       "    </tr>\n",
       "  </thead>\n",
       "  <tbody>\n",
       "    <tr>\n",
       "      <th>0</th>\n",
       "      <td>1967-065</td>\n",
       "      <td>2439671.38</td>\n",
       "      <td>1967-06-29</td>\n",
       "      <td>1967</td>\n",
       "      <td>Thor Burner 2</td>\n",
       "      <td>NaN</td>\n",
       "      <td>Secor Type II S/N 10</td>\n",
       "      <td>US</td>\n",
       "      <td>US</td>\n",
       "      <td>O</td>\n",
       "      <td>state</td>\n",
       "    </tr>\n",
       "    <tr>\n",
       "      <th>1</th>\n",
       "      <td>1967-080</td>\n",
       "      <td>2439725.70</td>\n",
       "      <td>1967-08-23</td>\n",
       "      <td>1967</td>\n",
       "      <td>Thor Burner 2</td>\n",
       "      <td>NaN</td>\n",
       "      <td>DAPP 3419</td>\n",
       "      <td>US</td>\n",
       "      <td>US</td>\n",
       "      <td>O</td>\n",
       "      <td>state</td>\n",
       "    </tr>\n",
       "    <tr>\n",
       "      <th>2</th>\n",
       "      <td>1967-096</td>\n",
       "      <td>2439774.83</td>\n",
       "      <td>1967-10-11</td>\n",
       "      <td>1967</td>\n",
       "      <td>Thor Burner 2</td>\n",
       "      <td>NaN</td>\n",
       "      <td>DAPP 4417</td>\n",
       "      <td>US</td>\n",
       "      <td>US</td>\n",
       "      <td>O</td>\n",
       "      <td>state</td>\n",
       "    </tr>\n",
       "    <tr>\n",
       "      <th>3</th>\n",
       "      <td>1968-042</td>\n",
       "      <td>2439999.69</td>\n",
       "      <td>1968-05-23</td>\n",
       "      <td>1968</td>\n",
       "      <td>Thor Burner 2</td>\n",
       "      <td>NaN</td>\n",
       "      <td>DAPP 5420</td>\n",
       "      <td>US</td>\n",
       "      <td>US</td>\n",
       "      <td>O</td>\n",
       "      <td>state</td>\n",
       "    </tr>\n",
       "    <tr>\n",
       "      <th>4</th>\n",
       "      <td>1968-092</td>\n",
       "      <td>2440152.69</td>\n",
       "      <td>1968-10-23</td>\n",
       "      <td>1968</td>\n",
       "      <td>Thor Burner 2</td>\n",
       "      <td>NaN</td>\n",
       "      <td>DAPP 6422</td>\n",
       "      <td>US</td>\n",
       "      <td>US</td>\n",
       "      <td>O</td>\n",
       "      <td>state</td>\n",
       "    </tr>\n",
       "  </tbody>\n",
       "</table>\n",
       "</div>"
      ],
      "text/plain": [
       "        tag          JD launch_date  launch_year           type variant  \\\n",
       "0  1967-065  2439671.38  1967-06-29         1967  Thor Burner 2     NaN   \n",
       "1  1967-080  2439725.70  1967-08-23         1967  Thor Burner 2     NaN   \n",
       "2  1967-096  2439774.83  1967-10-11         1967  Thor Burner 2     NaN   \n",
       "3  1968-042  2439999.69  1968-05-23         1968  Thor Burner 2     NaN   \n",
       "4  1968-092  2440152.69  1968-10-23         1968  Thor Burner 2     NaN   \n",
       "\n",
       "                mission agency state_code category agency_type  \n",
       "0  Secor Type II S/N 10     US         US        O       state  \n",
       "1             DAPP 3419     US         US        O       state  \n",
       "2             DAPP 4417     US         US        O       state  \n",
       "3             DAPP 5420     US         US        O       state  \n",
       "4             DAPP 6422     US         US        O       state  "
      ]
     },
     "execution_count": 9,
     "metadata": {},
     "output_type": "execute_result"
    }
   ],
   "source": [
    "df.head()"
   ]
  },
  {
   "cell_type": "code",
   "execution_count": 10,
   "id": "handed-packet",
   "metadata": {},
   "outputs": [
    {
     "data": {
      "text/plain": [
       "1967    139\n",
       "1971    134\n",
       "1975    132\n",
       "1966    131\n",
       "1976    131\n",
       "       ... \n",
       "1961     50\n",
       "1960     37\n",
       "1958     27\n",
       "1959     22\n",
       "1957      3\n",
       "Name: launch_year, Length: 62, dtype: int64"
      ]
     },
     "execution_count": 10,
     "metadata": {},
     "output_type": "execute_result"
    }
   ],
   "source": [
    "df.launch_year.value_counts()"
   ]
  },
  {
   "cell_type": "code",
   "execution_count": 11,
   "id": "noticed-desire",
   "metadata": {},
   "outputs": [
    {
     "data": {
      "text/html": [
       "<div>\n",
       "<style scoped>\n",
       "    .dataframe tbody tr th:only-of-type {\n",
       "        vertical-align: middle;\n",
       "    }\n",
       "\n",
       "    .dataframe tbody tr th {\n",
       "        vertical-align: top;\n",
       "    }\n",
       "\n",
       "    .dataframe thead th {\n",
       "        text-align: right;\n",
       "    }\n",
       "</style>\n",
       "<table border=\"1\" class=\"dataframe\">\n",
       "  <thead>\n",
       "    <tr style=\"text-align: right;\">\n",
       "      <th></th>\n",
       "      <th>type</th>\n",
       "      <th>num_rows</th>\n",
       "    </tr>\n",
       "  </thead>\n",
       "  <tbody>\n",
       "    <tr>\n",
       "      <th>0</th>\n",
       "      <td>ARPA Taurus</td>\n",
       "      <td>2</td>\n",
       "    </tr>\n",
       "    <tr>\n",
       "      <th>1</th>\n",
       "      <td>ASLV</td>\n",
       "      <td>4</td>\n",
       "    </tr>\n",
       "    <tr>\n",
       "      <th>2</th>\n",
       "      <td>Angara A5</td>\n",
       "      <td>1</td>\n",
       "    </tr>\n",
       "    <tr>\n",
       "      <th>3</th>\n",
       "      <td>Antares 110</td>\n",
       "      <td>2</td>\n",
       "    </tr>\n",
       "    <tr>\n",
       "      <th>4</th>\n",
       "      <td>Antares 120</td>\n",
       "      <td>2</td>\n",
       "    </tr>\n",
       "    <tr>\n",
       "      <th>...</th>\n",
       "      <td>...</td>\n",
       "      <td>...</td>\n",
       "    </tr>\n",
       "    <tr>\n",
       "      <th>361</th>\n",
       "      <td>Zenit-2 11K77.05</td>\n",
       "      <td>1</td>\n",
       "    </tr>\n",
       "    <tr>\n",
       "      <th>362</th>\n",
       "      <td>Zenit-2M</td>\n",
       "      <td>1</td>\n",
       "    </tr>\n",
       "    <tr>\n",
       "      <th>363</th>\n",
       "      <td>Zenit-2SB</td>\n",
       "      <td>1</td>\n",
       "    </tr>\n",
       "    <tr>\n",
       "      <th>364</th>\n",
       "      <td>Zenit-3SL</td>\n",
       "      <td>36</td>\n",
       "    </tr>\n",
       "    <tr>\n",
       "      <th>365</th>\n",
       "      <td>Zenit-3SLB</td>\n",
       "      <td>4</td>\n",
       "    </tr>\n",
       "  </tbody>\n",
       "</table>\n",
       "<p>366 rows × 2 columns</p>\n",
       "</div>"
      ],
      "text/plain": [
       "                 type  num_rows\n",
       "0         ARPA Taurus         2\n",
       "1                ASLV         4\n",
       "2           Angara A5         1\n",
       "3         Antares 110         2\n",
       "4         Antares 120         2\n",
       "..                ...       ...\n",
       "361  Zenit-2 11K77.05         1\n",
       "362          Zenit-2M         1\n",
       "363         Zenit-2SB         1\n",
       "364         Zenit-3SL        36\n",
       "365        Zenit-3SLB         4\n",
       "\n",
       "[366 rows x 2 columns]"
      ]
     },
     "execution_count": 11,
     "metadata": {},
     "output_type": "execute_result"
    }
   ],
   "source": [
    "df.groupby(['type']).size().reset_index(name='num_rows')"
   ]
  },
  {
   "cell_type": "code",
   "execution_count": 12,
   "id": "floppy-craps",
   "metadata": {},
   "outputs": [
    {
     "data": {
      "text/plain": [
       "US        1202\n",
       "RU         619\n",
       "CN         302\n",
       "AE         260\n",
       "ILSK        97\n",
       "J           78\n",
       "ULAL        71\n",
       "SPX         68\n",
       "IN          65\n",
       "MDSSC       62\n",
       "OSC         60\n",
       "ULAB        60\n",
       "BLS         56\n",
       "LMA         43\n",
       "MHI         34\n",
       "ILSL        31\n",
       "SEALP       26\n",
       "STSM        20\n",
       "GDCLS       14\n",
       "EUROK       14\n",
       "I-ESA       13\n",
       "F           11\n",
       "IL          10\n",
       "I            9\n",
       "IR           8\n",
       "MMCLS        7\n",
       "ELUS         6\n",
       "KP           5\n",
       "MMA          4\n",
       "PU           4\n",
       "SEALC        4\n",
       "RSC          3\n",
       "KR           3\n",
       "I-ELDO       3\n",
       "OATK         2\n",
       "UK           2\n",
       "RLABU        2\n",
       "BR           2\n",
       "EER          1\n",
       "LMSC         1\n",
       "Name: agency, dtype: int64"
      ]
     },
     "execution_count": 12,
     "metadata": {},
     "output_type": "execute_result"
    }
   ],
   "source": [
    "df.agency.value_counts()"
   ]
  },
  {
   "cell_type": "code",
   "execution_count": null,
   "id": "convinced-anthropology",
   "metadata": {},
   "outputs": [],
   "source": []
  }
 ],
 "metadata": {
  "kernelspec": {
   "display_name": "Python 3",
   "language": "python",
   "name": "python3"
  },
  "language_info": {
   "codemirror_mode": {
    "name": "ipython",
    "version": 3
   },
   "file_extension": ".py",
   "mimetype": "text/x-python",
   "name": "python",
   "nbconvert_exporter": "python",
   "pygments_lexer": "ipython3",
   "version": "3.8.5"
  }
 },
 "nbformat": 4,
 "nbformat_minor": 5
}
