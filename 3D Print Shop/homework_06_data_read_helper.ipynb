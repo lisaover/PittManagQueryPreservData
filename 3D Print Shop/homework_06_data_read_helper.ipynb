{
 "cells": [
  {
   "cell_type": "markdown",
   "id": "considered-democracy",
   "metadata": {},
   "source": [
    "## CMPINF 2110 Spring 2021 - Homework 06\n",
    "\n",
    "### SOLUTION GUIDE\n",
    "\n",
    "Helper notebook to read in and inspect the CSV files before importing into Neo4j.\n",
    "\n",
    "The data are located in the Github repo below.\n",
    "\n",
    "https://github.com/jyurko/CMPINF_2110_Spring_2021_data/tree/main/hw06"
   ]
  },
  {
   "cell_type": "markdown",
   "id": "listed-moment",
   "metadata": {},
   "source": [
    "## Import Modules"
   ]
  },
  {
   "cell_type": "code",
   "execution_count": 1,
   "id": "verified-capitol",
   "metadata": {},
   "outputs": [],
   "source": [
    "import numpy as np\n",
    "import pandas as pd\n",
    "import matplotlib.pyplot as plt\n",
    "\n",
    "import seaborn as sns"
   ]
  },
  {
   "cell_type": "markdown",
   "id": "exotic-edward",
   "metadata": {},
   "source": [
    "## Read data"
   ]
  },
  {
   "cell_type": "markdown",
   "id": "grateful-inventory",
   "metadata": {},
   "source": [
    "There are 8 CSV files in the Github repo. Four of the files have \"nouns\" as names. The other four files have \"nouns\" and \"verbs\" as names. Let's first look at the four \"noun\" files."
   ]
  },
  {
   "cell_type": "markdown",
   "id": "polyphonic-discovery",
   "metadata": {},
   "source": [
    "### Devices"
   ]
  },
  {
   "cell_type": "code",
   "execution_count": 2,
   "id": "aboriginal-district",
   "metadata": {},
   "outputs": [],
   "source": [
    "url_devices = 'https://raw.githubusercontent.com/jyurko/CMPINF_2110_Spring_2021_data/main/hw06/devices.csv'\n",
    "\n",
    "df_devices = pd.read_csv( url_devices )"
   ]
  },
  {
   "cell_type": "code",
   "execution_count": 3,
   "id": "champion-runner",
   "metadata": {},
   "outputs": [
    {
     "data": {
      "text/html": [
       "<div>\n",
       "<style scoped>\n",
       "    .dataframe tbody tr th:only-of-type {\n",
       "        vertical-align: middle;\n",
       "    }\n",
       "\n",
       "    .dataframe tbody tr th {\n",
       "        vertical-align: top;\n",
       "    }\n",
       "\n",
       "    .dataframe thead th {\n",
       "        text-align: right;\n",
       "    }\n",
       "</style>\n",
       "<table border=\"1\" class=\"dataframe\">\n",
       "  <thead>\n",
       "    <tr style=\"text-align: right;\">\n",
       "      <th></th>\n",
       "      <th>device_id</th>\n",
       "      <th>class</th>\n",
       "    </tr>\n",
       "  </thead>\n",
       "  <tbody>\n",
       "    <tr>\n",
       "      <th>0</th>\n",
       "      <td>1</td>\n",
       "      <td>doohickey</td>\n",
       "    </tr>\n",
       "    <tr>\n",
       "      <th>1</th>\n",
       "      <td>2</td>\n",
       "      <td>thing</td>\n",
       "    </tr>\n",
       "    <tr>\n",
       "      <th>2</th>\n",
       "      <td>3</td>\n",
       "      <td>whachmacallit</td>\n",
       "    </tr>\n",
       "    <tr>\n",
       "      <th>3</th>\n",
       "      <td>4</td>\n",
       "      <td>object</td>\n",
       "    </tr>\n",
       "  </tbody>\n",
       "</table>\n",
       "</div>"
      ],
      "text/plain": [
       "   device_id          class\n",
       "0          1      doohickey\n",
       "1          2          thing\n",
       "2          3  whachmacallit\n",
       "3          4         object"
      ]
     },
     "execution_count": 3,
     "metadata": {},
     "output_type": "execute_result"
    }
   ],
   "source": [
    "df_devices"
   ]
  },
  {
   "cell_type": "markdown",
   "id": "otherwise-translation",
   "metadata": {},
   "source": [
    "As we see above, there are 4 device classes. Each class in the `df_devices` DataFrame has a corresponding unique ID, `device_id`."
   ]
  },
  {
   "cell_type": "markdown",
   "id": "measured-shame",
   "metadata": {},
   "source": [
    "### Employees"
   ]
  },
  {
   "cell_type": "code",
   "execution_count": 4,
   "id": "satisfied-shepherd",
   "metadata": {},
   "outputs": [],
   "source": [
    "url_employees = 'https://raw.githubusercontent.com/jyurko/CMPINF_2110_Spring_2021_data/main/hw06/employees.csv'\n",
    "\n",
    "df_employees = pd.read_csv( url_employees )"
   ]
  },
  {
   "cell_type": "code",
   "execution_count": 5,
   "id": "objective-priest",
   "metadata": {},
   "outputs": [
    {
     "data": {
      "text/html": [
       "<div>\n",
       "<style scoped>\n",
       "    .dataframe tbody tr th:only-of-type {\n",
       "        vertical-align: middle;\n",
       "    }\n",
       "\n",
       "    .dataframe tbody tr th {\n",
       "        vertical-align: top;\n",
       "    }\n",
       "\n",
       "    .dataframe thead th {\n",
       "        text-align: right;\n",
       "    }\n",
       "</style>\n",
       "<table border=\"1\" class=\"dataframe\">\n",
       "  <thead>\n",
       "    <tr style=\"text-align: right;\">\n",
       "      <th></th>\n",
       "      <th>employee_id</th>\n",
       "      <th>name</th>\n",
       "      <th>started</th>\n",
       "    </tr>\n",
       "  </thead>\n",
       "  <tbody>\n",
       "    <tr>\n",
       "      <th>0</th>\n",
       "      <td>1</td>\n",
       "      <td>Alice</td>\n",
       "      <td>2017</td>\n",
       "    </tr>\n",
       "    <tr>\n",
       "      <th>1</th>\n",
       "      <td>2</td>\n",
       "      <td>Bob</td>\n",
       "      <td>2018</td>\n",
       "    </tr>\n",
       "    <tr>\n",
       "      <th>2</th>\n",
       "      <td>3</td>\n",
       "      <td>Chuck</td>\n",
       "      <td>2020</td>\n",
       "    </tr>\n",
       "    <tr>\n",
       "      <th>3</th>\n",
       "      <td>4</td>\n",
       "      <td>Dave</td>\n",
       "      <td>2019</td>\n",
       "    </tr>\n",
       "    <tr>\n",
       "      <th>4</th>\n",
       "      <td>5</td>\n",
       "      <td>Emily</td>\n",
       "      <td>2011</td>\n",
       "    </tr>\n",
       "  </tbody>\n",
       "</table>\n",
       "</div>"
      ],
      "text/plain": [
       "   employee_id   name  started\n",
       "0            1  Alice     2017\n",
       "1            2    Bob     2018\n",
       "2            3  Chuck     2020\n",
       "3            4   Dave     2019\n",
       "4            5  Emily     2011"
      ]
     },
     "execution_count": 5,
     "metadata": {},
     "output_type": "execute_result"
    }
   ],
   "source": [
    "df_employees"
   ]
  },
  {
   "cell_type": "markdown",
   "id": "alike-drilling",
   "metadata": {},
   "source": [
    "Each employee has an ID, `employee_id`, a name, and the year they joined the company as denoted by the `started` column."
   ]
  },
  {
   "cell_type": "markdown",
   "id": "flying-commission",
   "metadata": {},
   "source": [
    "### Machines"
   ]
  },
  {
   "cell_type": "code",
   "execution_count": 6,
   "id": "tested-julian",
   "metadata": {},
   "outputs": [],
   "source": [
    "url_machines = 'https://raw.githubusercontent.com/jyurko/CMPINF_2110_Spring_2021_data/main/hw06/machines.csv'\n",
    "\n",
    "df_machines = pd.read_csv( url_machines )"
   ]
  },
  {
   "cell_type": "code",
   "execution_count": 7,
   "id": "descending-validation",
   "metadata": {},
   "outputs": [
    {
     "data": {
      "text/html": [
       "<div>\n",
       "<style scoped>\n",
       "    .dataframe tbody tr th:only-of-type {\n",
       "        vertical-align: middle;\n",
       "    }\n",
       "\n",
       "    .dataframe tbody tr th {\n",
       "        vertical-align: top;\n",
       "    }\n",
       "\n",
       "    .dataframe thead th {\n",
       "        text-align: right;\n",
       "    }\n",
       "</style>\n",
       "<table border=\"1\" class=\"dataframe\">\n",
       "  <thead>\n",
       "    <tr style=\"text-align: right;\">\n",
       "      <th></th>\n",
       "      <th>machine_id</th>\n",
       "      <th>name</th>\n",
       "      <th>type</th>\n",
       "    </tr>\n",
       "  </thead>\n",
       "  <tbody>\n",
       "    <tr>\n",
       "      <th>0</th>\n",
       "      <td>1</td>\n",
       "      <td>alpha</td>\n",
       "      <td>printer</td>\n",
       "    </tr>\n",
       "    <tr>\n",
       "      <th>1</th>\n",
       "      <td>2</td>\n",
       "      <td>bravo</td>\n",
       "      <td>printer</td>\n",
       "    </tr>\n",
       "    <tr>\n",
       "      <th>2</th>\n",
       "      <td>3</td>\n",
       "      <td>charlie</td>\n",
       "      <td>printer</td>\n",
       "    </tr>\n",
       "    <tr>\n",
       "      <th>3</th>\n",
       "      <td>4</td>\n",
       "      <td>delta</td>\n",
       "      <td>printer</td>\n",
       "    </tr>\n",
       "  </tbody>\n",
       "</table>\n",
       "</div>"
      ],
      "text/plain": [
       "   machine_id     name     type\n",
       "0           1    alpha  printer\n",
       "1           2    bravo  printer\n",
       "2           3  charlie  printer\n",
       "3           4    delta  printer"
      ]
     },
     "execution_count": 7,
     "metadata": {},
     "output_type": "execute_result"
    }
   ],
   "source": [
    "df_machines"
   ]
  },
  {
   "cell_type": "markdown",
   "id": "white-doctor",
   "metadata": {},
   "source": [
    "There are four machines. Each machine has a unique ID, `machine_id`, a `name`, and the `type`. In this example, all machines are of the same type."
   ]
  },
  {
   "cell_type": "markdown",
   "id": "considerable-tuning",
   "metadata": {},
   "source": [
    "### Parts"
   ]
  },
  {
   "cell_type": "code",
   "execution_count": 8,
   "id": "funky-formula",
   "metadata": {},
   "outputs": [],
   "source": [
    "url_parts = 'https://raw.githubusercontent.com/jyurko/CMPINF_2110_Spring_2021_data/main/hw06/parts.csv'\n",
    "\n",
    "df_parts = pd.read_csv( url_parts )"
   ]
  },
  {
   "cell_type": "code",
   "execution_count": 9,
   "id": "featured-indicator",
   "metadata": {},
   "outputs": [
    {
     "data": {
      "text/html": [
       "<div>\n",
       "<style scoped>\n",
       "    .dataframe tbody tr th:only-of-type {\n",
       "        vertical-align: middle;\n",
       "    }\n",
       "\n",
       "    .dataframe tbody tr th {\n",
       "        vertical-align: top;\n",
       "    }\n",
       "\n",
       "    .dataframe thead th {\n",
       "        text-align: right;\n",
       "    }\n",
       "</style>\n",
       "<table border=\"1\" class=\"dataframe\">\n",
       "  <thead>\n",
       "    <tr style=\"text-align: right;\">\n",
       "      <th></th>\n",
       "      <th>part_id</th>\n",
       "      <th>type</th>\n",
       "    </tr>\n",
       "  </thead>\n",
       "  <tbody>\n",
       "    <tr>\n",
       "      <th>0</th>\n",
       "      <td>1</td>\n",
       "      <td>widget</td>\n",
       "    </tr>\n",
       "    <tr>\n",
       "      <th>1</th>\n",
       "      <td>2</td>\n",
       "      <td>gizmo</td>\n",
       "    </tr>\n",
       "    <tr>\n",
       "      <th>2</th>\n",
       "      <td>3</td>\n",
       "      <td>gadget</td>\n",
       "    </tr>\n",
       "    <tr>\n",
       "      <th>3</th>\n",
       "      <td>4</td>\n",
       "      <td>sprocket</td>\n",
       "    </tr>\n",
       "    <tr>\n",
       "      <th>4</th>\n",
       "      <td>5</td>\n",
       "      <td>button</td>\n",
       "    </tr>\n",
       "    <tr>\n",
       "      <th>5</th>\n",
       "      <td>6</td>\n",
       "      <td>square</td>\n",
       "    </tr>\n",
       "    <tr>\n",
       "      <th>6</th>\n",
       "      <td>7</td>\n",
       "      <td>triangle</td>\n",
       "    </tr>\n",
       "  </tbody>\n",
       "</table>\n",
       "</div>"
      ],
      "text/plain": [
       "   part_id      type\n",
       "0        1    widget\n",
       "1        2     gizmo\n",
       "2        3    gadget\n",
       "3        4  sprocket\n",
       "4        5    button\n",
       "5        6    square\n",
       "6        7  triangle"
      ]
     },
     "execution_count": 9,
     "metadata": {},
     "output_type": "execute_result"
    }
   ],
   "source": [
    "df_parts"
   ]
  },
  {
   "cell_type": "markdown",
   "id": "harmful-chapter",
   "metadata": {},
   "source": [
    "We have 7 parts represented by their `part_id` and their `type` in the `df_parts` DataFrame."
   ]
  },
  {
   "cell_type": "markdown",
   "id": "handy-connecticut",
   "metadata": {},
   "source": [
    "### \"Noun\" tables summary\n",
    "\n",
    "As we have seen above, each row in the four \"noun\" tables corresponds to a unique instance of an entity. The entity *label* is provided by the table name. \n",
    "\n",
    "We will now examine the tables with names containing nouns and verbs."
   ]
  },
  {
   "cell_type": "markdown",
   "id": "false-release",
   "metadata": {},
   "source": [
    "### Employees assemble devices"
   ]
  },
  {
   "cell_type": "code",
   "execution_count": 10,
   "id": "fifty-employer",
   "metadata": {},
   "outputs": [],
   "source": [
    "url_ead = 'https://raw.githubusercontent.com/jyurko/CMPINF_2110_Spring_2021_data/main/hw06/employees_assembles_devices.csv'\n",
    "\n",
    "df_ead = pd.read_csv( url_ead )"
   ]
  },
  {
   "cell_type": "code",
   "execution_count": 11,
   "id": "acting-rocket",
   "metadata": {},
   "outputs": [
    {
     "name": "stdout",
     "output_type": "stream",
     "text": [
      "<class 'pandas.core.frame.DataFrame'>\n",
      "RangeIndex: 50 entries, 0 to 49\n",
      "Data columns (total 3 columns):\n",
      " #   Column       Non-Null Count  Dtype\n",
      "---  ------       --------------  -----\n",
      " 0   assembly_id  50 non-null     int64\n",
      " 1   device_id    50 non-null     int64\n",
      " 2   employee_id  50 non-null     int64\n",
      "dtypes: int64(3)\n",
      "memory usage: 1.3 KB\n"
     ]
    }
   ],
   "source": [
    "df_ead.info()"
   ]
  },
  {
   "cell_type": "markdown",
   "id": "charitable-optimization",
   "metadata": {},
   "source": [
    "The `.info()` method reveals that there are 50 rows in the `employees_assembles_devices.csv` table and 3 columns. There are no missing values, and we see that the table contains the `device_id`, `employee_id`, and `assembly_id`. Let's check the number of unique values per column."
   ]
  },
  {
   "cell_type": "code",
   "execution_count": 12,
   "id": "boolean-swiss",
   "metadata": {},
   "outputs": [
    {
     "data": {
      "text/plain": [
       "assembly_id    50\n",
       "device_id       4\n",
       "employee_id     5\n",
       "dtype: int64"
      ]
     },
     "execution_count": 12,
     "metadata": {},
     "output_type": "execute_result"
    }
   ],
   "source": [
    "df_ead.nunique()"
   ]
  },
  {
   "cell_type": "markdown",
   "id": "serious-brunei",
   "metadata": {},
   "source": [
    "There are 4 unique values for `device_id`. The cell below displays the unique values as well as the number of rows associated with each unique value. As we can see, the four values for `device_id` are the **same** as those in the `devices.csv` file."
   ]
  },
  {
   "cell_type": "code",
   "execution_count": 13,
   "id": "protecting-hierarchy",
   "metadata": {},
   "outputs": [
    {
     "data": {
      "text/html": [
       "<div>\n",
       "<style scoped>\n",
       "    .dataframe tbody tr th:only-of-type {\n",
       "        vertical-align: middle;\n",
       "    }\n",
       "\n",
       "    .dataframe tbody tr th {\n",
       "        vertical-align: top;\n",
       "    }\n",
       "\n",
       "    .dataframe thead th {\n",
       "        text-align: right;\n",
       "    }\n",
       "</style>\n",
       "<table border=\"1\" class=\"dataframe\">\n",
       "  <thead>\n",
       "    <tr style=\"text-align: right;\">\n",
       "      <th></th>\n",
       "      <th>device_id</th>\n",
       "      <th>num_rows</th>\n",
       "    </tr>\n",
       "  </thead>\n",
       "  <tbody>\n",
       "    <tr>\n",
       "      <th>0</th>\n",
       "      <td>1</td>\n",
       "      <td>12</td>\n",
       "    </tr>\n",
       "    <tr>\n",
       "      <th>1</th>\n",
       "      <td>2</td>\n",
       "      <td>15</td>\n",
       "    </tr>\n",
       "    <tr>\n",
       "      <th>2</th>\n",
       "      <td>3</td>\n",
       "      <td>11</td>\n",
       "    </tr>\n",
       "    <tr>\n",
       "      <th>3</th>\n",
       "      <td>4</td>\n",
       "      <td>12</td>\n",
       "    </tr>\n",
       "  </tbody>\n",
       "</table>\n",
       "</div>"
      ],
      "text/plain": [
       "   device_id  num_rows\n",
       "0          1        12\n",
       "1          2        15\n",
       "2          3        11\n",
       "3          4        12"
      ]
     },
     "execution_count": 13,
     "metadata": {},
     "output_type": "execute_result"
    }
   ],
   "source": [
    "df_ead.groupby(['device_id']).size().reset_index(name='num_rows')"
   ]
  },
  {
   "cell_type": "markdown",
   "id": "occupational-builder",
   "metadata": {},
   "source": [
    "There are 5 unique values for `employee_id`. The cell below shows that those 5 values are the same unique values of `employee_id` in the `employees.csv` file."
   ]
  },
  {
   "cell_type": "code",
   "execution_count": 14,
   "id": "modular-jimmy",
   "metadata": {},
   "outputs": [
    {
     "data": {
      "text/html": [
       "<div>\n",
       "<style scoped>\n",
       "    .dataframe tbody tr th:only-of-type {\n",
       "        vertical-align: middle;\n",
       "    }\n",
       "\n",
       "    .dataframe tbody tr th {\n",
       "        vertical-align: top;\n",
       "    }\n",
       "\n",
       "    .dataframe thead th {\n",
       "        text-align: right;\n",
       "    }\n",
       "</style>\n",
       "<table border=\"1\" class=\"dataframe\">\n",
       "  <thead>\n",
       "    <tr style=\"text-align: right;\">\n",
       "      <th></th>\n",
       "      <th>employee_id</th>\n",
       "      <th>num_rows</th>\n",
       "    </tr>\n",
       "  </thead>\n",
       "  <tbody>\n",
       "    <tr>\n",
       "      <th>0</th>\n",
       "      <td>1</td>\n",
       "      <td>8</td>\n",
       "    </tr>\n",
       "    <tr>\n",
       "      <th>1</th>\n",
       "      <td>2</td>\n",
       "      <td>10</td>\n",
       "    </tr>\n",
       "    <tr>\n",
       "      <th>2</th>\n",
       "      <td>3</td>\n",
       "      <td>13</td>\n",
       "    </tr>\n",
       "    <tr>\n",
       "      <th>3</th>\n",
       "      <td>4</td>\n",
       "      <td>8</td>\n",
       "    </tr>\n",
       "    <tr>\n",
       "      <th>4</th>\n",
       "      <td>5</td>\n",
       "      <td>11</td>\n",
       "    </tr>\n",
       "  </tbody>\n",
       "</table>\n",
       "</div>"
      ],
      "text/plain": [
       "   employee_id  num_rows\n",
       "0            1         8\n",
       "1            2        10\n",
       "2            3        13\n",
       "3            4         8\n",
       "4            5        11"
      ]
     },
     "execution_count": 14,
     "metadata": {},
     "output_type": "execute_result"
    }
   ],
   "source": [
    "df_ead.groupby(['employee_id']).size().reset_index(name='num_rows')"
   ]
  },
  {
   "cell_type": "markdown",
   "id": "intensive-boring",
   "metadata": {},
   "source": [
    "The `employees_assembles_devices.csv` file is therefore provides the relationship between the employees and the devices. It stores which employee assembles which device. The `device_id` and `employee_id` values repeat and not unique in the the `employees_assembles_devices.csv` because *many* employees assemble *many* classes of devices. Thus, a many-to-many relationship exists between employees and devices. Relational data models cannot handle many-to-many relationships. **Link tables** are created to logically model the many-to-many relationship via two one-to-many relationships.\n",
    "\n",
    "Let's look at the first few and last few rows of the `employees_assembles_devices.csv` file."
   ]
  },
  {
   "cell_type": "code",
   "execution_count": 15,
   "id": "moving-perth",
   "metadata": {},
   "outputs": [
    {
     "data": {
      "text/html": [
       "<div>\n",
       "<style scoped>\n",
       "    .dataframe tbody tr th:only-of-type {\n",
       "        vertical-align: middle;\n",
       "    }\n",
       "\n",
       "    .dataframe tbody tr th {\n",
       "        vertical-align: top;\n",
       "    }\n",
       "\n",
       "    .dataframe thead th {\n",
       "        text-align: right;\n",
       "    }\n",
       "</style>\n",
       "<table border=\"1\" class=\"dataframe\">\n",
       "  <thead>\n",
       "    <tr style=\"text-align: right;\">\n",
       "      <th></th>\n",
       "      <th>assembly_id</th>\n",
       "      <th>device_id</th>\n",
       "      <th>employee_id</th>\n",
       "    </tr>\n",
       "  </thead>\n",
       "  <tbody>\n",
       "    <tr>\n",
       "      <th>0</th>\n",
       "      <td>1</td>\n",
       "      <td>2</td>\n",
       "      <td>4</td>\n",
       "    </tr>\n",
       "    <tr>\n",
       "      <th>1</th>\n",
       "      <td>2</td>\n",
       "      <td>1</td>\n",
       "      <td>2</td>\n",
       "    </tr>\n",
       "    <tr>\n",
       "      <th>2</th>\n",
       "      <td>3</td>\n",
       "      <td>2</td>\n",
       "      <td>2</td>\n",
       "    </tr>\n",
       "    <tr>\n",
       "      <th>3</th>\n",
       "      <td>4</td>\n",
       "      <td>4</td>\n",
       "      <td>5</td>\n",
       "    </tr>\n",
       "    <tr>\n",
       "      <th>4</th>\n",
       "      <td>5</td>\n",
       "      <td>2</td>\n",
       "      <td>2</td>\n",
       "    </tr>\n",
       "  </tbody>\n",
       "</table>\n",
       "</div>"
      ],
      "text/plain": [
       "   assembly_id  device_id  employee_id\n",
       "0            1          2            4\n",
       "1            2          1            2\n",
       "2            3          2            2\n",
       "3            4          4            5\n",
       "4            5          2            2"
      ]
     },
     "execution_count": 15,
     "metadata": {},
     "output_type": "execute_result"
    }
   ],
   "source": [
    "df_ead.head()"
   ]
  },
  {
   "cell_type": "code",
   "execution_count": 16,
   "id": "computational-quarter",
   "metadata": {},
   "outputs": [
    {
     "data": {
      "text/html": [
       "<div>\n",
       "<style scoped>\n",
       "    .dataframe tbody tr th:only-of-type {\n",
       "        vertical-align: middle;\n",
       "    }\n",
       "\n",
       "    .dataframe tbody tr th {\n",
       "        vertical-align: top;\n",
       "    }\n",
       "\n",
       "    .dataframe thead th {\n",
       "        text-align: right;\n",
       "    }\n",
       "</style>\n",
       "<table border=\"1\" class=\"dataframe\">\n",
       "  <thead>\n",
       "    <tr style=\"text-align: right;\">\n",
       "      <th></th>\n",
       "      <th>assembly_id</th>\n",
       "      <th>device_id</th>\n",
       "      <th>employee_id</th>\n",
       "    </tr>\n",
       "  </thead>\n",
       "  <tbody>\n",
       "    <tr>\n",
       "      <th>45</th>\n",
       "      <td>46</td>\n",
       "      <td>3</td>\n",
       "      <td>3</td>\n",
       "    </tr>\n",
       "    <tr>\n",
       "      <th>46</th>\n",
       "      <td>47</td>\n",
       "      <td>1</td>\n",
       "      <td>1</td>\n",
       "    </tr>\n",
       "    <tr>\n",
       "      <th>47</th>\n",
       "      <td>48</td>\n",
       "      <td>3</td>\n",
       "      <td>3</td>\n",
       "    </tr>\n",
       "    <tr>\n",
       "      <th>48</th>\n",
       "      <td>49</td>\n",
       "      <td>4</td>\n",
       "      <td>4</td>\n",
       "    </tr>\n",
       "    <tr>\n",
       "      <th>49</th>\n",
       "      <td>50</td>\n",
       "      <td>4</td>\n",
       "      <td>5</td>\n",
       "    </tr>\n",
       "  </tbody>\n",
       "</table>\n",
       "</div>"
      ],
      "text/plain": [
       "    assembly_id  device_id  employee_id\n",
       "45           46          3            3\n",
       "46           47          1            1\n",
       "47           48          3            3\n",
       "48           49          4            4\n",
       "49           50          4            5"
      ]
     },
     "execution_count": 16,
     "metadata": {},
     "output_type": "execute_result"
    }
   ],
   "source": [
    "df_ead.tail()"
   ]
  },
  {
   "cell_type": "markdown",
   "id": "muslim-pasta",
   "metadata": {},
   "source": [
    "The `assembly_id` looks like it increases with the rows of the table. We previously saw that `assembly_id` has 50 unique values. The data model already showed us that `assembly_id` is the PRIMARY KEY, thus we should be not be surprised that it uniquely defines each row."
   ]
  },
  {
   "cell_type": "markdown",
   "id": "organized-legislation",
   "metadata": {},
   "source": [
    "### Machines print jobs"
   ]
  },
  {
   "cell_type": "code",
   "execution_count": 17,
   "id": "convenient-cornell",
   "metadata": {},
   "outputs": [
    {
     "name": "stdout",
     "output_type": "stream",
     "text": [
      "<class 'pandas.core.frame.DataFrame'>\n",
      "RangeIndex: 49 entries, 0 to 48\n",
      "Data columns (total 3 columns):\n",
      " #   Column       Non-Null Count  Dtype\n",
      "---  ------       --------------  -----\n",
      " 0   job_id       49 non-null     int64\n",
      " 1   machine_id   49 non-null     int64\n",
      " 2   employee_id  49 non-null     int64\n",
      "dtypes: int64(3)\n",
      "memory usage: 1.3 KB\n"
     ]
    }
   ],
   "source": [
    "url_mpj = 'https://raw.githubusercontent.com/jyurko/CMPINF_2110_Spring_2021_data/main/hw06/machines_prints_jobs.csv'\n",
    "\n",
    "df_mpj = pd.read_csv( url_mpj )\n",
    "\n",
    "df_mpj.info()"
   ]
  },
  {
   "cell_type": "markdown",
   "id": "constant-lafayette",
   "metadata": {},
   "source": [
    "The `machines_prints_jobs.csv` file contains 49 rows and 3 columns. We again see the `employee_id` variable as one of the columns. The `machine_id` is also contained in this table, and so we should expect that we can relate which employee is associated with the machine printing the job. The data model provided that `job_id` is the PRIMARY KEY for this table and so we should anticipate `job_id` to have as many unique values as rows. Let's use the `.nunique()` to check."
   ]
  },
  {
   "cell_type": "code",
   "execution_count": 18,
   "id": "foreign-melissa",
   "metadata": {},
   "outputs": [
    {
     "data": {
      "text/plain": [
       "job_id         49\n",
       "machine_id      4\n",
       "employee_id     5\n",
       "dtype: int64"
      ]
     },
     "execution_count": 18,
     "metadata": {},
     "output_type": "execute_result"
    }
   ],
   "source": [
    "df_mpj.nunique()"
   ]
  },
  {
   "cell_type": "markdown",
   "id": "willing-adult",
   "metadata": {},
   "source": [
    "As shown above, there are indeed 49 unique values for `job_id`. There are 5 unique values for `employee_id`, which are shown to be the same values as contained in the `employees` table."
   ]
  },
  {
   "cell_type": "code",
   "execution_count": 19,
   "id": "enormous-differential",
   "metadata": {},
   "outputs": [
    {
     "data": {
      "text/html": [
       "<div>\n",
       "<style scoped>\n",
       "    .dataframe tbody tr th:only-of-type {\n",
       "        vertical-align: middle;\n",
       "    }\n",
       "\n",
       "    .dataframe tbody tr th {\n",
       "        vertical-align: top;\n",
       "    }\n",
       "\n",
       "    .dataframe thead th {\n",
       "        text-align: right;\n",
       "    }\n",
       "</style>\n",
       "<table border=\"1\" class=\"dataframe\">\n",
       "  <thead>\n",
       "    <tr style=\"text-align: right;\">\n",
       "      <th></th>\n",
       "      <th>employee_id</th>\n",
       "      <th>num_rows</th>\n",
       "    </tr>\n",
       "  </thead>\n",
       "  <tbody>\n",
       "    <tr>\n",
       "      <th>0</th>\n",
       "      <td>1</td>\n",
       "      <td>8</td>\n",
       "    </tr>\n",
       "    <tr>\n",
       "      <th>1</th>\n",
       "      <td>2</td>\n",
       "      <td>12</td>\n",
       "    </tr>\n",
       "    <tr>\n",
       "      <th>2</th>\n",
       "      <td>3</td>\n",
       "      <td>5</td>\n",
       "    </tr>\n",
       "    <tr>\n",
       "      <th>3</th>\n",
       "      <td>4</td>\n",
       "      <td>8</td>\n",
       "    </tr>\n",
       "    <tr>\n",
       "      <th>4</th>\n",
       "      <td>5</td>\n",
       "      <td>16</td>\n",
       "    </tr>\n",
       "  </tbody>\n",
       "</table>\n",
       "</div>"
      ],
      "text/plain": [
       "   employee_id  num_rows\n",
       "0            1         8\n",
       "1            2        12\n",
       "2            3         5\n",
       "3            4         8\n",
       "4            5        16"
      ]
     },
     "execution_count": 19,
     "metadata": {},
     "output_type": "execute_result"
    }
   ],
   "source": [
    "df_mpj.groupby(['employee_id']).size().reset_index(name='num_rows')"
   ]
  },
  {
   "cell_type": "markdown",
   "id": "understood-dominican",
   "metadata": {},
   "source": [
    "The `machine_id` column has 4 unique values, which are shown below to be the same as the unique values of `machine_id` in the `machines` table."
   ]
  },
  {
   "cell_type": "code",
   "execution_count": 20,
   "id": "ready-break",
   "metadata": {},
   "outputs": [
    {
     "data": {
      "text/html": [
       "<div>\n",
       "<style scoped>\n",
       "    .dataframe tbody tr th:only-of-type {\n",
       "        vertical-align: middle;\n",
       "    }\n",
       "\n",
       "    .dataframe tbody tr th {\n",
       "        vertical-align: top;\n",
       "    }\n",
       "\n",
       "    .dataframe thead th {\n",
       "        text-align: right;\n",
       "    }\n",
       "</style>\n",
       "<table border=\"1\" class=\"dataframe\">\n",
       "  <thead>\n",
       "    <tr style=\"text-align: right;\">\n",
       "      <th></th>\n",
       "      <th>machine_id</th>\n",
       "      <th>num_rows</th>\n",
       "    </tr>\n",
       "  </thead>\n",
       "  <tbody>\n",
       "    <tr>\n",
       "      <th>0</th>\n",
       "      <td>1</td>\n",
       "      <td>12</td>\n",
       "    </tr>\n",
       "    <tr>\n",
       "      <th>1</th>\n",
       "      <td>2</td>\n",
       "      <td>11</td>\n",
       "    </tr>\n",
       "    <tr>\n",
       "      <th>2</th>\n",
       "      <td>3</td>\n",
       "      <td>14</td>\n",
       "    </tr>\n",
       "    <tr>\n",
       "      <th>3</th>\n",
       "      <td>4</td>\n",
       "      <td>12</td>\n",
       "    </tr>\n",
       "  </tbody>\n",
       "</table>\n",
       "</div>"
      ],
      "text/plain": [
       "   machine_id  num_rows\n",
       "0           1        12\n",
       "1           2        11\n",
       "2           3        14\n",
       "3           4        12"
      ]
     },
     "execution_count": 20,
     "metadata": {},
     "output_type": "execute_result"
    }
   ],
   "source": [
    "df_mpj.groupby(['machine_id']).size().reset_index(name='num_rows')"
   ]
  },
  {
   "cell_type": "markdown",
   "id": "automotive-blackberry",
   "metadata": {},
   "source": [
    "Let's take a look at the head and tail of the table to confirm that `job_id` is incrementing each row."
   ]
  },
  {
   "cell_type": "code",
   "execution_count": 21,
   "id": "received-capacity",
   "metadata": {},
   "outputs": [
    {
     "data": {
      "text/html": [
       "<div>\n",
       "<style scoped>\n",
       "    .dataframe tbody tr th:only-of-type {\n",
       "        vertical-align: middle;\n",
       "    }\n",
       "\n",
       "    .dataframe tbody tr th {\n",
       "        vertical-align: top;\n",
       "    }\n",
       "\n",
       "    .dataframe thead th {\n",
       "        text-align: right;\n",
       "    }\n",
       "</style>\n",
       "<table border=\"1\" class=\"dataframe\">\n",
       "  <thead>\n",
       "    <tr style=\"text-align: right;\">\n",
       "      <th></th>\n",
       "      <th>job_id</th>\n",
       "      <th>machine_id</th>\n",
       "      <th>employee_id</th>\n",
       "    </tr>\n",
       "  </thead>\n",
       "  <tbody>\n",
       "    <tr>\n",
       "      <th>0</th>\n",
       "      <td>1</td>\n",
       "      <td>2</td>\n",
       "      <td>2</td>\n",
       "    </tr>\n",
       "    <tr>\n",
       "      <th>1</th>\n",
       "      <td>2</td>\n",
       "      <td>4</td>\n",
       "      <td>4</td>\n",
       "    </tr>\n",
       "    <tr>\n",
       "      <th>2</th>\n",
       "      <td>3</td>\n",
       "      <td>4</td>\n",
       "      <td>5</td>\n",
       "    </tr>\n",
       "    <tr>\n",
       "      <th>3</th>\n",
       "      <td>4</td>\n",
       "      <td>4</td>\n",
       "      <td>5</td>\n",
       "    </tr>\n",
       "    <tr>\n",
       "      <th>4</th>\n",
       "      <td>5</td>\n",
       "      <td>2</td>\n",
       "      <td>2</td>\n",
       "    </tr>\n",
       "  </tbody>\n",
       "</table>\n",
       "</div>"
      ],
      "text/plain": [
       "   job_id  machine_id  employee_id\n",
       "0       1           2            2\n",
       "1       2           4            4\n",
       "2       3           4            5\n",
       "3       4           4            5\n",
       "4       5           2            2"
      ]
     },
     "execution_count": 21,
     "metadata": {},
     "output_type": "execute_result"
    }
   ],
   "source": [
    "df_mpj.head()"
   ]
  },
  {
   "cell_type": "code",
   "execution_count": 22,
   "id": "tested-tuition",
   "metadata": {},
   "outputs": [
    {
     "data": {
      "text/html": [
       "<div>\n",
       "<style scoped>\n",
       "    .dataframe tbody tr th:only-of-type {\n",
       "        vertical-align: middle;\n",
       "    }\n",
       "\n",
       "    .dataframe tbody tr th {\n",
       "        vertical-align: top;\n",
       "    }\n",
       "\n",
       "    .dataframe thead th {\n",
       "        text-align: right;\n",
       "    }\n",
       "</style>\n",
       "<table border=\"1\" class=\"dataframe\">\n",
       "  <thead>\n",
       "    <tr style=\"text-align: right;\">\n",
       "      <th></th>\n",
       "      <th>job_id</th>\n",
       "      <th>machine_id</th>\n",
       "      <th>employee_id</th>\n",
       "    </tr>\n",
       "  </thead>\n",
       "  <tbody>\n",
       "    <tr>\n",
       "      <th>44</th>\n",
       "      <td>45</td>\n",
       "      <td>3</td>\n",
       "      <td>1</td>\n",
       "    </tr>\n",
       "    <tr>\n",
       "      <th>45</th>\n",
       "      <td>46</td>\n",
       "      <td>2</td>\n",
       "      <td>5</td>\n",
       "    </tr>\n",
       "    <tr>\n",
       "      <th>46</th>\n",
       "      <td>47</td>\n",
       "      <td>1</td>\n",
       "      <td>5</td>\n",
       "    </tr>\n",
       "    <tr>\n",
       "      <th>47</th>\n",
       "      <td>48</td>\n",
       "      <td>2</td>\n",
       "      <td>5</td>\n",
       "    </tr>\n",
       "    <tr>\n",
       "      <th>48</th>\n",
       "      <td>49</td>\n",
       "      <td>3</td>\n",
       "      <td>2</td>\n",
       "    </tr>\n",
       "  </tbody>\n",
       "</table>\n",
       "</div>"
      ],
      "text/plain": [
       "    job_id  machine_id  employee_id\n",
       "44      45           3            1\n",
       "45      46           2            5\n",
       "46      47           1            5\n",
       "47      48           2            5\n",
       "48      49           3            2"
      ]
     },
     "execution_count": 22,
     "metadata": {},
     "output_type": "execute_result"
    }
   ],
   "source": [
    "df_mpj.tail()"
   ]
  },
  {
   "cell_type": "markdown",
   "id": "affecting-blanket",
   "metadata": {},
   "source": [
    "### Parts in jobs"
   ]
  },
  {
   "cell_type": "code",
   "execution_count": 23,
   "id": "precise-withdrawal",
   "metadata": {},
   "outputs": [
    {
     "name": "stdout",
     "output_type": "stream",
     "text": [
      "<class 'pandas.core.frame.DataFrame'>\n",
      "RangeIndex: 149 entries, 0 to 148\n",
      "Data columns (total 3 columns):\n",
      " #   Column   Non-Null Count  Dtype\n",
      "---  ------   --------------  -----\n",
      " 0   item_id  149 non-null    int64\n",
      " 1   part_id  149 non-null    int64\n",
      " 2   job_id   149 non-null    int64\n",
      "dtypes: int64(3)\n",
      "memory usage: 3.6 KB\n"
     ]
    }
   ],
   "source": [
    "url_pij = 'https://raw.githubusercontent.com/jyurko/CMPINF_2110_Spring_2021_data/main/hw06/parts_in_jobs.csv'\n",
    "\n",
    "df_pij = pd.read_csv( url_pij )\n",
    "\n",
    "df_pij.info()"
   ]
  },
  {
   "cell_type": "markdown",
   "id": "economic-bones",
   "metadata": {},
   "source": [
    "The data model shows that the PRIMARY KEY of the `parts_in_jobs.csv` table is `item_id`. Thus, we should expect `item_id` to have as many unique values as there are rows. We know that a machine prints a job. The `parts_in_jobs.csv` table is providing the **link table** between the parts and the jobs. The `item_id` column therefore corresponds to an *instance* of the part *entity*.\n",
    "\n",
    "Let's take a look at the number of unique values per column. As we see below, there are indeed 149 unique values for `item_id`."
   ]
  },
  {
   "cell_type": "code",
   "execution_count": 24,
   "id": "collaborative-vegetable",
   "metadata": {},
   "outputs": [
    {
     "data": {
      "text/plain": [
       "item_id    149\n",
       "part_id      7\n",
       "job_id      49\n",
       "dtype: int64"
      ]
     },
     "execution_count": 24,
     "metadata": {},
     "output_type": "execute_result"
    }
   ],
   "source": [
    "df_pij.nunique()"
   ]
  },
  {
   "cell_type": "markdown",
   "id": "metallic-richmond",
   "metadata": {},
   "source": [
    "The above cell shows us that there are 7 unique values for `part_id`. The cell below shows that the 7 `part_id` values are the same as those from the `parts` table."
   ]
  },
  {
   "cell_type": "code",
   "execution_count": 25,
   "id": "floating-spice",
   "metadata": {},
   "outputs": [
    {
     "data": {
      "text/html": [
       "<div>\n",
       "<style scoped>\n",
       "    .dataframe tbody tr th:only-of-type {\n",
       "        vertical-align: middle;\n",
       "    }\n",
       "\n",
       "    .dataframe tbody tr th {\n",
       "        vertical-align: top;\n",
       "    }\n",
       "\n",
       "    .dataframe thead th {\n",
       "        text-align: right;\n",
       "    }\n",
       "</style>\n",
       "<table border=\"1\" class=\"dataframe\">\n",
       "  <thead>\n",
       "    <tr style=\"text-align: right;\">\n",
       "      <th></th>\n",
       "      <th>part_id</th>\n",
       "      <th>num_rows</th>\n",
       "    </tr>\n",
       "  </thead>\n",
       "  <tbody>\n",
       "    <tr>\n",
       "      <th>0</th>\n",
       "      <td>1</td>\n",
       "      <td>15</td>\n",
       "    </tr>\n",
       "    <tr>\n",
       "      <th>1</th>\n",
       "      <td>2</td>\n",
       "      <td>12</td>\n",
       "    </tr>\n",
       "    <tr>\n",
       "      <th>2</th>\n",
       "      <td>3</td>\n",
       "      <td>24</td>\n",
       "    </tr>\n",
       "    <tr>\n",
       "      <th>3</th>\n",
       "      <td>4</td>\n",
       "      <td>41</td>\n",
       "    </tr>\n",
       "    <tr>\n",
       "      <th>4</th>\n",
       "      <td>5</td>\n",
       "      <td>35</td>\n",
       "    </tr>\n",
       "    <tr>\n",
       "      <th>5</th>\n",
       "      <td>6</td>\n",
       "      <td>11</td>\n",
       "    </tr>\n",
       "    <tr>\n",
       "      <th>6</th>\n",
       "      <td>7</td>\n",
       "      <td>11</td>\n",
       "    </tr>\n",
       "  </tbody>\n",
       "</table>\n",
       "</div>"
      ],
      "text/plain": [
       "   part_id  num_rows\n",
       "0        1        15\n",
       "1        2        12\n",
       "2        3        24\n",
       "3        4        41\n",
       "4        5        35\n",
       "5        6        11\n",
       "6        7        11"
      ]
     },
     "execution_count": 25,
     "metadata": {},
     "output_type": "execute_result"
    }
   ],
   "source": [
    "df_pij.groupby(['part_id']).size().reset_index(name='num_rows')"
   ]
  },
  {
   "cell_type": "markdown",
   "id": "sealed-arrow",
   "metadata": {},
   "source": [
    "Let's confirm that the unique values of `job_id` are the same as those in the `machines_prints_jobs.csv` table. The Python `set()` function is used to extract the unique *set* of values from the lists. As we see below, the unique `job_id` values in the `parts_in_jobs.csv` file are the same as those in the `machines_prints_jobs.csv` table."
   ]
  },
  {
   "cell_type": "code",
   "execution_count": 26,
   "id": "infrared-valuable",
   "metadata": {},
   "outputs": [
    {
     "data": {
      "text/plain": [
       "True"
      ]
     },
     "execution_count": 26,
     "metadata": {},
     "output_type": "execute_result"
    }
   ],
   "source": [
    "set(df_mpj.job_id.to_list()) == set(df_pij.job_id.to_list())"
   ]
  },
  {
   "cell_type": "markdown",
   "id": "surprised-synthetic",
   "metadata": {},
   "source": [
    "### Part component of devices"
   ]
  },
  {
   "cell_type": "code",
   "execution_count": 27,
   "id": "included-example",
   "metadata": {},
   "outputs": [],
   "source": [
    "url_pcd = 'https://raw.githubusercontent.com/jyurko/CMPINF_2110_Spring_2021_data/main/hw06/part_componet_of_device.csv'\n",
    "\n",
    "df_pcd = pd.read_csv( url_pcd )"
   ]
  },
  {
   "cell_type": "code",
   "execution_count": 28,
   "id": "scenic-running",
   "metadata": {},
   "outputs": [
    {
     "name": "stdout",
     "output_type": "stream",
     "text": [
      "<class 'pandas.core.frame.DataFrame'>\n",
      "RangeIndex: 149 entries, 0 to 148\n",
      "Data columns (total 2 columns):\n",
      " #   Column       Non-Null Count  Dtype\n",
      "---  ------       --------------  -----\n",
      " 0   item_id      149 non-null    int64\n",
      " 1   assembly_id  149 non-null    int64\n",
      "dtypes: int64(2)\n",
      "memory usage: 2.5 KB\n"
     ]
    }
   ],
   "source": [
    "df_pcd.info()"
   ]
  },
  {
   "cell_type": "markdown",
   "id": "conscious-adjustment",
   "metadata": {},
   "source": [
    "The `part_component_of_device.csv` file contains 149 rows and just 2 columns. The unique values for the two columns are shown below. "
   ]
  },
  {
   "cell_type": "code",
   "execution_count": 29,
   "id": "registered-annotation",
   "metadata": {},
   "outputs": [
    {
     "data": {
      "text/plain": [
       "item_id        149\n",
       "assembly_id     50\n",
       "dtype: int64"
      ]
     },
     "execution_count": 29,
     "metadata": {},
     "output_type": "execute_result"
    }
   ],
   "source": [
    "df_pcd.nunique()"
   ]
  },
  {
   "cell_type": "markdown",
   "id": "alpine-psychology",
   "metadata": {},
   "source": [
    "The `item_id` column has 149 unique values. The data model shows us that `item_id` is linked to the `parts_in_jobs` table via `item_id`. We already saw that `item_id` unique defines a type of print printed within a job, thus we should not be surprised that there are 149 unique values. Let's use the `set()` function to confirm that the unique values are indeed the same between the two tables."
   ]
  },
  {
   "cell_type": "code",
   "execution_count": 30,
   "id": "falling-geometry",
   "metadata": {},
   "outputs": [
    {
     "data": {
      "text/plain": [
       "True"
      ]
     },
     "execution_count": 30,
     "metadata": {},
     "output_type": "execute_result"
    }
   ],
   "source": [
    "set( df_pij.item_id.to_list() ) == set( df_pcd.item_id.to_list() )"
   ]
  },
  {
   "cell_type": "markdown",
   "id": "small-construction",
   "metadata": {},
   "source": [
    "The `assembly_id` column has 50 unique values. The data model shows us that `assembly_id` describes a specific assembled device. It has the same number of unique values as rows in the `employee_assembles_device.csv` table. Let's confirm the unique values of `assembly_id` are the same between the two tables."
   ]
  },
  {
   "cell_type": "code",
   "execution_count": 31,
   "id": "quiet-category",
   "metadata": {},
   "outputs": [
    {
     "data": {
      "text/plain": [
       "True"
      ]
     },
     "execution_count": 31,
     "metadata": {},
     "output_type": "execute_result"
    }
   ],
   "source": [
    "set( df_ead.assembly_id.to_list() ) == set( df_pcd.assembly_id.to_list() )"
   ]
  },
  {
   "cell_type": "markdown",
   "id": "oriented-working",
   "metadata": {},
   "source": [
    "## Import data into Neo4j\n",
    "\n",
    "### Nodes and Labels\n",
    "\n",
    "Now that we have inspected each of the tables, let's go ahead and start importing the data into Neo4j. After creating the project and local DBMS, the first set of information that we should load in are the nodes with appropriate labels. \n",
    "\n",
    "Nodes correspond to rows in tables, and so we will begin by importing in the rows of the 4 \"noun\" only tables. The table names will be converted to Labels in Neo4j. Thus, we will import in the Machine, Employee, Device, and Part Labels. The columns of those tables will become properties of the nodes. \n",
    "\n",
    "After adding in the 4 \"major\" labels, we next need to add the Job label. Nodes of the Job label will only have the `job_id` column assigned to a property. The other columns in the `machines_prints_jobs.csv` table or `parts_in_jobs.csv` table since those columns will be used to define relationships to other nodes.\n",
    "\n",
    "Next, the Item label is added by reading in the `parts_in_jobs.csv` table with the `item_id` column set to a property. No other properties are set for these nodes in our present application. The other columns of the `parts_in_jobs.csv` table will be used to define relationships.\n",
    "\n",
    "Lastly, the Assembly label is added by reading in the `employees_assembles_devices.csv` table. The `assembly_id` column is set to a property."
   ]
  },
  {
   "cell_type": "markdown",
   "id": "resistant-inflation",
   "metadata": {},
   "source": [
    "### Relationship types\n",
    "\n",
    "After creating all nodes, we can create the relationships between them. \n",
    "\n",
    "We will start out by creating the relationships between the Employees with the devices they assembled. The `employee_id` column in the `employees_assembles_devices.csv` gives the employee that assembled each unique `assembly_id`. We will refer to this as the **ASSEMBLES** relationship type.\n",
    "\n",
    "Next, we will create the relationship between the Employees with the job they operated. The `employee_id` column in the `machines_prints_jobs.csv` table gives the employee that operated the machine for each unique `job_id`. We will refer to this as the **OPERATES** relationship type. Homework 05 focused on the employee-to-machine relationship directly, but was a smaller introductory example. With a larger data set in the present assignment, we will capture the employee-to-machine relationship via the employee-to-job and machine-to-job relationships.\n",
    "\n",
    "The `machines_prints_jobs.csv` table is used a second time to create the **PRINTS** relationship type between the Machine and Job nodes. \n",
    "\n",
    "The `parts_in_jobs.csv` table is used to associated the Items in a Job. We will define this relationship as the **IS_IN** relationship type. This way we know which specific part (as described by the `item_id`) is printed *in* a specific `job_id`.\n",
    "\n",
    "The `part_component_of_device.csv` table is used to create the **IS_COMPONENT_OF** relationship type between the Item and Assembly nodes. This relationship tells us which specific items are used as components (think pieces or lego bricks) of assembled devices. The items are therefore the building blocks of the devices!\n",
    "\n",
    "The last two relationships provide the association of the specific Item to the *type* of part and the specific Assembly to the *class* of device. The `parts_in_jobs.csv` table tells us which `part_id` is associated with each `item_id`. We will use that table to create the **IS_TYPE_OF** relationship. The `employee_assembles_device.csv` table tells us which `device_id` each `assembly_id` is associated with. Thus, we will use the `employee_assembles_device.csv` table to create the **IS_CLASS_OF** relationship type."
   ]
  },
  {
   "cell_type": "markdown",
   "id": "checked-proceeding",
   "metadata": {},
   "source": [
    "## Check required queries\n",
    "\n",
    "Although you were not required to do this, we can double check any query we make in Neo4j with Pandas. This can make sure the graph structure is \"behaving\" as we expect, given our relational model."
   ]
  },
  {
   "cell_type": "markdown",
   "id": "confirmed-spirit",
   "metadata": {},
   "source": [
    "### Query all nodes related to `job_id = 3`\n",
    "\n",
    "We first need to join the appropriate dataframes together."
   ]
  },
  {
   "cell_type": "code",
   "execution_count": 32,
   "id": "copyrighted-occasion",
   "metadata": {},
   "outputs": [],
   "source": [
    "q01 = df_pij.merge( df_mpj, on='job_id', how='left' ).\\\n",
    "merge( df_machines.rename(columns={'name': 'machine_name', 'type': 'machine_type'}), on='machine_id', how='left').\\\n",
    "merge( df_employees.rename(columns={'name': 'employee_name'}), on='employee_id', how='left').\\\n",
    "merge( df_parts.loc[:, ['part_id', 'type']], on='part_id', how='left')"
   ]
  },
  {
   "cell_type": "code",
   "execution_count": 33,
   "id": "conventional-freeze",
   "metadata": {},
   "outputs": [
    {
     "data": {
      "text/html": [
       "<div>\n",
       "<style scoped>\n",
       "    .dataframe tbody tr th:only-of-type {\n",
       "        vertical-align: middle;\n",
       "    }\n",
       "\n",
       "    .dataframe tbody tr th {\n",
       "        vertical-align: top;\n",
       "    }\n",
       "\n",
       "    .dataframe thead th {\n",
       "        text-align: right;\n",
       "    }\n",
       "</style>\n",
       "<table border=\"1\" class=\"dataframe\">\n",
       "  <thead>\n",
       "    <tr style=\"text-align: right;\">\n",
       "      <th></th>\n",
       "      <th>item_id</th>\n",
       "      <th>part_id</th>\n",
       "      <th>job_id</th>\n",
       "      <th>machine_id</th>\n",
       "      <th>employee_id</th>\n",
       "      <th>machine_name</th>\n",
       "      <th>machine_type</th>\n",
       "      <th>employee_name</th>\n",
       "      <th>started</th>\n",
       "      <th>type</th>\n",
       "    </tr>\n",
       "  </thead>\n",
       "  <tbody>\n",
       "    <tr>\n",
       "      <th>0</th>\n",
       "      <td>1</td>\n",
       "      <td>4</td>\n",
       "      <td>1</td>\n",
       "      <td>2</td>\n",
       "      <td>2</td>\n",
       "      <td>bravo</td>\n",
       "      <td>printer</td>\n",
       "      <td>Bob</td>\n",
       "      <td>2018</td>\n",
       "      <td>sprocket</td>\n",
       "    </tr>\n",
       "    <tr>\n",
       "      <th>1</th>\n",
       "      <td>2</td>\n",
       "      <td>4</td>\n",
       "      <td>1</td>\n",
       "      <td>2</td>\n",
       "      <td>2</td>\n",
       "      <td>bravo</td>\n",
       "      <td>printer</td>\n",
       "      <td>Bob</td>\n",
       "      <td>2018</td>\n",
       "      <td>sprocket</td>\n",
       "    </tr>\n",
       "    <tr>\n",
       "      <th>2</th>\n",
       "      <td>3</td>\n",
       "      <td>1</td>\n",
       "      <td>2</td>\n",
       "      <td>4</td>\n",
       "      <td>4</td>\n",
       "      <td>delta</td>\n",
       "      <td>printer</td>\n",
       "      <td>Dave</td>\n",
       "      <td>2019</td>\n",
       "      <td>widget</td>\n",
       "    </tr>\n",
       "    <tr>\n",
       "      <th>3</th>\n",
       "      <td>4</td>\n",
       "      <td>3</td>\n",
       "      <td>2</td>\n",
       "      <td>4</td>\n",
       "      <td>4</td>\n",
       "      <td>delta</td>\n",
       "      <td>printer</td>\n",
       "      <td>Dave</td>\n",
       "      <td>2019</td>\n",
       "      <td>gadget</td>\n",
       "    </tr>\n",
       "    <tr>\n",
       "      <th>4</th>\n",
       "      <td>5</td>\n",
       "      <td>2</td>\n",
       "      <td>3</td>\n",
       "      <td>4</td>\n",
       "      <td>5</td>\n",
       "      <td>delta</td>\n",
       "      <td>printer</td>\n",
       "      <td>Emily</td>\n",
       "      <td>2011</td>\n",
       "      <td>gizmo</td>\n",
       "    </tr>\n",
       "    <tr>\n",
       "      <th>...</th>\n",
       "      <td>...</td>\n",
       "      <td>...</td>\n",
       "      <td>...</td>\n",
       "      <td>...</td>\n",
       "      <td>...</td>\n",
       "      <td>...</td>\n",
       "      <td>...</td>\n",
       "      <td>...</td>\n",
       "      <td>...</td>\n",
       "      <td>...</td>\n",
       "    </tr>\n",
       "    <tr>\n",
       "      <th>144</th>\n",
       "      <td>145</td>\n",
       "      <td>5</td>\n",
       "      <td>48</td>\n",
       "      <td>2</td>\n",
       "      <td>5</td>\n",
       "      <td>bravo</td>\n",
       "      <td>printer</td>\n",
       "      <td>Emily</td>\n",
       "      <td>2011</td>\n",
       "      <td>button</td>\n",
       "    </tr>\n",
       "    <tr>\n",
       "      <th>145</th>\n",
       "      <td>146</td>\n",
       "      <td>3</td>\n",
       "      <td>48</td>\n",
       "      <td>2</td>\n",
       "      <td>5</td>\n",
       "      <td>bravo</td>\n",
       "      <td>printer</td>\n",
       "      <td>Emily</td>\n",
       "      <td>2011</td>\n",
       "      <td>gadget</td>\n",
       "    </tr>\n",
       "    <tr>\n",
       "      <th>146</th>\n",
       "      <td>147</td>\n",
       "      <td>5</td>\n",
       "      <td>49</td>\n",
       "      <td>3</td>\n",
       "      <td>2</td>\n",
       "      <td>charlie</td>\n",
       "      <td>printer</td>\n",
       "      <td>Bob</td>\n",
       "      <td>2018</td>\n",
       "      <td>button</td>\n",
       "    </tr>\n",
       "    <tr>\n",
       "      <th>147</th>\n",
       "      <td>148</td>\n",
       "      <td>5</td>\n",
       "      <td>49</td>\n",
       "      <td>3</td>\n",
       "      <td>2</td>\n",
       "      <td>charlie</td>\n",
       "      <td>printer</td>\n",
       "      <td>Bob</td>\n",
       "      <td>2018</td>\n",
       "      <td>button</td>\n",
       "    </tr>\n",
       "    <tr>\n",
       "      <th>148</th>\n",
       "      <td>149</td>\n",
       "      <td>3</td>\n",
       "      <td>49</td>\n",
       "      <td>3</td>\n",
       "      <td>2</td>\n",
       "      <td>charlie</td>\n",
       "      <td>printer</td>\n",
       "      <td>Bob</td>\n",
       "      <td>2018</td>\n",
       "      <td>gadget</td>\n",
       "    </tr>\n",
       "  </tbody>\n",
       "</table>\n",
       "<p>149 rows × 10 columns</p>\n",
       "</div>"
      ],
      "text/plain": [
       "     item_id  part_id  job_id  machine_id  employee_id machine_name  \\\n",
       "0          1        4       1           2            2        bravo   \n",
       "1          2        4       1           2            2        bravo   \n",
       "2          3        1       2           4            4        delta   \n",
       "3          4        3       2           4            4        delta   \n",
       "4          5        2       3           4            5        delta   \n",
       "..       ...      ...     ...         ...          ...          ...   \n",
       "144      145        5      48           2            5        bravo   \n",
       "145      146        3      48           2            5        bravo   \n",
       "146      147        5      49           3            2      charlie   \n",
       "147      148        5      49           3            2      charlie   \n",
       "148      149        3      49           3            2      charlie   \n",
       "\n",
       "    machine_type employee_name  started      type  \n",
       "0        printer           Bob     2018  sprocket  \n",
       "1        printer           Bob     2018  sprocket  \n",
       "2        printer          Dave     2019    widget  \n",
       "3        printer          Dave     2019    gadget  \n",
       "4        printer         Emily     2011     gizmo  \n",
       "..           ...           ...      ...       ...  \n",
       "144      printer         Emily     2011    button  \n",
       "145      printer         Emily     2011    gadget  \n",
       "146      printer           Bob     2018    button  \n",
       "147      printer           Bob     2018    button  \n",
       "148      printer           Bob     2018    gadget  \n",
       "\n",
       "[149 rows x 10 columns]"
      ]
     },
     "execution_count": 33,
     "metadata": {},
     "output_type": "execute_result"
    }
   ],
   "source": [
    "q01"
   ]
  },
  {
   "cell_type": "markdown",
   "id": "handy-bidding",
   "metadata": {},
   "source": [
    "Next, let's focus just on those rows associated with `job_id = 3`."
   ]
  },
  {
   "cell_type": "code",
   "execution_count": 34,
   "id": "sublime-dimension",
   "metadata": {},
   "outputs": [
    {
     "data": {
      "text/html": [
       "<div>\n",
       "<style scoped>\n",
       "    .dataframe tbody tr th:only-of-type {\n",
       "        vertical-align: middle;\n",
       "    }\n",
       "\n",
       "    .dataframe tbody tr th {\n",
       "        vertical-align: top;\n",
       "    }\n",
       "\n",
       "    .dataframe thead th {\n",
       "        text-align: right;\n",
       "    }\n",
       "</style>\n",
       "<table border=\"1\" class=\"dataframe\">\n",
       "  <thead>\n",
       "    <tr style=\"text-align: right;\">\n",
       "      <th></th>\n",
       "      <th>item_id</th>\n",
       "      <th>part_id</th>\n",
       "      <th>job_id</th>\n",
       "      <th>machine_id</th>\n",
       "      <th>employee_id</th>\n",
       "      <th>machine_name</th>\n",
       "      <th>machine_type</th>\n",
       "      <th>employee_name</th>\n",
       "      <th>started</th>\n",
       "      <th>type</th>\n",
       "    </tr>\n",
       "  </thead>\n",
       "  <tbody>\n",
       "    <tr>\n",
       "      <th>4</th>\n",
       "      <td>5</td>\n",
       "      <td>2</td>\n",
       "      <td>3</td>\n",
       "      <td>4</td>\n",
       "      <td>5</td>\n",
       "      <td>delta</td>\n",
       "      <td>printer</td>\n",
       "      <td>Emily</td>\n",
       "      <td>2011</td>\n",
       "      <td>gizmo</td>\n",
       "    </tr>\n",
       "    <tr>\n",
       "      <th>5</th>\n",
       "      <td>6</td>\n",
       "      <td>4</td>\n",
       "      <td>3</td>\n",
       "      <td>4</td>\n",
       "      <td>5</td>\n",
       "      <td>delta</td>\n",
       "      <td>printer</td>\n",
       "      <td>Emily</td>\n",
       "      <td>2011</td>\n",
       "      <td>sprocket</td>\n",
       "    </tr>\n",
       "  </tbody>\n",
       "</table>\n",
       "</div>"
      ],
      "text/plain": [
       "   item_id  part_id  job_id  machine_id  employee_id machine_name  \\\n",
       "4        5        2       3           4            5        delta   \n",
       "5        6        4       3           4            5        delta   \n",
       "\n",
       "  machine_type employee_name  started      type  \n",
       "4      printer         Emily     2011     gizmo  \n",
       "5      printer         Emily     2011  sprocket  "
      ]
     },
     "execution_count": 34,
     "metadata": {},
     "output_type": "execute_result"
    }
   ],
   "source": [
    "q01.loc[ q01.job_id == 3, :]"
   ]
  },
  {
   "cell_type": "markdown",
   "id": "convertible-terror",
   "metadata": {},
   "source": [
    "The columns that correspond to the nodes directly related to the Job node in Neo4j are:"
   ]
  },
  {
   "cell_type": "code",
   "execution_count": 35,
   "id": "second-alpha",
   "metadata": {},
   "outputs": [
    {
     "data": {
      "text/html": [
       "<div>\n",
       "<style scoped>\n",
       "    .dataframe tbody tr th:only-of-type {\n",
       "        vertical-align: middle;\n",
       "    }\n",
       "\n",
       "    .dataframe tbody tr th {\n",
       "        vertical-align: top;\n",
       "    }\n",
       "\n",
       "    .dataframe thead th {\n",
       "        text-align: right;\n",
       "    }\n",
       "</style>\n",
       "<table border=\"1\" class=\"dataframe\">\n",
       "  <thead>\n",
       "    <tr style=\"text-align: right;\">\n",
       "      <th></th>\n",
       "      <th>job_id</th>\n",
       "      <th>employee_name</th>\n",
       "      <th>machine_name</th>\n",
       "      <th>item_id</th>\n",
       "    </tr>\n",
       "  </thead>\n",
       "  <tbody>\n",
       "    <tr>\n",
       "      <th>4</th>\n",
       "      <td>3</td>\n",
       "      <td>Emily</td>\n",
       "      <td>delta</td>\n",
       "      <td>5</td>\n",
       "    </tr>\n",
       "    <tr>\n",
       "      <th>5</th>\n",
       "      <td>3</td>\n",
       "      <td>Emily</td>\n",
       "      <td>delta</td>\n",
       "      <td>6</td>\n",
       "    </tr>\n",
       "  </tbody>\n",
       "</table>\n",
       "</div>"
      ],
      "text/plain": [
       "   job_id employee_name machine_name  item_id\n",
       "4       3         Emily        delta        5\n",
       "5       3         Emily        delta        6"
      ]
     },
     "execution_count": 35,
     "metadata": {},
     "output_type": "execute_result"
    }
   ],
   "source": [
    "q01.loc[ q01.job_id == 3, ['job_id', 'employee_name', 'machine_name', 'item_id']]"
   ]
  },
  {
   "cell_type": "markdown",
   "id": "verified-organizer",
   "metadata": {},
   "source": [
    "### Query the number of unique parts printed for `job_id = 3`"
   ]
  },
  {
   "cell_type": "markdown",
   "id": "incident-smooth",
   "metadata": {},
   "source": [
    "Check the number of items are the same as the number of part types."
   ]
  },
  {
   "cell_type": "code",
   "execution_count": 36,
   "id": "martial-politics",
   "metadata": {},
   "outputs": [
    {
     "data": {
      "text/html": [
       "<div>\n",
       "<style scoped>\n",
       "    .dataframe tbody tr th:only-of-type {\n",
       "        vertical-align: middle;\n",
       "    }\n",
       "\n",
       "    .dataframe tbody tr th {\n",
       "        vertical-align: top;\n",
       "    }\n",
       "\n",
       "    .dataframe thead th {\n",
       "        text-align: right;\n",
       "    }\n",
       "</style>\n",
       "<table border=\"1\" class=\"dataframe\">\n",
       "  <thead>\n",
       "    <tr style=\"text-align: right;\">\n",
       "      <th></th>\n",
       "      <th>job_id</th>\n",
       "      <th>employee_name</th>\n",
       "      <th>machine_name</th>\n",
       "      <th>item_id</th>\n",
       "      <th>type</th>\n",
       "    </tr>\n",
       "  </thead>\n",
       "  <tbody>\n",
       "    <tr>\n",
       "      <th>4</th>\n",
       "      <td>3</td>\n",
       "      <td>Emily</td>\n",
       "      <td>delta</td>\n",
       "      <td>5</td>\n",
       "      <td>gizmo</td>\n",
       "    </tr>\n",
       "    <tr>\n",
       "      <th>5</th>\n",
       "      <td>3</td>\n",
       "      <td>Emily</td>\n",
       "      <td>delta</td>\n",
       "      <td>6</td>\n",
       "      <td>sprocket</td>\n",
       "    </tr>\n",
       "  </tbody>\n",
       "</table>\n",
       "</div>"
      ],
      "text/plain": [
       "   job_id employee_name machine_name  item_id      type\n",
       "4       3         Emily        delta        5     gizmo\n",
       "5       3         Emily        delta        6  sprocket"
      ]
     },
     "execution_count": 36,
     "metadata": {},
     "output_type": "execute_result"
    }
   ],
   "source": [
    "q01.loc[ q01.job_id == 3, ['job_id', 'employee_name', 'machine_name', 'item_id', 'type']]"
   ]
  },
  {
   "cell_type": "markdown",
   "id": "distributed-floating",
   "metadata": {},
   "source": [
    "### Query all nodes related to Employee Alice\n",
    "\n",
    "The `machines_prints_jobs.csv` table gives us which Job each Employee operates. Let's join that table with the `employees.csv` table and then isolate all rows associated with Alice."
   ]
  },
  {
   "cell_type": "code",
   "execution_count": 37,
   "id": "efficient-prefix",
   "metadata": {},
   "outputs": [],
   "source": [
    "q03_a = df_mpj.merge( df_employees, on='employee_id', how='left' )"
   ]
  },
  {
   "cell_type": "code",
   "execution_count": 38,
   "id": "artificial-punch",
   "metadata": {},
   "outputs": [
    {
     "data": {
      "text/html": [
       "<div>\n",
       "<style scoped>\n",
       "    .dataframe tbody tr th:only-of-type {\n",
       "        vertical-align: middle;\n",
       "    }\n",
       "\n",
       "    .dataframe tbody tr th {\n",
       "        vertical-align: top;\n",
       "    }\n",
       "\n",
       "    .dataframe thead th {\n",
       "        text-align: right;\n",
       "    }\n",
       "</style>\n",
       "<table border=\"1\" class=\"dataframe\">\n",
       "  <thead>\n",
       "    <tr style=\"text-align: right;\">\n",
       "      <th></th>\n",
       "      <th>job_id</th>\n",
       "      <th>machine_id</th>\n",
       "      <th>employee_id</th>\n",
       "      <th>name</th>\n",
       "      <th>started</th>\n",
       "    </tr>\n",
       "  </thead>\n",
       "  <tbody>\n",
       "    <tr>\n",
       "      <th>13</th>\n",
       "      <td>14</td>\n",
       "      <td>4</td>\n",
       "      <td>1</td>\n",
       "      <td>Alice</td>\n",
       "      <td>2017</td>\n",
       "    </tr>\n",
       "    <tr>\n",
       "      <th>21</th>\n",
       "      <td>22</td>\n",
       "      <td>3</td>\n",
       "      <td>1</td>\n",
       "      <td>Alice</td>\n",
       "      <td>2017</td>\n",
       "    </tr>\n",
       "    <tr>\n",
       "      <th>22</th>\n",
       "      <td>23</td>\n",
       "      <td>3</td>\n",
       "      <td>1</td>\n",
       "      <td>Alice</td>\n",
       "      <td>2017</td>\n",
       "    </tr>\n",
       "    <tr>\n",
       "      <th>26</th>\n",
       "      <td>27</td>\n",
       "      <td>3</td>\n",
       "      <td>1</td>\n",
       "      <td>Alice</td>\n",
       "      <td>2017</td>\n",
       "    </tr>\n",
       "    <tr>\n",
       "      <th>34</th>\n",
       "      <td>35</td>\n",
       "      <td>1</td>\n",
       "      <td>1</td>\n",
       "      <td>Alice</td>\n",
       "      <td>2017</td>\n",
       "    </tr>\n",
       "    <tr>\n",
       "      <th>37</th>\n",
       "      <td>38</td>\n",
       "      <td>2</td>\n",
       "      <td>1</td>\n",
       "      <td>Alice</td>\n",
       "      <td>2017</td>\n",
       "    </tr>\n",
       "    <tr>\n",
       "      <th>41</th>\n",
       "      <td>42</td>\n",
       "      <td>2</td>\n",
       "      <td>1</td>\n",
       "      <td>Alice</td>\n",
       "      <td>2017</td>\n",
       "    </tr>\n",
       "    <tr>\n",
       "      <th>44</th>\n",
       "      <td>45</td>\n",
       "      <td>3</td>\n",
       "      <td>1</td>\n",
       "      <td>Alice</td>\n",
       "      <td>2017</td>\n",
       "    </tr>\n",
       "  </tbody>\n",
       "</table>\n",
       "</div>"
      ],
      "text/plain": [
       "    job_id  machine_id  employee_id   name  started\n",
       "13      14           4            1  Alice     2017\n",
       "21      22           3            1  Alice     2017\n",
       "22      23           3            1  Alice     2017\n",
       "26      27           3            1  Alice     2017\n",
       "34      35           1            1  Alice     2017\n",
       "37      38           2            1  Alice     2017\n",
       "41      42           2            1  Alice     2017\n",
       "44      45           3            1  Alice     2017"
      ]
     },
     "execution_count": 38,
     "metadata": {},
     "output_type": "execute_result"
    }
   ],
   "source": [
    "q03_a.loc[ q03_a.name == 'Alice', :]"
   ]
  },
  {
   "cell_type": "code",
   "execution_count": 39,
   "id": "brave-wiring",
   "metadata": {},
   "outputs": [
    {
     "data": {
      "text/plain": [
       "8"
      ]
     },
     "execution_count": 39,
     "metadata": {},
     "output_type": "execute_result"
    }
   ],
   "source": [
    "q03_a.loc[ q03_a.name == 'Alice', :].shape[0]"
   ]
  },
  {
   "cell_type": "markdown",
   "id": "tough-summit",
   "metadata": {},
   "source": [
    "The `employee_assembles_device.csv` table gives us which Assembly each Employee assembled (put together). Join the `employees.csv` table and then isolate all rows associated with Alice."
   ]
  },
  {
   "cell_type": "code",
   "execution_count": 40,
   "id": "enabling-poster",
   "metadata": {},
   "outputs": [],
   "source": [
    "q03_b = df_ead.merge( df_employees, on='employee_id', how='left' )"
   ]
  },
  {
   "cell_type": "code",
   "execution_count": 41,
   "id": "thorough-change",
   "metadata": {},
   "outputs": [
    {
     "data": {
      "text/html": [
       "<div>\n",
       "<style scoped>\n",
       "    .dataframe tbody tr th:only-of-type {\n",
       "        vertical-align: middle;\n",
       "    }\n",
       "\n",
       "    .dataframe tbody tr th {\n",
       "        vertical-align: top;\n",
       "    }\n",
       "\n",
       "    .dataframe thead th {\n",
       "        text-align: right;\n",
       "    }\n",
       "</style>\n",
       "<table border=\"1\" class=\"dataframe\">\n",
       "  <thead>\n",
       "    <tr style=\"text-align: right;\">\n",
       "      <th></th>\n",
       "      <th>assembly_id</th>\n",
       "      <th>device_id</th>\n",
       "      <th>employee_id</th>\n",
       "      <th>name</th>\n",
       "      <th>started</th>\n",
       "    </tr>\n",
       "  </thead>\n",
       "  <tbody>\n",
       "    <tr>\n",
       "      <th>10</th>\n",
       "      <td>11</td>\n",
       "      <td>2</td>\n",
       "      <td>1</td>\n",
       "      <td>Alice</td>\n",
       "      <td>2017</td>\n",
       "    </tr>\n",
       "    <tr>\n",
       "      <th>11</th>\n",
       "      <td>12</td>\n",
       "      <td>2</td>\n",
       "      <td>1</td>\n",
       "      <td>Alice</td>\n",
       "      <td>2017</td>\n",
       "    </tr>\n",
       "    <tr>\n",
       "      <th>19</th>\n",
       "      <td>20</td>\n",
       "      <td>2</td>\n",
       "      <td>1</td>\n",
       "      <td>Alice</td>\n",
       "      <td>2017</td>\n",
       "    </tr>\n",
       "    <tr>\n",
       "      <th>20</th>\n",
       "      <td>21</td>\n",
       "      <td>4</td>\n",
       "      <td>1</td>\n",
       "      <td>Alice</td>\n",
       "      <td>2017</td>\n",
       "    </tr>\n",
       "    <tr>\n",
       "      <th>25</th>\n",
       "      <td>26</td>\n",
       "      <td>1</td>\n",
       "      <td>1</td>\n",
       "      <td>Alice</td>\n",
       "      <td>2017</td>\n",
       "    </tr>\n",
       "    <tr>\n",
       "      <th>26</th>\n",
       "      <td>27</td>\n",
       "      <td>1</td>\n",
       "      <td>1</td>\n",
       "      <td>Alice</td>\n",
       "      <td>2017</td>\n",
       "    </tr>\n",
       "    <tr>\n",
       "      <th>41</th>\n",
       "      <td>42</td>\n",
       "      <td>2</td>\n",
       "      <td>1</td>\n",
       "      <td>Alice</td>\n",
       "      <td>2017</td>\n",
       "    </tr>\n",
       "    <tr>\n",
       "      <th>46</th>\n",
       "      <td>47</td>\n",
       "      <td>1</td>\n",
       "      <td>1</td>\n",
       "      <td>Alice</td>\n",
       "      <td>2017</td>\n",
       "    </tr>\n",
       "  </tbody>\n",
       "</table>\n",
       "</div>"
      ],
      "text/plain": [
       "    assembly_id  device_id  employee_id   name  started\n",
       "10           11          2            1  Alice     2017\n",
       "11           12          2            1  Alice     2017\n",
       "19           20          2            1  Alice     2017\n",
       "20           21          4            1  Alice     2017\n",
       "25           26          1            1  Alice     2017\n",
       "26           27          1            1  Alice     2017\n",
       "41           42          2            1  Alice     2017\n",
       "46           47          1            1  Alice     2017"
      ]
     },
     "execution_count": 41,
     "metadata": {},
     "output_type": "execute_result"
    }
   ],
   "source": [
    "q03_b.loc[ q03_b.name == 'Alice', :]"
   ]
  },
  {
   "cell_type": "code",
   "execution_count": 42,
   "id": "surprising-executive",
   "metadata": {},
   "outputs": [
    {
     "data": {
      "text/plain": [
       "8"
      ]
     },
     "execution_count": 42,
     "metadata": {},
     "output_type": "execute_result"
    }
   ],
   "source": [
    "q03_b.loc[ q03_b.name == 'Alice', :].shape[0]"
   ]
  },
  {
   "cell_type": "markdown",
   "id": "indoor-participation",
   "metadata": {},
   "source": [
    "### Count the number of devices assembled by Chuck"
   ]
  },
  {
   "cell_type": "code",
   "execution_count": 43,
   "id": "lasting-yellow",
   "metadata": {},
   "outputs": [
    {
     "data": {
      "text/plain": [
       "13"
      ]
     },
     "execution_count": 43,
     "metadata": {},
     "output_type": "execute_result"
    }
   ],
   "source": [
    "q03_b.loc[ q03_b.name == 'Chuck', :].shape[0]"
   ]
  },
  {
   "cell_type": "code",
   "execution_count": 44,
   "id": "conscious-philosophy",
   "metadata": {},
   "outputs": [
    {
     "data": {
      "text/html": [
       "<div>\n",
       "<style scoped>\n",
       "    .dataframe tbody tr th:only-of-type {\n",
       "        vertical-align: middle;\n",
       "    }\n",
       "\n",
       "    .dataframe tbody tr th {\n",
       "        vertical-align: top;\n",
       "    }\n",
       "\n",
       "    .dataframe thead th {\n",
       "        text-align: right;\n",
       "    }\n",
       "</style>\n",
       "<table border=\"1\" class=\"dataframe\">\n",
       "  <thead>\n",
       "    <tr style=\"text-align: right;\">\n",
       "      <th></th>\n",
       "      <th>name</th>\n",
       "      <th>num_assemblies</th>\n",
       "    </tr>\n",
       "  </thead>\n",
       "  <tbody>\n",
       "    <tr>\n",
       "      <th>0</th>\n",
       "      <td>Alice</td>\n",
       "      <td>8</td>\n",
       "    </tr>\n",
       "    <tr>\n",
       "      <th>1</th>\n",
       "      <td>Bob</td>\n",
       "      <td>10</td>\n",
       "    </tr>\n",
       "    <tr>\n",
       "      <th>2</th>\n",
       "      <td>Chuck</td>\n",
       "      <td>13</td>\n",
       "    </tr>\n",
       "    <tr>\n",
       "      <th>3</th>\n",
       "      <td>Dave</td>\n",
       "      <td>8</td>\n",
       "    </tr>\n",
       "    <tr>\n",
       "      <th>4</th>\n",
       "      <td>Emily</td>\n",
       "      <td>11</td>\n",
       "    </tr>\n",
       "  </tbody>\n",
       "</table>\n",
       "</div>"
      ],
      "text/plain": [
       "    name  num_assemblies\n",
       "0  Alice               8\n",
       "1    Bob              10\n",
       "2  Chuck              13\n",
       "3   Dave               8\n",
       "4  Emily              11"
      ]
     },
     "execution_count": 44,
     "metadata": {},
     "output_type": "execute_result"
    }
   ],
   "source": [
    "q03_b.groupby(['name']).\\\n",
    "aggregate(num_assemblies = ('assembly_id', 'nunique')).\\\n",
    "reset_index()"
   ]
  },
  {
   "cell_type": "markdown",
   "id": "worse-large",
   "metadata": {},
   "source": [
    "Check the number of unique device classes assembled by Chuck."
   ]
  },
  {
   "cell_type": "code",
   "execution_count": 45,
   "id": "smoking-dylan",
   "metadata": {},
   "outputs": [
    {
     "data": {
      "text/html": [
       "<div>\n",
       "<style scoped>\n",
       "    .dataframe tbody tr th:only-of-type {\n",
       "        vertical-align: middle;\n",
       "    }\n",
       "\n",
       "    .dataframe tbody tr th {\n",
       "        vertical-align: top;\n",
       "    }\n",
       "\n",
       "    .dataframe thead th {\n",
       "        text-align: right;\n",
       "    }\n",
       "</style>\n",
       "<table border=\"1\" class=\"dataframe\">\n",
       "  <thead>\n",
       "    <tr style=\"text-align: right;\">\n",
       "      <th></th>\n",
       "      <th>name</th>\n",
       "      <th>num_assemblies</th>\n",
       "      <th>num_device_classes</th>\n",
       "    </tr>\n",
       "  </thead>\n",
       "  <tbody>\n",
       "    <tr>\n",
       "      <th>0</th>\n",
       "      <td>Alice</td>\n",
       "      <td>8</td>\n",
       "      <td>3</td>\n",
       "    </tr>\n",
       "    <tr>\n",
       "      <th>1</th>\n",
       "      <td>Bob</td>\n",
       "      <td>10</td>\n",
       "      <td>4</td>\n",
       "    </tr>\n",
       "    <tr>\n",
       "      <th>2</th>\n",
       "      <td>Chuck</td>\n",
       "      <td>13</td>\n",
       "      <td>4</td>\n",
       "    </tr>\n",
       "    <tr>\n",
       "      <th>3</th>\n",
       "      <td>Dave</td>\n",
       "      <td>8</td>\n",
       "      <td>4</td>\n",
       "    </tr>\n",
       "    <tr>\n",
       "      <th>4</th>\n",
       "      <td>Emily</td>\n",
       "      <td>11</td>\n",
       "      <td>4</td>\n",
       "    </tr>\n",
       "  </tbody>\n",
       "</table>\n",
       "</div>"
      ],
      "text/plain": [
       "    name  num_assemblies  num_device_classes\n",
       "0  Alice               8                   3\n",
       "1    Bob              10                   4\n",
       "2  Chuck              13                   4\n",
       "3   Dave               8                   4\n",
       "4  Emily              11                   4"
      ]
     },
     "execution_count": 45,
     "metadata": {},
     "output_type": "execute_result"
    }
   ],
   "source": [
    "q03_b.groupby(['name']).\\\n",
    "aggregate(num_assemblies = ('assembly_id', 'nunique'),\n",
    "          num_device_classes = ('device_id', 'nunique')).\\\n",
    "reset_index()"
   ]
  },
  {
   "cell_type": "markdown",
   "id": "dying-terrain",
   "metadata": {},
   "source": [
    "Or starting from the \"base\" tables, the grouping and aggregation steps are:"
   ]
  },
  {
   "cell_type": "code",
   "execution_count": 46,
   "id": "respiratory-ghost",
   "metadata": {},
   "outputs": [
    {
     "data": {
      "text/html": [
       "<div>\n",
       "<style scoped>\n",
       "    .dataframe tbody tr th:only-of-type {\n",
       "        vertical-align: middle;\n",
       "    }\n",
       "\n",
       "    .dataframe tbody tr th {\n",
       "        vertical-align: top;\n",
       "    }\n",
       "\n",
       "    .dataframe thead th {\n",
       "        text-align: right;\n",
       "    }\n",
       "</style>\n",
       "<table border=\"1\" class=\"dataframe\">\n",
       "  <thead>\n",
       "    <tr style=\"text-align: right;\">\n",
       "      <th></th>\n",
       "      <th>name</th>\n",
       "      <th>num_assemblies</th>\n",
       "      <th>num_device_classes</th>\n",
       "    </tr>\n",
       "  </thead>\n",
       "  <tbody>\n",
       "    <tr>\n",
       "      <th>0</th>\n",
       "      <td>Alice</td>\n",
       "      <td>8</td>\n",
       "      <td>3</td>\n",
       "    </tr>\n",
       "    <tr>\n",
       "      <th>1</th>\n",
       "      <td>Bob</td>\n",
       "      <td>10</td>\n",
       "      <td>4</td>\n",
       "    </tr>\n",
       "    <tr>\n",
       "      <th>2</th>\n",
       "      <td>Chuck</td>\n",
       "      <td>13</td>\n",
       "      <td>4</td>\n",
       "    </tr>\n",
       "    <tr>\n",
       "      <th>3</th>\n",
       "      <td>Dave</td>\n",
       "      <td>8</td>\n",
       "      <td>4</td>\n",
       "    </tr>\n",
       "    <tr>\n",
       "      <th>4</th>\n",
       "      <td>Emily</td>\n",
       "      <td>11</td>\n",
       "      <td>4</td>\n",
       "    </tr>\n",
       "  </tbody>\n",
       "</table>\n",
       "</div>"
      ],
      "text/plain": [
       "    name  num_assemblies  num_device_classes\n",
       "0  Alice               8                   3\n",
       "1    Bob              10                   4\n",
       "2  Chuck              13                   4\n",
       "3   Dave               8                   4\n",
       "4  Emily              11                   4"
      ]
     },
     "execution_count": 46,
     "metadata": {},
     "output_type": "execute_result"
    }
   ],
   "source": [
    "df_ead.merge( df_employees, on='employee_id', how='left' ).\\\n",
    "groupby(['name']).\\\n",
    "aggregate(num_assemblies = ('assembly_id', 'nunique'),\n",
    "          num_device_classes = ('device_id', 'nunique')).\\\n",
    "reset_index()"
   ]
  },
  {
   "cell_type": "markdown",
   "id": "contrary-inclusion",
   "metadata": {},
   "source": [
    "### Count the number of parts printed by Machine delta"
   ]
  },
  {
   "cell_type": "code",
   "execution_count": 47,
   "id": "lucky-cemetery",
   "metadata": {},
   "outputs": [
    {
     "data": {
      "text/html": [
       "<div>\n",
       "<style scoped>\n",
       "    .dataframe tbody tr th:only-of-type {\n",
       "        vertical-align: middle;\n",
       "    }\n",
       "\n",
       "    .dataframe tbody tr th {\n",
       "        vertical-align: top;\n",
       "    }\n",
       "\n",
       "    .dataframe thead th {\n",
       "        text-align: right;\n",
       "    }\n",
       "</style>\n",
       "<table border=\"1\" class=\"dataframe\">\n",
       "  <thead>\n",
       "    <tr style=\"text-align: right;\">\n",
       "      <th></th>\n",
       "      <th>name</th>\n",
       "      <th>num_jobs</th>\n",
       "      <th>num_items</th>\n",
       "      <th>num_part_types</th>\n",
       "    </tr>\n",
       "  </thead>\n",
       "  <tbody>\n",
       "    <tr>\n",
       "      <th>0</th>\n",
       "      <td>alpha</td>\n",
       "      <td>12</td>\n",
       "      <td>48</td>\n",
       "      <td>7</td>\n",
       "    </tr>\n",
       "    <tr>\n",
       "      <th>1</th>\n",
       "      <td>bravo</td>\n",
       "      <td>11</td>\n",
       "      <td>22</td>\n",
       "      <td>5</td>\n",
       "    </tr>\n",
       "    <tr>\n",
       "      <th>2</th>\n",
       "      <td>charlie</td>\n",
       "      <td>14</td>\n",
       "      <td>55</td>\n",
       "      <td>7</td>\n",
       "    </tr>\n",
       "    <tr>\n",
       "      <th>3</th>\n",
       "      <td>delta</td>\n",
       "      <td>12</td>\n",
       "      <td>24</td>\n",
       "      <td>7</td>\n",
       "    </tr>\n",
       "  </tbody>\n",
       "</table>\n",
       "</div>"
      ],
      "text/plain": [
       "      name  num_jobs  num_items  num_part_types\n",
       "0    alpha        12         48               7\n",
       "1    bravo        11         22               5\n",
       "2  charlie        14         55               7\n",
       "3    delta        12         24               7"
      ]
     },
     "execution_count": 47,
     "metadata": {},
     "output_type": "execute_result"
    }
   ],
   "source": [
    "df_pij.merge( df_mpj, on='job_id', how='left').\\\n",
    "merge( df_machines.loc[:, ['machine_id', 'name']], on='machine_id', how='left').\\\n",
    "merge( df_parts, on='part_id', how='left').\\\n",
    "groupby(['name']).\\\n",
    "aggregate(num_jobs = ('job_id', 'nunique'),\n",
    "          num_items = ('item_id', 'nunique'),\n",
    "          num_part_types = ('type', 'nunique')).\\\n",
    "reset_index()"
   ]
  },
  {
   "cell_type": "code",
   "execution_count": null,
   "id": "fatty-france",
   "metadata": {},
   "outputs": [],
   "source": []
  }
 ],
 "metadata": {
  "kernelspec": {
   "display_name": "Python 3",
   "language": "python",
   "name": "python3"
  },
  "language_info": {
   "codemirror_mode": {
    "name": "ipython",
    "version": 3
   },
   "file_extension": ".py",
   "mimetype": "text/x-python",
   "name": "python",
   "nbconvert_exporter": "python",
   "pygments_lexer": "ipython3",
   "version": "3.8.5"
  }
 },
 "nbformat": 4,
 "nbformat_minor": 5
}
