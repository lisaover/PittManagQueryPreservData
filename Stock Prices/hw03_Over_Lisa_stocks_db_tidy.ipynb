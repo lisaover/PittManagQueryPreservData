{
 "cells": [
  {
   "cell_type": "markdown",
   "id": "integrated-skating",
   "metadata": {},
   "source": [
    "#### Lisa Over\n",
    "CMPINF 2110<br>\n",
    "Homework 3: Stocks Data<br>\n",
    "February 24, 2021"
   ]
  },
  {
   "cell_type": "code",
   "execution_count": 98,
   "id": "medical-plaza",
   "metadata": {},
   "outputs": [
    {
     "name": "stdout",
     "output_type": "stream",
     "text": [
      "/Users/lisa/opt/anaconda3/envs/cmpinf_2110/bin/python\n"
     ]
    }
   ],
   "source": [
    "import sys\n",
    "print(sys.executable)"
   ]
  },
  {
   "cell_type": "code",
   "execution_count": 99,
   "id": "ahead-blackjack",
   "metadata": {},
   "outputs": [],
   "source": [
    "import pandas as pd\n",
    "import numpy as np\n",
    "import matplotlib.pyplot as plt\n",
    "\n",
    "import seaborn as sns"
   ]
  },
  {
   "cell_type": "markdown",
   "id": "intermediate-remainder",
   "metadata": {},
   "source": [
    "The Stock Prices data contains information that is redundant and not necessary to have in the price data file when considering storage, and these include 'symbol', 'company', 'sector', and 'exchange'. None of these columns have null values, and because the 'symbol' column consists of short strings, I decided to use 'symbol' as the key. I created the stock_info dataframe by grouping the tidy data on 'symbol', 'company', 'sector', and 'exchange'. I then removed the redundant stock columns 'company', 'sector', and 'exchange'. The 'symbol' column was left in the price data file as a foreign key.\n",
    "\n",
    "The price_type variable is redundant, however, it consists of short strings that do not require additional columns of information so there is no need for another table to eliminate redundancy."
   ]
  },
  {
   "cell_type": "markdown",
   "id": "eligible-winning",
   "metadata": {},
   "source": [
    "#### Read and display the data"
   ]
  },
  {
   "cell_type": "code",
   "execution_count": 100,
   "id": "comfortable-latvia",
   "metadata": {},
   "outputs": [
    {
     "data": {
      "text/html": [
       "<div>\n",
       "<style scoped>\n",
       "    .dataframe tbody tr th:only-of-type {\n",
       "        vertical-align: middle;\n",
       "    }\n",
       "\n",
       "    .dataframe tbody tr th {\n",
       "        vertical-align: top;\n",
       "    }\n",
       "\n",
       "    .dataframe thead th {\n",
       "        text-align: right;\n",
       "    }\n",
       "</style>\n",
       "<table border=\"1\" class=\"dataframe\">\n",
       "  <thead>\n",
       "    <tr style=\"text-align: right;\">\n",
       "      <th></th>\n",
       "      <th>Unnamed: 0</th>\n",
       "      <th>date</th>\n",
       "      <th>value</th>\n",
       "      <th>symbol</th>\n",
       "      <th>price_type</th>\n",
       "      <th>company</th>\n",
       "      <th>sector</th>\n",
       "      <th>exchange</th>\n",
       "    </tr>\n",
       "  </thead>\n",
       "  <tbody>\n",
       "    <tr>\n",
       "      <th>0</th>\n",
       "      <td>0</td>\n",
       "      <td>2020-09-01</td>\n",
       "      <td>132.759995</td>\n",
       "      <td>AAPL</td>\n",
       "      <td>open</td>\n",
       "      <td>Apple Inc.</td>\n",
       "      <td>Information Technology</td>\n",
       "      <td>NASDAQ</td>\n",
       "    </tr>\n",
       "    <tr>\n",
       "      <th>1</th>\n",
       "      <td>1</td>\n",
       "      <td>2020-09-02</td>\n",
       "      <td>137.589996</td>\n",
       "      <td>AAPL</td>\n",
       "      <td>open</td>\n",
       "      <td>Apple Inc.</td>\n",
       "      <td>Information Technology</td>\n",
       "      <td>NASDAQ</td>\n",
       "    </tr>\n",
       "    <tr>\n",
       "      <th>2</th>\n",
       "      <td>2</td>\n",
       "      <td>2020-09-03</td>\n",
       "      <td>126.910004</td>\n",
       "      <td>AAPL</td>\n",
       "      <td>open</td>\n",
       "      <td>Apple Inc.</td>\n",
       "      <td>Information Technology</td>\n",
       "      <td>NASDAQ</td>\n",
       "    </tr>\n",
       "    <tr>\n",
       "      <th>3</th>\n",
       "      <td>3</td>\n",
       "      <td>2020-09-04</td>\n",
       "      <td>120.070000</td>\n",
       "      <td>AAPL</td>\n",
       "      <td>open</td>\n",
       "      <td>Apple Inc.</td>\n",
       "      <td>Information Technology</td>\n",
       "      <td>NASDAQ</td>\n",
       "    </tr>\n",
       "    <tr>\n",
       "      <th>4</th>\n",
       "      <td>4</td>\n",
       "      <td>2020-09-08</td>\n",
       "      <td>113.949997</td>\n",
       "      <td>AAPL</td>\n",
       "      <td>open</td>\n",
       "      <td>Apple Inc.</td>\n",
       "      <td>Information Technology</td>\n",
       "      <td>NASDAQ</td>\n",
       "    </tr>\n",
       "  </tbody>\n",
       "</table>\n",
       "</div>"
      ],
      "text/plain": [
       "   Unnamed: 0        date       value symbol price_type     company  \\\n",
       "0           0  2020-09-01  132.759995   AAPL       open  Apple Inc.   \n",
       "1           1  2020-09-02  137.589996   AAPL       open  Apple Inc.   \n",
       "2           2  2020-09-03  126.910004   AAPL       open  Apple Inc.   \n",
       "3           3  2020-09-04  120.070000   AAPL       open  Apple Inc.   \n",
       "4           4  2020-09-08  113.949997   AAPL       open  Apple Inc.   \n",
       "\n",
       "                   sector exchange  \n",
       "0  Information Technology   NASDAQ  \n",
       "1  Information Technology   NASDAQ  \n",
       "2  Information Technology   NASDAQ  \n",
       "3  Information Technology   NASDAQ  \n",
       "4  Information Technology   NASDAQ  "
      ]
     },
     "execution_count": 100,
     "metadata": {},
     "output_type": "execute_result"
    }
   ],
   "source": [
    "file_name = \"stocks_tidy.csv\"\n",
    "stock_df = pd.read_csv(file_name)\n",
    "stock_df.head()"
   ]
  },
  {
   "cell_type": "markdown",
   "id": "built-vessel",
   "metadata": {},
   "source": [
    "#### Check missing values in each column"
   ]
  },
  {
   "cell_type": "code",
   "execution_count": 101,
   "id": "grave-cabin",
   "metadata": {},
   "outputs": [
    {
     "data": {
      "text/plain": [
       "0"
      ]
     },
     "execution_count": 101,
     "metadata": {},
     "output_type": "execute_result"
    }
   ],
   "source": [
    "stock_df['date'].isnull().sum()"
   ]
  },
  {
   "cell_type": "code",
   "execution_count": 102,
   "id": "permanent-pearl",
   "metadata": {},
   "outputs": [
    {
     "data": {
      "text/plain": [
       "0"
      ]
     },
     "execution_count": 102,
     "metadata": {},
     "output_type": "execute_result"
    }
   ],
   "source": [
    "stock_df['value'].isnull().sum()"
   ]
  },
  {
   "cell_type": "code",
   "execution_count": 103,
   "id": "blind-citizen",
   "metadata": {},
   "outputs": [
    {
     "data": {
      "text/plain": [
       "0"
      ]
     },
     "execution_count": 103,
     "metadata": {},
     "output_type": "execute_result"
    }
   ],
   "source": [
    "stock_df['symbol'].isnull().sum()"
   ]
  },
  {
   "cell_type": "code",
   "execution_count": 104,
   "id": "vertical-declaration",
   "metadata": {},
   "outputs": [
    {
     "data": {
      "text/plain": [
       "0"
      ]
     },
     "execution_count": 104,
     "metadata": {},
     "output_type": "execute_result"
    }
   ],
   "source": [
    "stock_df['price_type'].isnull().sum()"
   ]
  },
  {
   "cell_type": "code",
   "execution_count": 105,
   "id": "occupied-cooking",
   "metadata": {},
   "outputs": [
    {
     "data": {
      "text/plain": [
       "0"
      ]
     },
     "execution_count": 105,
     "metadata": {},
     "output_type": "execute_result"
    }
   ],
   "source": [
    "stock_df['company'].isnull().sum()"
   ]
  },
  {
   "cell_type": "code",
   "execution_count": 106,
   "id": "frequent-edward",
   "metadata": {},
   "outputs": [
    {
     "data": {
      "text/plain": [
       "0"
      ]
     },
     "execution_count": 106,
     "metadata": {},
     "output_type": "execute_result"
    }
   ],
   "source": [
    "stock_df['sector'].isnull().sum()"
   ]
  },
  {
   "cell_type": "code",
   "execution_count": 107,
   "id": "authorized-tobacco",
   "metadata": {},
   "outputs": [
    {
     "data": {
      "text/plain": [
       "0"
      ]
     },
     "execution_count": 107,
     "metadata": {},
     "output_type": "execute_result"
    }
   ],
   "source": [
    "stock_df['exchange'].isnull().sum()"
   ]
  },
  {
   "cell_type": "markdown",
   "id": "opponent-ukraine",
   "metadata": {},
   "source": [
    "#### Create stock_info dataset"
   ]
  },
  {
   "cell_type": "code",
   "execution_count": 108,
   "id": "pacific-trash",
   "metadata": {},
   "outputs": [
    {
     "data": {
      "text/html": [
       "<div>\n",
       "<style scoped>\n",
       "    .dataframe tbody tr th:only-of-type {\n",
       "        vertical-align: middle;\n",
       "    }\n",
       "\n",
       "    .dataframe tbody tr th {\n",
       "        vertical-align: top;\n",
       "    }\n",
       "\n",
       "    .dataframe thead th {\n",
       "        text-align: right;\n",
       "    }\n",
       "</style>\n",
       "<table border=\"1\" class=\"dataframe\">\n",
       "  <thead>\n",
       "    <tr style=\"text-align: right;\">\n",
       "      <th></th>\n",
       "      <th>symbol</th>\n",
       "      <th>company</th>\n",
       "      <th>sector</th>\n",
       "      <th>exchange</th>\n",
       "      <th>num_rows</th>\n",
       "    </tr>\n",
       "  </thead>\n",
       "  <tbody>\n",
       "    <tr>\n",
       "      <th>0</th>\n",
       "      <td>AAPL</td>\n",
       "      <td>Apple Inc.</td>\n",
       "      <td>Information Technology</td>\n",
       "      <td>NASDAQ</td>\n",
       "      <td>400</td>\n",
       "    </tr>\n",
       "    <tr>\n",
       "      <th>1</th>\n",
       "      <td>AMZN</td>\n",
       "      <td>Amazon.com Inc.</td>\n",
       "      <td>Consumer Discretionary</td>\n",
       "      <td>NASDAQ</td>\n",
       "      <td>400</td>\n",
       "    </tr>\n",
       "    <tr>\n",
       "      <th>2</th>\n",
       "      <td>GME</td>\n",
       "      <td>GameStop Corp.</td>\n",
       "      <td>Consumer Discretionary</td>\n",
       "      <td>NYSE</td>\n",
       "      <td>400</td>\n",
       "    </tr>\n",
       "    <tr>\n",
       "      <th>3</th>\n",
       "      <td>KO</td>\n",
       "      <td>Coca-Cola Company</td>\n",
       "      <td>Consumer Staples</td>\n",
       "      <td>NYSE</td>\n",
       "      <td>400</td>\n",
       "    </tr>\n",
       "    <tr>\n",
       "      <th>4</th>\n",
       "      <td>TSLA</td>\n",
       "      <td>Tesla Inc</td>\n",
       "      <td>Consumer Discretionary</td>\n",
       "      <td>NASDAQ</td>\n",
       "      <td>400</td>\n",
       "    </tr>\n",
       "    <tr>\n",
       "      <th>5</th>\n",
       "      <td>VZ</td>\n",
       "      <td>Verizon Communications Inc.</td>\n",
       "      <td>Communication Services</td>\n",
       "      <td>NYSE</td>\n",
       "      <td>400</td>\n",
       "    </tr>\n",
       "  </tbody>\n",
       "</table>\n",
       "</div>"
      ],
      "text/plain": [
       "  symbol                      company                  sector exchange  \\\n",
       "0   AAPL                   Apple Inc.  Information Technology   NASDAQ   \n",
       "1   AMZN              Amazon.com Inc.  Consumer Discretionary   NASDAQ   \n",
       "2    GME               GameStop Corp.  Consumer Discretionary     NYSE   \n",
       "3     KO            Coca-Cola Company        Consumer Staples     NYSE   \n",
       "4   TSLA                    Tesla Inc  Consumer Discretionary   NASDAQ   \n",
       "5     VZ  Verizon Communications Inc.  Communication Services     NYSE   \n",
       "\n",
       "   num_rows  \n",
       "0       400  \n",
       "1       400  \n",
       "2       400  \n",
       "3       400  \n",
       "4       400  \n",
       "5       400  "
      ]
     },
     "execution_count": 108,
     "metadata": {},
     "output_type": "execute_result"
    }
   ],
   "source": [
    "stock_info = stock_df.groupby(['symbol','company','sector','exchange']).size().reset_index(name='num_rows')\n",
    "stock_info"
   ]
  },
  {
   "cell_type": "code",
   "execution_count": 109,
   "id": "growing-month",
   "metadata": {},
   "outputs": [
    {
     "data": {
      "text/html": [
       "<div>\n",
       "<style scoped>\n",
       "    .dataframe tbody tr th:only-of-type {\n",
       "        vertical-align: middle;\n",
       "    }\n",
       "\n",
       "    .dataframe tbody tr th {\n",
       "        vertical-align: top;\n",
       "    }\n",
       "\n",
       "    .dataframe thead th {\n",
       "        text-align: right;\n",
       "    }\n",
       "</style>\n",
       "<table border=\"1\" class=\"dataframe\">\n",
       "  <thead>\n",
       "    <tr style=\"text-align: right;\">\n",
       "      <th></th>\n",
       "      <th>symbol</th>\n",
       "      <th>company</th>\n",
       "      <th>sector</th>\n",
       "      <th>exchange</th>\n",
       "    </tr>\n",
       "  </thead>\n",
       "  <tbody>\n",
       "    <tr>\n",
       "      <th>0</th>\n",
       "      <td>AAPL</td>\n",
       "      <td>Apple Inc.</td>\n",
       "      <td>Information Technology</td>\n",
       "      <td>NASDAQ</td>\n",
       "    </tr>\n",
       "    <tr>\n",
       "      <th>1</th>\n",
       "      <td>AMZN</td>\n",
       "      <td>Amazon.com Inc.</td>\n",
       "      <td>Consumer Discretionary</td>\n",
       "      <td>NASDAQ</td>\n",
       "    </tr>\n",
       "    <tr>\n",
       "      <th>2</th>\n",
       "      <td>GME</td>\n",
       "      <td>GameStop Corp.</td>\n",
       "      <td>Consumer Discretionary</td>\n",
       "      <td>NYSE</td>\n",
       "    </tr>\n",
       "    <tr>\n",
       "      <th>3</th>\n",
       "      <td>KO</td>\n",
       "      <td>Coca-Cola Company</td>\n",
       "      <td>Consumer Staples</td>\n",
       "      <td>NYSE</td>\n",
       "    </tr>\n",
       "    <tr>\n",
       "      <th>4</th>\n",
       "      <td>TSLA</td>\n",
       "      <td>Tesla Inc</td>\n",
       "      <td>Consumer Discretionary</td>\n",
       "      <td>NASDAQ</td>\n",
       "    </tr>\n",
       "    <tr>\n",
       "      <th>5</th>\n",
       "      <td>VZ</td>\n",
       "      <td>Verizon Communications Inc.</td>\n",
       "      <td>Communication Services</td>\n",
       "      <td>NYSE</td>\n",
       "    </tr>\n",
       "  </tbody>\n",
       "</table>\n",
       "</div>"
      ],
      "text/plain": [
       "  symbol                      company                  sector exchange\n",
       "0   AAPL                   Apple Inc.  Information Technology   NASDAQ\n",
       "1   AMZN              Amazon.com Inc.  Consumer Discretionary   NASDAQ\n",
       "2    GME               GameStop Corp.  Consumer Discretionary     NYSE\n",
       "3     KO            Coca-Cola Company        Consumer Staples     NYSE\n",
       "4   TSLA                    Tesla Inc  Consumer Discretionary   NASDAQ\n",
       "5     VZ  Verizon Communications Inc.  Communication Services     NYSE"
      ]
     },
     "execution_count": 109,
     "metadata": {},
     "output_type": "execute_result"
    }
   ],
   "source": [
    "stock_info.drop(['num_rows'], axis=1, inplace=True)\n",
    "stock_info"
   ]
  },
  {
   "cell_type": "code",
   "execution_count": 110,
   "id": "turned-placement",
   "metadata": {},
   "outputs": [
    {
     "data": {
      "text/html": [
       "<div>\n",
       "<style scoped>\n",
       "    .dataframe tbody tr th:only-of-type {\n",
       "        vertical-align: middle;\n",
       "    }\n",
       "\n",
       "    .dataframe tbody tr th {\n",
       "        vertical-align: top;\n",
       "    }\n",
       "\n",
       "    .dataframe thead th {\n",
       "        text-align: right;\n",
       "    }\n",
       "</style>\n",
       "<table border=\"1\" class=\"dataframe\">\n",
       "  <thead>\n",
       "    <tr style=\"text-align: right;\">\n",
       "      <th></th>\n",
       "      <th>symbol</th>\n",
       "      <th>company</th>\n",
       "      <th>sector</th>\n",
       "      <th>exchange</th>\n",
       "    </tr>\n",
       "  </thead>\n",
       "  <tbody>\n",
       "    <tr>\n",
       "      <th>0</th>\n",
       "      <td>AAPL</td>\n",
       "      <td>Apple Inc.</td>\n",
       "      <td>Information Technology</td>\n",
       "      <td>NASDAQ</td>\n",
       "    </tr>\n",
       "    <tr>\n",
       "      <th>1</th>\n",
       "      <td>AMZN</td>\n",
       "      <td>Amazon.com Inc.</td>\n",
       "      <td>Consumer Discretionary</td>\n",
       "      <td>NASDAQ</td>\n",
       "    </tr>\n",
       "    <tr>\n",
       "      <th>2</th>\n",
       "      <td>GME</td>\n",
       "      <td>GameStop Corp.</td>\n",
       "      <td>Consumer Discretionary</td>\n",
       "      <td>NYSE</td>\n",
       "    </tr>\n",
       "    <tr>\n",
       "      <th>3</th>\n",
       "      <td>KO</td>\n",
       "      <td>Coca-Cola Company</td>\n",
       "      <td>Consumer Staples</td>\n",
       "      <td>NYSE</td>\n",
       "    </tr>\n",
       "    <tr>\n",
       "      <th>4</th>\n",
       "      <td>TSLA</td>\n",
       "      <td>Tesla Inc</td>\n",
       "      <td>Consumer Discretionary</td>\n",
       "      <td>NASDAQ</td>\n",
       "    </tr>\n",
       "    <tr>\n",
       "      <th>5</th>\n",
       "      <td>VZ</td>\n",
       "      <td>Verizon Communications Inc.</td>\n",
       "      <td>Communication Services</td>\n",
       "      <td>NYSE</td>\n",
       "    </tr>\n",
       "  </tbody>\n",
       "</table>\n",
       "</div>"
      ],
      "text/plain": [
       "  symbol                      company                  sector exchange\n",
       "0   AAPL                   Apple Inc.  Information Technology   NASDAQ\n",
       "1   AMZN              Amazon.com Inc.  Consumer Discretionary   NASDAQ\n",
       "2    GME               GameStop Corp.  Consumer Discretionary     NYSE\n",
       "3     KO            Coca-Cola Company        Consumer Staples     NYSE\n",
       "4   TSLA                    Tesla Inc  Consumer Discretionary   NASDAQ\n",
       "5     VZ  Verizon Communications Inc.  Communication Services     NYSE"
      ]
     },
     "execution_count": 110,
     "metadata": {},
     "output_type": "execute_result"
    }
   ],
   "source": [
    "stock_info = stock_info[['symbol','company','sector','exchange']]\n",
    "stock_info"
   ]
  },
  {
   "cell_type": "code",
   "execution_count": 111,
   "id": "supported-france",
   "metadata": {},
   "outputs": [
    {
     "data": {
      "text/html": [
       "<div>\n",
       "<style scoped>\n",
       "    .dataframe tbody tr th:only-of-type {\n",
       "        vertical-align: middle;\n",
       "    }\n",
       "\n",
       "    .dataframe tbody tr th {\n",
       "        vertical-align: top;\n",
       "    }\n",
       "\n",
       "    .dataframe thead th {\n",
       "        text-align: right;\n",
       "    }\n",
       "</style>\n",
       "<table border=\"1\" class=\"dataframe\">\n",
       "  <thead>\n",
       "    <tr style=\"text-align: right;\">\n",
       "      <th></th>\n",
       "      <th>date</th>\n",
       "      <th>symbol</th>\n",
       "      <th>price_type</th>\n",
       "      <th>value</th>\n",
       "    </tr>\n",
       "  </thead>\n",
       "  <tbody>\n",
       "    <tr>\n",
       "      <th>0</th>\n",
       "      <td>2020-09-01</td>\n",
       "      <td>AAPL</td>\n",
       "      <td>open</td>\n",
       "      <td>132.759995</td>\n",
       "    </tr>\n",
       "    <tr>\n",
       "      <th>1</th>\n",
       "      <td>2020-09-02</td>\n",
       "      <td>AAPL</td>\n",
       "      <td>open</td>\n",
       "      <td>137.589996</td>\n",
       "    </tr>\n",
       "    <tr>\n",
       "      <th>2</th>\n",
       "      <td>2020-09-03</td>\n",
       "      <td>AAPL</td>\n",
       "      <td>open</td>\n",
       "      <td>126.910004</td>\n",
       "    </tr>\n",
       "    <tr>\n",
       "      <th>3</th>\n",
       "      <td>2020-09-04</td>\n",
       "      <td>AAPL</td>\n",
       "      <td>open</td>\n",
       "      <td>120.070000</td>\n",
       "    </tr>\n",
       "    <tr>\n",
       "      <th>4</th>\n",
       "      <td>2020-09-08</td>\n",
       "      <td>AAPL</td>\n",
       "      <td>open</td>\n",
       "      <td>113.949997</td>\n",
       "    </tr>\n",
       "  </tbody>\n",
       "</table>\n",
       "</div>"
      ],
      "text/plain": [
       "         date symbol price_type       value\n",
       "0  2020-09-01   AAPL       open  132.759995\n",
       "1  2020-09-02   AAPL       open  137.589996\n",
       "2  2020-09-03   AAPL       open  126.910004\n",
       "3  2020-09-04   AAPL       open  120.070000\n",
       "4  2020-09-08   AAPL       open  113.949997"
      ]
     },
     "execution_count": 111,
     "metadata": {},
     "output_type": "execute_result"
    }
   ],
   "source": [
    "stock_prices = stock_df[['date','symbol','price_type','value']].copy()\n",
    "stock_prices.head()"
   ]
  },
  {
   "cell_type": "markdown",
   "id": "diagnostic-cancer",
   "metadata": {},
   "source": [
    "#### Write price_data and stock_info to files"
   ]
  },
  {
   "cell_type": "code",
   "execution_count": 112,
   "id": "loving-summer",
   "metadata": {},
   "outputs": [],
   "source": [
    "stock_info.to_csv('stock_info.csv', index=False)"
   ]
  },
  {
   "cell_type": "code",
   "execution_count": 113,
   "id": "knowing-organ",
   "metadata": {},
   "outputs": [
    {
     "data": {
      "text/html": [
       "<div>\n",
       "<style scoped>\n",
       "    .dataframe tbody tr th:only-of-type {\n",
       "        vertical-align: middle;\n",
       "    }\n",
       "\n",
       "    .dataframe tbody tr th {\n",
       "        vertical-align: top;\n",
       "    }\n",
       "\n",
       "    .dataframe thead th {\n",
       "        text-align: right;\n",
       "    }\n",
       "</style>\n",
       "<table border=\"1\" class=\"dataframe\">\n",
       "  <thead>\n",
       "    <tr style=\"text-align: right;\">\n",
       "      <th></th>\n",
       "      <th>date</th>\n",
       "      <th>stock_type</th>\n",
       "      <th>price_type</th>\n",
       "      <th>price</th>\n",
       "    </tr>\n",
       "  </thead>\n",
       "  <tbody>\n",
       "    <tr>\n",
       "      <th>0</th>\n",
       "      <td>2020-09-01</td>\n",
       "      <td>AAPL</td>\n",
       "      <td>open</td>\n",
       "      <td>132.759995</td>\n",
       "    </tr>\n",
       "    <tr>\n",
       "      <th>1</th>\n",
       "      <td>2020-09-02</td>\n",
       "      <td>AAPL</td>\n",
       "      <td>open</td>\n",
       "      <td>137.589996</td>\n",
       "    </tr>\n",
       "    <tr>\n",
       "      <th>2</th>\n",
       "      <td>2020-09-03</td>\n",
       "      <td>AAPL</td>\n",
       "      <td>open</td>\n",
       "      <td>126.910004</td>\n",
       "    </tr>\n",
       "    <tr>\n",
       "      <th>3</th>\n",
       "      <td>2020-09-04</td>\n",
       "      <td>AAPL</td>\n",
       "      <td>open</td>\n",
       "      <td>120.070000</td>\n",
       "    </tr>\n",
       "    <tr>\n",
       "      <th>4</th>\n",
       "      <td>2020-09-08</td>\n",
       "      <td>AAPL</td>\n",
       "      <td>open</td>\n",
       "      <td>113.949997</td>\n",
       "    </tr>\n",
       "    <tr>\n",
       "      <th>5</th>\n",
       "      <td>2020-09-09</td>\n",
       "      <td>AAPL</td>\n",
       "      <td>open</td>\n",
       "      <td>117.260002</td>\n",
       "    </tr>\n",
       "    <tr>\n",
       "      <th>6</th>\n",
       "      <td>2020-09-10</td>\n",
       "      <td>AAPL</td>\n",
       "      <td>open</td>\n",
       "      <td>120.360001</td>\n",
       "    </tr>\n",
       "    <tr>\n",
       "      <th>7</th>\n",
       "      <td>2020-09-11</td>\n",
       "      <td>AAPL</td>\n",
       "      <td>open</td>\n",
       "      <td>114.570000</td>\n",
       "    </tr>\n",
       "    <tr>\n",
       "      <th>8</th>\n",
       "      <td>2020-09-14</td>\n",
       "      <td>AAPL</td>\n",
       "      <td>open</td>\n",
       "      <td>114.720001</td>\n",
       "    </tr>\n",
       "    <tr>\n",
       "      <th>9</th>\n",
       "      <td>2020-09-15</td>\n",
       "      <td>AAPL</td>\n",
       "      <td>open</td>\n",
       "      <td>118.330002</td>\n",
       "    </tr>\n",
       "  </tbody>\n",
       "</table>\n",
       "</div>"
      ],
      "text/plain": [
       "         date stock_type price_type       price\n",
       "0  2020-09-01       AAPL       open  132.759995\n",
       "1  2020-09-02       AAPL       open  137.589996\n",
       "2  2020-09-03       AAPL       open  126.910004\n",
       "3  2020-09-04       AAPL       open  120.070000\n",
       "4  2020-09-08       AAPL       open  113.949997\n",
       "5  2020-09-09       AAPL       open  117.260002\n",
       "6  2020-09-10       AAPL       open  120.360001\n",
       "7  2020-09-11       AAPL       open  114.570000\n",
       "8  2020-09-14       AAPL       open  114.720001\n",
       "9  2020-09-15       AAPL       open  118.330002"
      ]
     },
     "execution_count": 113,
     "metadata": {},
     "output_type": "execute_result"
    }
   ],
   "source": [
    "stock_prices.rename(columns={\"value\": \"price\", \"symbol\": \"stock_type\"}, inplace=True)\n",
    "stock_prices.head(10)"
   ]
  },
  {
   "cell_type": "code",
   "execution_count": 114,
   "id": "shared-thickness",
   "metadata": {},
   "outputs": [],
   "source": [
    "stock_prices.to_csv('stock_prices.csv', index=False)"
   ]
  }
 ],
 "metadata": {
  "kernelspec": {
   "display_name": "Python 3",
   "language": "python",
   "name": "python3"
  },
  "language_info": {
   "codemirror_mode": {
    "name": "ipython",
    "version": 3
   },
   "file_extension": ".py",
   "mimetype": "text/x-python",
   "name": "python",
   "nbconvert_exporter": "python",
   "pygments_lexer": "ipython3",
   "version": "3.8.5"
  }
 },
 "nbformat": 4,
 "nbformat_minor": 5
}
