{
 "cells": [
  {
   "cell_type": "markdown",
   "id": "enormous-stone",
   "metadata": {},
   "source": [
    "#### Lisa Over\n",
    "CMPINF 2110<br>\n",
    "Homework 4: Bob Ross<br>\n",
    "March 10, 2021"
   ]
  },
  {
   "cell_type": "code",
   "execution_count": 441,
   "id": "affiliated-bradford",
   "metadata": {},
   "outputs": [
    {
     "name": "stdout",
     "output_type": "stream",
     "text": [
      "/Users/lisa/opt/anaconda3/envs/cmpinf_2110/bin/python\n"
     ]
    }
   ],
   "source": [
    "import sys\n",
    "print(sys.executable)"
   ]
  },
  {
   "cell_type": "code",
   "execution_count": 442,
   "id": "brown-think",
   "metadata": {},
   "outputs": [],
   "source": [
    "import pandas as pd\n",
    "import numpy as np\n",
    "import matplotlib.pyplot as plt\n",
    "\n",
    "import seaborn as sns"
   ]
  },
  {
   "cell_type": "markdown",
   "id": "wicked-animation",
   "metadata": {},
   "source": [
    "#### Read in data: tidy data and separate titles data"
   ]
  },
  {
   "cell_type": "code",
   "execution_count": 443,
   "id": "mineral-incidence",
   "metadata": {},
   "outputs": [],
   "source": [
    "data_file = 'ross_episodes_tidy.csv'\n",
    "df_tidy = pd.read_csv( data_file )"
   ]
  },
  {
   "cell_type": "code",
   "execution_count": 444,
   "id": "voluntary-opinion",
   "metadata": {},
   "outputs": [
    {
     "data": {
      "text/html": [
       "<div>\n",
       "<style scoped>\n",
       "    .dataframe tbody tr th:only-of-type {\n",
       "        vertical-align: middle;\n",
       "    }\n",
       "\n",
       "    .dataframe tbody tr th {\n",
       "        vertical-align: top;\n",
       "    }\n",
       "\n",
       "    .dataframe thead th {\n",
       "        text-align: right;\n",
       "    }\n",
       "</style>\n",
       "<table border=\"1\" class=\"dataframe\">\n",
       "  <thead>\n",
       "    <tr style=\"text-align: right;\">\n",
       "      <th></th>\n",
       "      <th>season</th>\n",
       "      <th>episode</th>\n",
       "      <th>feature</th>\n",
       "      <th>artist</th>\n",
       "      <th>artist_name</th>\n",
       "      <th>artist_relationship</th>\n",
       "    </tr>\n",
       "  </thead>\n",
       "  <tbody>\n",
       "    <tr>\n",
       "      <th>0</th>\n",
       "      <td>1</td>\n",
       "      <td>1</td>\n",
       "      <td>BUSHES</td>\n",
       "      <td>BOB_ROSS</td>\n",
       "      <td>Bob Ross</td>\n",
       "      <td>Himself</td>\n",
       "    </tr>\n",
       "    <tr>\n",
       "      <th>1</th>\n",
       "      <td>1</td>\n",
       "      <td>1</td>\n",
       "      <td>DECIDUOUS</td>\n",
       "      <td>BOB_ROSS</td>\n",
       "      <td>Bob Ross</td>\n",
       "      <td>Himself</td>\n",
       "    </tr>\n",
       "    <tr>\n",
       "      <th>2</th>\n",
       "      <td>1</td>\n",
       "      <td>1</td>\n",
       "      <td>GRASS</td>\n",
       "      <td>BOB_ROSS</td>\n",
       "      <td>Bob Ross</td>\n",
       "      <td>Himself</td>\n",
       "    </tr>\n",
       "    <tr>\n",
       "      <th>3</th>\n",
       "      <td>1</td>\n",
       "      <td>1</td>\n",
       "      <td>RIVER</td>\n",
       "      <td>BOB_ROSS</td>\n",
       "      <td>Bob Ross</td>\n",
       "      <td>Himself</td>\n",
       "    </tr>\n",
       "    <tr>\n",
       "      <th>4</th>\n",
       "      <td>1</td>\n",
       "      <td>1</td>\n",
       "      <td>TREE</td>\n",
       "      <td>BOB_ROSS</td>\n",
       "      <td>Bob Ross</td>\n",
       "      <td>Himself</td>\n",
       "    </tr>\n",
       "  </tbody>\n",
       "</table>\n",
       "</div>"
      ],
      "text/plain": [
       "   season  episode    feature    artist artist_name artist_relationship\n",
       "0       1        1     BUSHES  BOB_ROSS    Bob Ross             Himself\n",
       "1       1        1  DECIDUOUS  BOB_ROSS    Bob Ross             Himself\n",
       "2       1        1      GRASS  BOB_ROSS    Bob Ross             Himself\n",
       "3       1        1      RIVER  BOB_ROSS    Bob Ross             Himself\n",
       "4       1        1       TREE  BOB_ROSS    Bob Ross             Himself"
      ]
     },
     "execution_count": 444,
     "metadata": {},
     "output_type": "execute_result"
    }
   ],
   "source": [
    "df_tidy.head()"
   ]
  },
  {
   "cell_type": "code",
   "execution_count": 445,
   "id": "handy-significance",
   "metadata": {},
   "outputs": [
    {
     "data": {
      "text/html": [
       "<div>\n",
       "<style scoped>\n",
       "    .dataframe tbody tr th:only-of-type {\n",
       "        vertical-align: middle;\n",
       "    }\n",
       "\n",
       "    .dataframe tbody tr th {\n",
       "        vertical-align: top;\n",
       "    }\n",
       "\n",
       "    .dataframe thead th {\n",
       "        text-align: right;\n",
       "    }\n",
       "</style>\n",
       "<table border=\"1\" class=\"dataframe\">\n",
       "  <thead>\n",
       "    <tr style=\"text-align: right;\">\n",
       "      <th></th>\n",
       "      <th>season</th>\n",
       "      <th>episode</th>\n",
       "      <th>TITLE</th>\n",
       "    </tr>\n",
       "  </thead>\n",
       "  <tbody>\n",
       "    <tr>\n",
       "      <th>0</th>\n",
       "      <td>1</td>\n",
       "      <td>1</td>\n",
       "      <td>\"A WALK IN THE WOODS\"</td>\n",
       "    </tr>\n",
       "    <tr>\n",
       "      <th>1</th>\n",
       "      <td>1</td>\n",
       "      <td>2</td>\n",
       "      <td>\"MT. MCKINLEY\"</td>\n",
       "    </tr>\n",
       "    <tr>\n",
       "      <th>2</th>\n",
       "      <td>1</td>\n",
       "      <td>3</td>\n",
       "      <td>\"EBONY SUNSET\"</td>\n",
       "    </tr>\n",
       "    <tr>\n",
       "      <th>3</th>\n",
       "      <td>1</td>\n",
       "      <td>4</td>\n",
       "      <td>\"WINTER MIST\"</td>\n",
       "    </tr>\n",
       "    <tr>\n",
       "      <th>4</th>\n",
       "      <td>1</td>\n",
       "      <td>5</td>\n",
       "      <td>\"QUIET STREAM\"</td>\n",
       "    </tr>\n",
       "  </tbody>\n",
       "</table>\n",
       "</div>"
      ],
      "text/plain": [
       "   season  episode                  TITLE\n",
       "0       1        1  \"A WALK IN THE WOODS\"\n",
       "1       1        2         \"MT. MCKINLEY\"\n",
       "2       1        3         \"EBONY SUNSET\"\n",
       "3       1        4          \"WINTER MIST\"\n",
       "4       1        5         \"QUIET STREAM\""
      ]
     },
     "execution_count": 445,
     "metadata": {},
     "output_type": "execute_result"
    }
   ],
   "source": [
    "data_file = 'ross_titles.csv'\n",
    "df_titles = pd.read_csv( data_file )\n",
    "df_titles.head()"
   ]
  },
  {
   "cell_type": "markdown",
   "id": "streaming-chain",
   "metadata": {},
   "source": [
    "#### Clean up df_tidy"
   ]
  },
  {
   "cell_type": "code",
   "execution_count": 446,
   "id": "exceptional-module",
   "metadata": {},
   "outputs": [],
   "source": [
    "df_tidy['feature'] = df_tidy['feature'].str.replace('_', ' ')"
   ]
  },
  {
   "cell_type": "code",
   "execution_count": 447,
   "id": "handled-powell",
   "metadata": {},
   "outputs": [
    {
     "data": {
      "text/html": [
       "<div>\n",
       "<style scoped>\n",
       "    .dataframe tbody tr th:only-of-type {\n",
       "        vertical-align: middle;\n",
       "    }\n",
       "\n",
       "    .dataframe tbody tr th {\n",
       "        vertical-align: top;\n",
       "    }\n",
       "\n",
       "    .dataframe thead th {\n",
       "        text-align: right;\n",
       "    }\n",
       "</style>\n",
       "<table border=\"1\" class=\"dataframe\">\n",
       "  <thead>\n",
       "    <tr style=\"text-align: right;\">\n",
       "      <th></th>\n",
       "      <th>season</th>\n",
       "      <th>episode</th>\n",
       "      <th>feature</th>\n",
       "      <th>artist</th>\n",
       "      <th>artist_name</th>\n",
       "      <th>artist_relationship</th>\n",
       "    </tr>\n",
       "  </thead>\n",
       "  <tbody>\n",
       "    <tr>\n",
       "      <th>0</th>\n",
       "      <td>1</td>\n",
       "      <td>1</td>\n",
       "      <td>Bushes</td>\n",
       "      <td>BOB_ROSS</td>\n",
       "      <td>Bob Ross</td>\n",
       "      <td>Himself</td>\n",
       "    </tr>\n",
       "    <tr>\n",
       "      <th>1</th>\n",
       "      <td>1</td>\n",
       "      <td>1</td>\n",
       "      <td>Deciduous</td>\n",
       "      <td>BOB_ROSS</td>\n",
       "      <td>Bob Ross</td>\n",
       "      <td>Himself</td>\n",
       "    </tr>\n",
       "    <tr>\n",
       "      <th>2</th>\n",
       "      <td>1</td>\n",
       "      <td>1</td>\n",
       "      <td>Grass</td>\n",
       "      <td>BOB_ROSS</td>\n",
       "      <td>Bob Ross</td>\n",
       "      <td>Himself</td>\n",
       "    </tr>\n",
       "    <tr>\n",
       "      <th>3</th>\n",
       "      <td>1</td>\n",
       "      <td>1</td>\n",
       "      <td>River</td>\n",
       "      <td>BOB_ROSS</td>\n",
       "      <td>Bob Ross</td>\n",
       "      <td>Himself</td>\n",
       "    </tr>\n",
       "    <tr>\n",
       "      <th>4</th>\n",
       "      <td>1</td>\n",
       "      <td>1</td>\n",
       "      <td>Tree</td>\n",
       "      <td>BOB_ROSS</td>\n",
       "      <td>Bob Ross</td>\n",
       "      <td>Himself</td>\n",
       "    </tr>\n",
       "    <tr>\n",
       "      <th>...</th>\n",
       "      <td>...</td>\n",
       "      <td>...</td>\n",
       "      <td>...</td>\n",
       "      <td>...</td>\n",
       "      <td>...</td>\n",
       "      <td>...</td>\n",
       "    </tr>\n",
       "    <tr>\n",
       "      <th>3185</th>\n",
       "      <td>4</td>\n",
       "      <td>11</td>\n",
       "      <td>Mountain</td>\n",
       "      <td>DIANE_ANDRE</td>\n",
       "      <td>Diane Andre</td>\n",
       "      <td>Friend</td>\n",
       "    </tr>\n",
       "    <tr>\n",
       "      <th>3186</th>\n",
       "      <td>4</td>\n",
       "      <td>11</td>\n",
       "      <td>Mountains</td>\n",
       "      <td>DIANE_ANDRE</td>\n",
       "      <td>Diane Andre</td>\n",
       "      <td>Friend</td>\n",
       "    </tr>\n",
       "    <tr>\n",
       "      <th>3187</th>\n",
       "      <td>4</td>\n",
       "      <td>11</td>\n",
       "      <td>Snowy Mountain</td>\n",
       "      <td>DIANE_ANDRE</td>\n",
       "      <td>Diane Andre</td>\n",
       "      <td>Friend</td>\n",
       "    </tr>\n",
       "    <tr>\n",
       "      <th>3188</th>\n",
       "      <td>4</td>\n",
       "      <td>11</td>\n",
       "      <td>Tree</td>\n",
       "      <td>DIANE_ANDRE</td>\n",
       "      <td>Diane Andre</td>\n",
       "      <td>Friend</td>\n",
       "    </tr>\n",
       "    <tr>\n",
       "      <th>3189</th>\n",
       "      <td>4</td>\n",
       "      <td>11</td>\n",
       "      <td>Trees</td>\n",
       "      <td>DIANE_ANDRE</td>\n",
       "      <td>Diane Andre</td>\n",
       "      <td>Friend</td>\n",
       "    </tr>\n",
       "  </tbody>\n",
       "</table>\n",
       "<p>3190 rows × 6 columns</p>\n",
       "</div>"
      ],
      "text/plain": [
       "      season  episode         feature       artist  artist_name  \\\n",
       "0          1        1          Bushes     BOB_ROSS     Bob Ross   \n",
       "1          1        1       Deciduous     BOB_ROSS     Bob Ross   \n",
       "2          1        1           Grass     BOB_ROSS     Bob Ross   \n",
       "3          1        1           River     BOB_ROSS     Bob Ross   \n",
       "4          1        1            Tree     BOB_ROSS     Bob Ross   \n",
       "...      ...      ...             ...          ...          ...   \n",
       "3185       4       11        Mountain  DIANE_ANDRE  Diane Andre   \n",
       "3186       4       11       Mountains  DIANE_ANDRE  Diane Andre   \n",
       "3187       4       11  Snowy Mountain  DIANE_ANDRE  Diane Andre   \n",
       "3188       4       11            Tree  DIANE_ANDRE  Diane Andre   \n",
       "3189       4       11           Trees  DIANE_ANDRE  Diane Andre   \n",
       "\n",
       "     artist_relationship  \n",
       "0                Himself  \n",
       "1                Himself  \n",
       "2                Himself  \n",
       "3                Himself  \n",
       "4                Himself  \n",
       "...                  ...  \n",
       "3185              Friend  \n",
       "3186              Friend  \n",
       "3187              Friend  \n",
       "3188              Friend  \n",
       "3189              Friend  \n",
       "\n",
       "[3190 rows x 6 columns]"
      ]
     },
     "execution_count": 447,
     "metadata": {},
     "output_type": "execute_result"
    }
   ],
   "source": [
    "df_tidy['feature'] = df_tidy.feature.str.title()\n",
    "df_tidy"
   ]
  },
  {
   "cell_type": "markdown",
   "id": "tutorial-whale",
   "metadata": {},
   "source": [
    "#### Clean up df_titles"
   ]
  },
  {
   "cell_type": "code",
   "execution_count": 448,
   "id": "regular-kenya",
   "metadata": {},
   "outputs": [
    {
     "data": {
      "text/html": [
       "<div>\n",
       "<style scoped>\n",
       "    .dataframe tbody tr th:only-of-type {\n",
       "        vertical-align: middle;\n",
       "    }\n",
       "\n",
       "    .dataframe tbody tr th {\n",
       "        vertical-align: top;\n",
       "    }\n",
       "\n",
       "    .dataframe thead th {\n",
       "        text-align: right;\n",
       "    }\n",
       "</style>\n",
       "<table border=\"1\" class=\"dataframe\">\n",
       "  <thead>\n",
       "    <tr style=\"text-align: right;\">\n",
       "      <th></th>\n",
       "      <th>season</th>\n",
       "      <th>episode</th>\n",
       "      <th>TITLE</th>\n",
       "    </tr>\n",
       "  </thead>\n",
       "  <tbody>\n",
       "    <tr>\n",
       "      <th>116</th>\n",
       "      <td>9</td>\n",
       "      <td>13</td>\n",
       "      <td>\"MOUNTAIN HIDE-AWAY\"</td>\n",
       "    </tr>\n",
       "  </tbody>\n",
       "</table>\n",
       "</div>"
      ],
      "text/plain": [
       "     season  episode                 TITLE\n",
       "116       9       13  \"MOUNTAIN HIDE-AWAY\""
      ]
     },
     "execution_count": 448,
     "metadata": {},
     "output_type": "execute_result"
    }
   ],
   "source": [
    "df_titles.loc[(df_titles['season'] == 9) & (df_titles['episode'] == 13)]"
   ]
  },
  {
   "cell_type": "code",
   "execution_count": 449,
   "id": "headed-portsmouth",
   "metadata": {},
   "outputs": [],
   "source": [
    "df_titles.iloc[116,2] = 'Mountain Hideaway'"
   ]
  },
  {
   "cell_type": "code",
   "execution_count": 450,
   "id": "theoretical-thursday",
   "metadata": {},
   "outputs": [
    {
     "data": {
      "text/html": [
       "<div>\n",
       "<style scoped>\n",
       "    .dataframe tbody tr th:only-of-type {\n",
       "        vertical-align: middle;\n",
       "    }\n",
       "\n",
       "    .dataframe tbody tr th {\n",
       "        vertical-align: top;\n",
       "    }\n",
       "\n",
       "    .dataframe thead th {\n",
       "        text-align: right;\n",
       "    }\n",
       "</style>\n",
       "<table border=\"1\" class=\"dataframe\">\n",
       "  <thead>\n",
       "    <tr style=\"text-align: right;\">\n",
       "      <th></th>\n",
       "      <th>season</th>\n",
       "      <th>episode</th>\n",
       "      <th>TITLE</th>\n",
       "    </tr>\n",
       "  </thead>\n",
       "  <tbody>\n",
       "    <tr>\n",
       "      <th>116</th>\n",
       "      <td>9</td>\n",
       "      <td>13</td>\n",
       "      <td>Mountain Hideaway</td>\n",
       "    </tr>\n",
       "  </tbody>\n",
       "</table>\n",
       "</div>"
      ],
      "text/plain": [
       "     season  episode              TITLE\n",
       "116       9       13  Mountain Hideaway"
      ]
     },
     "execution_count": 450,
     "metadata": {},
     "output_type": "execute_result"
    }
   ],
   "source": [
    "df_titles.loc[(df_titles['season'] == 9) & (df_titles['episode'] == 13)]"
   ]
  },
  {
   "cell_type": "code",
   "execution_count": 451,
   "id": "planned-rugby",
   "metadata": {},
   "outputs": [],
   "source": [
    "df_titles.rename(columns={'TITLE':'title'}, inplace=True)"
   ]
  },
  {
   "cell_type": "code",
   "execution_count": 452,
   "id": "published-seeking",
   "metadata": {},
   "outputs": [
    {
     "name": "stderr",
     "output_type": "stream",
     "text": [
      "<ipython-input-452-b2f71bd5ff22>:1: FutureWarning: The default value of regex will change from True to False in a future version.\n",
      "  df_titles['title'] = df_titles['title'].str.replace(r\"[\\\"\\',]\", '')\n"
     ]
    }
   ],
   "source": [
    "df_titles['title'] = df_titles['title'].str.replace(r\"[\\\"\\',]\", '')"
   ]
  },
  {
   "cell_type": "code",
   "execution_count": 453,
   "id": "binary-extent",
   "metadata": {},
   "outputs": [
    {
     "name": "stderr",
     "output_type": "stream",
     "text": [
      "<ipython-input-453-ae55937bbe7d>:1: FutureWarning: The default value of regex will change from True to False in a future version.\n",
      "  df_titles['title'] = df_titles['title'].str.replace(r\"[\\-\\',]\", ' ')\n"
     ]
    }
   ],
   "source": [
    "df_titles['title'] = df_titles['title'].str.replace(r\"[\\-\\',]\", ' ')"
   ]
  },
  {
   "cell_type": "code",
   "execution_count": 454,
   "id": "breeding-johns",
   "metadata": {},
   "outputs": [
    {
     "data": {
      "text/html": [
       "<div>\n",
       "<style scoped>\n",
       "    .dataframe tbody tr th:only-of-type {\n",
       "        vertical-align: middle;\n",
       "    }\n",
       "\n",
       "    .dataframe tbody tr th {\n",
       "        vertical-align: top;\n",
       "    }\n",
       "\n",
       "    .dataframe thead th {\n",
       "        text-align: right;\n",
       "    }\n",
       "</style>\n",
       "<table border=\"1\" class=\"dataframe\">\n",
       "  <thead>\n",
       "    <tr style=\"text-align: right;\">\n",
       "      <th></th>\n",
       "      <th>season</th>\n",
       "      <th>episode</th>\n",
       "      <th>title</th>\n",
       "    </tr>\n",
       "  </thead>\n",
       "  <tbody>\n",
       "    <tr>\n",
       "      <th>0</th>\n",
       "      <td>1</td>\n",
       "      <td>1</td>\n",
       "      <td>A WALK IN THE WOODS</td>\n",
       "    </tr>\n",
       "    <tr>\n",
       "      <th>1</th>\n",
       "      <td>1</td>\n",
       "      <td>2</td>\n",
       "      <td>MT. MCKINLEY</td>\n",
       "    </tr>\n",
       "    <tr>\n",
       "      <th>2</th>\n",
       "      <td>1</td>\n",
       "      <td>3</td>\n",
       "      <td>EBONY SUNSET</td>\n",
       "    </tr>\n",
       "    <tr>\n",
       "      <th>3</th>\n",
       "      <td>1</td>\n",
       "      <td>4</td>\n",
       "      <td>WINTER MIST</td>\n",
       "    </tr>\n",
       "    <tr>\n",
       "      <th>4</th>\n",
       "      <td>1</td>\n",
       "      <td>5</td>\n",
       "      <td>QUIET STREAM</td>\n",
       "    </tr>\n",
       "  </tbody>\n",
       "</table>\n",
       "</div>"
      ],
      "text/plain": [
       "   season  episode                title\n",
       "0       1        1  A WALK IN THE WOODS\n",
       "1       1        2         MT. MCKINLEY\n",
       "2       1        3         EBONY SUNSET\n",
       "3       1        4          WINTER MIST\n",
       "4       1        5         QUIET STREAM"
      ]
     },
     "execution_count": 454,
     "metadata": {},
     "output_type": "execute_result"
    }
   ],
   "source": [
    "df_titles.head()"
   ]
  },
  {
   "cell_type": "code",
   "execution_count": 455,
   "id": "portuguese-penny",
   "metadata": {},
   "outputs": [
    {
     "data": {
      "text/html": [
       "<div>\n",
       "<style scoped>\n",
       "    .dataframe tbody tr th:only-of-type {\n",
       "        vertical-align: middle;\n",
       "    }\n",
       "\n",
       "    .dataframe tbody tr th {\n",
       "        vertical-align: top;\n",
       "    }\n",
       "\n",
       "    .dataframe thead th {\n",
       "        text-align: right;\n",
       "    }\n",
       "</style>\n",
       "<table border=\"1\" class=\"dataframe\">\n",
       "  <thead>\n",
       "    <tr style=\"text-align: right;\">\n",
       "      <th></th>\n",
       "      <th>season</th>\n",
       "      <th>episode</th>\n",
       "      <th>title</th>\n",
       "    </tr>\n",
       "  </thead>\n",
       "  <tbody>\n",
       "    <tr>\n",
       "      <th>0</th>\n",
       "      <td>1</td>\n",
       "      <td>1</td>\n",
       "      <td>A Walk In The Woods</td>\n",
       "    </tr>\n",
       "    <tr>\n",
       "      <th>1</th>\n",
       "      <td>1</td>\n",
       "      <td>2</td>\n",
       "      <td>Mt. Mckinley</td>\n",
       "    </tr>\n",
       "    <tr>\n",
       "      <th>2</th>\n",
       "      <td>1</td>\n",
       "      <td>3</td>\n",
       "      <td>Ebony Sunset</td>\n",
       "    </tr>\n",
       "    <tr>\n",
       "      <th>3</th>\n",
       "      <td>1</td>\n",
       "      <td>4</td>\n",
       "      <td>Winter Mist</td>\n",
       "    </tr>\n",
       "    <tr>\n",
       "      <th>4</th>\n",
       "      <td>1</td>\n",
       "      <td>5</td>\n",
       "      <td>Quiet Stream</td>\n",
       "    </tr>\n",
       "    <tr>\n",
       "      <th>...</th>\n",
       "      <td>...</td>\n",
       "      <td>...</td>\n",
       "      <td>...</td>\n",
       "    </tr>\n",
       "    <tr>\n",
       "      <th>398</th>\n",
       "      <td>31</td>\n",
       "      <td>9</td>\n",
       "      <td>Evergreen Valley</td>\n",
       "    </tr>\n",
       "    <tr>\n",
       "      <th>399</th>\n",
       "      <td>31</td>\n",
       "      <td>10</td>\n",
       "      <td>Balmy Beach</td>\n",
       "    </tr>\n",
       "    <tr>\n",
       "      <th>400</th>\n",
       "      <td>31</td>\n",
       "      <td>11</td>\n",
       "      <td>Lake At The Ridge</td>\n",
       "    </tr>\n",
       "    <tr>\n",
       "      <th>401</th>\n",
       "      <td>31</td>\n",
       "      <td>12</td>\n",
       "      <td>In The Midst Of Winter</td>\n",
       "    </tr>\n",
       "    <tr>\n",
       "      <th>402</th>\n",
       "      <td>31</td>\n",
       "      <td>13</td>\n",
       "      <td>Wilderness Day</td>\n",
       "    </tr>\n",
       "  </tbody>\n",
       "</table>\n",
       "<p>403 rows × 3 columns</p>\n",
       "</div>"
      ],
      "text/plain": [
       "     season  episode                   title\n",
       "0         1        1     A Walk In The Woods\n",
       "1         1        2            Mt. Mckinley\n",
       "2         1        3            Ebony Sunset\n",
       "3         1        4             Winter Mist\n",
       "4         1        5            Quiet Stream\n",
       "..      ...      ...                     ...\n",
       "398      31        9        Evergreen Valley\n",
       "399      31       10             Balmy Beach\n",
       "400      31       11       Lake At The Ridge\n",
       "401      31       12  In The Midst Of Winter\n",
       "402      31       13          Wilderness Day\n",
       "\n",
       "[403 rows x 3 columns]"
      ]
     },
     "execution_count": 455,
     "metadata": {},
     "output_type": "execute_result"
    }
   ],
   "source": [
    "df_titles['title'] = df_titles.title.str.title()\n",
    "df_titles"
   ]
  },
  {
   "cell_type": "markdown",
   "id": "bright-sculpture",
   "metadata": {},
   "source": [
    "#### Create artists entity with artist_id, artist_name, and artist_relationship"
   ]
  },
  {
   "cell_type": "code",
   "execution_count": 456,
   "id": "anonymous-candidate",
   "metadata": {},
   "outputs": [],
   "source": [
    "artists_entity = df_tidy.groupby(['artist', 'artist_name', 'artist_relationship']).size().reset_index(name='num_rows')"
   ]
  },
  {
   "cell_type": "code",
   "execution_count": 457,
   "id": "successful-priority",
   "metadata": {},
   "outputs": [],
   "source": [
    "artists_entity.drop(['num_rows'], axis=1, inplace=True)"
   ]
  },
  {
   "cell_type": "code",
   "execution_count": 458,
   "id": "egyptian-shelter",
   "metadata": {},
   "outputs": [],
   "source": [
    "artists_entity.drop(['artist'], axis=1, inplace=True)"
   ]
  },
  {
   "cell_type": "code",
   "execution_count": 459,
   "id": "eligible-fight",
   "metadata": {},
   "outputs": [
    {
     "data": {
      "text/html": [
       "<div>\n",
       "<style scoped>\n",
       "    .dataframe tbody tr th:only-of-type {\n",
       "        vertical-align: middle;\n",
       "    }\n",
       "\n",
       "    .dataframe tbody tr th {\n",
       "        vertical-align: top;\n",
       "    }\n",
       "\n",
       "    .dataframe thead th {\n",
       "        text-align: right;\n",
       "    }\n",
       "</style>\n",
       "<table border=\"1\" class=\"dataframe\">\n",
       "  <thead>\n",
       "    <tr style=\"text-align: right;\">\n",
       "      <th></th>\n",
       "      <th>artist_name</th>\n",
       "      <th>artist_relationship</th>\n",
       "      <th>artist_id</th>\n",
       "    </tr>\n",
       "  </thead>\n",
       "  <tbody>\n",
       "    <tr>\n",
       "      <th>0</th>\n",
       "      <td>Bob Ross</td>\n",
       "      <td>Himself</td>\n",
       "      <td>1</td>\n",
       "    </tr>\n",
       "    <tr>\n",
       "      <th>1</th>\n",
       "      <td>Diane Andre</td>\n",
       "      <td>Friend</td>\n",
       "      <td>2</td>\n",
       "    </tr>\n",
       "    <tr>\n",
       "      <th>2</th>\n",
       "      <td>Other</td>\n",
       "      <td>Friends</td>\n",
       "      <td>3</td>\n",
       "    </tr>\n",
       "    <tr>\n",
       "      <th>3</th>\n",
       "      <td>Steve Ross</td>\n",
       "      <td>Son</td>\n",
       "      <td>4</td>\n",
       "    </tr>\n",
       "  </tbody>\n",
       "</table>\n",
       "</div>"
      ],
      "text/plain": [
       "   artist_name artist_relationship  artist_id\n",
       "0     Bob Ross             Himself          1\n",
       "1  Diane Andre              Friend          2\n",
       "2        Other             Friends          3\n",
       "3   Steve Ross                 Son          4"
      ]
     },
     "execution_count": 459,
     "metadata": {},
     "output_type": "execute_result"
    }
   ],
   "source": [
    "artists_entity['artist_id'] = artists_entity.index + 1\n",
    "artists_entity"
   ]
  },
  {
   "cell_type": "markdown",
   "id": "neutral-modeling",
   "metadata": {},
   "source": [
    "#### Create paintings entity table with title, season, episode, and artist_id"
   ]
  },
  {
   "cell_type": "markdown",
   "id": "acute-trigger",
   "metadata": {},
   "source": [
    "Merge artist_entity data with data containing artist_name; merge on artist_name"
   ]
  },
  {
   "cell_type": "code",
   "execution_count": 460,
   "id": "latest-ecology",
   "metadata": {},
   "outputs": [],
   "source": [
    "artist_per_episode = df_tidy.groupby(['season','episode','artist_name']).size().reset_index(name='num_rows')"
   ]
  },
  {
   "cell_type": "code",
   "execution_count": 461,
   "id": "undefined-earthquake",
   "metadata": {},
   "outputs": [
    {
     "data": {
      "text/html": [
       "<div>\n",
       "<style scoped>\n",
       "    .dataframe tbody tr th:only-of-type {\n",
       "        vertical-align: middle;\n",
       "    }\n",
       "\n",
       "    .dataframe tbody tr th {\n",
       "        vertical-align: top;\n",
       "    }\n",
       "\n",
       "    .dataframe thead th {\n",
       "        text-align: right;\n",
       "    }\n",
       "</style>\n",
       "<table border=\"1\" class=\"dataframe\">\n",
       "  <thead>\n",
       "    <tr style=\"text-align: right;\">\n",
       "      <th></th>\n",
       "      <th>season</th>\n",
       "      <th>episode</th>\n",
       "      <th>artist_name</th>\n",
       "      <th>num_rows</th>\n",
       "      <th>artist_relationship</th>\n",
       "      <th>artist_id</th>\n",
       "    </tr>\n",
       "  </thead>\n",
       "  <tbody>\n",
       "    <tr>\n",
       "      <th>0</th>\n",
       "      <td>1</td>\n",
       "      <td>1</td>\n",
       "      <td>Bob Ross</td>\n",
       "      <td>6</td>\n",
       "      <td>Himself</td>\n",
       "      <td>1</td>\n",
       "    </tr>\n",
       "    <tr>\n",
       "      <th>1</th>\n",
       "      <td>1</td>\n",
       "      <td>2</td>\n",
       "      <td>Bob Ross</td>\n",
       "      <td>9</td>\n",
       "      <td>Himself</td>\n",
       "      <td>1</td>\n",
       "    </tr>\n",
       "    <tr>\n",
       "      <th>2</th>\n",
       "      <td>1</td>\n",
       "      <td>3</td>\n",
       "      <td>Bob Ross</td>\n",
       "      <td>10</td>\n",
       "      <td>Himself</td>\n",
       "      <td>1</td>\n",
       "    </tr>\n",
       "    <tr>\n",
       "      <th>3</th>\n",
       "      <td>1</td>\n",
       "      <td>4</td>\n",
       "      <td>Bob Ross</td>\n",
       "      <td>8</td>\n",
       "      <td>Himself</td>\n",
       "      <td>1</td>\n",
       "    </tr>\n",
       "    <tr>\n",
       "      <th>4</th>\n",
       "      <td>1</td>\n",
       "      <td>5</td>\n",
       "      <td>Bob Ross</td>\n",
       "      <td>5</td>\n",
       "      <td>Himself</td>\n",
       "      <td>1</td>\n",
       "    </tr>\n",
       "  </tbody>\n",
       "</table>\n",
       "</div>"
      ],
      "text/plain": [
       "   season  episode artist_name  num_rows artist_relationship  artist_id\n",
       "0       1        1    Bob Ross         6             Himself          1\n",
       "1       1        2    Bob Ross         9             Himself          1\n",
       "2       1        3    Bob Ross        10             Himself          1\n",
       "3       1        4    Bob Ross         8             Himself          1\n",
       "4       1        5    Bob Ross         5             Himself          1"
      ]
     },
     "execution_count": 461,
     "metadata": {},
     "output_type": "execute_result"
    }
   ],
   "source": [
    "artist_merge = pd.merge(artist_per_episode, \n",
    "                           artists_entity,\n",
    "                           how=\"left\",\n",
    "                           on=\"artist_name\")\n",
    "artist_merge.head()"
   ]
  },
  {
   "cell_type": "markdown",
   "id": "civic-vermont",
   "metadata": {},
   "source": [
    "Merge artist_ids with data containing titles; merge on season and episode."
   ]
  },
  {
   "cell_type": "code",
   "execution_count": 462,
   "id": "laden-practitioner",
   "metadata": {},
   "outputs": [
    {
     "data": {
      "text/html": [
       "<div>\n",
       "<style scoped>\n",
       "    .dataframe tbody tr th:only-of-type {\n",
       "        vertical-align: middle;\n",
       "    }\n",
       "\n",
       "    .dataframe tbody tr th {\n",
       "        vertical-align: top;\n",
       "    }\n",
       "\n",
       "    .dataframe thead th {\n",
       "        text-align: right;\n",
       "    }\n",
       "</style>\n",
       "<table border=\"1\" class=\"dataframe\">\n",
       "  <thead>\n",
       "    <tr style=\"text-align: right;\">\n",
       "      <th></th>\n",
       "      <th>season</th>\n",
       "      <th>episode</th>\n",
       "      <th>title</th>\n",
       "      <th>artist_name</th>\n",
       "      <th>num_rows</th>\n",
       "      <th>artist_relationship</th>\n",
       "      <th>artist_id</th>\n",
       "    </tr>\n",
       "  </thead>\n",
       "  <tbody>\n",
       "    <tr>\n",
       "      <th>0</th>\n",
       "      <td>1</td>\n",
       "      <td>1</td>\n",
       "      <td>A Walk In The Woods</td>\n",
       "      <td>Bob Ross</td>\n",
       "      <td>6</td>\n",
       "      <td>Himself</td>\n",
       "      <td>1</td>\n",
       "    </tr>\n",
       "    <tr>\n",
       "      <th>1</th>\n",
       "      <td>1</td>\n",
       "      <td>2</td>\n",
       "      <td>Mt. Mckinley</td>\n",
       "      <td>Bob Ross</td>\n",
       "      <td>9</td>\n",
       "      <td>Himself</td>\n",
       "      <td>1</td>\n",
       "    </tr>\n",
       "    <tr>\n",
       "      <th>2</th>\n",
       "      <td>1</td>\n",
       "      <td>3</td>\n",
       "      <td>Ebony Sunset</td>\n",
       "      <td>Bob Ross</td>\n",
       "      <td>10</td>\n",
       "      <td>Himself</td>\n",
       "      <td>1</td>\n",
       "    </tr>\n",
       "    <tr>\n",
       "      <th>3</th>\n",
       "      <td>1</td>\n",
       "      <td>4</td>\n",
       "      <td>Winter Mist</td>\n",
       "      <td>Bob Ross</td>\n",
       "      <td>8</td>\n",
       "      <td>Himself</td>\n",
       "      <td>1</td>\n",
       "    </tr>\n",
       "    <tr>\n",
       "      <th>4</th>\n",
       "      <td>1</td>\n",
       "      <td>5</td>\n",
       "      <td>Quiet Stream</td>\n",
       "      <td>Bob Ross</td>\n",
       "      <td>5</td>\n",
       "      <td>Himself</td>\n",
       "      <td>1</td>\n",
       "    </tr>\n",
       "  </tbody>\n",
       "</table>\n",
       "</div>"
      ],
      "text/plain": [
       "   season  episode                title artist_name  num_rows  \\\n",
       "0       1        1  A Walk In The Woods    Bob Ross         6   \n",
       "1       1        2         Mt. Mckinley    Bob Ross         9   \n",
       "2       1        3         Ebony Sunset    Bob Ross        10   \n",
       "3       1        4          Winter Mist    Bob Ross         8   \n",
       "4       1        5         Quiet Stream    Bob Ross         5   \n",
       "\n",
       "  artist_relationship  artist_id  \n",
       "0             Himself          1  \n",
       "1             Himself          1  \n",
       "2             Himself          1  \n",
       "3             Himself          1  \n",
       "4             Himself          1  "
      ]
     },
     "execution_count": 462,
     "metadata": {},
     "output_type": "execute_result"
    }
   ],
   "source": [
    "titles_merge = pd.merge(df_titles, \n",
    "                           artist_merge,\n",
    "                           how=\"left\",\n",
    "                           on=['season','episode'])\n",
    "titles_merge.head()"
   ]
  },
  {
   "cell_type": "code",
   "execution_count": 463,
   "id": "burning-watch",
   "metadata": {},
   "outputs": [
    {
     "name": "stdout",
     "output_type": "stream",
     "text": [
      "<class 'pandas.core.frame.DataFrame'>\n",
      "Int64Index: 403 entries, 0 to 402\n",
      "Data columns (total 4 columns):\n",
      " #   Column     Non-Null Count  Dtype \n",
      "---  ------     --------------  ----- \n",
      " 0   season     403 non-null    int64 \n",
      " 1   episode    403 non-null    int64 \n",
      " 2   title      403 non-null    object\n",
      " 3   artist_id  403 non-null    int64 \n",
      "dtypes: int64(3), object(1)\n",
      "memory usage: 15.7+ KB\n"
     ]
    }
   ],
   "source": [
    "paintings_entity = titles_merge[['season','episode','title','artist_id']].copy()\n",
    "paintings_entity.info()"
   ]
  },
  {
   "cell_type": "code",
   "execution_count": 464,
   "id": "decreased-oasis",
   "metadata": {},
   "outputs": [
    {
     "data": {
      "text/html": [
       "<div>\n",
       "<style scoped>\n",
       "    .dataframe tbody tr th:only-of-type {\n",
       "        vertical-align: middle;\n",
       "    }\n",
       "\n",
       "    .dataframe tbody tr th {\n",
       "        vertical-align: top;\n",
       "    }\n",
       "\n",
       "    .dataframe thead th {\n",
       "        text-align: right;\n",
       "    }\n",
       "</style>\n",
       "<table border=\"1\" class=\"dataframe\">\n",
       "  <thead>\n",
       "    <tr style=\"text-align: right;\">\n",
       "      <th></th>\n",
       "      <th>season</th>\n",
       "      <th>episode</th>\n",
       "      <th>title</th>\n",
       "      <th>artist_id</th>\n",
       "    </tr>\n",
       "  </thead>\n",
       "  <tbody>\n",
       "    <tr>\n",
       "      <th>0</th>\n",
       "      <td>1</td>\n",
       "      <td>1</td>\n",
       "      <td>A Walk In The Woods</td>\n",
       "      <td>1</td>\n",
       "    </tr>\n",
       "    <tr>\n",
       "      <th>1</th>\n",
       "      <td>1</td>\n",
       "      <td>2</td>\n",
       "      <td>Mt. Mckinley</td>\n",
       "      <td>1</td>\n",
       "    </tr>\n",
       "    <tr>\n",
       "      <th>2</th>\n",
       "      <td>1</td>\n",
       "      <td>3</td>\n",
       "      <td>Ebony Sunset</td>\n",
       "      <td>1</td>\n",
       "    </tr>\n",
       "    <tr>\n",
       "      <th>3</th>\n",
       "      <td>1</td>\n",
       "      <td>4</td>\n",
       "      <td>Winter Mist</td>\n",
       "      <td>1</td>\n",
       "    </tr>\n",
       "    <tr>\n",
       "      <th>4</th>\n",
       "      <td>1</td>\n",
       "      <td>5</td>\n",
       "      <td>Quiet Stream</td>\n",
       "      <td>1</td>\n",
       "    </tr>\n",
       "    <tr>\n",
       "      <th>...</th>\n",
       "      <td>...</td>\n",
       "      <td>...</td>\n",
       "      <td>...</td>\n",
       "      <td>...</td>\n",
       "    </tr>\n",
       "    <tr>\n",
       "      <th>398</th>\n",
       "      <td>31</td>\n",
       "      <td>9</td>\n",
       "      <td>Evergreen Valley</td>\n",
       "      <td>1</td>\n",
       "    </tr>\n",
       "    <tr>\n",
       "      <th>399</th>\n",
       "      <td>31</td>\n",
       "      <td>10</td>\n",
       "      <td>Balmy Beach</td>\n",
       "      <td>1</td>\n",
       "    </tr>\n",
       "    <tr>\n",
       "      <th>400</th>\n",
       "      <td>31</td>\n",
       "      <td>11</td>\n",
       "      <td>Lake At The Ridge</td>\n",
       "      <td>4</td>\n",
       "    </tr>\n",
       "    <tr>\n",
       "      <th>401</th>\n",
       "      <td>31</td>\n",
       "      <td>12</td>\n",
       "      <td>In The Midst Of Winter</td>\n",
       "      <td>1</td>\n",
       "    </tr>\n",
       "    <tr>\n",
       "      <th>402</th>\n",
       "      <td>31</td>\n",
       "      <td>13</td>\n",
       "      <td>Wilderness Day</td>\n",
       "      <td>1</td>\n",
       "    </tr>\n",
       "  </tbody>\n",
       "</table>\n",
       "<p>403 rows × 4 columns</p>\n",
       "</div>"
      ],
      "text/plain": [
       "     season  episode                   title  artist_id\n",
       "0         1        1     A Walk In The Woods          1\n",
       "1         1        2            Mt. Mckinley          1\n",
       "2         1        3            Ebony Sunset          1\n",
       "3         1        4             Winter Mist          1\n",
       "4         1        5            Quiet Stream          1\n",
       "..      ...      ...                     ...        ...\n",
       "398      31        9        Evergreen Valley          1\n",
       "399      31       10             Balmy Beach          1\n",
       "400      31       11       Lake At The Ridge          4\n",
       "401      31       12  In The Midst Of Winter          1\n",
       "402      31       13          Wilderness Day          1\n",
       "\n",
       "[403 rows x 4 columns]"
      ]
     },
     "execution_count": 464,
     "metadata": {},
     "output_type": "execute_result"
    }
   ],
   "source": [
    "paintings_entity"
   ]
  },
  {
   "cell_type": "markdown",
   "id": "close-justice",
   "metadata": {},
   "source": [
    "#### Create features entity table with feature_name"
   ]
  },
  {
   "cell_type": "code",
   "execution_count": 465,
   "id": "appreciated-oriental",
   "metadata": {},
   "outputs": [],
   "source": [
    "features_entity = df_tidy.groupby(['feature']).size().reset_index(name='num_rows')"
   ]
  },
  {
   "cell_type": "code",
   "execution_count": 466,
   "id": "duplicate-journal",
   "metadata": {},
   "outputs": [],
   "source": [
    "features_entity.drop(['num_rows'], axis=1, inplace=True)"
   ]
  },
  {
   "cell_type": "code",
   "execution_count": 467,
   "id": "colonial-desert",
   "metadata": {},
   "outputs": [
    {
     "data": {
      "text/html": [
       "<div>\n",
       "<style scoped>\n",
       "    .dataframe tbody tr th:only-of-type {\n",
       "        vertical-align: middle;\n",
       "    }\n",
       "\n",
       "    .dataframe tbody tr th {\n",
       "        vertical-align: top;\n",
       "    }\n",
       "\n",
       "    .dataframe thead th {\n",
       "        text-align: right;\n",
       "    }\n",
       "</style>\n",
       "<table border=\"1\" class=\"dataframe\">\n",
       "  <thead>\n",
       "    <tr style=\"text-align: right;\">\n",
       "      <th></th>\n",
       "      <th>feature</th>\n",
       "      <th>feature_id</th>\n",
       "    </tr>\n",
       "  </thead>\n",
       "  <tbody>\n",
       "    <tr>\n",
       "      <th>0</th>\n",
       "      <td>Apple Frame</td>\n",
       "      <td>1</td>\n",
       "    </tr>\n",
       "    <tr>\n",
       "      <th>1</th>\n",
       "      <td>Aurora Borealis</td>\n",
       "      <td>2</td>\n",
       "    </tr>\n",
       "    <tr>\n",
       "      <th>2</th>\n",
       "      <td>Barn</td>\n",
       "      <td>3</td>\n",
       "    </tr>\n",
       "    <tr>\n",
       "      <th>3</th>\n",
       "      <td>Beach</td>\n",
       "      <td>4</td>\n",
       "    </tr>\n",
       "    <tr>\n",
       "      <th>4</th>\n",
       "      <td>Boat</td>\n",
       "      <td>5</td>\n",
       "    </tr>\n",
       "    <tr>\n",
       "      <th>...</th>\n",
       "      <td>...</td>\n",
       "      <td>...</td>\n",
       "    </tr>\n",
       "    <tr>\n",
       "      <th>58</th>\n",
       "      <td>Waves</td>\n",
       "      <td>59</td>\n",
       "    </tr>\n",
       "    <tr>\n",
       "      <th>59</th>\n",
       "      <td>Windmill</td>\n",
       "      <td>60</td>\n",
       "    </tr>\n",
       "    <tr>\n",
       "      <th>60</th>\n",
       "      <td>Window Frame</td>\n",
       "      <td>61</td>\n",
       "    </tr>\n",
       "    <tr>\n",
       "      <th>61</th>\n",
       "      <td>Winter</td>\n",
       "      <td>62</td>\n",
       "    </tr>\n",
       "    <tr>\n",
       "      <th>62</th>\n",
       "      <td>Wood Framed</td>\n",
       "      <td>63</td>\n",
       "    </tr>\n",
       "  </tbody>\n",
       "</table>\n",
       "<p>63 rows × 2 columns</p>\n",
       "</div>"
      ],
      "text/plain": [
       "            feature  feature_id\n",
       "0       Apple Frame           1\n",
       "1   Aurora Borealis           2\n",
       "2              Barn           3\n",
       "3             Beach           4\n",
       "4              Boat           5\n",
       "..              ...         ...\n",
       "58            Waves          59\n",
       "59         Windmill          60\n",
       "60     Window Frame          61\n",
       "61           Winter          62\n",
       "62      Wood Framed          63\n",
       "\n",
       "[63 rows x 2 columns]"
      ]
     },
     "execution_count": 467,
     "metadata": {},
     "output_type": "execute_result"
    }
   ],
   "source": [
    "features_entity['feature_id'] = features_entity.index + 1\n",
    "features_entity"
   ]
  },
  {
   "cell_type": "markdown",
   "id": "configured-palestine",
   "metadata": {},
   "source": [
    "#### Create painting to features link table"
   ]
  },
  {
   "cell_type": "code",
   "execution_count": 468,
   "id": "previous-cleaners",
   "metadata": {},
   "outputs": [
    {
     "data": {
      "text/html": [
       "<div>\n",
       "<style scoped>\n",
       "    .dataframe tbody tr th:only-of-type {\n",
       "        vertical-align: middle;\n",
       "    }\n",
       "\n",
       "    .dataframe tbody tr th {\n",
       "        vertical-align: top;\n",
       "    }\n",
       "\n",
       "    .dataframe thead th {\n",
       "        text-align: right;\n",
       "    }\n",
       "</style>\n",
       "<table border=\"1\" class=\"dataframe\">\n",
       "  <thead>\n",
       "    <tr style=\"text-align: right;\">\n",
       "      <th></th>\n",
       "      <th>season</th>\n",
       "      <th>episode</th>\n",
       "      <th>feature</th>\n",
       "    </tr>\n",
       "  </thead>\n",
       "  <tbody>\n",
       "    <tr>\n",
       "      <th>0</th>\n",
       "      <td>1</td>\n",
       "      <td>1</td>\n",
       "      <td>Bushes</td>\n",
       "    </tr>\n",
       "    <tr>\n",
       "      <th>1</th>\n",
       "      <td>1</td>\n",
       "      <td>1</td>\n",
       "      <td>Deciduous</td>\n",
       "    </tr>\n",
       "    <tr>\n",
       "      <th>2</th>\n",
       "      <td>1</td>\n",
       "      <td>1</td>\n",
       "      <td>Grass</td>\n",
       "    </tr>\n",
       "    <tr>\n",
       "      <th>3</th>\n",
       "      <td>1</td>\n",
       "      <td>1</td>\n",
       "      <td>River</td>\n",
       "    </tr>\n",
       "    <tr>\n",
       "      <th>4</th>\n",
       "      <td>1</td>\n",
       "      <td>1</td>\n",
       "      <td>Tree</td>\n",
       "    </tr>\n",
       "  </tbody>\n",
       "</table>\n",
       "</div>"
      ],
      "text/plain": [
       "   season  episode    feature\n",
       "0       1        1     Bushes\n",
       "1       1        1  Deciduous\n",
       "2       1        1      Grass\n",
       "3       1        1      River\n",
       "4       1        1       Tree"
      ]
     },
     "execution_count": 468,
     "metadata": {},
     "output_type": "execute_result"
    }
   ],
   "source": [
    "features_per_episode = df_tidy[['season','episode','feature']].copy()\n",
    "features_per_episode.head()"
   ]
  },
  {
   "cell_type": "code",
   "execution_count": 469,
   "id": "pleased-concentration",
   "metadata": {},
   "outputs": [
    {
     "data": {
      "text/html": [
       "<div>\n",
       "<style scoped>\n",
       "    .dataframe tbody tr th:only-of-type {\n",
       "        vertical-align: middle;\n",
       "    }\n",
       "\n",
       "    .dataframe tbody tr th {\n",
       "        vertical-align: top;\n",
       "    }\n",
       "\n",
       "    .dataframe thead th {\n",
       "        text-align: right;\n",
       "    }\n",
       "</style>\n",
       "<table border=\"1\" class=\"dataframe\">\n",
       "  <thead>\n",
       "    <tr style=\"text-align: right;\">\n",
       "      <th></th>\n",
       "      <th>season</th>\n",
       "      <th>episode</th>\n",
       "      <th>feature</th>\n",
       "    </tr>\n",
       "  </thead>\n",
       "  <tbody>\n",
       "    <tr>\n",
       "      <th>824</th>\n",
       "      <td>9</td>\n",
       "      <td>10</td>\n",
       "      <td>NaN</td>\n",
       "    </tr>\n",
       "    <tr>\n",
       "      <th>1439</th>\n",
       "      <td>15</td>\n",
       "      <td>4</td>\n",
       "      <td>NaN</td>\n",
       "    </tr>\n",
       "    <tr>\n",
       "      <th>2546</th>\n",
       "      <td>26</td>\n",
       "      <td>10</td>\n",
       "      <td>NaN</td>\n",
       "    </tr>\n",
       "  </tbody>\n",
       "</table>\n",
       "</div>"
      ],
      "text/plain": [
       "      season  episode feature\n",
       "824        9       10     NaN\n",
       "1439      15        4     NaN\n",
       "2546      26       10     NaN"
      ]
     },
     "execution_count": 469,
     "metadata": {},
     "output_type": "execute_result"
    }
   ],
   "source": [
    "missing_feature = features_per_episode.loc[features_per_episode['feature'].isna(), :]\n",
    "missing_feature.head()"
   ]
  },
  {
   "cell_type": "code",
   "execution_count": 470,
   "id": "threaded-monster",
   "metadata": {},
   "outputs": [
    {
     "data": {
      "text/html": [
       "<div>\n",
       "<style scoped>\n",
       "    .dataframe tbody tr th:only-of-type {\n",
       "        vertical-align: middle;\n",
       "    }\n",
       "\n",
       "    .dataframe tbody tr th {\n",
       "        vertical-align: top;\n",
       "    }\n",
       "\n",
       "    .dataframe thead th {\n",
       "        text-align: right;\n",
       "    }\n",
       "</style>\n",
       "<table border=\"1\" class=\"dataframe\">\n",
       "  <thead>\n",
       "    <tr style=\"text-align: right;\">\n",
       "      <th></th>\n",
       "      <th>season</th>\n",
       "      <th>episode</th>\n",
       "      <th>feature</th>\n",
       "      <th>artist</th>\n",
       "      <th>artist_name</th>\n",
       "      <th>artist_relationship</th>\n",
       "    </tr>\n",
       "  </thead>\n",
       "  <tbody>\n",
       "    <tr>\n",
       "      <th>824</th>\n",
       "      <td>9</td>\n",
       "      <td>10</td>\n",
       "      <td>NaN</td>\n",
       "      <td>BOB_ROSS</td>\n",
       "      <td>Bob Ross</td>\n",
       "      <td>Himself</td>\n",
       "    </tr>\n",
       "  </tbody>\n",
       "</table>\n",
       "</div>"
      ],
      "text/plain": [
       "     season  episode feature    artist artist_name artist_relationship\n",
       "824       9       10     NaN  BOB_ROSS    Bob Ross             Himself"
      ]
     },
     "execution_count": 470,
     "metadata": {},
     "output_type": "execute_result"
    }
   ],
   "source": [
    "df_tidy.loc[(df_tidy['season'] == 9) & (df_tidy['episode'] == 10)]"
   ]
  },
  {
   "cell_type": "code",
   "execution_count": 471,
   "id": "residential-panama",
   "metadata": {},
   "outputs": [
    {
     "data": {
      "text/html": [
       "<div>\n",
       "<style scoped>\n",
       "    .dataframe tbody tr th:only-of-type {\n",
       "        vertical-align: middle;\n",
       "    }\n",
       "\n",
       "    .dataframe tbody tr th {\n",
       "        vertical-align: top;\n",
       "    }\n",
       "\n",
       "    .dataframe thead th {\n",
       "        text-align: right;\n",
       "    }\n",
       "</style>\n",
       "<table border=\"1\" class=\"dataframe\">\n",
       "  <thead>\n",
       "    <tr style=\"text-align: right;\">\n",
       "      <th></th>\n",
       "      <th>season</th>\n",
       "      <th>episode</th>\n",
       "      <th>title</th>\n",
       "      <th>artist_id</th>\n",
       "    </tr>\n",
       "  </thead>\n",
       "  <tbody>\n",
       "    <tr>\n",
       "      <th>113</th>\n",
       "      <td>9</td>\n",
       "      <td>10</td>\n",
       "      <td>Country Charm</td>\n",
       "      <td>1</td>\n",
       "    </tr>\n",
       "  </tbody>\n",
       "</table>\n",
       "</div>"
      ],
      "text/plain": [
       "     season  episode          title  artist_id\n",
       "113       9       10  Country Charm          1"
      ]
     },
     "execution_count": 471,
     "metadata": {},
     "output_type": "execute_result"
    }
   ],
   "source": [
    "paintings_entity.loc[(paintings_entity['season'] == 9) & (paintings_entity['episode'] == 10)]"
   ]
  },
  {
   "cell_type": "code",
   "execution_count": 472,
   "id": "marked-likelihood",
   "metadata": {},
   "outputs": [
    {
     "data": {
      "text/html": [
       "<div>\n",
       "<style scoped>\n",
       "    .dataframe tbody tr th:only-of-type {\n",
       "        vertical-align: middle;\n",
       "    }\n",
       "\n",
       "    .dataframe tbody tr th {\n",
       "        vertical-align: top;\n",
       "    }\n",
       "\n",
       "    .dataframe thead th {\n",
       "        text-align: right;\n",
       "    }\n",
       "</style>\n",
       "<table border=\"1\" class=\"dataframe\">\n",
       "  <thead>\n",
       "    <tr style=\"text-align: right;\">\n",
       "      <th></th>\n",
       "      <th>season</th>\n",
       "      <th>episode</th>\n",
       "      <th>feature</th>\n",
       "      <th>artist</th>\n",
       "      <th>artist_name</th>\n",
       "      <th>artist_relationship</th>\n",
       "    </tr>\n",
       "  </thead>\n",
       "  <tbody>\n",
       "    <tr>\n",
       "      <th>1439</th>\n",
       "      <td>15</td>\n",
       "      <td>4</td>\n",
       "      <td>NaN</td>\n",
       "      <td>BOB_ROSS</td>\n",
       "      <td>Bob Ross</td>\n",
       "      <td>Himself</td>\n",
       "    </tr>\n",
       "  </tbody>\n",
       "</table>\n",
       "</div>"
      ],
      "text/plain": [
       "      season  episode feature    artist artist_name artist_relationship\n",
       "1439      15        4     NaN  BOB_ROSS    Bob Ross             Himself"
      ]
     },
     "execution_count": 472,
     "metadata": {},
     "output_type": "execute_result"
    }
   ],
   "source": [
    "df_tidy.loc[(df_tidy['season'] == 15) & (df_tidy['episode'] == 4)]"
   ]
  },
  {
   "cell_type": "code",
   "execution_count": 473,
   "id": "vertical-accused",
   "metadata": {},
   "outputs": [
    {
     "data": {
      "text/html": [
       "<div>\n",
       "<style scoped>\n",
       "    .dataframe tbody tr th:only-of-type {\n",
       "        vertical-align: middle;\n",
       "    }\n",
       "\n",
       "    .dataframe tbody tr th {\n",
       "        vertical-align: top;\n",
       "    }\n",
       "\n",
       "    .dataframe thead th {\n",
       "        text-align: right;\n",
       "    }\n",
       "</style>\n",
       "<table border=\"1\" class=\"dataframe\">\n",
       "  <thead>\n",
       "    <tr style=\"text-align: right;\">\n",
       "      <th></th>\n",
       "      <th>season</th>\n",
       "      <th>episode</th>\n",
       "      <th>title</th>\n",
       "      <th>artist_id</th>\n",
       "    </tr>\n",
       "  </thead>\n",
       "  <tbody>\n",
       "    <tr>\n",
       "      <th>185</th>\n",
       "      <td>15</td>\n",
       "      <td>4</td>\n",
       "      <td>Peaceful Reflections</td>\n",
       "      <td>1</td>\n",
       "    </tr>\n",
       "  </tbody>\n",
       "</table>\n",
       "</div>"
      ],
      "text/plain": [
       "     season  episode                 title  artist_id\n",
       "185      15        4  Peaceful Reflections          1"
      ]
     },
     "execution_count": 473,
     "metadata": {},
     "output_type": "execute_result"
    }
   ],
   "source": [
    "paintings_entity.loc[(paintings_entity['season'] == 15) & (paintings_entity['episode'] == 4)]"
   ]
  },
  {
   "cell_type": "code",
   "execution_count": 474,
   "id": "sublime-haiti",
   "metadata": {},
   "outputs": [
    {
     "data": {
      "text/html": [
       "<div>\n",
       "<style scoped>\n",
       "    .dataframe tbody tr th:only-of-type {\n",
       "        vertical-align: middle;\n",
       "    }\n",
       "\n",
       "    .dataframe tbody tr th {\n",
       "        vertical-align: top;\n",
       "    }\n",
       "\n",
       "    .dataframe thead th {\n",
       "        text-align: right;\n",
       "    }\n",
       "</style>\n",
       "<table border=\"1\" class=\"dataframe\">\n",
       "  <thead>\n",
       "    <tr style=\"text-align: right;\">\n",
       "      <th></th>\n",
       "      <th>season</th>\n",
       "      <th>episode</th>\n",
       "      <th>feature</th>\n",
       "      <th>artist</th>\n",
       "      <th>artist_name</th>\n",
       "      <th>artist_relationship</th>\n",
       "    </tr>\n",
       "  </thead>\n",
       "  <tbody>\n",
       "    <tr>\n",
       "      <th>2546</th>\n",
       "      <td>26</td>\n",
       "      <td>10</td>\n",
       "      <td>NaN</td>\n",
       "      <td>BOB_ROSS</td>\n",
       "      <td>Bob Ross</td>\n",
       "      <td>Himself</td>\n",
       "    </tr>\n",
       "  </tbody>\n",
       "</table>\n",
       "</div>"
      ],
      "text/plain": [
       "      season  episode feature    artist artist_name artist_relationship\n",
       "2546      26       10     NaN  BOB_ROSS    Bob Ross             Himself"
      ]
     },
     "execution_count": 474,
     "metadata": {},
     "output_type": "execute_result"
    }
   ],
   "source": [
    "df_tidy.loc[(df_tidy['season'] == 26) & (df_tidy['episode'] == 10)]"
   ]
  },
  {
   "cell_type": "code",
   "execution_count": 475,
   "id": "postal-lending",
   "metadata": {},
   "outputs": [
    {
     "data": {
      "text/html": [
       "<div>\n",
       "<style scoped>\n",
       "    .dataframe tbody tr th:only-of-type {\n",
       "        vertical-align: middle;\n",
       "    }\n",
       "\n",
       "    .dataframe tbody tr th {\n",
       "        vertical-align: top;\n",
       "    }\n",
       "\n",
       "    .dataframe thead th {\n",
       "        text-align: right;\n",
       "    }\n",
       "</style>\n",
       "<table border=\"1\" class=\"dataframe\">\n",
       "  <thead>\n",
       "    <tr style=\"text-align: right;\">\n",
       "      <th></th>\n",
       "      <th>season</th>\n",
       "      <th>episode</th>\n",
       "      <th>title</th>\n",
       "      <th>artist_id</th>\n",
       "    </tr>\n",
       "  </thead>\n",
       "  <tbody>\n",
       "    <tr>\n",
       "      <th>334</th>\n",
       "      <td>26</td>\n",
       "      <td>10</td>\n",
       "      <td>Purple Mountain Range</td>\n",
       "      <td>1</td>\n",
       "    </tr>\n",
       "  </tbody>\n",
       "</table>\n",
       "</div>"
      ],
      "text/plain": [
       "     season  episode                  title  artist_id\n",
       "334      26       10  Purple Mountain Range          1"
      ]
     },
     "execution_count": 475,
     "metadata": {},
     "output_type": "execute_result"
    }
   ],
   "source": [
    "paintings_entity.loc[(paintings_entity['season'] == 26) & (paintings_entity['episode'] == 10)]"
   ]
  },
  {
   "cell_type": "code",
   "execution_count": 476,
   "id": "boxed-laptop",
   "metadata": {},
   "outputs": [
    {
     "name": "stdout",
     "output_type": "stream",
     "text": [
      "<class 'pandas.core.frame.DataFrame'>\n",
      "Int64Index: 3187 entries, 0 to 3189\n",
      "Data columns (total 3 columns):\n",
      " #   Column   Non-Null Count  Dtype \n",
      "---  ------   --------------  ----- \n",
      " 0   season   3187 non-null   int64 \n",
      " 1   episode  3187 non-null   int64 \n",
      " 2   feature  3187 non-null   object\n",
      "dtypes: int64(2), object(1)\n",
      "memory usage: 99.6+ KB\n"
     ]
    }
   ],
   "source": [
    "features_per_episode = features_per_episode[~features_per_episode['feature'].isnull()]\n",
    "features_per_episode.info()"
   ]
  },
  {
   "cell_type": "code",
   "execution_count": 477,
   "id": "least-logistics",
   "metadata": {},
   "outputs": [
    {
     "data": {
      "text/html": [
       "<div>\n",
       "<style scoped>\n",
       "    .dataframe tbody tr th:only-of-type {\n",
       "        vertical-align: middle;\n",
       "    }\n",
       "\n",
       "    .dataframe tbody tr th {\n",
       "        vertical-align: top;\n",
       "    }\n",
       "\n",
       "    .dataframe thead th {\n",
       "        text-align: right;\n",
       "    }\n",
       "</style>\n",
       "<table border=\"1\" class=\"dataframe\">\n",
       "  <thead>\n",
       "    <tr style=\"text-align: right;\">\n",
       "      <th></th>\n",
       "      <th>season</th>\n",
       "      <th>episode</th>\n",
       "      <th>feature</th>\n",
       "      <th>feature_id</th>\n",
       "    </tr>\n",
       "  </thead>\n",
       "  <tbody>\n",
       "    <tr>\n",
       "      <th>0</th>\n",
       "      <td>1</td>\n",
       "      <td>1</td>\n",
       "      <td>Bushes</td>\n",
       "      <td>8</td>\n",
       "    </tr>\n",
       "    <tr>\n",
       "      <th>1</th>\n",
       "      <td>1</td>\n",
       "      <td>1</td>\n",
       "      <td>Deciduous</td>\n",
       "      <td>17</td>\n",
       "    </tr>\n",
       "    <tr>\n",
       "      <th>2</th>\n",
       "      <td>1</td>\n",
       "      <td>1</td>\n",
       "      <td>Grass</td>\n",
       "      <td>27</td>\n",
       "    </tr>\n",
       "    <tr>\n",
       "      <th>3</th>\n",
       "      <td>1</td>\n",
       "      <td>1</td>\n",
       "      <td>River</td>\n",
       "      <td>46</td>\n",
       "    </tr>\n",
       "    <tr>\n",
       "      <th>4</th>\n",
       "      <td>1</td>\n",
       "      <td>1</td>\n",
       "      <td>Tree</td>\n",
       "      <td>55</td>\n",
       "    </tr>\n",
       "  </tbody>\n",
       "</table>\n",
       "</div>"
      ],
      "text/plain": [
       "   season  episode    feature  feature_id\n",
       "0       1        1     Bushes           8\n",
       "1       1        1  Deciduous          17\n",
       "2       1        1      Grass          27\n",
       "3       1        1      River          46\n",
       "4       1        1       Tree          55"
      ]
     },
     "execution_count": 477,
     "metadata": {},
     "output_type": "execute_result"
    }
   ],
   "source": [
    "features_link = pd.merge(features_per_episode, \n",
    "                           features_entity,\n",
    "                           how=\"left\",\n",
    "                           on=['feature'])\n",
    "features_link.head()"
   ]
  },
  {
   "cell_type": "code",
   "execution_count": 478,
   "id": "thirty-debate",
   "metadata": {},
   "outputs": [],
   "source": [
    "features_link.drop(['feature'], axis=1, inplace=True)"
   ]
  },
  {
   "cell_type": "code",
   "execution_count": 479,
   "id": "brief-therapy",
   "metadata": {},
   "outputs": [
    {
     "name": "stdout",
     "output_type": "stream",
     "text": [
      "<class 'pandas.core.frame.DataFrame'>\n",
      "Int64Index: 3187 entries, 0 to 3186\n",
      "Data columns (total 3 columns):\n",
      " #   Column      Non-Null Count  Dtype\n",
      "---  ------      --------------  -----\n",
      " 0   season      3187 non-null   int64\n",
      " 1   episode     3187 non-null   int64\n",
      " 2   feature_id  3187 non-null   int64\n",
      "dtypes: int64(3)\n",
      "memory usage: 99.6 KB\n"
     ]
    }
   ],
   "source": [
    "features_link.info()"
   ]
  },
  {
   "cell_type": "markdown",
   "id": "dominican-manitoba",
   "metadata": {},
   "source": [
    "#### Export tables to CSV"
   ]
  },
  {
   "cell_type": "code",
   "execution_count": 480,
   "id": "hollywood-redhead",
   "metadata": {},
   "outputs": [],
   "source": [
    "paintings_entity.to_csv('ross_paintings.csv', index=False, na_rep='NULL')"
   ]
  },
  {
   "cell_type": "code",
   "execution_count": 481,
   "id": "fitting-herald",
   "metadata": {},
   "outputs": [],
   "source": [
    "artists_entity.to_csv('ross_artists.csv', index=False, na_rep='NULL')"
   ]
  },
  {
   "cell_type": "code",
   "execution_count": 482,
   "id": "furnished-baghdad",
   "metadata": {},
   "outputs": [],
   "source": [
    "features_entity.to_csv('ross_features.csv', index=False, na_rep='NULL')"
   ]
  },
  {
   "cell_type": "code",
   "execution_count": 483,
   "id": "recovered-midwest",
   "metadata": {},
   "outputs": [],
   "source": [
    "features_link.to_csv('ross_features_link.csv', index=False, na_rep='NULL')"
   ]
  },
  {
   "cell_type": "code",
   "execution_count": null,
   "id": "nasty-punishment",
   "metadata": {},
   "outputs": [],
   "source": []
  }
 ],
 "metadata": {
  "kernelspec": {
   "display_name": "Python 3",
   "language": "python",
   "name": "python3"
  },
  "language_info": {
   "codemirror_mode": {
    "name": "ipython",
    "version": 3
   },
   "file_extension": ".py",
   "mimetype": "text/x-python",
   "name": "python",
   "nbconvert_exporter": "python",
   "pygments_lexer": "ipython3",
   "version": "3.8.5"
  }
 },
 "nbformat": 4,
 "nbformat_minor": 5
}
