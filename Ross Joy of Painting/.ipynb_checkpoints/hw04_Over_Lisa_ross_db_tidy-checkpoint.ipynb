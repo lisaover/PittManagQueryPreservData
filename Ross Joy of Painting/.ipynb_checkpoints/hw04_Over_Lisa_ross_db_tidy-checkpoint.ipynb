{
 "cells": [
  {
   "cell_type": "markdown",
   "id": "enormous-stone",
   "metadata": {},
   "source": [
    "#### Lisa Over\n",
    "CMPINF 2110<br>\n",
    "Homework 4: Bob Ross<br>\n",
    "March 10, 2021"
   ]
  },
  {
   "cell_type": "code",
   "execution_count": 52,
   "id": "affiliated-bradford",
   "metadata": {},
   "outputs": [
    {
     "name": "stdout",
     "output_type": "stream",
     "text": [
      "/Users/lisa/opt/anaconda3/envs/cmpinf_2110/bin/python\n"
     ]
    }
   ],
   "source": [
    "import sys\n",
    "print(sys.executable)"
   ]
  },
  {
   "cell_type": "code",
   "execution_count": 53,
   "id": "brown-think",
   "metadata": {},
   "outputs": [],
   "source": [
    "import pandas as pd\n",
    "import numpy as np\n",
    "import matplotlib.pyplot as plt\n",
    "\n",
    "import seaborn as sns"
   ]
  },
  {
   "cell_type": "markdown",
   "id": "wicked-animation",
   "metadata": {},
   "source": [
    "#### Read in data: tidy data and separate titles data"
   ]
  },
  {
   "cell_type": "code",
   "execution_count": 54,
   "id": "mineral-incidence",
   "metadata": {},
   "outputs": [],
   "source": [
    "data_file = 'ross_episodes_tidy.csv'\n",
    "df_tidy = pd.read_csv( data_file )"
   ]
  },
  {
   "cell_type": "code",
   "execution_count": 55,
   "id": "voluntary-opinion",
   "metadata": {},
   "outputs": [
    {
     "data": {
      "text/html": [
       "<div>\n",
       "<style scoped>\n",
       "    .dataframe tbody tr th:only-of-type {\n",
       "        vertical-align: middle;\n",
       "    }\n",
       "\n",
       "    .dataframe tbody tr th {\n",
       "        vertical-align: top;\n",
       "    }\n",
       "\n",
       "    .dataframe thead th {\n",
       "        text-align: right;\n",
       "    }\n",
       "</style>\n",
       "<table border=\"1\" class=\"dataframe\">\n",
       "  <thead>\n",
       "    <tr style=\"text-align: right;\">\n",
       "      <th></th>\n",
       "      <th>season</th>\n",
       "      <th>episode</th>\n",
       "      <th>feature</th>\n",
       "      <th>artist</th>\n",
       "      <th>artist_name</th>\n",
       "      <th>artist_relationship</th>\n",
       "    </tr>\n",
       "  </thead>\n",
       "  <tbody>\n",
       "    <tr>\n",
       "      <th>0</th>\n",
       "      <td>1</td>\n",
       "      <td>1</td>\n",
       "      <td>BUSHES</td>\n",
       "      <td>BOB_ROSS</td>\n",
       "      <td>Bob Ross</td>\n",
       "      <td>Himself</td>\n",
       "    </tr>\n",
       "    <tr>\n",
       "      <th>1</th>\n",
       "      <td>1</td>\n",
       "      <td>1</td>\n",
       "      <td>DECIDUOUS</td>\n",
       "      <td>BOB_ROSS</td>\n",
       "      <td>Bob Ross</td>\n",
       "      <td>Himself</td>\n",
       "    </tr>\n",
       "    <tr>\n",
       "      <th>2</th>\n",
       "      <td>1</td>\n",
       "      <td>1</td>\n",
       "      <td>GRASS</td>\n",
       "      <td>BOB_ROSS</td>\n",
       "      <td>Bob Ross</td>\n",
       "      <td>Himself</td>\n",
       "    </tr>\n",
       "    <tr>\n",
       "      <th>3</th>\n",
       "      <td>1</td>\n",
       "      <td>1</td>\n",
       "      <td>RIVER</td>\n",
       "      <td>BOB_ROSS</td>\n",
       "      <td>Bob Ross</td>\n",
       "      <td>Himself</td>\n",
       "    </tr>\n",
       "    <tr>\n",
       "      <th>4</th>\n",
       "      <td>1</td>\n",
       "      <td>1</td>\n",
       "      <td>TREE</td>\n",
       "      <td>BOB_ROSS</td>\n",
       "      <td>Bob Ross</td>\n",
       "      <td>Himself</td>\n",
       "    </tr>\n",
       "  </tbody>\n",
       "</table>\n",
       "</div>"
      ],
      "text/plain": [
       "   season  episode    feature    artist artist_name artist_relationship\n",
       "0       1        1     BUSHES  BOB_ROSS    Bob Ross             Himself\n",
       "1       1        1  DECIDUOUS  BOB_ROSS    Bob Ross             Himself\n",
       "2       1        1      GRASS  BOB_ROSS    Bob Ross             Himself\n",
       "3       1        1      RIVER  BOB_ROSS    Bob Ross             Himself\n",
       "4       1        1       TREE  BOB_ROSS    Bob Ross             Himself"
      ]
     },
     "execution_count": 55,
     "metadata": {},
     "output_type": "execute_result"
    }
   ],
   "source": [
    "df_tidy.head()"
   ]
  },
  {
   "cell_type": "code",
   "execution_count": 56,
   "id": "handy-significance",
   "metadata": {},
   "outputs": [
    {
     "data": {
      "text/html": [
       "<div>\n",
       "<style scoped>\n",
       "    .dataframe tbody tr th:only-of-type {\n",
       "        vertical-align: middle;\n",
       "    }\n",
       "\n",
       "    .dataframe tbody tr th {\n",
       "        vertical-align: top;\n",
       "    }\n",
       "\n",
       "    .dataframe thead th {\n",
       "        text-align: right;\n",
       "    }\n",
       "</style>\n",
       "<table border=\"1\" class=\"dataframe\">\n",
       "  <thead>\n",
       "    <tr style=\"text-align: right;\">\n",
       "      <th></th>\n",
       "      <th>season</th>\n",
       "      <th>episode</th>\n",
       "      <th>TITLE</th>\n",
       "    </tr>\n",
       "  </thead>\n",
       "  <tbody>\n",
       "    <tr>\n",
       "      <th>0</th>\n",
       "      <td>1</td>\n",
       "      <td>1</td>\n",
       "      <td>\"A WALK IN THE WOODS\"</td>\n",
       "    </tr>\n",
       "    <tr>\n",
       "      <th>1</th>\n",
       "      <td>1</td>\n",
       "      <td>2</td>\n",
       "      <td>\"MT. MCKINLEY\"</td>\n",
       "    </tr>\n",
       "    <tr>\n",
       "      <th>2</th>\n",
       "      <td>1</td>\n",
       "      <td>3</td>\n",
       "      <td>\"EBONY SUNSET\"</td>\n",
       "    </tr>\n",
       "    <tr>\n",
       "      <th>3</th>\n",
       "      <td>1</td>\n",
       "      <td>4</td>\n",
       "      <td>\"WINTER MIST\"</td>\n",
       "    </tr>\n",
       "    <tr>\n",
       "      <th>4</th>\n",
       "      <td>1</td>\n",
       "      <td>5</td>\n",
       "      <td>\"QUIET STREAM\"</td>\n",
       "    </tr>\n",
       "  </tbody>\n",
       "</table>\n",
       "</div>"
      ],
      "text/plain": [
       "   season  episode                  TITLE\n",
       "0       1        1  \"A WALK IN THE WOODS\"\n",
       "1       1        2         \"MT. MCKINLEY\"\n",
       "2       1        3         \"EBONY SUNSET\"\n",
       "3       1        4          \"WINTER MIST\"\n",
       "4       1        5         \"QUIET STREAM\""
      ]
     },
     "execution_count": 56,
     "metadata": {},
     "output_type": "execute_result"
    }
   ],
   "source": [
    "data_file = 'ross_titles.csv'\n",
    "df_titles = pd.read_csv( data_file )\n",
    "df_titles.head()"
   ]
  },
  {
   "cell_type": "markdown",
   "id": "tutorial-whale",
   "metadata": {},
   "source": [
    "#### Clean up df_titles"
   ]
  },
  {
   "cell_type": "code",
   "execution_count": 57,
   "id": "planned-rugby",
   "metadata": {},
   "outputs": [],
   "source": [
    "df_titles.rename(columns={'TITLE':'title'}, inplace=True)"
   ]
  },
  {
   "cell_type": "code",
   "execution_count": 58,
   "id": "published-seeking",
   "metadata": {},
   "outputs": [
    {
     "name": "stderr",
     "output_type": "stream",
     "text": [
      "<ipython-input-58-b2f71bd5ff22>:1: FutureWarning: The default value of regex will change from True to False in a future version.\n",
      "  df_titles['title'] = df_titles['title'].str.replace(r\"[\\\"\\',]\", '')\n"
     ]
    }
   ],
   "source": [
    "df_titles['title'] = df_titles['title'].str.replace(r\"[\\\"\\',]\", '')"
   ]
  },
  {
   "cell_type": "code",
   "execution_count": 67,
   "id": "breeding-johns",
   "metadata": {},
   "outputs": [
    {
     "data": {
      "text/html": [
       "<div>\n",
       "<style scoped>\n",
       "    .dataframe tbody tr th:only-of-type {\n",
       "        vertical-align: middle;\n",
       "    }\n",
       "\n",
       "    .dataframe tbody tr th {\n",
       "        vertical-align: top;\n",
       "    }\n",
       "\n",
       "    .dataframe thead th {\n",
       "        text-align: right;\n",
       "    }\n",
       "</style>\n",
       "<table border=\"1\" class=\"dataframe\">\n",
       "  <thead>\n",
       "    <tr style=\"text-align: right;\">\n",
       "      <th></th>\n",
       "      <th>season</th>\n",
       "      <th>episode</th>\n",
       "      <th>title</th>\n",
       "    </tr>\n",
       "  </thead>\n",
       "  <tbody>\n",
       "    <tr>\n",
       "      <th>0</th>\n",
       "      <td>1</td>\n",
       "      <td>1</td>\n",
       "      <td>A WALK IN THE WOODS</td>\n",
       "    </tr>\n",
       "    <tr>\n",
       "      <th>1</th>\n",
       "      <td>1</td>\n",
       "      <td>2</td>\n",
       "      <td>MT. MCKINLEY</td>\n",
       "    </tr>\n",
       "    <tr>\n",
       "      <th>2</th>\n",
       "      <td>1</td>\n",
       "      <td>3</td>\n",
       "      <td>EBONY SUNSET</td>\n",
       "    </tr>\n",
       "    <tr>\n",
       "      <th>3</th>\n",
       "      <td>1</td>\n",
       "      <td>4</td>\n",
       "      <td>WINTER MIST</td>\n",
       "    </tr>\n",
       "    <tr>\n",
       "      <th>4</th>\n",
       "      <td>1</td>\n",
       "      <td>5</td>\n",
       "      <td>QUIET STREAM</td>\n",
       "    </tr>\n",
       "  </tbody>\n",
       "</table>\n",
       "</div>"
      ],
      "text/plain": [
       "   season  episode                title\n",
       "0       1        1  A WALK IN THE WOODS\n",
       "1       1        2         MT. MCKINLEY\n",
       "2       1        3         EBONY SUNSET\n",
       "3       1        4          WINTER MIST\n",
       "4       1        5         QUIET STREAM"
      ]
     },
     "execution_count": 67,
     "metadata": {},
     "output_type": "execute_result"
    }
   ],
   "source": [
    "df_titles.head()"
   ]
  },
  {
   "cell_type": "markdown",
   "id": "bright-sculpture",
   "metadata": {},
   "source": [
    "#### Create artists entity with artist_id, artist_name, and artist_relationship"
   ]
  },
  {
   "cell_type": "code",
   "execution_count": 74,
   "id": "anonymous-candidate",
   "metadata": {},
   "outputs": [],
   "source": [
    "artists_entity = df_tidy.groupby(['artist', 'artist_name', 'artist_relationship']).size().reset_index(name='num_rows')"
   ]
  },
  {
   "cell_type": "code",
   "execution_count": 75,
   "id": "successful-priority",
   "metadata": {},
   "outputs": [],
   "source": [
    "artists_entity.drop(['num_rows'], axis=1, inplace=True)"
   ]
  },
  {
   "cell_type": "code",
   "execution_count": 76,
   "id": "egyptian-shelter",
   "metadata": {},
   "outputs": [],
   "source": [
    "artists_entity.drop(['artist'], axis=1, inplace=True)"
   ]
  },
  {
   "cell_type": "code",
   "execution_count": 77,
   "id": "eligible-fight",
   "metadata": {},
   "outputs": [
    {
     "data": {
      "text/html": [
       "<div>\n",
       "<style scoped>\n",
       "    .dataframe tbody tr th:only-of-type {\n",
       "        vertical-align: middle;\n",
       "    }\n",
       "\n",
       "    .dataframe tbody tr th {\n",
       "        vertical-align: top;\n",
       "    }\n",
       "\n",
       "    .dataframe thead th {\n",
       "        text-align: right;\n",
       "    }\n",
       "</style>\n",
       "<table border=\"1\" class=\"dataframe\">\n",
       "  <thead>\n",
       "    <tr style=\"text-align: right;\">\n",
       "      <th></th>\n",
       "      <th>artist_name</th>\n",
       "      <th>artist_relationship</th>\n",
       "      <th>artist_id</th>\n",
       "    </tr>\n",
       "  </thead>\n",
       "  <tbody>\n",
       "    <tr>\n",
       "      <th>0</th>\n",
       "      <td>Bob Ross</td>\n",
       "      <td>Himself</td>\n",
       "      <td>1</td>\n",
       "    </tr>\n",
       "    <tr>\n",
       "      <th>1</th>\n",
       "      <td>Diane Andre</td>\n",
       "      <td>Friend</td>\n",
       "      <td>2</td>\n",
       "    </tr>\n",
       "    <tr>\n",
       "      <th>2</th>\n",
       "      <td>Other</td>\n",
       "      <td>Friends</td>\n",
       "      <td>3</td>\n",
       "    </tr>\n",
       "    <tr>\n",
       "      <th>3</th>\n",
       "      <td>Steve Ross</td>\n",
       "      <td>Son</td>\n",
       "      <td>4</td>\n",
       "    </tr>\n",
       "  </tbody>\n",
       "</table>\n",
       "</div>"
      ],
      "text/plain": [
       "   artist_name artist_relationship  artist_id\n",
       "0     Bob Ross             Himself          1\n",
       "1  Diane Andre              Friend          2\n",
       "2        Other             Friends          3\n",
       "3   Steve Ross                 Son          4"
      ]
     },
     "execution_count": 77,
     "metadata": {},
     "output_type": "execute_result"
    }
   ],
   "source": [
    "artists_entity['artist_id'] = artists_entity.index + 1\n",
    "artists_entity"
   ]
  },
  {
   "cell_type": "markdown",
   "id": "neutral-modeling",
   "metadata": {},
   "source": [
    "#### Create paintings entity table with title, season, episode, and artist_id"
   ]
  },
  {
   "cell_type": "markdown",
   "id": "acute-trigger",
   "metadata": {},
   "source": [
    "Merge artist_entity data with data containing artist_name; merge on artist_name"
   ]
  },
  {
   "cell_type": "code",
   "execution_count": 86,
   "id": "latest-ecology",
   "metadata": {},
   "outputs": [],
   "source": [
    "artist_per_episode = df_tidy.groupby(['season','episode','artist_name']).size().reset_index(name='num_rows')"
   ]
  },
  {
   "cell_type": "code",
   "execution_count": 87,
   "id": "undefined-earthquake",
   "metadata": {},
   "outputs": [
    {
     "data": {
      "text/html": [
       "<div>\n",
       "<style scoped>\n",
       "    .dataframe tbody tr th:only-of-type {\n",
       "        vertical-align: middle;\n",
       "    }\n",
       "\n",
       "    .dataframe tbody tr th {\n",
       "        vertical-align: top;\n",
       "    }\n",
       "\n",
       "    .dataframe thead th {\n",
       "        text-align: right;\n",
       "    }\n",
       "</style>\n",
       "<table border=\"1\" class=\"dataframe\">\n",
       "  <thead>\n",
       "    <tr style=\"text-align: right;\">\n",
       "      <th></th>\n",
       "      <th>season</th>\n",
       "      <th>episode</th>\n",
       "      <th>artist_name</th>\n",
       "      <th>num_rows</th>\n",
       "      <th>artist_relationship</th>\n",
       "      <th>artist_id</th>\n",
       "    </tr>\n",
       "  </thead>\n",
       "  <tbody>\n",
       "    <tr>\n",
       "      <th>0</th>\n",
       "      <td>1</td>\n",
       "      <td>1</td>\n",
       "      <td>Bob Ross</td>\n",
       "      <td>6</td>\n",
       "      <td>Himself</td>\n",
       "      <td>1</td>\n",
       "    </tr>\n",
       "    <tr>\n",
       "      <th>1</th>\n",
       "      <td>1</td>\n",
       "      <td>2</td>\n",
       "      <td>Bob Ross</td>\n",
       "      <td>9</td>\n",
       "      <td>Himself</td>\n",
       "      <td>1</td>\n",
       "    </tr>\n",
       "    <tr>\n",
       "      <th>2</th>\n",
       "      <td>1</td>\n",
       "      <td>3</td>\n",
       "      <td>Bob Ross</td>\n",
       "      <td>10</td>\n",
       "      <td>Himself</td>\n",
       "      <td>1</td>\n",
       "    </tr>\n",
       "    <tr>\n",
       "      <th>3</th>\n",
       "      <td>1</td>\n",
       "      <td>4</td>\n",
       "      <td>Bob Ross</td>\n",
       "      <td>8</td>\n",
       "      <td>Himself</td>\n",
       "      <td>1</td>\n",
       "    </tr>\n",
       "    <tr>\n",
       "      <th>4</th>\n",
       "      <td>1</td>\n",
       "      <td>5</td>\n",
       "      <td>Bob Ross</td>\n",
       "      <td>5</td>\n",
       "      <td>Himself</td>\n",
       "      <td>1</td>\n",
       "    </tr>\n",
       "  </tbody>\n",
       "</table>\n",
       "</div>"
      ],
      "text/plain": [
       "   season  episode artist_name  num_rows artist_relationship  artist_id\n",
       "0       1        1    Bob Ross         6             Himself          1\n",
       "1       1        2    Bob Ross         9             Himself          1\n",
       "2       1        3    Bob Ross        10             Himself          1\n",
       "3       1        4    Bob Ross         8             Himself          1\n",
       "4       1        5    Bob Ross         5             Himself          1"
      ]
     },
     "execution_count": 87,
     "metadata": {},
     "output_type": "execute_result"
    }
   ],
   "source": [
    "artist_merge = pd.merge(artist_per_episode, \n",
    "                           artists_entity,\n",
    "                           how=\"left\",\n",
    "                           on=\"artist_name\")\n",
    "artist_merge.head()"
   ]
  },
  {
   "cell_type": "markdown",
   "id": "civic-vermont",
   "metadata": {},
   "source": [
    "Merge artist_ids with data containing titles; merge on season and episode."
   ]
  },
  {
   "cell_type": "code",
   "execution_count": 95,
   "id": "laden-practitioner",
   "metadata": {},
   "outputs": [
    {
     "data": {
      "text/html": [
       "<div>\n",
       "<style scoped>\n",
       "    .dataframe tbody tr th:only-of-type {\n",
       "        vertical-align: middle;\n",
       "    }\n",
       "\n",
       "    .dataframe tbody tr th {\n",
       "        vertical-align: top;\n",
       "    }\n",
       "\n",
       "    .dataframe thead th {\n",
       "        text-align: right;\n",
       "    }\n",
       "</style>\n",
       "<table border=\"1\" class=\"dataframe\">\n",
       "  <thead>\n",
       "    <tr style=\"text-align: right;\">\n",
       "      <th></th>\n",
       "      <th>season</th>\n",
       "      <th>episode</th>\n",
       "      <th>title</th>\n",
       "      <th>artist_name</th>\n",
       "      <th>num_rows</th>\n",
       "      <th>artist_relationship</th>\n",
       "      <th>artist_id</th>\n",
       "    </tr>\n",
       "  </thead>\n",
       "  <tbody>\n",
       "    <tr>\n",
       "      <th>0</th>\n",
       "      <td>1</td>\n",
       "      <td>1</td>\n",
       "      <td>A WALK IN THE WOODS</td>\n",
       "      <td>Bob Ross</td>\n",
       "      <td>6</td>\n",
       "      <td>Himself</td>\n",
       "      <td>1</td>\n",
       "    </tr>\n",
       "    <tr>\n",
       "      <th>1</th>\n",
       "      <td>1</td>\n",
       "      <td>2</td>\n",
       "      <td>MT. MCKINLEY</td>\n",
       "      <td>Bob Ross</td>\n",
       "      <td>9</td>\n",
       "      <td>Himself</td>\n",
       "      <td>1</td>\n",
       "    </tr>\n",
       "    <tr>\n",
       "      <th>2</th>\n",
       "      <td>1</td>\n",
       "      <td>3</td>\n",
       "      <td>EBONY SUNSET</td>\n",
       "      <td>Bob Ross</td>\n",
       "      <td>10</td>\n",
       "      <td>Himself</td>\n",
       "      <td>1</td>\n",
       "    </tr>\n",
       "    <tr>\n",
       "      <th>3</th>\n",
       "      <td>1</td>\n",
       "      <td>4</td>\n",
       "      <td>WINTER MIST</td>\n",
       "      <td>Bob Ross</td>\n",
       "      <td>8</td>\n",
       "      <td>Himself</td>\n",
       "      <td>1</td>\n",
       "    </tr>\n",
       "    <tr>\n",
       "      <th>4</th>\n",
       "      <td>1</td>\n",
       "      <td>5</td>\n",
       "      <td>QUIET STREAM</td>\n",
       "      <td>Bob Ross</td>\n",
       "      <td>5</td>\n",
       "      <td>Himself</td>\n",
       "      <td>1</td>\n",
       "    </tr>\n",
       "  </tbody>\n",
       "</table>\n",
       "</div>"
      ],
      "text/plain": [
       "   season  episode                title artist_name  num_rows  \\\n",
       "0       1        1  A WALK IN THE WOODS    Bob Ross         6   \n",
       "1       1        2         MT. MCKINLEY    Bob Ross         9   \n",
       "2       1        3         EBONY SUNSET    Bob Ross        10   \n",
       "3       1        4          WINTER MIST    Bob Ross         8   \n",
       "4       1        5         QUIET STREAM    Bob Ross         5   \n",
       "\n",
       "  artist_relationship  artist_id  \n",
       "0             Himself          1  \n",
       "1             Himself          1  \n",
       "2             Himself          1  \n",
       "3             Himself          1  \n",
       "4             Himself          1  "
      ]
     },
     "execution_count": 95,
     "metadata": {},
     "output_type": "execute_result"
    }
   ],
   "source": [
    "titles_merge = pd.merge(df_titles, \n",
    "                           artist_merge,\n",
    "                           how=\"left\",\n",
    "                           on=['season','episode'])\n",
    "titles_merge.head()"
   ]
  },
  {
   "cell_type": "code",
   "execution_count": 96,
   "id": "burning-watch",
   "metadata": {},
   "outputs": [
    {
     "name": "stdout",
     "output_type": "stream",
     "text": [
      "<class 'pandas.core.frame.DataFrame'>\n",
      "Int64Index: 403 entries, 0 to 402\n",
      "Data columns (total 4 columns):\n",
      " #   Column     Non-Null Count  Dtype \n",
      "---  ------     --------------  ----- \n",
      " 0   season     403 non-null    int64 \n",
      " 1   episode    403 non-null    int64 \n",
      " 2   title      403 non-null    object\n",
      " 3   artist_id  403 non-null    int64 \n",
      "dtypes: int64(3), object(1)\n",
      "memory usage: 15.7+ KB\n"
     ]
    }
   ],
   "source": [
    "paintings_entity = titles_artist_ids[['season','episode','title','artist_id']].copy()\n",
    "paintings_entity.info()"
   ]
  },
  {
   "cell_type": "markdown",
   "id": "close-justice",
   "metadata": {},
   "source": [
    "#### Create features entity table with feature_name"
   ]
  },
  {
   "cell_type": "code",
   "execution_count": 97,
   "id": "appreciated-oriental",
   "metadata": {},
   "outputs": [],
   "source": [
    "features_entity = df_tidy.groupby(['feature']).size().reset_index(name='num_rows')"
   ]
  },
  {
   "cell_type": "code",
   "execution_count": 98,
   "id": "duplicate-journal",
   "metadata": {},
   "outputs": [],
   "source": [
    "features_entity.drop(['num_rows'], axis=1, inplace=True)"
   ]
  },
  {
   "cell_type": "code",
   "execution_count": 99,
   "id": "colonial-desert",
   "metadata": {},
   "outputs": [
    {
     "data": {
      "text/html": [
       "<div>\n",
       "<style scoped>\n",
       "    .dataframe tbody tr th:only-of-type {\n",
       "        vertical-align: middle;\n",
       "    }\n",
       "\n",
       "    .dataframe tbody tr th {\n",
       "        vertical-align: top;\n",
       "    }\n",
       "\n",
       "    .dataframe thead th {\n",
       "        text-align: right;\n",
       "    }\n",
       "</style>\n",
       "<table border=\"1\" class=\"dataframe\">\n",
       "  <thead>\n",
       "    <tr style=\"text-align: right;\">\n",
       "      <th></th>\n",
       "      <th>feature</th>\n",
       "      <th>feature_id</th>\n",
       "    </tr>\n",
       "  </thead>\n",
       "  <tbody>\n",
       "    <tr>\n",
       "      <th>0</th>\n",
       "      <td>APPLE_FRAME</td>\n",
       "      <td>1</td>\n",
       "    </tr>\n",
       "    <tr>\n",
       "      <th>1</th>\n",
       "      <td>AURORA_BOREALIS</td>\n",
       "      <td>2</td>\n",
       "    </tr>\n",
       "    <tr>\n",
       "      <th>2</th>\n",
       "      <td>BARN</td>\n",
       "      <td>3</td>\n",
       "    </tr>\n",
       "    <tr>\n",
       "      <th>3</th>\n",
       "      <td>BEACH</td>\n",
       "      <td>4</td>\n",
       "    </tr>\n",
       "    <tr>\n",
       "      <th>4</th>\n",
       "      <td>BOAT</td>\n",
       "      <td>5</td>\n",
       "    </tr>\n",
       "    <tr>\n",
       "      <th>...</th>\n",
       "      <td>...</td>\n",
       "      <td>...</td>\n",
       "    </tr>\n",
       "    <tr>\n",
       "      <th>58</th>\n",
       "      <td>WAVES</td>\n",
       "      <td>59</td>\n",
       "    </tr>\n",
       "    <tr>\n",
       "      <th>59</th>\n",
       "      <td>WINDMILL</td>\n",
       "      <td>60</td>\n",
       "    </tr>\n",
       "    <tr>\n",
       "      <th>60</th>\n",
       "      <td>WINDOW_FRAME</td>\n",
       "      <td>61</td>\n",
       "    </tr>\n",
       "    <tr>\n",
       "      <th>61</th>\n",
       "      <td>WINTER</td>\n",
       "      <td>62</td>\n",
       "    </tr>\n",
       "    <tr>\n",
       "      <th>62</th>\n",
       "      <td>WOOD_FRAMED</td>\n",
       "      <td>63</td>\n",
       "    </tr>\n",
       "  </tbody>\n",
       "</table>\n",
       "<p>63 rows × 2 columns</p>\n",
       "</div>"
      ],
      "text/plain": [
       "            feature  feature_id\n",
       "0       APPLE_FRAME           1\n",
       "1   AURORA_BOREALIS           2\n",
       "2              BARN           3\n",
       "3             BEACH           4\n",
       "4              BOAT           5\n",
       "..              ...         ...\n",
       "58            WAVES          59\n",
       "59         WINDMILL          60\n",
       "60     WINDOW_FRAME          61\n",
       "61           WINTER          62\n",
       "62      WOOD_FRAMED          63\n",
       "\n",
       "[63 rows x 2 columns]"
      ]
     },
     "execution_count": 99,
     "metadata": {},
     "output_type": "execute_result"
    }
   ],
   "source": [
    "features_entity['feature_id'] = features_entity.index + 1\n",
    "features_entity"
   ]
  },
  {
   "cell_type": "markdown",
   "id": "configured-palestine",
   "metadata": {},
   "source": [
    "#### Create painting to features link table"
   ]
  },
  {
   "cell_type": "code",
   "execution_count": 102,
   "id": "previous-cleaners",
   "metadata": {},
   "outputs": [
    {
     "data": {
      "text/html": [
       "<div>\n",
       "<style scoped>\n",
       "    .dataframe tbody tr th:only-of-type {\n",
       "        vertical-align: middle;\n",
       "    }\n",
       "\n",
       "    .dataframe tbody tr th {\n",
       "        vertical-align: top;\n",
       "    }\n",
       "\n",
       "    .dataframe thead th {\n",
       "        text-align: right;\n",
       "    }\n",
       "</style>\n",
       "<table border=\"1\" class=\"dataframe\">\n",
       "  <thead>\n",
       "    <tr style=\"text-align: right;\">\n",
       "      <th></th>\n",
       "      <th>season</th>\n",
       "      <th>episode</th>\n",
       "      <th>feature</th>\n",
       "    </tr>\n",
       "  </thead>\n",
       "  <tbody>\n",
       "    <tr>\n",
       "      <th>0</th>\n",
       "      <td>1</td>\n",
       "      <td>1</td>\n",
       "      <td>BUSHES</td>\n",
       "    </tr>\n",
       "    <tr>\n",
       "      <th>1</th>\n",
       "      <td>1</td>\n",
       "      <td>1</td>\n",
       "      <td>DECIDUOUS</td>\n",
       "    </tr>\n",
       "    <tr>\n",
       "      <th>2</th>\n",
       "      <td>1</td>\n",
       "      <td>1</td>\n",
       "      <td>GRASS</td>\n",
       "    </tr>\n",
       "    <tr>\n",
       "      <th>3</th>\n",
       "      <td>1</td>\n",
       "      <td>1</td>\n",
       "      <td>RIVER</td>\n",
       "    </tr>\n",
       "    <tr>\n",
       "      <th>4</th>\n",
       "      <td>1</td>\n",
       "      <td>1</td>\n",
       "      <td>TREE</td>\n",
       "    </tr>\n",
       "  </tbody>\n",
       "</table>\n",
       "</div>"
      ],
      "text/plain": [
       "   season  episode    feature\n",
       "0       1        1     BUSHES\n",
       "1       1        1  DECIDUOUS\n",
       "2       1        1      GRASS\n",
       "3       1        1      RIVER\n",
       "4       1        1       TREE"
      ]
     },
     "execution_count": 102,
     "metadata": {},
     "output_type": "execute_result"
    }
   ],
   "source": [
    "features_per_episode = df_tidy[['season','episode','feature']].copy()\n",
    "features_per_episode.head()"
   ]
  },
  {
   "cell_type": "code",
   "execution_count": 105,
   "id": "pleased-concentration",
   "metadata": {},
   "outputs": [
    {
     "data": {
      "text/html": [
       "<div>\n",
       "<style scoped>\n",
       "    .dataframe tbody tr th:only-of-type {\n",
       "        vertical-align: middle;\n",
       "    }\n",
       "\n",
       "    .dataframe tbody tr th {\n",
       "        vertical-align: top;\n",
       "    }\n",
       "\n",
       "    .dataframe thead th {\n",
       "        text-align: right;\n",
       "    }\n",
       "</style>\n",
       "<table border=\"1\" class=\"dataframe\">\n",
       "  <thead>\n",
       "    <tr style=\"text-align: right;\">\n",
       "      <th></th>\n",
       "      <th>season</th>\n",
       "      <th>episode</th>\n",
       "      <th>feature</th>\n",
       "    </tr>\n",
       "  </thead>\n",
       "  <tbody>\n",
       "    <tr>\n",
       "      <th>824</th>\n",
       "      <td>9</td>\n",
       "      <td>10</td>\n",
       "      <td>NaN</td>\n",
       "    </tr>\n",
       "    <tr>\n",
       "      <th>1439</th>\n",
       "      <td>15</td>\n",
       "      <td>4</td>\n",
       "      <td>NaN</td>\n",
       "    </tr>\n",
       "    <tr>\n",
       "      <th>2546</th>\n",
       "      <td>26</td>\n",
       "      <td>10</td>\n",
       "      <td>NaN</td>\n",
       "    </tr>\n",
       "  </tbody>\n",
       "</table>\n",
       "</div>"
      ],
      "text/plain": [
       "      season  episode feature\n",
       "824        9       10     NaN\n",
       "1439      15        4     NaN\n",
       "2546      26       10     NaN"
      ]
     },
     "execution_count": 105,
     "metadata": {},
     "output_type": "execute_result"
    }
   ],
   "source": [
    "missing_feature = features_per_episode.loc[features_per_episode['feature'].isna(), :]\n",
    "missing_feature.head()"
   ]
  },
  {
   "cell_type": "code",
   "execution_count": 106,
   "id": "threaded-monster",
   "metadata": {},
   "outputs": [
    {
     "data": {
      "text/html": [
       "<div>\n",
       "<style scoped>\n",
       "    .dataframe tbody tr th:only-of-type {\n",
       "        vertical-align: middle;\n",
       "    }\n",
       "\n",
       "    .dataframe tbody tr th {\n",
       "        vertical-align: top;\n",
       "    }\n",
       "\n",
       "    .dataframe thead th {\n",
       "        text-align: right;\n",
       "    }\n",
       "</style>\n",
       "<table border=\"1\" class=\"dataframe\">\n",
       "  <thead>\n",
       "    <tr style=\"text-align: right;\">\n",
       "      <th></th>\n",
       "      <th>season</th>\n",
       "      <th>episode</th>\n",
       "      <th>feature</th>\n",
       "      <th>artist</th>\n",
       "      <th>artist_name</th>\n",
       "      <th>artist_relationship</th>\n",
       "    </tr>\n",
       "  </thead>\n",
       "  <tbody>\n",
       "    <tr>\n",
       "      <th>824</th>\n",
       "      <td>9</td>\n",
       "      <td>10</td>\n",
       "      <td>NaN</td>\n",
       "      <td>BOB_ROSS</td>\n",
       "      <td>Bob Ross</td>\n",
       "      <td>Himself</td>\n",
       "    </tr>\n",
       "  </tbody>\n",
       "</table>\n",
       "</div>"
      ],
      "text/plain": [
       "     season  episode feature    artist artist_name artist_relationship\n",
       "824       9       10     NaN  BOB_ROSS    Bob Ross             Himself"
      ]
     },
     "execution_count": 106,
     "metadata": {},
     "output_type": "execute_result"
    }
   ],
   "source": [
    "df_tidy.loc[(df_tidy['season'] == 9) & (df_tidy['episode'] == 10)]"
   ]
  },
  {
   "cell_type": "code",
   "execution_count": 107,
   "id": "residential-panama",
   "metadata": {},
   "outputs": [
    {
     "data": {
      "text/html": [
       "<div>\n",
       "<style scoped>\n",
       "    .dataframe tbody tr th:only-of-type {\n",
       "        vertical-align: middle;\n",
       "    }\n",
       "\n",
       "    .dataframe tbody tr th {\n",
       "        vertical-align: top;\n",
       "    }\n",
       "\n",
       "    .dataframe thead th {\n",
       "        text-align: right;\n",
       "    }\n",
       "</style>\n",
       "<table border=\"1\" class=\"dataframe\">\n",
       "  <thead>\n",
       "    <tr style=\"text-align: right;\">\n",
       "      <th></th>\n",
       "      <th>season</th>\n",
       "      <th>episode</th>\n",
       "      <th>title</th>\n",
       "      <th>artist_id</th>\n",
       "    </tr>\n",
       "  </thead>\n",
       "  <tbody>\n",
       "    <tr>\n",
       "      <th>113</th>\n",
       "      <td>9</td>\n",
       "      <td>10</td>\n",
       "      <td>COUNTRY CHARM</td>\n",
       "      <td>1</td>\n",
       "    </tr>\n",
       "  </tbody>\n",
       "</table>\n",
       "</div>"
      ],
      "text/plain": [
       "     season  episode          title  artist_id\n",
       "113       9       10  COUNTRY CHARM          1"
      ]
     },
     "execution_count": 107,
     "metadata": {},
     "output_type": "execute_result"
    }
   ],
   "source": [
    "paintings_entity.loc[(paintings_entity['season'] == 9) & (paintings_entity['episode'] == 10)]"
   ]
  },
  {
   "cell_type": "code",
   "execution_count": 108,
   "id": "marked-likelihood",
   "metadata": {},
   "outputs": [
    {
     "data": {
      "text/html": [
       "<div>\n",
       "<style scoped>\n",
       "    .dataframe tbody tr th:only-of-type {\n",
       "        vertical-align: middle;\n",
       "    }\n",
       "\n",
       "    .dataframe tbody tr th {\n",
       "        vertical-align: top;\n",
       "    }\n",
       "\n",
       "    .dataframe thead th {\n",
       "        text-align: right;\n",
       "    }\n",
       "</style>\n",
       "<table border=\"1\" class=\"dataframe\">\n",
       "  <thead>\n",
       "    <tr style=\"text-align: right;\">\n",
       "      <th></th>\n",
       "      <th>season</th>\n",
       "      <th>episode</th>\n",
       "      <th>feature</th>\n",
       "      <th>artist</th>\n",
       "      <th>artist_name</th>\n",
       "      <th>artist_relationship</th>\n",
       "    </tr>\n",
       "  </thead>\n",
       "  <tbody>\n",
       "    <tr>\n",
       "      <th>1439</th>\n",
       "      <td>15</td>\n",
       "      <td>4</td>\n",
       "      <td>NaN</td>\n",
       "      <td>BOB_ROSS</td>\n",
       "      <td>Bob Ross</td>\n",
       "      <td>Himself</td>\n",
       "    </tr>\n",
       "  </tbody>\n",
       "</table>\n",
       "</div>"
      ],
      "text/plain": [
       "      season  episode feature    artist artist_name artist_relationship\n",
       "1439      15        4     NaN  BOB_ROSS    Bob Ross             Himself"
      ]
     },
     "execution_count": 108,
     "metadata": {},
     "output_type": "execute_result"
    }
   ],
   "source": [
    "df_tidy.loc[(df_tidy['season'] == 15) & (df_tidy['episode'] == 4)]"
   ]
  },
  {
   "cell_type": "code",
   "execution_count": 109,
   "id": "vertical-accused",
   "metadata": {},
   "outputs": [
    {
     "data": {
      "text/html": [
       "<div>\n",
       "<style scoped>\n",
       "    .dataframe tbody tr th:only-of-type {\n",
       "        vertical-align: middle;\n",
       "    }\n",
       "\n",
       "    .dataframe tbody tr th {\n",
       "        vertical-align: top;\n",
       "    }\n",
       "\n",
       "    .dataframe thead th {\n",
       "        text-align: right;\n",
       "    }\n",
       "</style>\n",
       "<table border=\"1\" class=\"dataframe\">\n",
       "  <thead>\n",
       "    <tr style=\"text-align: right;\">\n",
       "      <th></th>\n",
       "      <th>season</th>\n",
       "      <th>episode</th>\n",
       "      <th>title</th>\n",
       "      <th>artist_id</th>\n",
       "    </tr>\n",
       "  </thead>\n",
       "  <tbody>\n",
       "    <tr>\n",
       "      <th>185</th>\n",
       "      <td>15</td>\n",
       "      <td>4</td>\n",
       "      <td>PEACEFUL REFLECTIONS</td>\n",
       "      <td>1</td>\n",
       "    </tr>\n",
       "  </tbody>\n",
       "</table>\n",
       "</div>"
      ],
      "text/plain": [
       "     season  episode                 title  artist_id\n",
       "185      15        4  PEACEFUL REFLECTIONS          1"
      ]
     },
     "execution_count": 109,
     "metadata": {},
     "output_type": "execute_result"
    }
   ],
   "source": [
    "paintings_entity.loc[(paintings_entity['season'] == 15) & (paintings_entity['episode'] == 4)]"
   ]
  },
  {
   "cell_type": "code",
   "execution_count": 110,
   "id": "sublime-haiti",
   "metadata": {},
   "outputs": [
    {
     "data": {
      "text/html": [
       "<div>\n",
       "<style scoped>\n",
       "    .dataframe tbody tr th:only-of-type {\n",
       "        vertical-align: middle;\n",
       "    }\n",
       "\n",
       "    .dataframe tbody tr th {\n",
       "        vertical-align: top;\n",
       "    }\n",
       "\n",
       "    .dataframe thead th {\n",
       "        text-align: right;\n",
       "    }\n",
       "</style>\n",
       "<table border=\"1\" class=\"dataframe\">\n",
       "  <thead>\n",
       "    <tr style=\"text-align: right;\">\n",
       "      <th></th>\n",
       "      <th>season</th>\n",
       "      <th>episode</th>\n",
       "      <th>feature</th>\n",
       "      <th>artist</th>\n",
       "      <th>artist_name</th>\n",
       "      <th>artist_relationship</th>\n",
       "    </tr>\n",
       "  </thead>\n",
       "  <tbody>\n",
       "    <tr>\n",
       "      <th>2546</th>\n",
       "      <td>26</td>\n",
       "      <td>10</td>\n",
       "      <td>NaN</td>\n",
       "      <td>BOB_ROSS</td>\n",
       "      <td>Bob Ross</td>\n",
       "      <td>Himself</td>\n",
       "    </tr>\n",
       "  </tbody>\n",
       "</table>\n",
       "</div>"
      ],
      "text/plain": [
       "      season  episode feature    artist artist_name artist_relationship\n",
       "2546      26       10     NaN  BOB_ROSS    Bob Ross             Himself"
      ]
     },
     "execution_count": 110,
     "metadata": {},
     "output_type": "execute_result"
    }
   ],
   "source": [
    "df_tidy.loc[(df_tidy['season'] == 26) & (df_tidy['episode'] == 10)]"
   ]
  },
  {
   "cell_type": "code",
   "execution_count": 111,
   "id": "postal-lending",
   "metadata": {},
   "outputs": [
    {
     "data": {
      "text/html": [
       "<div>\n",
       "<style scoped>\n",
       "    .dataframe tbody tr th:only-of-type {\n",
       "        vertical-align: middle;\n",
       "    }\n",
       "\n",
       "    .dataframe tbody tr th {\n",
       "        vertical-align: top;\n",
       "    }\n",
       "\n",
       "    .dataframe thead th {\n",
       "        text-align: right;\n",
       "    }\n",
       "</style>\n",
       "<table border=\"1\" class=\"dataframe\">\n",
       "  <thead>\n",
       "    <tr style=\"text-align: right;\">\n",
       "      <th></th>\n",
       "      <th>season</th>\n",
       "      <th>episode</th>\n",
       "      <th>title</th>\n",
       "      <th>artist_id</th>\n",
       "    </tr>\n",
       "  </thead>\n",
       "  <tbody>\n",
       "    <tr>\n",
       "      <th>334</th>\n",
       "      <td>26</td>\n",
       "      <td>10</td>\n",
       "      <td>PURPLE MOUNTAIN RANGE</td>\n",
       "      <td>1</td>\n",
       "    </tr>\n",
       "  </tbody>\n",
       "</table>\n",
       "</div>"
      ],
      "text/plain": [
       "     season  episode                  title  artist_id\n",
       "334      26       10  PURPLE MOUNTAIN RANGE          1"
      ]
     },
     "execution_count": 111,
     "metadata": {},
     "output_type": "execute_result"
    }
   ],
   "source": [
    "paintings_entity.loc[(paintings_entity['season'] == 26) & (paintings_entity['episode'] == 10)]"
   ]
  },
  {
   "cell_type": "code",
   "execution_count": 112,
   "id": "boxed-laptop",
   "metadata": {},
   "outputs": [
    {
     "name": "stdout",
     "output_type": "stream",
     "text": [
      "<class 'pandas.core.frame.DataFrame'>\n",
      "Int64Index: 3187 entries, 0 to 3189\n",
      "Data columns (total 3 columns):\n",
      " #   Column   Non-Null Count  Dtype \n",
      "---  ------   --------------  ----- \n",
      " 0   season   3187 non-null   int64 \n",
      " 1   episode  3187 non-null   int64 \n",
      " 2   feature  3187 non-null   object\n",
      "dtypes: int64(2), object(1)\n",
      "memory usage: 99.6+ KB\n"
     ]
    }
   ],
   "source": [
    "features_per_episode = features_per_episode[~features_per_episode['feature'].isnull()]\n",
    "features_per_episode.info()"
   ]
  },
  {
   "cell_type": "code",
   "execution_count": 113,
   "id": "least-logistics",
   "metadata": {},
   "outputs": [
    {
     "data": {
      "text/html": [
       "<div>\n",
       "<style scoped>\n",
       "    .dataframe tbody tr th:only-of-type {\n",
       "        vertical-align: middle;\n",
       "    }\n",
       "\n",
       "    .dataframe tbody tr th {\n",
       "        vertical-align: top;\n",
       "    }\n",
       "\n",
       "    .dataframe thead th {\n",
       "        text-align: right;\n",
       "    }\n",
       "</style>\n",
       "<table border=\"1\" class=\"dataframe\">\n",
       "  <thead>\n",
       "    <tr style=\"text-align: right;\">\n",
       "      <th></th>\n",
       "      <th>season</th>\n",
       "      <th>episode</th>\n",
       "      <th>feature</th>\n",
       "      <th>feature_id</th>\n",
       "    </tr>\n",
       "  </thead>\n",
       "  <tbody>\n",
       "    <tr>\n",
       "      <th>0</th>\n",
       "      <td>1</td>\n",
       "      <td>1</td>\n",
       "      <td>BUSHES</td>\n",
       "      <td>8</td>\n",
       "    </tr>\n",
       "    <tr>\n",
       "      <th>1</th>\n",
       "      <td>1</td>\n",
       "      <td>1</td>\n",
       "      <td>DECIDUOUS</td>\n",
       "      <td>17</td>\n",
       "    </tr>\n",
       "    <tr>\n",
       "      <th>2</th>\n",
       "      <td>1</td>\n",
       "      <td>1</td>\n",
       "      <td>GRASS</td>\n",
       "      <td>27</td>\n",
       "    </tr>\n",
       "    <tr>\n",
       "      <th>3</th>\n",
       "      <td>1</td>\n",
       "      <td>1</td>\n",
       "      <td>RIVER</td>\n",
       "      <td>46</td>\n",
       "    </tr>\n",
       "    <tr>\n",
       "      <th>4</th>\n",
       "      <td>1</td>\n",
       "      <td>1</td>\n",
       "      <td>TREE</td>\n",
       "      <td>55</td>\n",
       "    </tr>\n",
       "  </tbody>\n",
       "</table>\n",
       "</div>"
      ],
      "text/plain": [
       "   season  episode    feature  feature_id\n",
       "0       1        1     BUSHES           8\n",
       "1       1        1  DECIDUOUS          17\n",
       "2       1        1      GRASS          27\n",
       "3       1        1      RIVER          46\n",
       "4       1        1       TREE          55"
      ]
     },
     "execution_count": 113,
     "metadata": {},
     "output_type": "execute_result"
    }
   ],
   "source": [
    "features_link = pd.merge(features_per_episode, \n",
    "                           features_entity,\n",
    "                           how=\"left\",\n",
    "                           on=['feature'])\n",
    "features_link.head()"
   ]
  },
  {
   "cell_type": "code",
   "execution_count": 114,
   "id": "thirty-debate",
   "metadata": {},
   "outputs": [],
   "source": [
    "features_link.drop(['feature'], axis=1, inplace=True)"
   ]
  },
  {
   "cell_type": "code",
   "execution_count": 115,
   "id": "brief-therapy",
   "metadata": {},
   "outputs": [
    {
     "name": "stdout",
     "output_type": "stream",
     "text": [
      "<class 'pandas.core.frame.DataFrame'>\n",
      "Int64Index: 3187 entries, 0 to 3186\n",
      "Data columns (total 3 columns):\n",
      " #   Column      Non-Null Count  Dtype\n",
      "---  ------      --------------  -----\n",
      " 0   season      3187 non-null   int64\n",
      " 1   episode     3187 non-null   int64\n",
      " 2   feature_id  3187 non-null   int64\n",
      "dtypes: int64(3)\n",
      "memory usage: 99.6 KB\n"
     ]
    }
   ],
   "source": [
    "features_link.info()"
   ]
  },
  {
   "cell_type": "markdown",
   "id": "dominican-manitoba",
   "metadata": {},
   "source": [
    "#### Export tables to CSV"
   ]
  },
  {
   "cell_type": "code",
   "execution_count": 117,
   "id": "hollywood-redhead",
   "metadata": {},
   "outputs": [],
   "source": [
    "paintings_entity.to_csv('ross_paintings.csv', index=False, na_rep='NULL')"
   ]
  },
  {
   "cell_type": "code",
   "execution_count": 118,
   "id": "fitting-herald",
   "metadata": {},
   "outputs": [],
   "source": [
    "artists_entity.to_csv('ross_artists.csv', index=False, na_rep='NULL')"
   ]
  },
  {
   "cell_type": "code",
   "execution_count": 119,
   "id": "furnished-baghdad",
   "metadata": {},
   "outputs": [],
   "source": [
    "features_entity.to_csv('ross_features.csv', index=False, na_rep='NULL')"
   ]
  },
  {
   "cell_type": "code",
   "execution_count": 120,
   "id": "recovered-midwest",
   "metadata": {},
   "outputs": [],
   "source": [
    "features_link.to_csv('ross_features_link.csv', index=False, na_rep='NULL')"
   ]
  },
  {
   "cell_type": "code",
   "execution_count": null,
   "id": "latest-resolution",
   "metadata": {},
   "outputs": [],
   "source": []
  }
 ],
 "metadata": {
  "kernelspec": {
   "display_name": "Python 3",
   "language": "python",
   "name": "python3"
  },
  "language_info": {
   "codemirror_mode": {
    "name": "ipython",
    "version": 3
   },
   "file_extension": ".py",
   "mimetype": "text/x-python",
   "name": "python",
   "nbconvert_exporter": "python",
   "pygments_lexer": "ipython3",
   "version": "3.8.5"
  }
 },
 "nbformat": 4,
 "nbformat_minor": 5
}
