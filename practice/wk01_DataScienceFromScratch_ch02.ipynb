{
 "cells": [
  {
   "cell_type": "markdown",
   "id": "exciting-party",
   "metadata": {},
   "source": [
    "## Data Science from Scratch\n",
    "Chapter 2"
   ]
  },
  {
   "cell_type": "code",
   "execution_count": 1,
   "id": "applied-guidance",
   "metadata": {},
   "outputs": [
    {
     "name": "stdout",
     "output_type": "stream",
     "text": [
      "name 0 is Joel\n",
      "name 1 is Lisa\n",
      "name 2 is Nate\n",
      "name 3 is Abbi\n"
     ]
    }
   ],
   "source": [
    "names = [\"Joel\",\"Lisa\",\"Nate\",\"Abbi\"]\n",
    "for i, name in enumerate(names):\n",
    "    print(f\"name {i} is {name}\")"
   ]
  },
  {
   "cell_type": "code",
   "execution_count": null,
   "id": "killing-surgery",
   "metadata": {},
   "outputs": [],
   "source": []
  }
 ],
 "metadata": {
  "kernelspec": {
   "display_name": "Python 3",
   "language": "python",
   "name": "python3"
  },
  "language_info": {
   "codemirror_mode": {
    "name": "ipython",
    "version": 3
   },
   "file_extension": ".py",
   "mimetype": "text/x-python",
   "name": "python",
   "nbconvert_exporter": "python",
   "pygments_lexer": "ipython3",
   "version": "3.8.6"
  }
 },
 "nbformat": 4,
 "nbformat_minor": 5
}
