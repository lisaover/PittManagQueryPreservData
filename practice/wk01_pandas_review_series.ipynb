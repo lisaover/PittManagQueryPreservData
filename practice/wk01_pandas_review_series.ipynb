{
 "cells": [
  {
   "cell_type": "markdown",
   "id": "superior-sharing",
   "metadata": {},
   "source": [
    "## Intro to Data Structures: Series\n",
    "Pandas User Guide\n",
    "\n",
    "https://pandas.pydata.org/docs/user_guide/dsintro.html"
   ]
  },
  {
   "cell_type": "code",
   "execution_count": 2,
   "id": "nasty-remove",
   "metadata": {},
   "outputs": [],
   "source": [
    "import numpy as np\n",
    "import pandas as pd"
   ]
  },
  {
   "cell_type": "markdown",
   "id": "accredited-mirror",
   "metadata": {},
   "source": [
    "s = pd.Series(data, index=index)"
   ]
  },
  {
   "cell_type": "markdown",
   "id": "considerable-damages",
   "metadata": {},
   "source": [
    "Series from ndarray"
   ]
  },
  {
   "cell_type": "code",
   "execution_count": 12,
   "id": "retired-apollo",
   "metadata": {},
   "outputs": [
    {
     "data": {
      "text/plain": [
       "a   -1.061167\n",
       "b    0.784660\n",
       "c   -0.894532\n",
       "d    0.556358\n",
       "e    0.022480\n",
       "dtype: float64"
      ]
     },
     "execution_count": 12,
     "metadata": {},
     "output_type": "execute_result"
    }
   ],
   "source": [
    "s = pd.Series(np.random.randn(5), index=[\"a\", \"b\", \"c\", \"d\", \"e\"])\n",
    "s"
   ]
  },
  {
   "cell_type": "code",
   "execution_count": 13,
   "id": "metric-plate",
   "metadata": {},
   "outputs": [
    {
     "data": {
      "text/plain": [
       "Index(['a', 'b', 'c', 'd', 'e'], dtype='object')"
      ]
     },
     "execution_count": 13,
     "metadata": {},
     "output_type": "execute_result"
    }
   ],
   "source": [
    "s.index"
   ]
  },
  {
   "cell_type": "code",
   "execution_count": 14,
   "id": "portuguese-victorian",
   "metadata": {},
   "outputs": [
    {
     "data": {
      "text/plain": [
       "0    0.713403\n",
       "1   -1.874412\n",
       "2    2.054082\n",
       "3   -0.070268\n",
       "4    0.320161\n",
       "dtype: float64"
      ]
     },
     "execution_count": 14,
     "metadata": {},
     "output_type": "execute_result"
    }
   ],
   "source": [
    "pd.Series(np.random.randn(5))"
   ]
  },
  {
   "cell_type": "markdown",
   "id": "characteristic-departure",
   "metadata": {},
   "source": [
    "Series from dictionary"
   ]
  },
  {
   "cell_type": "code",
   "execution_count": 15,
   "id": "favorite-polyester",
   "metadata": {},
   "outputs": [],
   "source": [
    "d = {\"b\": 1, \"a\": 0, \"c\": 2}"
   ]
  },
  {
   "cell_type": "code",
   "execution_count": 16,
   "id": "optical-dayton",
   "metadata": {},
   "outputs": [
    {
     "data": {
      "text/plain": [
       "b    1\n",
       "a    0\n",
       "c    2\n",
       "dtype: int64"
      ]
     },
     "execution_count": 16,
     "metadata": {},
     "output_type": "execute_result"
    }
   ],
   "source": [
    "pd.Series(d)"
   ]
  },
  {
   "cell_type": "code",
   "execution_count": 17,
   "id": "quarterly-constant",
   "metadata": {},
   "outputs": [
    {
     "data": {
      "text/plain": [
       "b    1.0\n",
       "c    2.0\n",
       "d    NaN\n",
       "a    0.0\n",
       "dtype: float64"
      ]
     },
     "execution_count": 17,
     "metadata": {},
     "output_type": "execute_result"
    }
   ],
   "source": [
    "pd.Series(d, index=[\"b\", \"c\", \"d\", \"a\"])"
   ]
  },
  {
   "cell_type": "markdown",
   "id": "complimentary-wright",
   "metadata": {},
   "source": [
    "Series from scalar"
   ]
  },
  {
   "cell_type": "code",
   "execution_count": 18,
   "id": "commercial-western",
   "metadata": {},
   "outputs": [
    {
     "data": {
      "text/plain": [
       "a    5.0\n",
       "b    5.0\n",
       "c    5.0\n",
       "d    5.0\n",
       "e    5.0\n",
       "dtype: float64"
      ]
     },
     "execution_count": 18,
     "metadata": {},
     "output_type": "execute_result"
    }
   ],
   "source": [
    "pd.Series(5.0, index=[\"a\", \"b\", \"c\", \"d\", \"e\"])"
   ]
  },
  {
   "cell_type": "markdown",
   "id": "female-cheese",
   "metadata": {},
   "source": [
    "Series is ndarray-like"
   ]
  },
  {
   "cell_type": "code",
   "execution_count": 25,
   "id": "convertible-factory",
   "metadata": {},
   "outputs": [
    {
     "data": {
      "text/plain": [
       "-1.061167207875211"
      ]
     },
     "execution_count": 25,
     "metadata": {},
     "output_type": "execute_result"
    }
   ],
   "source": [
    "s[0]"
   ]
  },
  {
   "cell_type": "code",
   "execution_count": 26,
   "id": "double-contributor",
   "metadata": {},
   "outputs": [
    {
     "data": {
      "text/plain": [
       "a   -1.061167\n",
       "b    0.784660\n",
       "c   -0.894532\n",
       "dtype: float64"
      ]
     },
     "execution_count": 26,
     "metadata": {},
     "output_type": "execute_result"
    }
   ],
   "source": [
    "s[:3]"
   ]
  },
  {
   "cell_type": "code",
   "execution_count": 27,
   "id": "mexican-bridge",
   "metadata": {},
   "outputs": [
    {
     "data": {
      "text/plain": [
       "b    0.784660\n",
       "d    0.556358\n",
       "dtype: float64"
      ]
     },
     "execution_count": 27,
     "metadata": {},
     "output_type": "execute_result"
    }
   ],
   "source": [
    "s[s > s.median()]"
   ]
  },
  {
   "cell_type": "code",
   "execution_count": 28,
   "id": "controlled-thickness",
   "metadata": {},
   "outputs": [
    {
     "data": {
      "text/plain": [
       "dtype('float64')"
      ]
     },
     "execution_count": 28,
     "metadata": {},
     "output_type": "execute_result"
    }
   ],
   "source": [
    "s.dtype"
   ]
  },
  {
   "cell_type": "code",
   "execution_count": 29,
   "id": "accredited-appraisal",
   "metadata": {},
   "outputs": [
    {
     "data": {
      "text/plain": [
       "a   -1.061167\n",
       "b    0.784660\n",
       "c   -0.894532\n",
       "d    0.556358\n",
       "e    0.022480\n",
       "dtype: float64"
      ]
     },
     "execution_count": 29,
     "metadata": {},
     "output_type": "execute_result"
    }
   ],
   "source": [
    "s"
   ]
  },
  {
   "cell_type": "code",
   "execution_count": 30,
   "id": "exotic-fetish",
   "metadata": {},
   "outputs": [
    {
     "data": {
      "text/plain": [
       "<PandasArray>\n",
       "[ -1.061167207875211,  0.7846596217153776, -0.8945315034235218,\n",
       "  0.5563579539745307, 0.02248019668128077]\n",
       "Length: 5, dtype: float64"
      ]
     },
     "execution_count": 30,
     "metadata": {},
     "output_type": "execute_result"
    }
   ],
   "source": [
    "s.array"
   ]
  },
  {
   "cell_type": "markdown",
   "id": "generic-humor",
   "metadata": {},
   "source": [
    "While Series is ndarray-like, if you need an actual ndarray, then use Series.to_numpy()."
   ]
  },
  {
   "cell_type": "code",
   "execution_count": 31,
   "id": "printable-kitchen",
   "metadata": {},
   "outputs": [
    {
     "data": {
      "text/plain": [
       "array([-1.06116721,  0.78465962, -0.8945315 ,  0.55635795,  0.0224802 ])"
      ]
     },
     "execution_count": 31,
     "metadata": {},
     "output_type": "execute_result"
    }
   ],
   "source": [
    "s.to_numpy()"
   ]
  },
  {
   "cell_type": "markdown",
   "id": "sealed-cameroon",
   "metadata": {},
   "source": [
    "Series is dict-like"
   ]
  },
  {
   "cell_type": "code",
   "execution_count": 32,
   "id": "soviet-couple",
   "metadata": {},
   "outputs": [
    {
     "data": {
      "text/plain": [
       "-1.061167207875211"
      ]
     },
     "execution_count": 32,
     "metadata": {},
     "output_type": "execute_result"
    }
   ],
   "source": [
    "s[\"a\"]"
   ]
  },
  {
   "cell_type": "code",
   "execution_count": 33,
   "id": "greenhouse-badge",
   "metadata": {},
   "outputs": [],
   "source": [
    "s[\"a\"]=12"
   ]
  },
  {
   "cell_type": "code",
   "execution_count": 34,
   "id": "addressed-singapore",
   "metadata": {},
   "outputs": [
    {
     "data": {
      "text/plain": [
       "a    12.000000\n",
       "b     0.784660\n",
       "c    -0.894532\n",
       "d     0.556358\n",
       "e     0.022480\n",
       "dtype: float64"
      ]
     },
     "execution_count": 34,
     "metadata": {},
     "output_type": "execute_result"
    }
   ],
   "source": [
    "s"
   ]
  },
  {
   "cell_type": "code",
   "execution_count": 35,
   "id": "impaired-wrapping",
   "metadata": {},
   "outputs": [
    {
     "data": {
      "text/plain": [
       "True"
      ]
     },
     "execution_count": 35,
     "metadata": {},
     "output_type": "execute_result"
    }
   ],
   "source": [
    "\"e\" in s"
   ]
  },
  {
   "cell_type": "code",
   "execution_count": 36,
   "id": "disturbed-responsibility",
   "metadata": {},
   "outputs": [
    {
     "data": {
      "text/plain": [
       "False"
      ]
     },
     "execution_count": 36,
     "metadata": {},
     "output_type": "execute_result"
    }
   ],
   "source": [
    "\"f\" in s"
   ]
  },
  {
   "cell_type": "markdown",
   "id": "prospective-jordan",
   "metadata": {},
   "source": [
    "s[\"f\"] --> key error"
   ]
  },
  {
   "cell_type": "code",
   "execution_count": 38,
   "id": "inside-array",
   "metadata": {},
   "outputs": [],
   "source": [
    "s.get(\"f\")"
   ]
  },
  {
   "cell_type": "code",
   "execution_count": 39,
   "id": "injured-address",
   "metadata": {},
   "outputs": [
    {
     "data": {
      "text/plain": [
       "nan"
      ]
     },
     "execution_count": 39,
     "metadata": {},
     "output_type": "execute_result"
    }
   ],
   "source": [
    "s.get(\"f\", np.nan)"
   ]
  },
  {
   "cell_type": "code",
   "execution_count": 40,
   "id": "blond-secondary",
   "metadata": {},
   "outputs": [
    {
     "data": {
      "text/plain": [
       "0"
      ]
     },
     "execution_count": 40,
     "metadata": {},
     "output_type": "execute_result"
    }
   ],
   "source": [
    "s.get(\"f\", 0)"
   ]
  },
  {
   "cell_type": "markdown",
   "id": "progressive-bacon",
   "metadata": {},
   "source": [
    "Vectorized operations and label alignment with Series"
   ]
  },
  {
   "cell_type": "code",
   "execution_count": 41,
   "id": "crude-rally",
   "metadata": {},
   "outputs": [
    {
     "data": {
      "text/plain": [
       "a    12.000000\n",
       "b     0.784660\n",
       "c    -0.894532\n",
       "d     0.556358\n",
       "e     0.022480\n",
       "dtype: float64"
      ]
     },
     "execution_count": 41,
     "metadata": {},
     "output_type": "execute_result"
    }
   ],
   "source": [
    "s"
   ]
  },
  {
   "cell_type": "code",
   "execution_count": 42,
   "id": "integral-earthquake",
   "metadata": {},
   "outputs": [
    {
     "data": {
      "text/plain": [
       "a    24.000000\n",
       "b     1.569319\n",
       "c    -1.789063\n",
       "d     1.112716\n",
       "e     0.044960\n",
       "dtype: float64"
      ]
     },
     "execution_count": 42,
     "metadata": {},
     "output_type": "execute_result"
    }
   ],
   "source": [
    "s + s"
   ]
  },
  {
   "cell_type": "code",
   "execution_count": 43,
   "id": "prompt-directive",
   "metadata": {},
   "outputs": [
    {
     "data": {
      "text/plain": [
       "a    24.000000\n",
       "b     1.569319\n",
       "c    -1.789063\n",
       "d     1.112716\n",
       "e     0.044960\n",
       "dtype: float64"
      ]
     },
     "execution_count": 43,
     "metadata": {},
     "output_type": "execute_result"
    }
   ],
   "source": [
    "s * 2"
   ]
  },
  {
   "cell_type": "code",
   "execution_count": 45,
   "id": "mobile-pakistan",
   "metadata": {},
   "outputs": [
    {
     "data": {
      "text/plain": [
       "a    162754.791419\n",
       "b         2.191661\n",
       "c         0.408799\n",
       "d         1.744308\n",
       "e         1.022735\n",
       "dtype: float64"
      ]
     },
     "execution_count": 45,
     "metadata": {},
     "output_type": "execute_result"
    }
   ],
   "source": [
    "np.exp(s)"
   ]
  },
  {
   "cell_type": "markdown",
   "id": "graduate-space",
   "metadata": {},
   "source": [
    "Name attribute"
   ]
  },
  {
   "cell_type": "code",
   "execution_count": 46,
   "id": "frequent-constraint",
   "metadata": {},
   "outputs": [
    {
     "data": {
      "text/plain": [
       "0    0.355040\n",
       "1   -1.941243\n",
       "2   -0.262421\n",
       "3   -1.364301\n",
       "4   -0.040727\n",
       "Name: something, dtype: float64"
      ]
     },
     "execution_count": 46,
     "metadata": {},
     "output_type": "execute_result"
    }
   ],
   "source": [
    "s = pd.Series(np.random.randn(5), name=\"something\")\n",
    "s"
   ]
  },
  {
   "cell_type": "code",
   "execution_count": 47,
   "id": "liked-database",
   "metadata": {},
   "outputs": [
    {
     "data": {
      "text/plain": [
       "'something'"
      ]
     },
     "execution_count": 47,
     "metadata": {},
     "output_type": "execute_result"
    }
   ],
   "source": [
    "s.name"
   ]
  },
  {
   "cell_type": "code",
   "execution_count": 48,
   "id": "scheduled-census",
   "metadata": {},
   "outputs": [
    {
     "data": {
      "text/plain": [
       "'different'"
      ]
     },
     "execution_count": 48,
     "metadata": {},
     "output_type": "execute_result"
    }
   ],
   "source": [
    "s2 = s.rename(\"different\")\n",
    "s2.name"
   ]
  },
  {
   "cell_type": "code",
   "execution_count": null,
   "id": "continental-dover",
   "metadata": {},
   "outputs": [],
   "source": []
  }
 ],
 "metadata": {
  "kernelspec": {
   "display_name": "Python 3",
   "language": "python",
   "name": "python3"
  },
  "language_info": {
   "codemirror_mode": {
    "name": "ipython",
    "version": 3
   },
   "file_extension": ".py",
   "mimetype": "text/x-python",
   "name": "python",
   "nbconvert_exporter": "python",
   "pygments_lexer": "ipython3",
   "version": "3.8.6"
  }
 },
 "nbformat": 4,
 "nbformat_minor": 5
}
